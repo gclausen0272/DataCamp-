{
  "cells": [
    {
      "cell_type": "markdown",
      "metadata": {
        "id": "view-in-github",
        "colab_type": "text"
      },
      "source": [
        "<a href=\"https://colab.research.google.com/github/gclausen0272/DataCamp-/blob/main/hackathon2.ipynb\" target=\"_parent\"><img src=\"https://colab.research.google.com/assets/colab-badge.svg\" alt=\"Open In Colab\"/></a>"
      ]
    },
    {
      "cell_type": "markdown",
      "metadata": {
        "id": "C05q55K1y7l1"
      },
      "source": [
        "# Hackathon #2\n",
        "\n",
        "Written by Eleanor Quint\n",
        "\n",
        "Topics: \n",
        "- Dense layers\n",
        "- Training by minibatch/gradient step and epoch\n",
        "- Splitting the dataset into train/validation\n",
        "\n",
        "This is all setup in a IPython notebook so you can run any code you want to experiment with. Feel free to edit any cell, or add some to run your own code."
      ]
    },
    {
      "cell_type": "code",
      "execution_count": null,
      "metadata": {
        "id": "17DcrQ1Uy7l4"
      },
      "outputs": [],
      "source": [
        "# %matplotlib inline\n",
        "# We'll start with our library imports...\n",
        "from __future__ import print_function\n",
        "from google.colab.patches import cv2_imshow \n",
        "import numpy as np                 # to use numpy arrays\n",
        "import tensorflow as tf            # to specify and run computation graphs\n",
        "import tensorflow_datasets as tfds # to load training data\n",
        "import matplotlib.pyplot as plt    # to visualize data and draw plots\n",
        "from tqdm import tqdm              # to track progress of loops\n",
        "\n",
        "DATA_DIR = './tensorflow-datasets/'"
      ]
    },
    {
      "cell_type": "markdown",
      "metadata": {
        "id": "Y0_niIh4y7l6"
      },
      "source": [
        "### A First Attempt at Classifying MNIST\n",
        "\n",
        "MNIST is a dataset of greyscale 28x28 handwritten digits labelled 0 through 9. We'll use it for a 10-class problem to learn the basics of classification.\n",
        "\n",
        "Let's have a look at the data first. We'll load the data from [Tensorflow Datasets](https://www.tensorflow.org/datasets) and visualize it with matplotlib's `plt.imshow`."
      ]
    },
    {
      "cell_type": "code",
      "execution_count": null,
      "metadata": {
        "colab": {
          "base_uri": "https://localhost:8080/",
          "height": 401,
          "referenced_widgets": [
            "d654b32ce76a4c4eb62e0a7349cd0787",
            "67d71b1906104a79acbcd290c1d935da",
            "446261e4fc8c413ab7cc25e8e3af2020",
            "1f41f3f8ae4b4b70b14c22a54c9e53df",
            "ec04cb279dd24d11856684c1eb36e56b",
            "3d89aef806314b03a7c7768135395912",
            "c4f85ae1a352430e993082e3d29660d1",
            "1e28460280124b5facbc540825b7a440",
            "87f5a5422c114307ba72646243e70884",
            "b0e5f6508aea4eb586431280c7c7c348",
            "7d9eb695958940a18a5a8ff59c113b92"
          ]
        },
        "id": "GCuTtm5Vy7l6",
        "outputId": "44860888-dd59-4d3a-d50c-41c9161edcc1"
      },
      "outputs": [
        {
          "output_type": "stream",
          "name": "stdout",
          "text": [
            "Downloading and preparing dataset 11.06 MiB (download: 11.06 MiB, generated: 21.00 MiB, total: 32.06 MiB) to ./tensorflow-datasets/mnist/3.0.1...\n"
          ]
        },
        {
          "output_type": "display_data",
          "data": {
            "text/plain": [
              "Dl Completed...:   0%|          | 0/5 [00:00<?, ? file/s]"
            ],
            "application/vnd.jupyter.widget-view+json": {
              "version_major": 2,
              "version_minor": 0,
              "model_id": "d654b32ce76a4c4eb62e0a7349cd0787"
            }
          },
          "metadata": {}
        },
        {
          "output_type": "stream",
          "name": "stdout",
          "text": [
            "Dataset mnist downloaded and prepared to ./tensorflow-datasets/mnist/3.0.1. Subsequent calls will reuse this data.\n",
            "data shape: (32, 28, 28, 1)\n",
            "label: tf.Tensor([3 5 0 3 6 4 6 6 0 9 7 8 7 8 7 2 3 9 9 2 1 7 2 7 5 9 8 7 1 0 6 2], shape=(32,), dtype=int64)\n",
            "An image looks like this:\n",
            "It's colored because matplotlib wants to provide more contrast than just greys\n"
          ]
        },
        {
          "output_type": "display_data",
          "data": {
            "text/plain": [
              "<Figure size 432x288 with 1 Axes>"
            ],
            "image/png": "[encoded data removed]"
          },
          "metadata": {
            "needs_background": "light"
          }
        }
      ],
      "source": [
        "ds = tfds.load('mnist', data_dir=DATA_DIR, shuffle_files=True) # this loads a dict with the datasets\n",
        "\n",
        "# We can create an iterator from each dataset\n",
        "# This one iterates through the train data, shuffling and minibatching by 32\n",
        "train_ds = ds['train'].shuffle(1024).batch(32)\n",
        "\n",
        "# Looping through the iterator, each batch is a dict\n",
        "for batch in train_ds:\n",
        "    # The first dimension in the shape is the batch dimension\n",
        "    # The second and third dimensions are height and width\n",
        "    # Being greyscale means that the image has one channel, the last dimension in the shape\n",
        "    print(\"data shape:\", batch['image'].shape)\n",
        "    print(\"label:\", batch['label'])\n",
        "    break\n",
        "\n",
        "# visualize some of the data\n",
        "idx = np.random.randint(batch['image'].shape[0])\n",
        "print(\"An image looks like this:\")\n",
        "imgplot = plt.imshow(batch['image'][idx][:,:,0], cmap='gray')\n",
        "print(\"It's colored because matplotlib wants to provide more contrast than just greys\")"
      ]
    },
    {
      "cell_type": "markdown",
      "metadata": {
        "id": "0tBD3OA4y7l7"
      },
      "source": [
        "#### Dense layers\n",
        "\n",
        "The first step to building a simple neural network is to specify layers. The most basic building block is the dense layer (AKA linear layer or fully connected layer), so we'll declare a function that creates the layer. Each dense layer is composed of two variables, the weight matrix `W` and the bias vector `b` as well as a non-linear activation function `a`, to calculate the function `f(x) = a(Wx + b)`.\n",
        "\n",
        "Normally we'll use pre-defined layers, but in this notebook we'll do it ourselves first to better understand what's going on under the hood."
      ]
    },
    {
      "cell_type": "code",
      "execution_count": null,
      "metadata": {
        "id": "vjeljqXty7l8"
      },
      "outputs": [],
      "source": [
        "class Dense(tf.Module):\n",
        "    def __init__(self, output_size, activation=tf.nn.relu):\n",
        "        \"\"\"\n",
        "        Args:\n",
        "            - output_size: (int) number of neurons\n",
        "            - activation: (function) non-linear function applied to the output\n",
        "        \"\"\"\n",
        "        self.output_size = output_size\n",
        "        self.activation = activation\n",
        "        self.is_built = False\n",
        "        \n",
        "    def _build(self, x):\n",
        "        data_size = x.shape[-1]\n",
        "        self.W = tf.Variable(tf.random.normal([data_size, self.output_size]), name='weights')\n",
        "        self.b = tf.Variable(tf.random.normal([self.output_size]), name='bias')\n",
        "        self.is_built = True\n",
        "\n",
        "    def __call__(self, x):\n",
        "        if not self.is_built:\n",
        "            self._build(x)\n",
        "        return self.activation(tf.matmul(x, self.W) + self.b)"
      ]
    },
    {
      "cell_type": "markdown",
      "metadata": {
        "id": "7k1kiQYsy7l9"
      },
      "source": [
        "The first dimension of the input is the \"batch\" dimension, which allows us to run many data through the model simultaneously. The matrix `W` has a row for each input dimension so that each column corresponds to the weights of one linear unit of the layer. After adding the bias vector to the vector resulting from the vector-matrix multiplication, we activate with a non-linearity.\n",
        "\n",
        "Let's define a simple, two layer network with this function. We activate the first layer with the rectified linear function [`tf.nn.relu`](https://www.tensorflow.org/api_docs/python/tf/nn/relu), but not the second layer so that we can interpret its output as the [logits](https://stackoverflow.com/questions/41455101/what-is-the-meaning-of-the-word-logits-in-tensorflow) of a discrete probability distribution. Note that we're going to flatten the data into a vector (784 = 28 x 28) so that we can use it with a linear layer (we encountered `tf.reshape` in the last hackathon). Loss is calculated with [cross entropy](https://en.wikipedia.org/wiki/Cross_entropy), which implies that we're interpreting the output of the neural network as the paramters of a [categorical distribution](https://en.wikipedia.org/wiki/Categorical_distribution).\n",
        "\n",
        "Further, we'll train with minibatches of data with the for loop (using tqdm for a progress bar). We run the data forward in each minibatch, calculate the loss using the output logits and correct label, calculate gradients, and finally backprop gradients using the "
      ]
    },
    {
      "cell_type": "code",
      "execution_count": null,
      "metadata": {
        "colab": {
          "base_uri": "https://localhost:8080/",
          "height": 311
        },
        "id": "uewzSeziy7l-",
        "outputId": "7945a4ea-7566-40cb-ae39-c098268dc10b"
      },
      "outputs": [
        {
          "output_type": "stream",
          "name": "stderr",
          "text": [
            "100%|██████████| 1875/1875 [00:40<00:00, 45.76it/s] \n"
          ]
        },
        {
          "output_type": "stream",
          "name": "stdout",
          "text": [
            "Accuracy: 0.037583333\n"
          ]
        },
        {
          "output_type": "display_data",
          "data": {
            "text/plain": [
              "<Figure size 432x288 with 1 Axes>"
            ],
            "image/png": "[encoded data removed]"
          },
          "metadata": {
            "needs_background": "light"
          }
        }
      ],
      "source": [
        "first_layer = Dense(200)\n",
        "second_layer = Dense(10)\n",
        "\n",
        "loss_values = []\n",
        "accuracy_values = []\n",
        "# Loop through one epoch of data\n",
        "for batch in tqdm(train_ds):\n",
        "    # run network\n",
        "    x = tf.reshape(tf.cast(batch['image'], tf.float32), [-1, 784]) # -1 means everyting not otherwise accounted for\n",
        "    labels = batch['label']\n",
        "    x = first_layer(x)\n",
        "    logits = second_layer(x)\n",
        "    \n",
        "    # calculate loss\n",
        "    loss = tf.nn.sparse_softmax_cross_entropy_with_logits(logits=logits, labels=labels)\n",
        "    loss_values.append(loss)\n",
        "    \n",
        "    # calculate accuracy\n",
        "    predictions = tf.argmax(logits, axis=1)\n",
        "    accuracy = tf.reduce_mean(tf.cast(tf.equal(predictions, labels), tf.float32))\n",
        "    accuracy_values.append(accuracy)\n",
        "\n",
        "# print accuracy\n",
        "print(\"Accuracy:\", np.mean(accuracy_values))\n",
        "# plot per-datum loss\n",
        "loss_values = np.concatenate(loss_values)\n",
        "plt.hist(loss_values, density=True, bins=30)\n",
        "plt.show()"
      ]
    },
    {
      "cell_type": "markdown",
      "metadata": {
        "id": "i7vF4b4Sy7l-"
      },
      "source": [
        "#### Training by minibatch/gradient step and epoch\n",
        "\n",
        "Now let's re-declare the network with pre-defined layers using [`tf.keras.layers.Dense`](https://www.tensorflow.org/api_docs/python/tf/keras/layers/Dense), group the layers using [`tf.keras.Sequential`](https://www.tensorflow.org/api_docs/python/tf/keras/Sequential), and training the parameters with the [`Adam`](https://www.tensorflow.org/api_docs/python/tf/keras/optimizers/Adam) optimizer.\n",
        "\n",
        "Note how [`tf.GradientTape`](https://www.tensorflow.org/guide/autodiff) is used. We run all the computations which we want to backpropagate gradients through in the scope of the tape and then, after the loss is calculated, we can call `tape.gradient` to calculate the gradient of the output with respect to the model variables."
      ]
    },
    {
      "cell_type": "code",
      "execution_count": null,
      "metadata": {
        "colab": {
          "base_uri": "https://localhost:8080/",
          "height": 543
        },
        "id": "o_Km0ST7y7l_",
        "outputId": "5205395b-0bdf-482e-9e5e-fe5e663e6ffa"
      },
      "outputs": [
        {
          "output_type": "stream",
          "name": "stderr",
          "text": [
            "100%|██████████| 1875/1875 [00:22<00:00, 84.99it/s]"
          ]
        },
        {
          "output_type": "stream",
          "name": "stdout",
          "text": [
            "Model: \"sequential\"\n",
            "_________________________________________________________________\n",
            " Layer (type)                Output Shape              Param #   \n",
            "=================================================================\n",
            " dense (Dense)               (32, 200)                 157000    \n",
            "                                                                 \n",
            " dense_1 (Dense)             (32, 10)                  2010      \n",
            "                                                                 \n",
            "=================================================================\n",
            "Total params: 159,010\n"
          ]
        },
        {
          "output_type": "stream",
          "name": "stderr",
          "text": [
            "\n"
          ]
        },
        {
          "output_type": "stream",
          "name": "stdout",
          "text": [
            "Trainable params: 159,010\n",
            "Non-trainable params: 0\n",
            "_________________________________________________________________\n",
            "None\n",
            "Accuracy: 0.88575\n"
          ]
        },
        {
          "output_type": "display_data",
          "data": {
            "text/plain": [
              "<Figure size 432x288 with 1 Axes>"
            ],
            "image/png": "[encoded data removed]"
          },
          "metadata": {
            "needs_background": "light"
          }
        }
      ],
      "source": [
        "# using Sequential groups all the layers to run at once\n",
        "model = tf.keras.Sequential()\n",
        "model.add(tf.keras.layers.Dense(200, tf.nn.relu))\n",
        "model.add(tf.keras.layers.Dense(10))\n",
        "optimizer = tf.keras.optimizers.Adam()\n",
        "\n",
        "loss_values = []\n",
        "accuracy_values = []\n",
        "# Loop through one epoch of data\n",
        "for epoch in range(1):\n",
        "    for batch in tqdm(train_ds):\n",
        "        with tf.GradientTape() as tape:\n",
        "            # run network\n",
        "            x = tf.reshape(tf.cast(batch['image'], tf.float32), [-1, 784])\n",
        "            labels = batch['label']\n",
        "            logits = model(x)\n",
        "\n",
        "            # calculate loss\n",
        "            loss = tf.nn.sparse_softmax_cross_entropy_with_logits(logits=logits, labels=labels)    \n",
        "        loss_values.append(loss)\n",
        "    \n",
        "        # gradient update\n",
        "        grads = tape.gradient(loss, model.trainable_variables)\n",
        "        optimizer.apply_gradients(zip(grads, model.trainable_variables))\n",
        "    \n",
        "        # calculate accuracy\n",
        "        predictions = tf.argmax(logits, axis=1)\n",
        "        accuracy = tf.reduce_mean(tf.cast(tf.equal(predictions, labels), tf.float32))\n",
        "        accuracy_values.append(accuracy)\n",
        "\n",
        "print(model.summary())\n",
        "    \n",
        "# accuracy\n",
        "print(\"Accuracy:\", np.mean(accuracy_values))\n",
        "# plot per-datum loss\n",
        "loss_values = np.concatenate(loss_values)\n",
        "plt.hist(loss_values, density=True, bins=30)\n",
        "plt.show()"
      ]
    },
    {
      "cell_type": "markdown",
      "metadata": {
        "id": "AXUlF1_6y7l_"
      },
      "source": [
        "#### Splitting the dataset into train/validation\n",
        "\n",
        "After one epoch of training the loss values drop dramatically and accuracy rises from change (\\~10%) to that of a decent classifier (\\~85-90%). In practice we want to train for many epochs and use the set of parameters which gives the lowest validation error. Unfortunately, we don't know which set of parameters is best because we're training on all the data. Before training, we should split the training dataset into a train set, which will be used for parameter updates, and a validation set, which will not. Then, we can determine which parameters generalise best by calculating the accuracy on the hold-out validation set. The parameters with the highest accuracy on validation will likely generalise the best.\n",
        "\n",
        "The easiest way to do this is with TensorFlow Datasets is to use their string indexing notation when loading the datasets."
      ]
    },
    {
      "cell_type": "code",
      "execution_count": null,
      "metadata": {
        "id": "8GUxA_Mxy7mA",
        "colab": {
          "base_uri": "https://localhost:8080/",
          "height": 84,
          "referenced_widgets": [
            "3c7e98ca801a423f8519097c616a53b3",
            "2c6c7913e49d4ab4ab2793c5872faf81",
            "ca609a69fca14d7e8dda0d25f3d8824f",
            "8222621ed7b6499f917e694d5e37d8a6",
            "69be51af9eb74856bcd51268f5763cde",
            "1f2ec3d1453244ef9e5ff1e2f30ba637",
            "3dc8ea5e312f41f5bb3f205e3fca845a",
            "2da93e8d40db47c9b0439606cf259778",
            "a0dfbf3157fe4713b87e620ec28da7ef",
            "107e0e84b28a4126afb8a1a40d138a58",
            "64adb58bd28e41d1a78ad8e2980c573c"
          ]
        },
        "outputId": "c9c3d1f3-d5fe-440a-ec4b-0a98bcc5b092"
      },
      "outputs": [
        {
          "output_type": "stream",
          "name": "stdout",
          "text": [
            "Downloading and preparing dataset 11.06 MiB (download: 11.06 MiB, generated: 21.00 MiB, total: 32.06 MiB) to ./tensorflow-datasets/mnist/3.0.1...\n"
          ]
        },
        {
          "output_type": "display_data",
          "data": {
            "text/plain": [
              "Dl Completed...:   0%|          | 0/5 [00:00<?, ? file/s]"
            ],
            "application/vnd.jupyter.widget-view+json": {
              "version_major": 2,
              "version_minor": 0,
              "model_id": "3c7e98ca801a423f8519097c616a53b3"
            }
          },
          "metadata": {}
        },
        {
          "output_type": "stream",
          "name": "stdout",
          "text": [
            "Dataset mnist downloaded and prepared to ./tensorflow-datasets/mnist/3.0.1. Subsequent calls will reuse this data.\n"
          ]
        }
      ],
      "source": [
        "# The first 90% of the training data\n",
        "from tensorflow.keras.datasets import mnist\n",
        "\n",
        "# Use this data for the training loop\n",
        "train = tfds.load('mnist', split='train[:90%]', data_dir=DATA_DIR)\n",
        "\n",
        "# And the last 10%, we'll hold out as the validation set\n",
        "# Notice the python-style indexing, but in a string and with percentages\n",
        "# After the training loop, run another loop over this data without the gradient updates to calculate accuracy\n",
        "validation = tfds.load('mnist', split='train[-10%:]', data_dir=DATA_DIR)"
      ]
    },
    {
      "cell_type": "code",
      "source": [
        "print(train)"
      ],
      "metadata": {
        "colab": {
          "base_uri": "https://localhost:8080/"
        },
        "id": "-yyZDAXQ9baj",
        "outputId": "ba58983c-ac0f-46d1-8402-0ef88777c348"
      },
      "execution_count": null,
      "outputs": [
        {
          "output_type": "stream",
          "name": "stdout",
          "text": [
            "<PrefetchDataset element_spec={'image': TensorSpec(shape=(28, 28, 1), dtype=tf.uint8, name=None), 'label': TensorSpec(shape=(), dtype=tf.int64, name=None)}>\n"
          ]
        }
      ]
    },
    {
      "cell_type": "code",
      "source": [
        "# trainX = trainX.reshape((trainX.shape[0], 28, 28, 1))\n",
        "train_images = train.map(lambda image: tf.reshape(image['image'],[28, 28, 1]))\n",
        "train['image'] = train_images\n",
        "print(train)"
      ],
      "metadata": {
        "colab": {
          "base_uri": "https://localhost:8080/",
          "height": 217
        },
        "id": "I9wnUHL39Y0R",
        "outputId": "1a19f091-0864-47a3-f5d9-66e1dab4ceac"
      },
      "execution_count": null,
      "outputs": [
        {
          "output_type": "error",
          "ename": "TypeError",
          "evalue": "ignored",
          "traceback": [
            "\u001b[0;31m---------------------------------------------------------------------------\u001b[0m",
            "\u001b[0;31mTypeError\u001b[0m                                 Traceback (most recent call last)",
            "\u001b[0;32m<ipython-input-8-c11ac3769993>\u001b[0m in \u001b[0;36m<module>\u001b[0;34m\u001b[0m\n\u001b[1;32m      1\u001b[0m \u001b[0;31m# trainX = trainX.reshape((trainX.shape[0], 28, 28, 1))\u001b[0m\u001b[0;34m\u001b[0m\u001b[0;34m\u001b[0m\u001b[0;34m\u001b[0m\u001b[0m\n\u001b[1;32m      2\u001b[0m \u001b[0mtrain_images\u001b[0m \u001b[0;34m=\u001b[0m \u001b[0mtrain\u001b[0m\u001b[0;34m.\u001b[0m\u001b[0mmap\u001b[0m\u001b[0;34m(\u001b[0m\u001b[0;32mlambda\u001b[0m \u001b[0mimage\u001b[0m\u001b[0;34m:\u001b[0m \u001b[0mtf\u001b[0m\u001b[0;34m.\u001b[0m\u001b[0mreshape\u001b[0m\u001b[0;34m(\u001b[0m\u001b[0mimage\u001b[0m\u001b[0;34m[\u001b[0m\u001b[0;34m'image'\u001b[0m\u001b[0;34m]\u001b[0m\u001b[0;34m,\u001b[0m\u001b[0;34m[\u001b[0m\u001b[0;36m28\u001b[0m\u001b[0;34m,\u001b[0m \u001b[0;36m28\u001b[0m\u001b[0;34m,\u001b[0m \u001b[0;36m1\u001b[0m\u001b[0;34m]\u001b[0m\u001b[0;34m)\u001b[0m\u001b[0;34m)\u001b[0m\u001b[0;34m\u001b[0m\u001b[0;34m\u001b[0m\u001b[0m\n\u001b[0;32m----> 3\u001b[0;31m \u001b[0mtrain\u001b[0m\u001b[0;34m[\u001b[0m\u001b[0;34m'image'\u001b[0m\u001b[0;34m]\u001b[0m \u001b[0;34m=\u001b[0m \u001b[0mtrain_images\u001b[0m\u001b[0;34m\u001b[0m\u001b[0;34m\u001b[0m\u001b[0m\n\u001b[0m\u001b[1;32m      4\u001b[0m \u001b[0mprint\u001b[0m\u001b[0;34m(\u001b[0m\u001b[0mtrain\u001b[0m\u001b[0;34m)\u001b[0m\u001b[0;34m\u001b[0m\u001b[0;34m\u001b[0m\u001b[0m\n",
            "\u001b[0;31mTypeError\u001b[0m: 'PrefetchDataset' object does not support item assignment"
          ]
        }
      ]
    },
    {
      "cell_type": "markdown",
      "metadata": {
        "id": "nYyoyq9gy7mA"
      },
      "source": [
        "### Homework\n",
        "\n",
        "Your homework is to specify a network with `tf.keras.layers`, train it on the MNIST dataset (as above, but with train/validation split), and try out 2 or 3 variations of different architectures. I.e., change the number of neurons or layers, change the activation function (you can find more in the documentation at [`tf.nn`](https://www.tensorflow.org/api_docs/python/tf/nn)), or even change the optimizer ([`tf.keras.optimizers`](https://www.tensorflow.org/api_docs/python/tf/keras/optimizers)). Write up a paragraph or two with your observations. E.g., how did it affect the final accuracy on the validation data? How did it affect the rate at which the model improved? Remember to add early stopping and increase the number of training epochs. Submit a `.pdf` with the writeup and `.py` with the code.\n",
        "\n",
        "I'm expecting this to take about an hour (or less if you're experienced). Feel free to use any code from this or previous hackathons. If you don't understand how to do any part of this or if it's taking you longer than that, please let me know in office hours or by email (both can be found on the syllabus). I'm also happy to discuss if you just want to ask more questions about anything in this notebook!\n"
      ]
    },
    {
      "cell_type": "markdown",
      "source": [
        "<h1>My responses </h1>\n",
        "In terms of how the model is affected by different parmaeters we have a few things to consider. I ran three experiments that I decided to write up. The first was a simple archetecture with a dense layers with a leaky relu activation function with 200 neurons and a final with 10 for each char. A second with the same number of layers but a leaky relu instead of a normal one, finally one with four layers with 74, 200, 500, and 500 neurons respectively.   \n",
        "<h1>Activation function </h1>\n",
        "I tried leaky relu instead of relu with the same archetecture othewise, this actually offered an improvement 0.95633334 vs 0.94016665. After discovering this I did a bit of research and this is consistant with other people's observations https://towardsdatascience.com/leaky-relu-vs-relu-activation-functions-which-is-better-1a1533d0a89f  \n",
        "<h1>number of neurons & number of layers </h1> \n",
        "For the nubmer of neurons and number of layers, I created an experiment that increased the number of layers and the number of layers. This increased my performance to 0.959 however there was also a slight increase in runtime. This is consistant with my previous knowledge that increasing the complexity will alow us to pick up on more complex patterns. \n",
        "\n",
        "The results of my experiment can be seen below "
      ],
      "metadata": {
        "id": "JZoapmv2ETDE"
      }
    },
    {
      "cell_type": "code",
      "source": [
        "#@title\n",
        "def calculateAccuracy(model,test_ds ):\n",
        "  accuracy_values = []\n",
        "  for batch in tqdm(test_ds):\n",
        "    with tf.GradientTape() as tape:\n",
        "      # run network\n",
        "      x = tf.reshape(tf.cast(batch['image'], tf.float32), [-1, 784])\n",
        "      labels = batch['label']\n",
        "      logits = model(x)\n",
        "      # calculate accuracy\n",
        "      predictions = tf.argmax(logits, axis=1)\n",
        "      accuracy = tf.reduce_mean(tf.cast(tf.equal(predictions, labels), tf.float32))\n",
        "      accuracy_values.append(accuracy)\n",
        "  return np.mean(accuracy_values)"
      ],
      "metadata": {
        "cellView": "form",
        "id": "Q7Zhzda613IR"
      },
      "execution_count": null,
      "outputs": []
    },
    {
      "cell_type": "code",
      "source": [
        "import time"
      ],
      "metadata": {
        "id": "Ackwh6csy2cC"
      },
      "execution_count": null,
      "outputs": []
    },
    {
      "cell_type": "code",
      "source": [
        "#@title\n",
        "def trainModel(model, train_ds, epochs):\n",
        "  train_acc_metric = tf.keras.metrics.SparseCategoricalAccuracy()\n",
        "  train_loss_metric = tf.keras.metrics.SparseCategoricalCrossentropy()\n",
        "  val_acc_metric = tf.keras.metrics.SparseCategoricalAccuracy()\n",
        "  val_loss_metric = tf.keras.metrics.SparseCategoricalCrossentropy()\n",
        "  @tf.function\n",
        "  def train_step(batch):\n",
        "    with tf.GradientTape() as tape:\n",
        "      # run network\n",
        "      x = tf.reshape(tf.cast(batch['image'], tf.float32), [-1, 784])\n",
        "      labels = batch['label']\n",
        "      logits = model(x)\n",
        "      # calculate loss\n",
        "      loss = tf.nn.sparse_softmax_cross_entropy_with_logits(logits=logits, labels=labels)\n",
        "    grads = tape.gradient(loss, model.trainable_variables)\n",
        "    optimizer.apply_gradients(zip(grads, model.trainable_variables))\n",
        "    train_acc_metric.update_state(labels, logits)\n",
        "    train_loss_metric.update_state(labels, logits)\n",
        "    return loss\n",
        "  @tf.function    \n",
        "  def test_step(batch):\n",
        "    x = tf.reshape(tf.cast(batch['image'], tf.float32), [-1, 784])\n",
        "    labels = batch['label']\n",
        "    logits = model(x, training=False)\n",
        "    val_acc_metric.update_state(labels, logits)\n",
        "    val_loss_metric.update_state(labels, logits)\n",
        "  patience = 5\n",
        "  wait = 0\n",
        "  best = float('inf')\n",
        "  train_ds = train.shuffle(1024).batch(32)\n",
        "  loss_values = []\n",
        "  accuracy_values = []\n",
        "  for epoch in range(epochs):\n",
        "      print(\"\\nStart of epoch %d\" % (epoch,))\n",
        "      start_time = time.time()\n",
        "      for batch in tqdm(train_ds):\n",
        "          loss = train_step(batch)\n",
        "          loss_values.append(loss)\n",
        "      train_acc = train_acc_metric.result()\n",
        "      train_loss = train_loss_metric.result()\n",
        "      train_acc_metric.reset_states()\n",
        "      train_loss_metric.reset_states()\n",
        "      print(\"Training acc over epoch: %.4f\" % (train_acc.numpy()))\n",
        "      for batch in tqdm(validation):\n",
        "        test_step(batch)\n",
        "      val_acc = val_acc_metric.result()\n",
        "      val_loss = val_loss_metric.result()\n",
        "      val_acc_metric.reset_states()\n",
        "      val_loss_metric.reset_states()\n",
        "      print(\"Validation acc: %.4f\" % (float(val_acc),))\n",
        "      print(\"Time taken: %.2fs\" % (time.time() - start_time))\n",
        "      print(\"wait, val_lost and best\", wait, val_loss, best)\n",
        "      wait += 1\n",
        "      if val_loss < best:\n",
        "        best = val_loss\n",
        "        wait = 0\n",
        "      if wait >= patience:\n",
        "        print(\"get stopped\")\n",
        "        break\n",
        "\n",
        "  print(model.summary())\n",
        "      \n",
        "  # accuracy\n",
        "  print(\"Accuracy:\", np.mean(accuracy_values))\n",
        "  print(\"Test Accuracy:\", val_acc)\n",
        "  # plot per-datum loss\n",
        "  loss_values = np.concatenate(loss_values)\n",
        "  plt.hist(loss_values, density=True, bins=30)\n",
        "  plt.show()"
      ],
      "metadata": {
        "id": "XN-1UP9c0vWZ"
      },
      "execution_count": null,
      "outputs": []
    },
    {
      "cell_type": "code",
      "source": [
        "\n",
        "model = tf.keras.Sequential()\n",
        "model.add(tf.keras.layers.Dense(200, tf.nn.relu))\n",
        "model.add(tf.keras.layers.Dense(10))\n",
        "optimizer = tf.keras.optimizers.Adam()\n",
        "trainModel(model, train,10)"
      ],
      "metadata": {
        "colab": {
          "base_uri": "https://localhost:8080/",
          "height": 1000
        },
        "id": "d3kgM88xvvim",
        "outputId": "10b7ae45-61c2-432b-f040-208c30ef0be8"
      },
      "execution_count": null,
      "outputs": [
        {
          "output_type": "stream",
          "name": "stdout",
          "text": [
            "\n",
            "Start of epoch 0\n"
          ]
        },
        {
          "output_type": "stream",
          "name": "stderr",
          "text": [
            "100%|██████████| 1688/1688 [00:03<00:00, 526.18it/s]\n"
          ]
        },
        {
          "output_type": "stream",
          "name": "stdout",
          "text": [
            "Training acc over epoch: 0.8821\n"
          ]
        },
        {
          "output_type": "stream",
          "name": "stderr",
          "text": [
            "100%|██████████| 6000/6000 [00:07<00:00, 842.85it/s]\n"
          ]
        },
        {
          "output_type": "stream",
          "name": "stdout",
          "text": [
            "Validation acc: 0.9073\n",
            "Time taken: 10.35s\n",
            "wait, val_lost and best 0 tf.Tensor(1.8171194, shape=(), dtype=float32) inf\n",
            "\n",
            "Start of epoch 1\n"
          ]
        },
        {
          "output_type": "stream",
          "name": "stderr",
          "text": [
            "100%|██████████| 1688/1688 [00:02<00:00, 602.47it/s]\n"
          ]
        },
        {
          "output_type": "stream",
          "name": "stdout",
          "text": [
            "Training acc over epoch: 0.9225\n"
          ]
        },
        {
          "output_type": "stream",
          "name": "stderr",
          "text": [
            "100%|██████████| 6000/6000 [00:07<00:00, 846.08it/s]\n"
          ]
        },
        {
          "output_type": "stream",
          "name": "stdout",
          "text": [
            "Validation acc: 0.9300\n",
            "Time taken: 9.91s\n",
            "wait, val_lost and best 0 tf.Tensor(1.9323231, shape=(), dtype=float32) tf.Tensor(1.8171194, shape=(), dtype=float32)\n",
            "\n",
            "Start of epoch 2\n"
          ]
        },
        {
          "output_type": "stream",
          "name": "stderr",
          "text": [
            "100%|██████████| 1688/1688 [00:02<00:00, 597.17it/s]\n"
          ]
        },
        {
          "output_type": "stream",
          "name": "stdout",
          "text": [
            "Training acc over epoch: 0.9344\n"
          ]
        },
        {
          "output_type": "stream",
          "name": "stderr",
          "text": [
            "100%|██████████| 6000/6000 [00:07<00:00, 841.28it/s]\n"
          ]
        },
        {
          "output_type": "stream",
          "name": "stdout",
          "text": [
            "Validation acc: 0.9402\n",
            "Time taken: 9.98s\n",
            "wait, val_lost and best 1 tf.Tensor(1.9493332, shape=(), dtype=float32) tf.Tensor(1.8171194, shape=(), dtype=float32)\n",
            "\n",
            "Start of epoch 3\n"
          ]
        },
        {
          "output_type": "stream",
          "name": "stderr",
          "text": [
            "100%|██████████| 1688/1688 [00:02<00:00, 594.15it/s]\n"
          ]
        },
        {
          "output_type": "stream",
          "name": "stdout",
          "text": [
            "Training acc over epoch: 0.9402\n"
          ]
        },
        {
          "output_type": "stream",
          "name": "stderr",
          "text": [
            "100%|██████████| 6000/6000 [00:07<00:00, 841.12it/s]\n"
          ]
        },
        {
          "output_type": "stream",
          "name": "stdout",
          "text": [
            "Validation acc: 0.9342\n",
            "Time taken: 10.00s\n",
            "wait, val_lost and best 2 tf.Tensor(1.991806, shape=(), dtype=float32) tf.Tensor(1.8171194, shape=(), dtype=float32)\n",
            "\n",
            "Start of epoch 4\n"
          ]
        },
        {
          "output_type": "stream",
          "name": "stderr",
          "text": [
            "100%|██████████| 1688/1688 [00:02<00:00, 616.49it/s]\n"
          ]
        },
        {
          "output_type": "stream",
          "name": "stdout",
          "text": [
            "Training acc over epoch: 0.9450\n"
          ]
        },
        {
          "output_type": "stream",
          "name": "stderr",
          "text": [
            "100%|██████████| 6000/6000 [00:07<00:00, 818.29it/s]\n"
          ]
        },
        {
          "output_type": "stream",
          "name": "stdout",
          "text": [
            "Validation acc: 0.9470\n",
            "Time taken: 10.09s\n",
            "wait, val_lost and best 3 tf.Tensor(1.9560394, shape=(), dtype=float32) tf.Tensor(1.8171194, shape=(), dtype=float32)\n",
            "\n",
            "Start of epoch 5\n"
          ]
        },
        {
          "output_type": "stream",
          "name": "stderr",
          "text": [
            "100%|██████████| 1688/1688 [00:02<00:00, 585.69it/s]\n"
          ]
        },
        {
          "output_type": "stream",
          "name": "stdout",
          "text": [
            "Training acc over epoch: 0.9476\n"
          ]
        },
        {
          "output_type": "stream",
          "name": "stderr",
          "text": [
            "100%|██████████| 6000/6000 [00:07<00:00, 845.43it/s]"
          ]
        },
        {
          "output_type": "stream",
          "name": "stdout",
          "text": [
            "Validation acc: 0.9402\n",
            "Time taken: 10.00s\n",
            "wait, val_lost and best 4 tf.Tensor(1.8861351, shape=(), dtype=float32) tf.Tensor(1.8171194, shape=(), dtype=float32)\n",
            "get stopped\n",
            "Model: \"sequential_19\"\n",
            "_________________________________________________________________\n",
            " Layer (type)                Output Shape              Param #   \n",
            "=================================================================\n",
            " dense_45 (Dense)            (None, 200)               157000    \n",
            "                                                                 \n",
            " dense_46 (Dense)            (None, 10)                2010      \n"
          ]
        },
        {
          "output_type": "stream",
          "name": "stderr",
          "text": [
            "\n"
          ]
        },
        {
          "output_type": "stream",
          "name": "stdout",
          "text": [
            "                                                                 \n",
            "=================================================================\n",
            "Total params: 159,010\n",
            "Trainable params: 159,010\n",
            "Non-trainable params: 0\n",
            "_________________________________________________________________\n",
            "None\n",
            "Accuracy: nan\n",
            "Test Accuracy: tf.Tensor(0.94016665, shape=(), dtype=float32)\n"
          ]
        },
        {
          "output_type": "display_data",
          "data": {
            "text/plain": [
              "<Figure size 432x288 with 1 Axes>"
            ],
            "image/png": "[encoded data removed]"
          },
          "metadata": {
            "needs_background": "light"
          }
        }
      ]
    },
    {
      "cell_type": "code",
      "source": [
        "model = tf.keras.Sequential()\n",
        "model.add(tf.keras.layers.Dense(200, LeakyReLU(alpha=0.1)))\n",
        "model.add(tf.keras.layers.Dense(10))\n",
        "optimizer = tf.keras.optimizers.Adam()\n",
        "trainModel(model, train,10)"
      ],
      "metadata": {
        "colab": {
          "base_uri": "https://localhost:8080/",
          "height": 1000
        },
        "id": "I3cFeTMKCmsS",
        "outputId": "d05345bb-4609-472b-af01-2c30cdacbfb3"
      },
      "execution_count": null,
      "outputs": [
        {
          "output_type": "stream",
          "name": "stdout",
          "text": [
            "\n",
            "Start of epoch 0\n"
          ]
        },
        {
          "output_type": "stream",
          "name": "stderr",
          "text": [
            "100%|██████████| 1688/1688 [00:05<00:00, 329.91it/s]\n"
          ]
        },
        {
          "output_type": "stream",
          "name": "stdout",
          "text": [
            "Training acc over epoch: 0.8844\n"
          ]
        },
        {
          "output_type": "stream",
          "name": "stderr",
          "text": [
            "100%|██████████| 6000/6000 [00:07<00:00, 856.32it/s]\n"
          ]
        },
        {
          "output_type": "stream",
          "name": "stdout",
          "text": [
            "Validation acc: 0.9098\n",
            "Time taken: 12.15s\n",
            "wait, val_lost and best 0 tf.Tensor(1.7386309, shape=(), dtype=float32) inf\n",
            "\n",
            "Start of epoch 1\n"
          ]
        },
        {
          "output_type": "stream",
          "name": "stderr",
          "text": [
            "100%|██████████| 1688/1688 [00:02<00:00, 589.02it/s]\n"
          ]
        },
        {
          "output_type": "stream",
          "name": "stdout",
          "text": [
            "Training acc over epoch: 0.9258\n"
          ]
        },
        {
          "output_type": "stream",
          "name": "stderr",
          "text": [
            "100%|██████████| 6000/6000 [00:06<00:00, 868.59it/s]\n"
          ]
        },
        {
          "output_type": "stream",
          "name": "stdout",
          "text": [
            "Validation acc: 0.9353\n",
            "Time taken: 9.80s\n",
            "wait, val_lost and best 0 tf.Tensor(1.7407221, shape=(), dtype=float32) tf.Tensor(1.7386309, shape=(), dtype=float32)\n",
            "\n",
            "Start of epoch 2\n"
          ]
        },
        {
          "output_type": "stream",
          "name": "stderr",
          "text": [
            "100%|██████████| 1688/1688 [00:02<00:00, 591.49it/s]\n"
          ]
        },
        {
          "output_type": "stream",
          "name": "stdout",
          "text": [
            "Training acc over epoch: 0.9405\n"
          ]
        },
        {
          "output_type": "stream",
          "name": "stderr",
          "text": [
            "100%|██████████| 6000/6000 [00:07<00:00, 849.71it/s]\n"
          ]
        },
        {
          "output_type": "stream",
          "name": "stdout",
          "text": [
            "Validation acc: 0.9387\n",
            "Time taken: 9.94s\n",
            "wait, val_lost and best 1 tf.Tensor(1.6415809, shape=(), dtype=float32) tf.Tensor(1.7386309, shape=(), dtype=float32)\n",
            "\n",
            "Start of epoch 3\n"
          ]
        },
        {
          "output_type": "stream",
          "name": "stderr",
          "text": [
            "100%|██████████| 1688/1688 [00:02<00:00, 609.79it/s]\n"
          ]
        },
        {
          "output_type": "stream",
          "name": "stdout",
          "text": [
            "Training acc over epoch: 0.9500\n"
          ]
        },
        {
          "output_type": "stream",
          "name": "stderr",
          "text": [
            "100%|██████████| 6000/6000 [00:06<00:00, 857.47it/s]\n"
          ]
        },
        {
          "output_type": "stream",
          "name": "stdout",
          "text": [
            "Validation acc: 0.9535\n",
            "Time taken: 9.79s\n",
            "wait, val_lost and best 0 tf.Tensor(1.5240695, shape=(), dtype=float32) tf.Tensor(1.6415809, shape=(), dtype=float32)\n",
            "\n",
            "Start of epoch 4\n"
          ]
        },
        {
          "output_type": "stream",
          "name": "stderr",
          "text": [
            "100%|██████████| 1688/1688 [00:02<00:00, 600.55it/s]\n"
          ]
        },
        {
          "output_type": "stream",
          "name": "stdout",
          "text": [
            "Training acc over epoch: 0.9557\n"
          ]
        },
        {
          "output_type": "stream",
          "name": "stderr",
          "text": [
            "100%|██████████| 6000/6000 [00:07<00:00, 847.45it/s]\n"
          ]
        },
        {
          "output_type": "stream",
          "name": "stdout",
          "text": [
            "Validation acc: 0.9500\n",
            "Time taken: 9.92s\n",
            "wait, val_lost and best 0 tf.Tensor(1.6058493, shape=(), dtype=float32) tf.Tensor(1.5240695, shape=(), dtype=float32)\n",
            "\n",
            "Start of epoch 5\n"
          ]
        },
        {
          "output_type": "stream",
          "name": "stderr",
          "text": [
            "100%|██████████| 1688/1688 [00:04<00:00, 385.65it/s]\n"
          ]
        },
        {
          "output_type": "stream",
          "name": "stdout",
          "text": [
            "Training acc over epoch: 0.9584\n"
          ]
        },
        {
          "output_type": "stream",
          "name": "stderr",
          "text": [
            "100%|██████████| 6000/6000 [00:07<00:00, 849.00it/s]\n"
          ]
        },
        {
          "output_type": "stream",
          "name": "stdout",
          "text": [
            "Validation acc: 0.9577\n",
            "Time taken: 11.47s\n",
            "wait, val_lost and best 1 tf.Tensor(1.6519735, shape=(), dtype=float32) tf.Tensor(1.5240695, shape=(), dtype=float32)\n",
            "\n",
            "Start of epoch 6\n"
          ]
        },
        {
          "output_type": "stream",
          "name": "stderr",
          "text": [
            "100%|██████████| 1688/1688 [00:05<00:00, 330.85it/s]\n"
          ]
        },
        {
          "output_type": "stream",
          "name": "stdout",
          "text": [
            "Training acc over epoch: 0.9636\n"
          ]
        },
        {
          "output_type": "stream",
          "name": "stderr",
          "text": [
            "100%|██████████| 6000/6000 [00:07<00:00, 856.16it/s]\n"
          ]
        },
        {
          "output_type": "stream",
          "name": "stdout",
          "text": [
            "Validation acc: 0.9585\n",
            "Time taken: 12.14s\n",
            "wait, val_lost and best 2 tf.Tensor(1.5723743, shape=(), dtype=float32) tf.Tensor(1.5240695, shape=(), dtype=float32)\n",
            "\n",
            "Start of epoch 7\n"
          ]
        },
        {
          "output_type": "stream",
          "name": "stderr",
          "text": [
            "100%|██████████| 1688/1688 [00:02<00:00, 589.70it/s]\n"
          ]
        },
        {
          "output_type": "stream",
          "name": "stdout",
          "text": [
            "Training acc over epoch: 0.9658\n"
          ]
        },
        {
          "output_type": "stream",
          "name": "stderr",
          "text": [
            "100%|██████████| 6000/6000 [00:07<00:00, 851.09it/s]\n"
          ]
        },
        {
          "output_type": "stream",
          "name": "stdout",
          "text": [
            "Validation acc: 0.9550\n",
            "Time taken: 9.95s\n",
            "wait, val_lost and best 3 tf.Tensor(1.5230032, shape=(), dtype=float32) tf.Tensor(1.5240695, shape=(), dtype=float32)\n",
            "\n",
            "Start of epoch 8\n"
          ]
        },
        {
          "output_type": "stream",
          "name": "stderr",
          "text": [
            "100%|██████████| 1688/1688 [00:02<00:00, 589.40it/s]\n"
          ]
        },
        {
          "output_type": "stream",
          "name": "stdout",
          "text": [
            "Training acc over epoch: 0.9694\n"
          ]
        },
        {
          "output_type": "stream",
          "name": "stderr",
          "text": [
            "100%|██████████| 6000/6000 [00:06<00:00, 857.17it/s]\n"
          ]
        },
        {
          "output_type": "stream",
          "name": "stdout",
          "text": [
            "Validation acc: 0.9573\n",
            "Time taken: 9.89s\n",
            "wait, val_lost and best 0 tf.Tensor(1.6234113, shape=(), dtype=float32) tf.Tensor(1.5230032, shape=(), dtype=float32)\n",
            "\n",
            "Start of epoch 9\n"
          ]
        },
        {
          "output_type": "stream",
          "name": "stderr",
          "text": [
            "100%|██████████| 1688/1688 [00:02<00:00, 592.69it/s]\n"
          ]
        },
        {
          "output_type": "stream",
          "name": "stdout",
          "text": [
            "Training acc over epoch: 0.9717\n"
          ]
        },
        {
          "output_type": "stream",
          "name": "stderr",
          "text": [
            "100%|██████████| 6000/6000 [00:07<00:00, 846.77it/s]"
          ]
        },
        {
          "output_type": "stream",
          "name": "stdout",
          "text": [
            "Validation acc: 0.9563\n",
            "Time taken: 9.96s\n",
            "wait, val_lost and best 1 tf.Tensor(1.6382258, shape=(), dtype=float32) tf.Tensor(1.5230032, shape=(), dtype=float32)\n",
            "Model: \"sequential_20\"\n",
            "_________________________________________________________________\n",
            " Layer (type)                Output Shape              Param #   \n",
            "=================================================================\n",
            " dense_47 (Dense)            (None, 200)               157000    \n",
            "                                                                 \n",
            " dense_48 (Dense)            (None, 10)                2010      \n",
            "                                                                 \n",
            "=================================================================\n",
            "Total params: 159,010\n",
            "Trainable params: 159,010\n",
            "Non-trainable params: 0\n",
            "_________________________________________________________________\n"
          ]
        },
        {
          "output_type": "stream",
          "name": "stderr",
          "text": [
            "\n"
          ]
        },
        {
          "output_type": "stream",
          "name": "stdout",
          "text": [
            "None\n",
            "Accuracy: nan\n",
            "Test Accuracy: tf.Tensor(0.95633334, shape=(), dtype=float32)\n"
          ]
        },
        {
          "output_type": "display_data",
          "data": {
            "text/plain": [
              "<Figure size 432x288 with 1 Axes>"
            ],
            "image/png": "[encoded data removed]"
          },
          "metadata": {
            "needs_background": "light"
          }
        }
      ]
    },
    {
      "cell_type": "code",
      "source": [
        "model = tf.keras.Sequential()\n",
        "model.add(tf.keras.layers.Dense(74, tf.nn.relu))\n",
        "model.add(tf.keras.layers.Dense(200, tf.nn.relu))\n",
        "model.add(tf.keras.layers.Dense(500, tf.nn.relu))\n",
        "model.add(tf.keras.layers.Dense(500, tf.nn.relu))\n",
        "model.add(tf.keras.layers.Dense(10))\n",
        "optimizer = tf.keras.optimizers.Adam()\n",
        "trainModel(model, train,10)"
      ],
      "metadata": {
        "colab": {
          "base_uri": "https://localhost:8080/",
          "height": 1000
        },
        "id": "Xe70q7Ci1PWN",
        "outputId": "b2f25171-701e-4641-aed6-72f1dfe8eb0e"
      },
      "execution_count": null,
      "outputs": [
        {
          "output_type": "stream",
          "name": "stdout",
          "text": [
            "\n",
            "Start of epoch 0\n"
          ]
        },
        {
          "output_type": "stream",
          "name": "stderr",
          "text": [
            "100%|██████████| 1688/1688 [00:04<00:00, 421.97it/s]\n"
          ]
        },
        {
          "output_type": "stream",
          "name": "stdout",
          "text": [
            "Training acc over epoch: 0.8806\n"
          ]
        },
        {
          "output_type": "stream",
          "name": "stderr",
          "text": [
            "100%|██████████| 6000/6000 [00:08<00:00, 747.71it/s]\n"
          ]
        },
        {
          "output_type": "stream",
          "name": "stdout",
          "text": [
            "Validation acc: 0.9388\n",
            "Time taken: 12.05s\n",
            "wait, val_lost and best 0 tf.Tensor(1.2909501, shape=(), dtype=float32) inf\n",
            "\n",
            "Start of epoch 1\n"
          ]
        },
        {
          "output_type": "stream",
          "name": "stderr",
          "text": [
            "100%|██████████| 1688/1688 [00:03<00:00, 484.01it/s]\n"
          ]
        },
        {
          "output_type": "stream",
          "name": "stdout",
          "text": [
            "Training acc over epoch: 0.9420\n"
          ]
        },
        {
          "output_type": "stream",
          "name": "stderr",
          "text": [
            "100%|██████████| 6000/6000 [00:07<00:00, 756.80it/s]\n"
          ]
        },
        {
          "output_type": "stream",
          "name": "stdout",
          "text": [
            "Validation acc: 0.9457\n",
            "Time taken: 11.44s\n",
            "wait, val_lost and best 0 tf.Tensor(1.4756607, shape=(), dtype=float32) tf.Tensor(1.2909501, shape=(), dtype=float32)\n",
            "\n",
            "Start of epoch 2\n"
          ]
        },
        {
          "output_type": "stream",
          "name": "stderr",
          "text": [
            "100%|██████████| 1688/1688 [00:05<00:00, 330.46it/s]\n"
          ]
        },
        {
          "output_type": "stream",
          "name": "stdout",
          "text": [
            "Training acc over epoch: 0.9547\n"
          ]
        },
        {
          "output_type": "stream",
          "name": "stderr",
          "text": [
            "100%|██████████| 6000/6000 [00:08<00:00, 720.67it/s]\n"
          ]
        },
        {
          "output_type": "stream",
          "name": "stdout",
          "text": [
            "Validation acc: 0.9497\n",
            "Time taken: 13.46s\n",
            "wait, val_lost and best 1 tf.Tensor(1.4892992, shape=(), dtype=float32) tf.Tensor(1.2909501, shape=(), dtype=float32)\n",
            "\n",
            "Start of epoch 3\n"
          ]
        },
        {
          "output_type": "stream",
          "name": "stderr",
          "text": [
            "100%|██████████| 1688/1688 [00:03<00:00, 474.19it/s]\n"
          ]
        },
        {
          "output_type": "stream",
          "name": "stdout",
          "text": [
            "Training acc over epoch: 0.9604\n"
          ]
        },
        {
          "output_type": "stream",
          "name": "stderr",
          "text": [
            "100%|██████████| 6000/6000 [00:08<00:00, 721.25it/s]\n"
          ]
        },
        {
          "output_type": "stream",
          "name": "stdout",
          "text": [
            "Validation acc: 0.9618\n",
            "Time taken: 11.91s\n",
            "wait, val_lost and best 2 tf.Tensor(1.434958, shape=(), dtype=float32) tf.Tensor(1.2909501, shape=(), dtype=float32)\n",
            "\n",
            "Start of epoch 4\n"
          ]
        },
        {
          "output_type": "stream",
          "name": "stderr",
          "text": [
            "100%|██████████| 1688/1688 [00:03<00:00, 469.01it/s]\n"
          ]
        },
        {
          "output_type": "stream",
          "name": "stdout",
          "text": [
            "Training acc over epoch: 0.9654\n"
          ]
        },
        {
          "output_type": "stream",
          "name": "stderr",
          "text": [
            "100%|██████████| 6000/6000 [00:08<00:00, 728.16it/s]\n"
          ]
        },
        {
          "output_type": "stream",
          "name": "stdout",
          "text": [
            "Validation acc: 0.9558\n",
            "Time taken: 11.87s\n",
            "wait, val_lost and best 3 tf.Tensor(1.3800597, shape=(), dtype=float32) tf.Tensor(1.2909501, shape=(), dtype=float32)\n",
            "\n",
            "Start of epoch 5\n"
          ]
        },
        {
          "output_type": "stream",
          "name": "stderr",
          "text": [
            "100%|██████████| 1688/1688 [00:03<00:00, 469.92it/s]\n"
          ]
        },
        {
          "output_type": "stream",
          "name": "stdout",
          "text": [
            "Training acc over epoch: 0.9696\n"
          ]
        },
        {
          "output_type": "stream",
          "name": "stderr",
          "text": [
            "100%|██████████| 6000/6000 [00:08<00:00, 736.28it/s]"
          ]
        },
        {
          "output_type": "stream",
          "name": "stdout",
          "text": [
            "Validation acc: 0.9590\n",
            "Time taken: 11.77s\n",
            "wait, val_lost and best 4 tf.Tensor(1.3979286, shape=(), dtype=float32) tf.Tensor(1.2909501, shape=(), dtype=float32)\n",
            "get stopped\n",
            "Model: \"sequential_29\"\n",
            "_________________________________________________________________\n",
            " Layer (type)                Output Shape              Param #   \n",
            "=================================================================\n",
            " dense_72 (Dense)            (None, 74)                58090     \n",
            "                                                                 \n",
            " dense_73 (Dense)            (None, 200)               15000     \n",
            "                                                                 \n",
            " dense_74 (Dense)            (None, 500)               100500    \n",
            "                                                                 \n",
            " dense_75 (Dense)            (None, 500)               250500    \n",
            "                                                                 \n",
            " dense_76 (Dense)            (None, 10)                5010      \n",
            "                                                                 \n",
            "=================================================================\n",
            "Total params: 429,100\n",
            "Trainable params: 429,100\n",
            "Non-trainable params: 0\n",
            "_________________________________________________________________\n"
          ]
        },
        {
          "output_type": "stream",
          "name": "stderr",
          "text": [
            "\n"
          ]
        },
        {
          "output_type": "stream",
          "name": "stdout",
          "text": [
            "None\n",
            "Accuracy: nan\n",
            "Test Accuracy: tf.Tensor(0.959, shape=(), dtype=float32)\n"
          ]
        },
        {
          "output_type": "display_data",
          "data": {
            "text/plain": [
              "<Figure size 432x288 with 1 Axes>"
            ],
            "image/png": "[encoded data removed]"
          },
          "metadata": {
            "needs_background": "light"
          }
        }
      ]
    },
    {
      "cell_type": "code",
      "source": [
        "from keras.layers import LeakyReLU\n",
        "import keras\n"
      ],
      "metadata": {
        "id": "B01V_cmOEnun"
      },
      "execution_count": null,
      "outputs": []
    },
    {
      "cell_type": "code",
      "source": [
        "#@title\n",
        "def trainModel(model, train_ds):\n",
        "  train_ds = train.shuffle(1024).batch(32)\n",
        "  loss_values = []\n",
        "  accuracy_values = []\n",
        "  # Loop through one epoch of data\n",
        "  for epoch in range(1):\n",
        "      for batch in tqdm(train_ds):\n",
        "          with tf.GradientTape() as tape:\n",
        "              # run network\n",
        "              x = tf.reshape(tf.cast(batch['image'], tf.float32), [-1, 784])\n",
        "              labels = batch['label']\n",
        "              # x = tf.cast(batch, tf.float32).map(lambda image: tf.reshape(image['image'],[28, 28, 1]))\n",
        "              logits = model(x)\n",
        "\n",
        "              # calculate loss\n",
        "              loss = tf.nn.sparse_softmax_cross_entropy_with_logits(logits=logits, labels=labels)    \n",
        "          loss_values.append(loss)\n",
        "      \n",
        "          # gradient update\n",
        "          grads = tape.gradient(loss, model.trainable_variables)\n",
        "          optimizer.apply_gradients(zip(grads, model.trainable_variables))\n",
        "      \n",
        "          # calculate accuracy\n",
        "          predictions = tf.argmax(logits, axis=1)\n",
        "          accuracy = tf.reduce_mean(tf.cast(tf.equal(predictions, labels), tf.float32))\n",
        "          accuracy_values.append(accuracy)\n",
        "\n",
        "\n",
        "  print(model.summary())\n",
        "      \n",
        "  # accuracy\n",
        "  print(\"Accuracy:\", np.mean(accuracy_values))\n",
        "  print(\"Test Accuracy:\", calculateAccuracy(model,validation))\n",
        "  # plot per-datum loss\n",
        "  loss_values = np.concatenate(loss_values)\n",
        "  plt.hist(loss_values, density=True, bins=30)\n",
        "  plt.show()\n",
        "model = tf.keras.Sequential()\n",
        "# x_train =train.reshape((train.shape[0], 28, 28, 1))\n",
        "# model.add(tf.keras.layers.Dense(200, tf.nn.relu))\n",
        "model.add(tf.keras.layers.Dense(10))\n",
        "optimizer = tf.keras.optimizers.Adam()\n",
        "trainModel(model, train)"
      ],
      "metadata": {
        "colab": {
          "base_uri": "https://localhost:8080/"
        },
        "id": "wimI4eM62-L6",
        "outputId": "faf7f832-392d-41a5-b944-6177ab54f398",
        "collapsed": true
      },
      "execution_count": null,
      "outputs": [
        {
          "output_type": "stream",
          "name": "stderr",
          "text": [
            "  0%|          | 7/1688 [00:00<01:01, 27.35it/s]"
          ]
        },
        {
          "output_type": "stream",
          "name": "stdout",
          "text": [
            "Training acc over epoch: 0.1250\n",
            "Training acc over epoch: 0.0312\n",
            "Training acc over epoch: 0.1250\n",
            "Training acc over epoch: 0.0938\n",
            "Training acc over epoch: 0.2188\n",
            "Training acc over epoch: 0.1562\n",
            "Training acc over epoch: 0.0312\n",
            "Training acc over epoch: 0.2188\n",
            "Training acc over epoch: 0.2188\n",
            "Training acc over epoch: 0.1875\n",
            "Training acc over epoch: 0.2812\n",
            "Training acc over epoch: 0.2812\n",
            "Training acc over epoch: 0.2500\n",
            "Training acc over epoch: 0.2500\n"
          ]
        },
        {
          "output_type": "stream",
          "name": "stderr",
          "text": [
            "  1%|▏         | 22/1688 [00:00<00:31, 52.42it/s]"
          ]
        },
        {
          "output_type": "stream",
          "name": "stdout",
          "text": [
            "Training acc over epoch: 0.4688\n",
            "Training acc over epoch: 0.4062\n",
            "Training acc over epoch: 0.3438\n",
            "Training acc over epoch: 0.3438\n",
            "Training acc over epoch: 0.3438\n",
            "Training acc over epoch: 0.2812\n",
            "Training acc over epoch: 0.5625\n",
            "Training acc over epoch: 0.3750\n",
            "Training acc over epoch: 0.3125\n",
            "Training acc over epoch: 0.5625\n",
            "Training acc over epoch: 0.5938\n",
            "Training acc over epoch: 0.3438\n",
            "Training acc over epoch: 0.4062\n"
          ]
        },
        {
          "output_type": "stream",
          "name": "stderr",
          "text": [
            "  2%|▏         | 34/1688 [00:00<00:31, 52.27it/s]"
          ]
        },
        {
          "output_type": "stream",
          "name": "stdout",
          "text": [
            "Training acc over epoch: 0.4688\n",
            "Training acc over epoch: 0.4688\n",
            "Training acc over epoch: 0.5312\n",
            "Training acc over epoch: 0.5312\n",
            "Training acc over epoch: 0.7500\n",
            "Training acc over epoch: 0.5000\n",
            "Training acc over epoch: 0.4688\n",
            "Training acc over epoch: 0.4062\n",
            "Training acc over epoch: 0.4062\n",
            "Training acc over epoch: 0.6562\n",
            "Training acc over epoch: 0.6250\n",
            "Training acc over epoch: 0.5312\n"
          ]
        },
        {
          "output_type": "stream",
          "name": "stderr",
          "text": [
            "  3%|▎         | 48/1688 [00:00<00:28, 58.53it/s]"
          ]
        },
        {
          "output_type": "stream",
          "name": "stdout",
          "text": [
            "Training acc over epoch: 0.6562\n",
            "Training acc over epoch: 0.5312\n",
            "Training acc over epoch: 0.6562\n",
            "Training acc over epoch: 0.6562\n",
            "Training acc over epoch: 0.5625\n",
            "Training acc over epoch: 0.6562\n",
            "Training acc over epoch: 0.6250\n",
            "Training acc over epoch: 0.7500\n",
            "Training acc over epoch: 0.6875\n",
            "Training acc over epoch: 0.6562\n",
            "Training acc over epoch: 0.5625\n",
            "Training acc over epoch: 0.6250\n"
          ]
        },
        {
          "output_type": "stream",
          "name": "stderr",
          "text": [
            "  4%|▎         | 63/1688 [00:01<00:26, 62.48it/s]"
          ]
        },
        {
          "output_type": "stream",
          "name": "stdout",
          "text": [
            "Training acc over epoch: 0.4375\n",
            "Training acc over epoch: 0.6875\n",
            "Training acc over epoch: 0.7500\n",
            "Training acc over epoch: 0.5312\n",
            "Training acc over epoch: 0.8125\n",
            "Training acc over epoch: 0.6562\n",
            "Training acc over epoch: 0.7188\n",
            "Training acc over epoch: 0.5938\n",
            "Training acc over epoch: 0.7500\n",
            "Training acc over epoch: 0.6875\n",
            "Training acc over epoch: 0.5938\n",
            "Training acc over epoch: 0.6875\n",
            "Training acc over epoch: 0.6562\n",
            "Training acc over epoch: 0.7812\n",
            "Training acc over epoch: 0.5312\n"
          ]
        },
        {
          "output_type": "stream",
          "name": "stderr",
          "text": [
            "  5%|▍         | 78/1688 [00:01<00:23, 67.47it/s]"
          ]
        },
        {
          "output_type": "stream",
          "name": "stdout",
          "text": [
            "Training acc over epoch: 0.7188\n",
            "Training acc over epoch: 0.7500\n",
            "Training acc over epoch: 0.7188\n",
            "Training acc over epoch: 0.6875\n",
            "Training acc over epoch: 0.8125\n",
            "Training acc over epoch: 0.8438\n",
            "Training acc over epoch: 0.6875\n",
            "Training acc over epoch: 0.5938\n",
            "Training acc over epoch: 0.7500\n",
            "Training acc over epoch: 0.6562\n",
            "Training acc over epoch: 0.8125\n",
            "Training acc over epoch: 0.7500\n",
            "Training acc over epoch: 0.8750\n",
            "Training acc over epoch: 0.6875\n",
            "Training acc over epoch: 0.6562\n"
          ]
        },
        {
          "output_type": "stream",
          "name": "stderr",
          "text": [
            "  6%|▌         | 93/1688 [00:01<00:23, 69.13it/s]"
          ]
        },
        {
          "output_type": "stream",
          "name": "stdout",
          "text": [
            "Training acc over epoch: 0.6250\n",
            "Training acc over epoch: 0.7500\n",
            "Training acc over epoch: 0.6250\n",
            "Training acc over epoch: 0.8125\n",
            "Training acc over epoch: 0.7188\n",
            "Training acc over epoch: 0.5625\n",
            "Training acc over epoch: 0.7188\n",
            "Training acc over epoch: 0.7188\n",
            "Training acc over epoch: 0.8125\n",
            "Training acc over epoch: 0.6250\n",
            "Training acc over epoch: 0.7812\n",
            "Training acc over epoch: 0.5938\n",
            "Training acc over epoch: 0.6562\n",
            "Training acc over epoch: 0.7188\n",
            "Training acc over epoch: 0.7812\n"
          ]
        },
        {
          "output_type": "stream",
          "name": "stderr",
          "text": [
            "  6%|▋         | 109/1688 [00:01<00:21, 72.17it/s]"
          ]
        },
        {
          "output_type": "stream",
          "name": "stdout",
          "text": [
            "Training acc over epoch: 0.7500\n",
            "Training acc over epoch: 0.6875\n",
            "Training acc over epoch: 0.5938\n",
            "Training acc over epoch: 0.7500\n",
            "Training acc over epoch: 0.6562\n",
            "Training acc over epoch: 0.7812\n",
            "Training acc over epoch: 0.7188\n",
            "Training acc over epoch: 0.7812\n",
            "Training acc over epoch: 0.7500\n",
            "Training acc over epoch: 0.7812\n",
            "Training acc over epoch: 0.6875\n",
            "Training acc over epoch: 0.8125\n",
            "Training acc over epoch: 0.7812\n",
            "Training acc over epoch: 0.7500\n",
            "Training acc over epoch: 0.6562\n",
            "Training acc over epoch: 0.7812\n"
          ]
        },
        {
          "output_type": "stream",
          "name": "stderr",
          "text": [
            "  7%|▋         | 125/1688 [00:02<00:21, 71.13it/s]"
          ]
        },
        {
          "output_type": "stream",
          "name": "stdout",
          "text": [
            "Training acc over epoch: 0.5938\n",
            "Training acc over epoch: 0.7812\n",
            "Training acc over epoch: 0.8125\n",
            "Training acc over epoch: 0.8438\n",
            "Training acc over epoch: 0.8438\n",
            "Training acc over epoch: 0.6875\n",
            "Training acc over epoch: 0.8750\n",
            "Training acc over epoch: 0.7500\n",
            "Training acc over epoch: 0.8438\n",
            "Training acc over epoch: 0.9062\n",
            "Training acc over epoch: 0.7188\n",
            "Training acc over epoch: 0.7500\n",
            "Training acc over epoch: 0.7812\n",
            "Training acc over epoch: 0.7500\n"
          ]
        },
        {
          "output_type": "stream",
          "name": "stderr",
          "text": [
            "  8%|▊         | 141/1688 [00:02<00:21, 72.91it/s]"
          ]
        },
        {
          "output_type": "stream",
          "name": "stdout",
          "text": [
            "Training acc over epoch: 0.7500\n",
            "Training acc over epoch: 0.7500\n",
            "Training acc over epoch: 0.6562\n",
            "Training acc over epoch: 0.8125\n",
            "Training acc over epoch: 0.7812\n",
            "Training acc over epoch: 0.7188\n",
            "Training acc over epoch: 0.7812\n",
            "Training acc over epoch: 0.5312\n",
            "Training acc over epoch: 0.8438\n",
            "Training acc over epoch: 0.6875\n",
            "Training acc over epoch: 0.7812\n",
            "Training acc over epoch: 0.7812\n",
            "Training acc over epoch: 0.8438\n",
            "Training acc over epoch: 0.9062\n",
            "Training acc over epoch: 0.6562\n",
            "Training acc over epoch: 0.7500\n"
          ]
        },
        {
          "output_type": "stream",
          "name": "stderr",
          "text": [
            "  9%|▉         | 157/1688 [00:02<00:20, 74.71it/s]"
          ]
        },
        {
          "output_type": "stream",
          "name": "stdout",
          "text": [
            "Training acc over epoch: 0.8125\n",
            "Training acc over epoch: 0.8125\n",
            "Training acc over epoch: 0.8750\n",
            "Training acc over epoch: 0.7500\n",
            "Training acc over epoch: 0.7188\n",
            "Training acc over epoch: 0.8438\n",
            "Training acc over epoch: 0.7500\n",
            "Training acc over epoch: 0.6875\n",
            "Training acc over epoch: 0.7500\n",
            "Training acc over epoch: 0.7812\n",
            "Training acc over epoch: 0.7188\n",
            "Training acc over epoch: 0.8125\n",
            "Training acc over epoch: 0.8125\n",
            "Training acc over epoch: 0.8750\n",
            "Training acc over epoch: 0.7188\n",
            "Training acc over epoch: 0.5938\n"
          ]
        },
        {
          "output_type": "stream",
          "name": "stderr",
          "text": [
            " 10%|█         | 173/1688 [00:02<00:20, 73.00it/s]"
          ]
        },
        {
          "output_type": "stream",
          "name": "stdout",
          "text": [
            "Training acc over epoch: 0.8438\n",
            "Training acc over epoch: 0.7812\n",
            "Training acc over epoch: 0.8125\n",
            "Training acc over epoch: 0.7500\n",
            "Training acc over epoch: 0.8125\n",
            "Training acc over epoch: 0.7812\n",
            "Training acc over epoch: 0.7812\n",
            "Training acc over epoch: 0.8125\n",
            "Training acc over epoch: 0.8438\n",
            "Training acc over epoch: 0.8438\n",
            "Training acc over epoch: 0.8438\n",
            "Training acc over epoch: 0.7500\n",
            "Training acc over epoch: 0.8125\n",
            "Training acc over epoch: 0.8750\n",
            "Training acc over epoch: 0.6875\n"
          ]
        },
        {
          "output_type": "stream",
          "name": "stderr",
          "text": [
            " 11%|█         | 189/1688 [00:02<00:20, 73.46it/s]"
          ]
        },
        {
          "output_type": "stream",
          "name": "stdout",
          "text": [
            "Training acc over epoch: 0.8125\n",
            "Training acc over epoch: 0.8125\n",
            "Training acc over epoch: 0.7500\n",
            "Training acc over epoch: 0.7812\n",
            "Training acc over epoch: 0.7812\n",
            "Training acc over epoch: 0.7812\n",
            "Training acc over epoch: 0.6250\n",
            "Training acc over epoch: 0.9062\n",
            "Training acc over epoch: 0.7500\n",
            "Training acc over epoch: 0.7500\n",
            "Training acc over epoch: 0.7188\n",
            "Training acc over epoch: 0.8438\n",
            "Training acc over epoch: 0.8438\n",
            "Training acc over epoch: 0.8438\n",
            "Training acc over epoch: 0.9062\n",
            "Training acc over epoch: 0.7500\n"
          ]
        },
        {
          "output_type": "stream",
          "name": "stderr",
          "text": [
            "\r 12%|█▏        | 197/1688 [00:03<00:22, 67.54it/s]"
          ]
        },
        {
          "output_type": "stream",
          "name": "stdout",
          "text": [
            "Training acc over epoch: 0.8750\n",
            "Training acc over epoch: 0.8438\n",
            "Training acc over epoch: 0.6875\n",
            "Training acc over epoch: 0.7812\n",
            "Training acc over epoch: 0.7188\n",
            "Training acc over epoch: 0.7188\n",
            "Training acc over epoch: 0.7812\n",
            "Training acc over epoch: 0.7500\n",
            "Training acc over epoch: 0.7500\n",
            "Training acc over epoch: 0.8125\n",
            "Training acc over epoch: 0.7500\n",
            "Training acc over epoch: 0.8438\n",
            "Training acc over epoch: 0.8750\n",
            "Training acc over epoch: 0.8438\n"
          ]
        },
        {
          "output_type": "stream",
          "name": "stderr",
          "text": [
            " 13%|█▎        | 212/1688 [00:03<00:21, 69.63it/s]"
          ]
        },
        {
          "output_type": "stream",
          "name": "stdout",
          "text": [
            "Training acc over epoch: 0.8750\n",
            "Training acc over epoch: 0.7188\n",
            "Training acc over epoch: 0.7812\n",
            "Training acc over epoch: 0.7500\n",
            "Training acc over epoch: 0.7500\n",
            "Training acc over epoch: 0.7188\n",
            "Training acc over epoch: 0.8438\n",
            "Training acc over epoch: 0.7812\n",
            "Training acc over epoch: 0.8438\n",
            "Training acc over epoch: 0.8125\n",
            "Training acc over epoch: 0.8125\n",
            "Training acc over epoch: 0.8438\n",
            "Training acc over epoch: 0.8125\n",
            "Training acc over epoch: 0.8125\n",
            "Training acc over epoch: 0.9375\n"
          ]
        },
        {
          "output_type": "stream",
          "name": "stderr",
          "text": [
            " 13%|█▎        | 227/1688 [00:03<00:21, 67.08it/s]"
          ]
        },
        {
          "output_type": "stream",
          "name": "stdout",
          "text": [
            "Training acc over epoch: 0.8438\n",
            "Training acc over epoch: 0.8125\n",
            "Training acc over epoch: 0.8438\n",
            "Training acc over epoch: 0.8438\n",
            "Training acc over epoch: 0.7500\n",
            "Training acc over epoch: 0.7500\n",
            "Training acc over epoch: 0.7188\n",
            "Training acc over epoch: 0.8125\n",
            "Training acc over epoch: 0.7500\n",
            "Training acc over epoch: 0.7812\n",
            "Training acc over epoch: 0.8438\n",
            "Training acc over epoch: 0.8125\n",
            "Training acc over epoch: 0.8438\n"
          ]
        },
        {
          "output_type": "stream",
          "name": "stderr",
          "text": [
            " 14%|█▍        | 241/1688 [00:03<00:22, 64.73it/s]"
          ]
        },
        {
          "output_type": "stream",
          "name": "stdout",
          "text": [
            "Training acc over epoch: 0.8438\n",
            "Training acc over epoch: 0.9062\n",
            "Training acc over epoch: 0.9062\n",
            "Training acc over epoch: 0.7500\n",
            "Training acc over epoch: 0.9688\n",
            "Training acc over epoch: 0.7188\n",
            "Training acc over epoch: 0.8125\n",
            "Training acc over epoch: 0.7188\n",
            "Training acc over epoch: 0.8750\n",
            "Training acc over epoch: 0.9062\n",
            "Training acc over epoch: 0.9062\n",
            "Training acc over epoch: 0.8438\n",
            "Training acc over epoch: 0.8125\n"
          ]
        },
        {
          "output_type": "stream",
          "name": "stderr",
          "text": [
            " 15%|█▌        | 255/1688 [00:03<00:23, 61.52it/s]"
          ]
        },
        {
          "output_type": "stream",
          "name": "stdout",
          "text": [
            "Training acc over epoch: 0.9375\n",
            "Training acc over epoch: 0.6875\n",
            "Training acc over epoch: 0.6875\n",
            "Training acc over epoch: 0.7812\n",
            "Training acc over epoch: 0.8438\n",
            "Training acc over epoch: 0.8125\n",
            "Training acc over epoch: 0.8125\n",
            "Training acc over epoch: 0.8125\n",
            "Training acc over epoch: 0.7812\n",
            "Training acc over epoch: 0.7500\n",
            "Training acc over epoch: 0.8750\n",
            "Training acc over epoch: 0.8125\n",
            "Training acc over epoch: 0.8438\n"
          ]
        },
        {
          "output_type": "stream",
          "name": "stderr",
          "text": [
            " 16%|█▌        | 269/1688 [00:04<00:23, 60.25it/s]"
          ]
        },
        {
          "output_type": "stream",
          "name": "stdout",
          "text": [
            "Training acc over epoch: 0.9688\n",
            "Training acc over epoch: 0.8438\n",
            "Training acc over epoch: 0.7812\n",
            "Training acc over epoch: 0.7812\n",
            "Training acc over epoch: 0.7500\n",
            "Training acc over epoch: 0.9688\n",
            "Training acc over epoch: 0.7812\n",
            "Training acc over epoch: 0.7812\n",
            "Training acc over epoch: 0.7812\n",
            "Training acc over epoch: 0.8438\n",
            "Training acc over epoch: 0.6562\n",
            "Training acc over epoch: 0.6875\n"
          ]
        },
        {
          "output_type": "stream",
          "name": "stderr",
          "text": [
            " 17%|█▋        | 283/1688 [00:04<00:22, 61.59it/s]"
          ]
        },
        {
          "output_type": "stream",
          "name": "stdout",
          "text": [
            "Training acc over epoch: 0.8750\n",
            "Training acc over epoch: 0.9062\n",
            "Training acc over epoch: 0.8438\n",
            "Training acc over epoch: 0.8750\n",
            "Training acc over epoch: 0.8438\n",
            "Training acc over epoch: 0.9062\n",
            "Training acc over epoch: 0.8438\n",
            "Training acc over epoch: 0.8125\n",
            "Training acc over epoch: 0.7188\n",
            "Training acc over epoch: 0.8438\n",
            "Training acc over epoch: 0.7812\n",
            "Training acc over epoch: 0.8438\n",
            "Training acc over epoch: 0.7812\n",
            "Training acc over epoch: 0.9375\n"
          ]
        },
        {
          "output_type": "stream",
          "name": "stderr",
          "text": [
            " 18%|█▊        | 298/1688 [00:04<00:20, 66.76it/s]"
          ]
        },
        {
          "output_type": "stream",
          "name": "stdout",
          "text": [
            "Training acc over epoch: 0.8438\n",
            "Training acc over epoch: 0.8125\n",
            "Training acc over epoch: 0.7500\n",
            "Training acc over epoch: 0.8750\n",
            "Training acc over epoch: 0.9062\n",
            "Training acc over epoch: 0.9062\n",
            "Training acc over epoch: 0.8438\n",
            "Training acc over epoch: 0.8750\n",
            "Training acc over epoch: 0.7500\n",
            "Training acc over epoch: 0.9062\n",
            "Training acc over epoch: 0.9062\n",
            "Training acc over epoch: 0.8750\n",
            "Training acc over epoch: 0.9062\n",
            "Training acc over epoch: 0.9375\n",
            "Training acc over epoch: 0.9062\n"
          ]
        },
        {
          "output_type": "stream",
          "name": "stderr",
          "text": [
            " 18%|█▊        | 312/1688 [00:04<00:20, 67.32it/s]"
          ]
        },
        {
          "output_type": "stream",
          "name": "stdout",
          "text": [
            "Training acc over epoch: 0.8438\n",
            "Training acc over epoch: 0.8750\n",
            "Training acc over epoch: 0.8438\n",
            "Training acc over epoch: 0.8125\n",
            "Training acc over epoch: 0.9062\n",
            "Training acc over epoch: 0.7500\n",
            "Training acc over epoch: 0.7500\n",
            "Training acc over epoch: 0.8125\n",
            "Training acc over epoch: 0.8750\n",
            "Training acc over epoch: 0.7500\n",
            "Training acc over epoch: 0.7500\n",
            "Training acc over epoch: 0.8125\n",
            "Training acc over epoch: 0.8125\n",
            "Training acc over epoch: 0.8438\n",
            "Training acc over epoch: 0.8438\n"
          ]
        },
        {
          "output_type": "stream",
          "name": "stderr",
          "text": [
            " 19%|█▉        | 327/1688 [00:05<00:20, 67.24it/s]"
          ]
        },
        {
          "output_type": "stream",
          "name": "stdout",
          "text": [
            "Training acc over epoch: 0.8125\n",
            "Training acc over epoch: 0.8438\n",
            "Training acc over epoch: 0.8125\n",
            "Training acc over epoch: 0.9062\n",
            "Training acc over epoch: 0.8125\n",
            "Training acc over epoch: 0.9375\n",
            "Training acc over epoch: 0.8438\n",
            "Training acc over epoch: 0.8438\n",
            "Training acc over epoch: 0.8750\n",
            "Training acc over epoch: 0.8438\n",
            "Training acc over epoch: 0.9062\n",
            "Training acc over epoch: 0.7812\n",
            "Training acc over epoch: 0.9062\n",
            "Training acc over epoch: 0.7500\n"
          ]
        },
        {
          "output_type": "stream",
          "name": "stderr",
          "text": [
            " 20%|██        | 342/1688 [00:05<00:19, 67.68it/s]"
          ]
        },
        {
          "output_type": "stream",
          "name": "stdout",
          "text": [
            "Training acc over epoch: 0.8750\n",
            "Training acc over epoch: 0.8750\n",
            "Training acc over epoch: 0.7500\n",
            "Training acc over epoch: 0.8438\n",
            "Training acc over epoch: 0.8125\n",
            "Training acc over epoch: 0.7812\n",
            "Training acc over epoch: 0.7500\n",
            "Training acc over epoch: 0.8125\n",
            "Training acc over epoch: 0.8438\n",
            "Training acc over epoch: 0.9688\n",
            "Training acc over epoch: 0.8750\n",
            "Training acc over epoch: 0.9375\n",
            "Training acc over epoch: 0.7812\n",
            "Training acc over epoch: 0.7188\n",
            "Training acc over epoch: 0.8750\n"
          ]
        },
        {
          "output_type": "stream",
          "name": "stderr",
          "text": [
            " 21%|██        | 357/1688 [00:05<00:19, 68.19it/s]"
          ]
        },
        {
          "output_type": "stream",
          "name": "stdout",
          "text": [
            "Training acc over epoch: 0.8125\n",
            "Training acc over epoch: 0.8438\n",
            "Training acc over epoch: 0.9375\n",
            "Training acc over epoch: 0.9688\n",
            "Training acc over epoch: 0.8438\n",
            "Training acc over epoch: 0.8125\n",
            "Training acc over epoch: 0.9375\n",
            "Training acc over epoch: 0.7500\n",
            "Training acc over epoch: 0.8750\n",
            "Training acc over epoch: 0.8125\n",
            "Training acc over epoch: 0.9062\n",
            "Training acc over epoch: 0.8438\n",
            "Training acc over epoch: 0.9688\n",
            "Training acc over epoch: 0.9375\n",
            "Training acc over epoch: 0.8750\n"
          ]
        },
        {
          "output_type": "stream",
          "name": "stderr",
          "text": [
            " 22%|██▏       | 373/1688 [00:05<00:18, 70.81it/s]"
          ]
        },
        {
          "output_type": "stream",
          "name": "stdout",
          "text": [
            "Training acc over epoch: 0.7812\n",
            "Training acc over epoch: 0.8750\n",
            "Training acc over epoch: 0.8438\n",
            "Training acc over epoch: 0.8125\n",
            "Training acc over epoch: 0.9062\n",
            "Training acc over epoch: 0.9062\n",
            "Training acc over epoch: 0.9062\n",
            "Training acc over epoch: 0.8438\n",
            "Training acc over epoch: 0.9062\n",
            "Training acc over epoch: 0.7812\n",
            "Training acc over epoch: 0.8125\n",
            "Training acc over epoch: 0.9688\n",
            "Training acc over epoch: 0.8750\n",
            "Training acc over epoch: 0.8438\n",
            "Training acc over epoch: 0.7812\n",
            "Training acc over epoch: 0.9375\n"
          ]
        },
        {
          "output_type": "stream",
          "name": "stderr",
          "text": [
            "\r 23%|██▎       | 381/1688 [00:05<00:19, 68.51it/s]"
          ]
        },
        {
          "output_type": "stream",
          "name": "stdout",
          "text": [
            "Training acc over epoch: 0.8438\n",
            "Training acc over epoch: 0.9375\n",
            "Training acc over epoch: 0.9062\n",
            "Training acc over epoch: 0.7500\n",
            "Training acc over epoch: 0.9062\n",
            "Training acc over epoch: 0.8125\n",
            "Training acc over epoch: 0.9062\n",
            "Training acc over epoch: 0.8750\n",
            "Training acc over epoch: 0.7812\n",
            "Training acc over epoch: 0.8438\n",
            "Training acc over epoch: 0.8125\n",
            "Training acc over epoch: 0.9688\n",
            "Training acc over epoch: 0.7812\n",
            "Training acc over epoch: 0.7812\n",
            "Training acc over epoch: 0.8125\n"
          ]
        },
        {
          "output_type": "stream",
          "name": "stderr",
          "text": [
            " 24%|██▎       | 397/1688 [00:06<00:18, 69.17it/s]"
          ]
        },
        {
          "output_type": "stream",
          "name": "stdout",
          "text": [
            "Training acc over epoch: 0.9062\n",
            "Training acc over epoch: 0.8438\n",
            "Training acc over epoch: 0.8125\n",
            "Training acc over epoch: 0.7812\n",
            "Training acc over epoch: 0.9062\n",
            "Training acc over epoch: 0.9375\n",
            "Training acc over epoch: 0.8438\n",
            "Training acc over epoch: 0.8750\n",
            "Training acc over epoch: 0.7812\n",
            "Training acc over epoch: 0.9062\n",
            "Training acc over epoch: 0.8750\n",
            "Training acc over epoch: 0.8125\n",
            "Training acc over epoch: 0.7812\n"
          ]
        },
        {
          "output_type": "stream",
          "name": "stderr",
          "text": [
            " 24%|██▍       | 412/1688 [00:06<00:18, 68.66it/s]"
          ]
        },
        {
          "output_type": "stream",
          "name": "stdout",
          "text": [
            "Training acc over epoch: 0.8125\n",
            "Training acc over epoch: 0.8438\n",
            "Training acc over epoch: 0.9062\n",
            "Training acc over epoch: 0.9688\n",
            "Training acc over epoch: 0.6875\n",
            "Training acc over epoch: 0.8438\n",
            "Training acc over epoch: 0.8438\n",
            "Training acc over epoch: 0.9688\n",
            "Training acc over epoch: 0.7812\n",
            "Training acc over epoch: 0.8438\n",
            "Training acc over epoch: 0.8750\n",
            "Training acc over epoch: 0.9062\n",
            "Training acc over epoch: 0.7812\n",
            "Training acc over epoch: 0.6875\n",
            "Training acc over epoch: 0.9688\n",
            "Training acc over epoch: 0.8438\n"
          ]
        },
        {
          "output_type": "stream",
          "name": "stderr",
          "text": [
            " 25%|██▌       | 428/1688 [00:06<00:17, 71.23it/s]"
          ]
        },
        {
          "output_type": "stream",
          "name": "stdout",
          "text": [
            "Training acc over epoch: 0.8125\n",
            "Training acc over epoch: 0.8438\n",
            "Training acc over epoch: 0.9062\n",
            "Training acc over epoch: 0.7812\n",
            "Training acc over epoch: 0.9062\n",
            "Training acc over epoch: 0.7812\n",
            "Training acc over epoch: 0.9062\n",
            "Training acc over epoch: 0.8438\n",
            "Training acc over epoch: 0.8750\n",
            "Training acc over epoch: 0.9688\n",
            "Training acc over epoch: 0.6875\n",
            "Training acc over epoch: 0.8438\n",
            "Training acc over epoch: 0.8125\n",
            "Training acc over epoch: 0.8125\n",
            "Training acc over epoch: 0.8125\n",
            "Training acc over epoch: 0.8750\n"
          ]
        },
        {
          "output_type": "stream",
          "name": "stderr",
          "text": [
            " 26%|██▋       | 444/1688 [00:06<00:16, 73.85it/s]"
          ]
        },
        {
          "output_type": "stream",
          "name": "stdout",
          "text": [
            "Training acc over epoch: 0.9062\n",
            "Training acc over epoch: 0.8750\n",
            "Training acc over epoch: 0.7500\n",
            "Training acc over epoch: 0.9062\n",
            "Training acc over epoch: 0.7812\n",
            "Training acc over epoch: 0.8125\n",
            "Training acc over epoch: 0.8438\n",
            "Training acc over epoch: 0.8750\n",
            "Training acc over epoch: 0.8750\n",
            "Training acc over epoch: 0.9062\n",
            "Training acc over epoch: 0.9688\n",
            "Training acc over epoch: 0.8125\n",
            "Training acc over epoch: 0.9062\n",
            "Training acc over epoch: 0.8125\n",
            "Training acc over epoch: 0.6250\n",
            "Training acc over epoch: 0.8125\n"
          ]
        },
        {
          "output_type": "stream",
          "name": "stderr",
          "text": [
            " 27%|██▋       | 460/1688 [00:06<00:16, 74.32it/s]"
          ]
        },
        {
          "output_type": "stream",
          "name": "stdout",
          "text": [
            "Training acc over epoch: 0.9062\n",
            "Training acc over epoch: 0.8750\n",
            "Training acc over epoch: 0.8750\n",
            "Training acc over epoch: 0.8438\n",
            "Training acc over epoch: 0.8125\n",
            "Training acc over epoch: 0.8750\n",
            "Training acc over epoch: 0.8438\n",
            "Training acc over epoch: 0.8438\n",
            "Training acc over epoch: 0.9062\n",
            "Training acc over epoch: 0.8438\n",
            "Training acc over epoch: 0.9375\n",
            "Training acc over epoch: 0.7812\n",
            "Training acc over epoch: 0.9375\n",
            "Training acc over epoch: 0.8438\n",
            "Training acc over epoch: 0.9375\n"
          ]
        },
        {
          "output_type": "stream",
          "name": "stderr",
          "text": [
            " 28%|██▊       | 476/1688 [00:07<00:17, 69.34it/s]"
          ]
        },
        {
          "output_type": "stream",
          "name": "stdout",
          "text": [
            "Training acc over epoch: 0.8438\n",
            "Training acc over epoch: 0.8125\n",
            "Training acc over epoch: 0.7500\n",
            "Training acc over epoch: 0.9375\n",
            "Training acc over epoch: 0.8125\n",
            "Training acc over epoch: 0.8438\n",
            "Training acc over epoch: 0.9375\n",
            "Training acc over epoch: 0.9375\n",
            "Training acc over epoch: 0.8438\n",
            "Training acc over epoch: 0.8438\n",
            "Training acc over epoch: 0.8750\n",
            "Training acc over epoch: 1.0000\n",
            "Training acc over epoch: 0.7500\n",
            "Training acc over epoch: 0.7500"
          ]
        },
        {
          "output_type": "stream",
          "name": "stderr",
          "text": [
            " 29%|██▉       | 491/1688 [00:07<00:17, 70.13it/s]"
          ]
        },
        {
          "output_type": "stream",
          "name": "stdout",
          "text": [
            "\n",
            "Training acc over epoch: 0.8125\n",
            "Training acc over epoch: 0.8125\n",
            "Training acc over epoch: 0.8438\n",
            "Training acc over epoch: 0.8750\n",
            "Training acc over epoch: 0.8750\n",
            "Training acc over epoch: 0.7812\n",
            "Training acc over epoch: 0.9062\n",
            "Training acc over epoch: 0.7500\n",
            "Training acc over epoch: 0.8125\n",
            "Training acc over epoch: 0.8438\n",
            "Training acc over epoch: 0.7188\n",
            "Training acc over epoch: 0.8438\n",
            "Training acc over epoch: 0.7500\n",
            "Training acc over epoch: 0.8438\n",
            "Training acc over epoch: 0.8750\n"
          ]
        },
        {
          "output_type": "stream",
          "name": "stderr",
          "text": [
            " 30%|██▉       | 506/1688 [00:07<00:18, 63.94it/s]"
          ]
        },
        {
          "output_type": "stream",
          "name": "stdout",
          "text": [
            "Training acc over epoch: 0.9375\n",
            "Training acc over epoch: 0.9062\n",
            "Training acc over epoch: 0.9375\n",
            "Training acc over epoch: 0.8750\n",
            "Training acc over epoch: 0.8125\n",
            "Training acc over epoch: 0.9062\n",
            "Training acc over epoch: 0.9375\n",
            "Training acc over epoch: 0.8750\n",
            "Training acc over epoch: 0.8438\n",
            "Training acc over epoch: 0.8438\n",
            "Training acc over epoch: 0.9062\n",
            "Training acc over epoch: 0.7500\n",
            "Training acc over epoch: 0.8438\n"
          ]
        },
        {
          "output_type": "stream",
          "name": "stderr",
          "text": [
            " 31%|███       | 521/1688 [00:07<00:16, 68.90it/s]"
          ]
        },
        {
          "output_type": "stream",
          "name": "stdout",
          "text": [
            "Training acc over epoch: 0.9062\n",
            "Training acc over epoch: 0.8750\n",
            "Training acc over epoch: 0.9688\n",
            "Training acc over epoch: 0.7188\n",
            "Training acc over epoch: 0.9375\n",
            "Training acc over epoch: 0.7812\n",
            "Training acc over epoch: 0.8125\n",
            "Training acc over epoch: 0.8438\n",
            "Training acc over epoch: 0.8438\n",
            "Training acc over epoch: 0.8750\n",
            "Training acc over epoch: 0.8125\n",
            "Training acc over epoch: 0.7188\n",
            "Training acc over epoch: 0.8125\n",
            "Training acc over epoch: 0.8438\n",
            "Training acc over epoch: 0.9062\n",
            "Training acc over epoch: 0.9375\n"
          ]
        },
        {
          "output_type": "stream",
          "name": "stderr",
          "text": [
            " 32%|███▏      | 536/1688 [00:08<00:16, 68.54it/s]"
          ]
        },
        {
          "output_type": "stream",
          "name": "stdout",
          "text": [
            "Training acc over epoch: 0.8750\n",
            "Training acc over epoch: 0.7812\n",
            "Training acc over epoch: 0.7188\n",
            "Training acc over epoch: 0.7500\n",
            "Training acc over epoch: 0.7500\n",
            "Training acc over epoch: 0.7812\n",
            "Training acc over epoch: 0.8438\n",
            "Training acc over epoch: 0.8125\n",
            "Training acc over epoch: 0.8750\n",
            "Training acc over epoch: 0.8125\n",
            "Training acc over epoch: 0.7812\n",
            "Training acc over epoch: 0.8750\n",
            "Training acc over epoch: 0.8750\n",
            "Training acc over epoch: 0.8750\n",
            "Training acc over epoch: 0.9062\n"
          ]
        },
        {
          "output_type": "stream",
          "name": "stderr",
          "text": [
            " 33%|███▎      | 551/1688 [00:08<00:16, 69.75it/s]"
          ]
        },
        {
          "output_type": "stream",
          "name": "stdout",
          "text": [
            "Training acc over epoch: 0.8750\n",
            "Training acc over epoch: 0.8125\n",
            "Training acc over epoch: 0.8750\n",
            "Training acc over epoch: 0.8750\n",
            "Training acc over epoch: 0.7812\n",
            "Training acc over epoch: 0.8125\n",
            "Training acc over epoch: 0.8438\n",
            "Training acc over epoch: 0.9062\n",
            "Training acc over epoch: 0.7812\n",
            "Training acc over epoch: 0.8125\n",
            "Training acc over epoch: 0.9375\n",
            "Training acc over epoch: 0.7500\n",
            "Training acc over epoch: 0.9062\n",
            "Training acc over epoch: 0.9062\n"
          ]
        },
        {
          "output_type": "stream",
          "name": "stderr",
          "text": [
            " 34%|███▎      | 567/1688 [00:08<00:15, 71.89it/s]"
          ]
        },
        {
          "output_type": "stream",
          "name": "stdout",
          "text": [
            "Training acc over epoch: 0.7188\n",
            "Training acc over epoch: 0.7812\n",
            "Training acc over epoch: 0.8438\n",
            "Training acc over epoch: 0.9375\n",
            "Training acc over epoch: 0.8125\n",
            "Training acc over epoch: 0.8438\n",
            "Training acc over epoch: 0.7812\n",
            "Training acc over epoch: 0.8125\n",
            "Training acc over epoch: 0.8750\n",
            "Training acc over epoch: 0.7812\n",
            "Training acc over epoch: 0.8125\n",
            "Training acc over epoch: 0.8750\n",
            "Training acc over epoch: 0.9062\n",
            "Training acc over epoch: 0.9375\n",
            "Training acc over epoch: 0.9375\n",
            "Training acc over epoch: 0.9688\n"
          ]
        },
        {
          "output_type": "stream",
          "name": "stderr",
          "text": [
            " 35%|███▍      | 583/1688 [00:08<00:15, 73.46it/s]"
          ]
        },
        {
          "output_type": "stream",
          "name": "stdout",
          "text": [
            "Training acc over epoch: 0.8438\n",
            "Training acc over epoch: 0.9375\n",
            "Training acc over epoch: 0.8750\n",
            "Training acc over epoch: 0.8750\n",
            "Training acc over epoch: 0.8750\n",
            "Training acc over epoch: 0.7188\n",
            "Training acc over epoch: 0.8750\n",
            "Training acc over epoch: 0.8438\n",
            "Training acc over epoch: 0.9062\n",
            "Training acc over epoch: 0.9375\n",
            "Training acc over epoch: 0.8125\n",
            "Training acc over epoch: 0.8438\n",
            "Training acc over epoch: 0.8750\n",
            "Training acc over epoch: 0.9062\n",
            "Training acc over epoch: 0.7812\n",
            "Training acc over epoch: 0.9062\n"
          ]
        },
        {
          "output_type": "stream",
          "name": "stderr",
          "text": [
            " 36%|███▌      | 600/1688 [00:08<00:14, 76.65it/s]"
          ]
        },
        {
          "output_type": "stream",
          "name": "stdout",
          "text": [
            "Training acc over epoch: 0.7188\n",
            "Training acc over epoch: 0.9062\n",
            "Training acc over epoch: 0.8750\n",
            "Training acc over epoch: 0.8125\n",
            "Training acc over epoch: 0.8125\n",
            "Training acc over epoch: 0.9062\n",
            "Training acc over epoch: 0.8750\n",
            "Training acc over epoch: 0.8750\n",
            "Training acc over epoch: 0.7188\n",
            "Training acc over epoch: 0.6875\n",
            "Training acc over epoch: 0.8750\n",
            "Training acc over epoch: 0.7812\n",
            "Training acc over epoch: 0.9688\n",
            "Training acc over epoch: 0.9688\n",
            "Training acc over epoch: 0.9062\n",
            "Training acc over epoch: 0.9062\n",
            "Training acc over epoch: 0.9375\n"
          ]
        },
        {
          "output_type": "stream",
          "name": "stderr",
          "text": [
            " 36%|███▋      | 616/1688 [00:09<00:14, 74.94it/s]"
          ]
        },
        {
          "output_type": "stream",
          "name": "stdout",
          "text": [
            "Training acc over epoch: 0.9062\n",
            "Training acc over epoch: 0.8125\n",
            "Training acc over epoch: 0.8750\n",
            "Training acc over epoch: 0.8438\n",
            "Training acc over epoch: 0.9062\n",
            "Training acc over epoch: 0.9375\n",
            "Training acc over epoch: 0.8750\n",
            "Training acc over epoch: 0.9062\n",
            "Training acc over epoch: 0.9062\n",
            "Training acc over epoch: 0.8125\n",
            "Training acc over epoch: 0.9375\n",
            "Training acc over epoch: 0.7812\n",
            "Training acc over epoch: 0.8750\n",
            "Training acc over epoch: 0.7812\n",
            "Training acc over epoch: 0.8750\n",
            "Training acc over epoch: 0.9375\n"
          ]
        },
        {
          "output_type": "stream",
          "name": "stderr",
          "text": [
            "\r 37%|███▋      | 624/1688 [00:09<00:14, 72.59it/s]"
          ]
        },
        {
          "output_type": "stream",
          "name": "stdout",
          "text": [
            "Training acc over epoch: 0.6562\n",
            "Training acc over epoch: 0.8750\n",
            "Training acc over epoch: 0.9062\n",
            "Training acc over epoch: 0.9062\n",
            "Training acc over epoch: 0.9375\n",
            "Training acc over epoch: 0.8438\n",
            "Training acc over epoch: 0.6250\n",
            "Training acc over epoch: 0.8750\n",
            "Training acc over epoch: 0.9062\n",
            "Training acc over epoch: 0.8750\n",
            "Training acc over epoch: 0.7812\n",
            "Training acc over epoch: 0.8750\n",
            "Training acc over epoch: 0.7812\n",
            "Training acc over epoch: 0.7812\n",
            "Training acc over epoch: 0.9375\n"
          ]
        },
        {
          "output_type": "stream",
          "name": "stderr",
          "text": [
            " 38%|███▊      | 640/1688 [00:09<00:14, 71.36it/s]"
          ]
        },
        {
          "output_type": "stream",
          "name": "stdout",
          "text": [
            "Training acc over epoch: 0.9375\n",
            "Training acc over epoch: 0.8125\n",
            "Training acc over epoch: 0.8438\n",
            "Training acc over epoch: 0.7500\n",
            "Training acc over epoch: 0.8750\n",
            "Training acc over epoch: 0.9375\n",
            "Training acc over epoch: 0.9062\n",
            "Training acc over epoch: 0.8125\n",
            "Training acc over epoch: 0.8750\n",
            "Training acc over epoch: 0.9062\n",
            "Training acc over epoch: 0.8438\n",
            "Training acc over epoch: 0.8750\n",
            "Training acc over epoch: 0.9062\n",
            "Training acc over epoch: 0.8750\n"
          ]
        },
        {
          "output_type": "stream",
          "name": "stderr",
          "text": [
            " 39%|███▉      | 656/1688 [00:09<00:14, 69.72it/s]"
          ]
        },
        {
          "output_type": "stream",
          "name": "stdout",
          "text": [
            "Training acc over epoch: 0.9688\n",
            "Training acc over epoch: 0.8438\n",
            "Training acc over epoch: 0.9688\n",
            "Training acc over epoch: 0.8438\n",
            "Training acc over epoch: 0.9062\n",
            "Training acc over epoch: 0.8438\n",
            "Training acc over epoch: 0.8438\n",
            "Training acc over epoch: 0.8750\n",
            "Training acc over epoch: 0.7812\n",
            "Training acc over epoch: 0.9062\n",
            "Training acc over epoch: 0.9062\n",
            "Training acc over epoch: 0.8125\n",
            "Training acc over epoch: 0.8438\n",
            "Training acc over epoch: 0.9375\n",
            "Training acc over epoch: 0.9062\n"
          ]
        },
        {
          "output_type": "stream",
          "name": "stderr",
          "text": [
            " 40%|███▉      | 671/1688 [00:09<00:14, 70.45it/s]"
          ]
        },
        {
          "output_type": "stream",
          "name": "stdout",
          "text": [
            "Training acc over epoch: 0.8125\n",
            "Training acc over epoch: 0.9062\n",
            "Training acc over epoch: 0.9062\n",
            "Training acc over epoch: 0.9375\n",
            "Training acc over epoch: 0.9688\n",
            "Training acc over epoch: 0.9062\n",
            "Training acc over epoch: 0.9062\n",
            "Training acc over epoch: 0.8750\n",
            "Training acc over epoch: 0.8750\n",
            "Training acc over epoch: 0.8438\n",
            "Training acc over epoch: 0.8750\n",
            "Training acc over epoch: 0.8750\n",
            "Training acc over epoch: 0.9062\n",
            "Training acc over epoch: 0.8438\n",
            "Training acc over epoch: 0.7188\n"
          ]
        },
        {
          "output_type": "stream",
          "name": "stderr",
          "text": [
            " 41%|████      | 687/1688 [00:10<00:14, 69.85it/s]"
          ]
        },
        {
          "output_type": "stream",
          "name": "stdout",
          "text": [
            "Training acc over epoch: 0.8438\n",
            "Training acc over epoch: 0.8125\n",
            "Training acc over epoch: 0.9375\n",
            "Training acc over epoch: 0.9062\n",
            "Training acc over epoch: 0.9688\n",
            "Training acc over epoch: 0.9062\n",
            "Training acc over epoch: 0.9062\n",
            "Training acc over epoch: 0.8125\n",
            "Training acc over epoch: 0.8438\n",
            "Training acc over epoch: 0.8750\n",
            "Training acc over epoch: 0.8125\n",
            "Training acc over epoch: 0.9062\n",
            "Training acc over epoch: 0.8750\n",
            "Training acc over epoch: 0.8125\n"
          ]
        },
        {
          "output_type": "stream",
          "name": "stderr",
          "text": [
            " 42%|████▏     | 703/1688 [00:10<00:14, 70.12it/s]"
          ]
        },
        {
          "output_type": "stream",
          "name": "stdout",
          "text": [
            "Training acc over epoch: 1.0000\n",
            "Training acc over epoch: 0.9062\n",
            "Training acc over epoch: 0.9375\n",
            "Training acc over epoch: 0.8438\n",
            "Training acc over epoch: 0.8438\n",
            "Training acc over epoch: 0.9688\n",
            "Training acc over epoch: 0.7812\n",
            "Training acc over epoch: 0.8125\n",
            "Training acc over epoch: 0.8125\n",
            "Training acc over epoch: 0.8438\n",
            "Training acc over epoch: 0.8750\n",
            "Training acc over epoch: 0.8438\n",
            "Training acc over epoch: 0.8750\n",
            "Training acc over epoch: 0.8438\n",
            "Training acc over epoch: 0.9688\n"
          ]
        },
        {
          "output_type": "stream",
          "name": "stderr",
          "text": [
            " 43%|████▎     | 719/1688 [00:10<00:14, 68.43it/s]"
          ]
        },
        {
          "output_type": "stream",
          "name": "stdout",
          "text": [
            "Training acc over epoch: 0.9062\n",
            "Training acc over epoch: 0.9062\n",
            "Training acc over epoch: 0.8125\n",
            "Training acc over epoch: 0.9062\n",
            "Training acc over epoch: 0.9062\n",
            "Training acc over epoch: 0.7812\n",
            "Training acc over epoch: 0.8125\n",
            "Training acc over epoch: 0.9375\n",
            "Training acc over epoch: 0.9375\n",
            "Training acc over epoch: 0.8750\n",
            "Training acc over epoch: 0.8438\n",
            "Training acc over epoch: 0.6562\n",
            "Training acc over epoch: 0.8438\n",
            "Training acc over epoch: 0.9375\n",
            "Training acc over epoch: 0.8438\n"
          ]
        },
        {
          "output_type": "stream",
          "name": "stderr",
          "text": [
            " 44%|████▎     | 735/1688 [00:10<00:13, 70.86it/s]"
          ]
        },
        {
          "output_type": "stream",
          "name": "stdout",
          "text": [
            "Training acc over epoch: 0.8125\n",
            "Training acc over epoch: 0.8438\n",
            "Training acc over epoch: 0.9688\n",
            "Training acc over epoch: 0.8750\n",
            "Training acc over epoch: 0.8125\n",
            "Training acc over epoch: 0.9062\n",
            "Training acc over epoch: 1.0000\n",
            "Training acc over epoch: 0.9375\n",
            "Training acc over epoch: 0.8438\n",
            "Training acc over epoch: 0.8438\n",
            "Training acc over epoch: 0.9375\n",
            "Training acc over epoch: 0.8125\n",
            "Training acc over epoch: 0.8438\n",
            "Training acc over epoch: 0.8750\n",
            "Training acc over epoch: 0.8750\n",
            "Training acc over epoch: 0.9062\n"
          ]
        },
        {
          "output_type": "stream",
          "name": "stderr",
          "text": [
            " 44%|████▍     | 751/1688 [00:11<00:13, 72.01it/s]"
          ]
        },
        {
          "output_type": "stream",
          "name": "stdout",
          "text": [
            "Training acc over epoch: 0.8438\n",
            "Training acc over epoch: 0.8750\n",
            "Training acc over epoch: 0.8438\n",
            "Training acc over epoch: 0.8438\n",
            "Training acc over epoch: 0.8750\n",
            "Training acc over epoch: 0.6875\n",
            "Training acc over epoch: 0.8125\n",
            "Training acc over epoch: 0.6875\n",
            "Training acc over epoch: 0.8750\n",
            "Training acc over epoch: 0.9375\n",
            "Training acc over epoch: 0.8438\n",
            "Training acc over epoch: 0.7812\n",
            "Training acc over epoch: 0.7188\n",
            "Training acc over epoch: 0.8125\n",
            "Training acc over epoch: 0.7812\n",
            "Training acc over epoch: 0.7812\n"
          ]
        },
        {
          "output_type": "stream",
          "name": "stderr",
          "text": [
            "\r 45%|████▍     | 759/1688 [00:11<00:12, 72.73it/s]"
          ]
        },
        {
          "output_type": "stream",
          "name": "stdout",
          "text": [
            "Training acc over epoch: 0.9062\n",
            "Training acc over epoch: 0.8438\n",
            "Training acc over epoch: 0.8750\n",
            "Training acc over epoch: 0.9062\n",
            "Training acc over epoch: 0.8750\n",
            "Training acc over epoch: 0.8750\n",
            "Training acc over epoch: 0.8125\n",
            "Training acc over epoch: 0.8438\n",
            "Training acc over epoch: 0.9062\n",
            "Training acc over epoch: 0.8438\n",
            "Training acc over epoch: 0.8438\n",
            "Training acc over epoch: 0.8125\n",
            "Training acc over epoch: 0.8438\n",
            "Training acc over epoch: 0.8750\n",
            "Training acc over epoch: 0.8438\n"
          ]
        },
        {
          "output_type": "stream",
          "name": "stderr",
          "text": [
            " 46%|████▌     | 775/1688 [00:11<00:12, 71.62it/s]"
          ]
        },
        {
          "output_type": "stream",
          "name": "stdout",
          "text": [
            "Training acc over epoch: 0.8125\n",
            "Training acc over epoch: 0.8750\n",
            "Training acc over epoch: 0.9062\n",
            "Training acc over epoch: 0.9062\n",
            "Training acc over epoch: 0.9062\n",
            "Training acc over epoch: 0.7812\n",
            "Training acc over epoch: 0.8125\n",
            "Training acc over epoch: 0.8750\n",
            "Training acc over epoch: 0.8438\n",
            "Training acc over epoch: 0.8750\n",
            "Training acc over epoch: 0.9062\n",
            "Training acc over epoch: 0.9062\n",
            "Training acc over epoch: 0.9062\n",
            "Training acc over epoch: 0.8438\n",
            "Training acc over epoch: 0.8125\n",
            "Training acc over epoch: 0.7812\n"
          ]
        },
        {
          "output_type": "stream",
          "name": "stderr",
          "text": [
            " 47%|████▋     | 791/1688 [00:11<00:12, 70.37it/s]"
          ]
        },
        {
          "output_type": "stream",
          "name": "stdout",
          "text": [
            "Training acc over epoch: 0.8750\n",
            "Training acc over epoch: 0.8438\n",
            "Training acc over epoch: 0.8750\n",
            "Training acc over epoch: 0.9062\n",
            "Training acc over epoch: 0.8125\n",
            "Training acc over epoch: 0.9062\n",
            "Training acc over epoch: 0.9688\n",
            "Training acc over epoch: 0.9375\n",
            "Training acc over epoch: 0.8750\n",
            "Training acc over epoch: 0.8750\n",
            "Training acc over epoch: 0.9062\n",
            "Training acc over epoch: 0.8438\n",
            "Training acc over epoch: 0.9688\n",
            "Training acc over epoch: 0.8750\n"
          ]
        },
        {
          "output_type": "stream",
          "name": "stderr",
          "text": [
            " 48%|████▊     | 807/1688 [00:11<00:12, 69.54it/s]"
          ]
        },
        {
          "output_type": "stream",
          "name": "stdout",
          "text": [
            "Training acc over epoch: 0.8125\n",
            "Training acc over epoch: 0.8438\n",
            "Training acc over epoch: 0.8125\n",
            "Training acc over epoch: 0.9062\n",
            "Training acc over epoch: 0.8438\n",
            "Training acc over epoch: 0.9375\n",
            "Training acc over epoch: 0.9688\n",
            "Training acc over epoch: 0.8438\n",
            "Training acc over epoch: 0.9062\n",
            "Training acc over epoch: 0.8125\n",
            "Training acc over epoch: 0.7500\n",
            "Training acc over epoch: 0.8750\n",
            "Training acc over epoch: 0.8125\n",
            "Training acc over epoch: 0.7188\n",
            "Training acc over epoch: 0.7812\n"
          ]
        },
        {
          "output_type": "stream",
          "name": "stderr",
          "text": [
            " 49%|████▉     | 823/1688 [00:12<00:12, 68.69it/s]"
          ]
        },
        {
          "output_type": "stream",
          "name": "stdout",
          "text": [
            "Training acc over epoch: 0.9062\n",
            "Training acc over epoch: 0.7812\n",
            "Training acc over epoch: 0.7812\n",
            "Training acc over epoch: 0.8125\n",
            "Training acc over epoch: 0.9062\n",
            "Training acc over epoch: 0.9375\n",
            "Training acc over epoch: 0.8750\n",
            "Training acc over epoch: 0.7812\n",
            "Training acc over epoch: 0.8750\n",
            "Training acc over epoch: 0.7500\n",
            "Training acc over epoch: 0.9062\n",
            "Training acc over epoch: 0.9062\n",
            "Training acc over epoch: 0.9062\n",
            "Training acc over epoch: 0.9062\n"
          ]
        },
        {
          "output_type": "stream",
          "name": "stderr",
          "text": [
            " 50%|████▉     | 837/1688 [00:12<00:12, 67.42it/s]"
          ]
        },
        {
          "output_type": "stream",
          "name": "stdout",
          "text": [
            "Training acc over epoch: 0.6875\n",
            "Training acc over epoch: 0.9375\n",
            "Training acc over epoch: 0.8125\n",
            "Training acc over epoch: 0.8125\n",
            "Training acc over epoch: 0.6875\n",
            "Training acc over epoch: 0.9688\n",
            "Training acc over epoch: 0.8125\n",
            "Training acc over epoch: 0.6562\n",
            "Training acc over epoch: 0.9062\n",
            "Training acc over epoch: 0.8750\n",
            "Training acc over epoch: 0.7188\n",
            "Training acc over epoch: 0.7188\n",
            "Training acc over epoch: 0.7812\n",
            "Training acc over epoch: 0.8125\n",
            "Training acc over epoch: 0.8125\n"
          ]
        },
        {
          "output_type": "stream",
          "name": "stderr",
          "text": [
            " 50%|█████     | 851/1688 [00:12<00:12, 67.98it/s]"
          ]
        },
        {
          "output_type": "stream",
          "name": "stdout",
          "text": [
            "Training acc over epoch: 0.7812\n",
            "Training acc over epoch: 0.8125\n",
            "Training acc over epoch: 0.9688\n",
            "Training acc over epoch: 0.7812\n",
            "Training acc over epoch: 0.7188\n",
            "Training acc over epoch: 0.8438\n",
            "Training acc over epoch: 0.9375\n",
            "Training acc over epoch: 0.9375\n",
            "Training acc over epoch: 0.8438\n",
            "Training acc over epoch: 0.8750\n",
            "Training acc over epoch: 0.9062\n",
            "Training acc over epoch: 0.8438\n",
            "Training acc over epoch: 0.8438\n",
            "Training acc over epoch: 0.8438\n"
          ]
        },
        {
          "output_type": "stream",
          "name": "stderr",
          "text": [
            " 51%|█████     | 865/1688 [00:12<00:12, 66.76it/s]"
          ]
        },
        {
          "output_type": "stream",
          "name": "stdout",
          "text": [
            "Training acc over epoch: 0.8438\n",
            "Training acc over epoch: 0.9062\n",
            "Training acc over epoch: 0.9375\n",
            "Training acc over epoch: 0.9375\n",
            "Training acc over epoch: 0.7500\n",
            "Training acc over epoch: 0.9062\n",
            "Training acc over epoch: 0.7500\n",
            "Training acc over epoch: 0.8438\n",
            "Training acc over epoch: 0.8750\n",
            "Training acc over epoch: 0.7812\n",
            "Training acc over epoch: 0.8750\n",
            "Training acc over epoch: 0.8438\n",
            "Training acc over epoch: 0.9062\n",
            "Training acc over epoch: 0.8750\n"
          ]
        },
        {
          "output_type": "stream",
          "name": "stderr",
          "text": [
            " 52%|█████▏    | 881/1688 [00:13<00:11, 72.09it/s]"
          ]
        },
        {
          "output_type": "stream",
          "name": "stdout",
          "text": [
            "Training acc over epoch: 0.8750\n",
            "Training acc over epoch: 0.9062\n",
            "Training acc over epoch: 0.8750\n",
            "Training acc over epoch: 0.9375\n",
            "Training acc over epoch: 0.8125\n",
            "Training acc over epoch: 0.8125\n",
            "Training acc over epoch: 0.7500\n",
            "Training acc over epoch: 0.8438\n",
            "Training acc over epoch: 0.8750\n",
            "Training acc over epoch: 0.8750\n",
            "Training acc over epoch: 0.8750\n",
            "Training acc over epoch: 0.8438\n",
            "Training acc over epoch: 0.9375\n",
            "Training acc over epoch: 0.8125\n",
            "Training acc over epoch: 0.8125\n",
            "Training acc over epoch: 0.8750\n"
          ]
        },
        {
          "output_type": "stream",
          "name": "stderr",
          "text": [
            " 53%|█████▎    | 897/1688 [00:13<00:10, 72.00it/s]"
          ]
        },
        {
          "output_type": "stream",
          "name": "stdout",
          "text": [
            "Training acc over epoch: 0.8125\n",
            "Training acc over epoch: 0.9375\n",
            "Training acc over epoch: 0.7500\n",
            "Training acc over epoch: 0.8750\n",
            "Training acc over epoch: 1.0000\n",
            "Training acc over epoch: 0.8125\n",
            "Training acc over epoch: 0.9062\n",
            "Training acc over epoch: 0.9062\n",
            "Training acc over epoch: 0.8438\n",
            "Training acc over epoch: 0.8750\n",
            "Training acc over epoch: 0.8750\n",
            "Training acc over epoch: 0.8125\n",
            "Training acc over epoch: 0.8750\n",
            "Training acc over epoch: 0.8750\n",
            "Training acc over epoch: 0.8750\n",
            "Training acc over epoch: 0.8750\n"
          ]
        },
        {
          "output_type": "stream",
          "name": "stderr",
          "text": [
            " 54%|█████▍    | 913/1688 [00:13<00:10, 71.03it/s]"
          ]
        },
        {
          "output_type": "stream",
          "name": "stdout",
          "text": [
            "Training acc over epoch: 0.6875\n",
            "Training acc over epoch: 0.9062\n",
            "Training acc over epoch: 0.9375\n",
            "Training acc over epoch: 0.7812\n",
            "Training acc over epoch: 0.9062\n",
            "Training acc over epoch: 0.8125\n",
            "Training acc over epoch: 0.7812\n",
            "Training acc over epoch: 0.7812\n",
            "Training acc over epoch: 0.8125\n",
            "Training acc over epoch: 0.9375\n",
            "Training acc over epoch: 0.9375\n",
            "Training acc over epoch: 0.7812\n",
            "Training acc over epoch: 0.8438\n",
            "Training acc over epoch: 0.8438\n",
            "Training acc over epoch: 0.8750\n"
          ]
        },
        {
          "output_type": "stream",
          "name": "stderr",
          "text": [
            " 55%|█████▌    | 929/1688 [00:13<00:10, 71.59it/s]"
          ]
        },
        {
          "output_type": "stream",
          "name": "stdout",
          "text": [
            "Training acc over epoch: 0.9062\n",
            "Training acc over epoch: 0.9062\n",
            "Training acc over epoch: 0.8750\n",
            "Training acc over epoch: 0.8750\n",
            "Training acc over epoch: 0.8438\n",
            "Training acc over epoch: 0.8750\n",
            "Training acc over epoch: 0.9688\n",
            "Training acc over epoch: 0.9688\n",
            "Training acc over epoch: 0.7500\n",
            "Training acc over epoch: 0.9062\n",
            "Training acc over epoch: 0.8750\n",
            "Training acc over epoch: 0.8438\n",
            "Training acc over epoch: 0.8438\n",
            "Training acc over epoch: 0.8438\n",
            "Training acc over epoch: 0.9375\n"
          ]
        },
        {
          "output_type": "stream",
          "name": "stderr",
          "text": [
            " 56%|█████▌    | 945/1688 [00:13<00:10, 73.40it/s]"
          ]
        },
        {
          "output_type": "stream",
          "name": "stdout",
          "text": [
            "Training acc over epoch: 0.9375\n",
            "Training acc over epoch: 0.8125\n",
            "Training acc over epoch: 0.8750\n",
            "Training acc over epoch: 0.8750\n",
            "Training acc over epoch: 0.8438\n",
            "Training acc over epoch: 0.7500\n",
            "Training acc over epoch: 0.9062\n",
            "Training acc over epoch: 0.8438\n",
            "Training acc over epoch: 0.8750\n",
            "Training acc over epoch: 0.8438\n",
            "Training acc over epoch: 0.8125\n",
            "Training acc over epoch: 0.9375\n",
            "Training acc over epoch: 0.8750\n",
            "Training acc over epoch: 0.8438\n",
            "Training acc over epoch: 0.9375\n",
            "Training acc over epoch: 0.7500\n"
          ]
        },
        {
          "output_type": "stream",
          "name": "stderr",
          "text": [
            " 57%|█████▋    | 961/1688 [00:14<00:09, 74.42it/s]"
          ]
        },
        {
          "output_type": "stream",
          "name": "stdout",
          "text": [
            "Training acc over epoch: 0.9375\n",
            "Training acc over epoch: 0.8438\n",
            "Training acc over epoch: 0.9688\n",
            "Training acc over epoch: 0.6875\n",
            "Training acc over epoch: 0.7500\n",
            "Training acc over epoch: 0.8750\n",
            "Training acc over epoch: 0.9062\n",
            "Training acc over epoch: 0.8438\n",
            "Training acc over epoch: 0.8125\n",
            "Training acc over epoch: 0.9062\n",
            "Training acc over epoch: 0.8125\n",
            "Training acc over epoch: 0.8438\n",
            "Training acc over epoch: 0.8125\n",
            "Training acc over epoch: 0.9062\n",
            "Training acc over epoch: 0.9062\n"
          ]
        },
        {
          "output_type": "stream",
          "name": "stderr",
          "text": [
            "\r 57%|█████▋    | 969/1688 [00:14<00:10, 66.35it/s]"
          ]
        },
        {
          "output_type": "stream",
          "name": "stdout",
          "text": [
            "Training acc over epoch: 0.9062\n",
            "Training acc over epoch: 0.8438\n",
            "Training acc over epoch: 0.8438\n",
            "Training acc over epoch: 0.9375\n",
            "Training acc over epoch: 0.7812\n",
            "Training acc over epoch: 0.8125\n",
            "Training acc over epoch: 0.6875\n",
            "Training acc over epoch: 0.8125\n",
            "Training acc over epoch: 0.9375\n",
            "Training acc over epoch: 0.7500\n",
            "Training acc over epoch: 0.9062\n",
            "Training acc over epoch: 0.8438\n",
            "Training acc over epoch: 0.8750\n",
            "Training acc over epoch: 0.8750\n",
            "Training acc over epoch: 0.9062\n"
          ]
        },
        {
          "output_type": "stream",
          "name": "stderr",
          "text": [
            " 58%|█████▊    | 984/1688 [00:14<00:10, 67.09it/s]"
          ]
        },
        {
          "output_type": "stream",
          "name": "stdout",
          "text": [
            "Training acc over epoch: 0.9375\n",
            "Training acc over epoch: 0.9688\n",
            "Training acc over epoch: 0.8125\n",
            "Training acc over epoch: 0.8750\n",
            "Training acc over epoch: 0.8125\n",
            "Training acc over epoch: 0.9062\n",
            "Training acc over epoch: 0.8125\n",
            "Training acc over epoch: 0.9062\n",
            "Training acc over epoch: 0.9375\n",
            "Training acc over epoch: 0.8438\n",
            "Training acc over epoch: 0.8125\n",
            "Training acc over epoch: 0.8438\n",
            "Training acc over epoch: 0.8125\n",
            "Training acc over epoch: 0.8438"
          ]
        },
        {
          "output_type": "stream",
          "name": "stderr",
          "text": [
            " 59%|█████▉    | 998/1688 [00:14<00:10, 65.87it/s]"
          ]
        },
        {
          "output_type": "stream",
          "name": "stdout",
          "text": [
            "\n",
            "Training acc over epoch: 0.8750\n",
            "Training acc over epoch: 0.9062\n",
            "Training acc over epoch: 0.8750\n",
            "Training acc over epoch: 0.8125\n",
            "Training acc over epoch: 0.9062\n",
            "Training acc over epoch: 0.8750\n",
            "Training acc over epoch: 0.9375\n",
            "Training acc over epoch: 0.9062\n",
            "Training acc over epoch: 0.8438\n",
            "Training acc over epoch: 0.8438\n",
            "Training acc over epoch: 0.7812\n",
            "Training acc over epoch: 0.8750\n",
            "Training acc over epoch: 0.8438\n"
          ]
        },
        {
          "output_type": "stream",
          "name": "stderr",
          "text": [
            " 60%|█████▉    | 1012/1688 [00:14<00:10, 65.63it/s]"
          ]
        },
        {
          "output_type": "stream",
          "name": "stdout",
          "text": [
            "Training acc over epoch: 0.8438\n",
            "Training acc over epoch: 0.8438\n",
            "Training acc over epoch: 0.8750\n",
            "Training acc over epoch: 0.8438\n",
            "Training acc over epoch: 0.8750\n",
            "Training acc over epoch: 0.9062\n",
            "Training acc over epoch: 0.8750\n",
            "Training acc over epoch: 0.9062\n",
            "Training acc over epoch: 0.8750\n",
            "Training acc over epoch: 0.9062\n",
            "Training acc over epoch: 0.8125\n",
            "Training acc over epoch: 0.8125\n",
            "Training acc over epoch: 0.9062\n",
            "Training acc over epoch: 0.8750\n",
            "Training acc over epoch: 0.8125\n"
          ]
        },
        {
          "output_type": "stream",
          "name": "stderr",
          "text": [
            " 61%|██████    | 1027/1688 [00:15<00:09, 67.74it/s]"
          ]
        },
        {
          "output_type": "stream",
          "name": "stdout",
          "text": [
            "Training acc over epoch: 0.9062\n",
            "Training acc over epoch: 0.8750\n",
            "Training acc over epoch: 0.9062\n",
            "Training acc over epoch: 0.8438\n",
            "Training acc over epoch: 0.7812\n",
            "Training acc over epoch: 0.9062\n",
            "Training acc over epoch: 1.0000\n",
            "Training acc over epoch: 0.8438\n",
            "Training acc over epoch: 0.8438\n",
            "Training acc over epoch: 0.9375\n",
            "Training acc over epoch: 0.8750\n",
            "Training acc over epoch: 0.7500\n",
            "Training acc over epoch: 1.0000\n",
            "Training acc over epoch: 0.8750\n"
          ]
        },
        {
          "output_type": "stream",
          "name": "stderr",
          "text": [
            " 62%|██████▏   | 1042/1688 [00:15<00:09, 68.42it/s]"
          ]
        },
        {
          "output_type": "stream",
          "name": "stdout",
          "text": [
            "Training acc over epoch: 0.8438\n",
            "Training acc over epoch: 0.8438\n",
            "Training acc over epoch: 0.8750\n",
            "Training acc over epoch: 0.9062\n",
            "Training acc over epoch: 0.8750\n",
            "Training acc over epoch: 0.7500\n",
            "Training acc over epoch: 0.9062\n",
            "Training acc over epoch: 0.8438\n",
            "Training acc over epoch: 0.8750\n",
            "Training acc over epoch: 1.0000\n",
            "Training acc over epoch: 0.8750\n",
            "Training acc over epoch: 0.8125\n",
            "Training acc over epoch: 0.9062\n",
            "Training acc over epoch: 0.8125\n",
            "Training acc over epoch: 0.9688\n"
          ]
        },
        {
          "output_type": "stream",
          "name": "stderr",
          "text": [
            " 63%|██████▎   | 1057/1688 [00:15<00:09, 68.57it/s]"
          ]
        },
        {
          "output_type": "stream",
          "name": "stdout",
          "text": [
            "Training acc over epoch: 0.9062\n",
            "Training acc over epoch: 0.8750\n",
            "Training acc over epoch: 0.8750\n",
            "Training acc over epoch: 0.7500\n",
            "Training acc over epoch: 0.9375\n",
            "Training acc over epoch: 0.8750\n",
            "Training acc over epoch: 0.9062\n",
            "Training acc over epoch: 0.9375\n",
            "Training acc over epoch: 0.7812\n",
            "Training acc over epoch: 0.9375\n",
            "Training acc over epoch: 0.8750\n",
            "Training acc over epoch: 0.8750\n",
            "Training acc over epoch: 0.8438\n",
            "Training acc over epoch: 0.9375\n",
            "Training acc over epoch: 0.9062\n"
          ]
        },
        {
          "output_type": "stream",
          "name": "stderr",
          "text": [
            " 64%|██████▎   | 1072/1688 [00:15<00:08, 70.01it/s]"
          ]
        },
        {
          "output_type": "stream",
          "name": "stdout",
          "text": [
            "Training acc over epoch: 0.8125\n",
            "Training acc over epoch: 0.8750\n",
            "Training acc over epoch: 0.8750\n",
            "Training acc over epoch: 0.8438\n",
            "Training acc over epoch: 0.7812\n",
            "Training acc over epoch: 0.9062\n",
            "Training acc over epoch: 0.8125\n",
            "Training acc over epoch: 0.9062\n",
            "Training acc over epoch: 0.7188\n",
            "Training acc over epoch: 0.7500\n",
            "Training acc over epoch: 0.8750\n",
            "Training acc over epoch: 0.8438\n",
            "Training acc over epoch: 0.8750\n",
            "Training acc over epoch: 0.7812\n",
            "Training acc over epoch: 0.8750\n"
          ]
        },
        {
          "output_type": "stream",
          "name": "stderr",
          "text": [
            " 64%|██████▍   | 1088/1688 [00:15<00:08, 72.84it/s]"
          ]
        },
        {
          "output_type": "stream",
          "name": "stdout",
          "text": [
            "Training acc over epoch: 0.8750\n",
            "Training acc over epoch: 0.8750\n",
            "Training acc over epoch: 1.0000\n",
            "Training acc over epoch: 0.8438\n",
            "Training acc over epoch: 0.9062\n",
            "Training acc over epoch: 0.9062\n",
            "Training acc over epoch: 0.9375\n",
            "Training acc over epoch: 0.8125\n",
            "Training acc over epoch: 0.8750\n",
            "Training acc over epoch: 0.8750\n",
            "Training acc over epoch: 0.9062\n",
            "Training acc over epoch: 0.9062\n",
            "Training acc over epoch: 0.8438\n",
            "Training acc over epoch: 0.9062\n",
            "Training acc over epoch: 0.9062\n"
          ]
        },
        {
          "output_type": "stream",
          "name": "stderr",
          "text": [
            " 65%|██████▌   | 1103/1688 [00:16<00:08, 66.32it/s]"
          ]
        },
        {
          "output_type": "stream",
          "name": "stdout",
          "text": [
            "Training acc over epoch: 0.7812\n",
            "Training acc over epoch: 0.8750\n",
            "Training acc over epoch: 0.9062\n",
            "Training acc over epoch: 0.9062\n",
            "Training acc over epoch: 0.8125\n",
            "Training acc over epoch: 0.9375\n",
            "Training acc over epoch: 0.9062\n",
            "Training acc over epoch: 0.8750\n",
            "Training acc over epoch: 0.9062\n",
            "Training acc over epoch: 0.8750\n",
            "Training acc over epoch: 0.9062\n",
            "Training acc over epoch: 0.9062\n"
          ]
        },
        {
          "output_type": "stream",
          "name": "stderr",
          "text": [
            " 66%|██████▌   | 1118/1688 [00:16<00:08, 68.41it/s]"
          ]
        },
        {
          "output_type": "stream",
          "name": "stdout",
          "text": [
            "Training acc over epoch: 0.9062\n",
            "Training acc over epoch: 0.8438\n",
            "Training acc over epoch: 0.8125\n",
            "Training acc over epoch: 0.9062\n",
            "Training acc over epoch: 0.9062\n",
            "Training acc over epoch: 0.8750\n",
            "Training acc over epoch: 0.9375\n",
            "Training acc over epoch: 0.9062\n",
            "Training acc over epoch: 0.8750\n",
            "Training acc over epoch: 0.9062\n",
            "Training acc over epoch: 0.7812\n",
            "Training acc over epoch: 0.9375\n",
            "Training acc over epoch: 0.9062\n",
            "Training acc over epoch: 0.9062\n"
          ]
        },
        {
          "output_type": "stream",
          "name": "stderr",
          "text": [
            " 67%|██████▋   | 1132/1688 [00:16<00:08, 66.93it/s]"
          ]
        },
        {
          "output_type": "stream",
          "name": "stdout",
          "text": [
            "Training acc over epoch: 0.9688\n",
            "Training acc over epoch: 0.9062\n",
            "Training acc over epoch: 0.8438\n",
            "Training acc over epoch: 0.9688\n",
            "Training acc over epoch: 0.8750\n",
            "Training acc over epoch: 0.9062\n",
            "Training acc over epoch: 0.9062\n",
            "Training acc over epoch: 0.6875\n",
            "Training acc over epoch: 0.8125\n",
            "Training acc over epoch: 0.9062\n",
            "Training acc over epoch: 0.7812\n",
            "Training acc over epoch: 0.8750\n",
            "Training acc over epoch: 0.9062\n",
            "Training acc over epoch: 0.9062\n"
          ]
        },
        {
          "output_type": "stream",
          "name": "stderr",
          "text": [
            " 68%|██████▊   | 1147/1688 [00:16<00:07, 67.92it/s]"
          ]
        },
        {
          "output_type": "stream",
          "name": "stdout",
          "text": [
            "Training acc over epoch: 0.7500\n",
            "Training acc over epoch: 0.9062\n",
            "Training acc over epoch: 0.8438\n",
            "Training acc over epoch: 0.8750\n",
            "Training acc over epoch: 0.7812\n",
            "Training acc over epoch: 0.8438\n",
            "Training acc over epoch: 0.9062\n",
            "Training acc over epoch: 0.9062\n",
            "Training acc over epoch: 0.9375\n",
            "Training acc over epoch: 0.7812\n",
            "Training acc over epoch: 0.9688\n",
            "Training acc over epoch: 0.7500\n",
            "Training acc over epoch: 0.7500\n",
            "Training acc over epoch: 0.7500\n",
            "Training acc over epoch: 0.8750\n"
          ]
        },
        {
          "output_type": "stream",
          "name": "stderr",
          "text": [
            " 69%|██████▉   | 1163/1688 [00:17<00:07, 70.53it/s]"
          ]
        },
        {
          "output_type": "stream",
          "name": "stdout",
          "text": [
            "Training acc over epoch: 0.9062\n",
            "Training acc over epoch: 0.8125\n",
            "Training acc over epoch: 0.7188\n",
            "Training acc over epoch: 0.8750\n",
            "Training acc over epoch: 1.0000\n",
            "Training acc over epoch: 0.8438\n",
            "Training acc over epoch: 0.8125\n",
            "Training acc over epoch: 0.9062\n",
            "Training acc over epoch: 0.8125\n",
            "Training acc over epoch: 0.8750\n",
            "Training acc over epoch: 0.8125\n",
            "Training acc over epoch: 0.8750\n",
            "Training acc over epoch: 0.8750\n",
            "Training acc over epoch: 0.9688\n",
            "Training acc over epoch: 0.7500\n",
            "Training acc over epoch: 0.8750\n"
          ]
        },
        {
          "output_type": "stream",
          "name": "stderr",
          "text": [
            "\r 69%|██████▉   | 1171/1688 [00:17<00:07, 68.76it/s]"
          ]
        },
        {
          "output_type": "stream",
          "name": "stdout",
          "text": [
            "Training acc over epoch: 0.9062\n",
            "Training acc over epoch: 0.9062\n",
            "Training acc over epoch: 0.9062\n",
            "Training acc over epoch: 0.7500\n",
            "Training acc over epoch: 0.8438\n",
            "Training acc over epoch: 0.7812\n",
            "Training acc over epoch: 0.9375\n",
            "Training acc over epoch: 0.9062\n",
            "Training acc over epoch: 0.8125\n",
            "Training acc over epoch: 0.8438\n",
            "Training acc over epoch: 0.8438\n",
            "Training acc over epoch: 0.8750\n",
            "Training acc over epoch: 0.9062\n",
            "Training acc over epoch: 0.8125\n",
            "Training acc over epoch: 0.8750\n"
          ]
        },
        {
          "output_type": "stream",
          "name": "stderr",
          "text": [
            " 70%|███████   | 1186/1688 [00:17<00:07, 67.66it/s]"
          ]
        },
        {
          "output_type": "stream",
          "name": "stdout",
          "text": [
            "Training acc over epoch: 0.7188\n",
            "Training acc over epoch: 0.9375\n",
            "Training acc over epoch: 0.9375\n",
            "Training acc over epoch: 0.9375\n",
            "Training acc over epoch: 0.9375\n",
            "Training acc over epoch: 0.9062\n",
            "Training acc over epoch: 0.8750\n",
            "Training acc over epoch: 0.7812\n",
            "Training acc over epoch: 0.8750\n",
            "Training acc over epoch: 0.8750\n",
            "Training acc over epoch: 0.8125\n",
            "Training acc over epoch: 0.8750\n",
            "Training acc over epoch: 0.9062\n"
          ]
        },
        {
          "output_type": "stream",
          "name": "stderr",
          "text": [
            " 71%|███████   | 1201/1688 [00:17<00:07, 66.57it/s]"
          ]
        },
        {
          "output_type": "stream",
          "name": "stdout",
          "text": [
            "Training acc over epoch: 0.9375\n",
            "Training acc over epoch: 0.8750\n",
            "Training acc over epoch: 0.9375\n",
            "Training acc over epoch: 0.8125\n",
            "Training acc over epoch: 0.8125\n",
            "Training acc over epoch: 0.8750\n",
            "Training acc over epoch: 0.8750\n",
            "Training acc over epoch: 0.8438\n",
            "Training acc over epoch: 0.9375\n",
            "Training acc over epoch: 0.8438\n",
            "Training acc over epoch: 0.9062\n",
            "Training acc over epoch: 0.8750\n",
            "Training acc over epoch: 0.8438\n",
            "Training acc over epoch: 0.7812\n",
            "Training acc over epoch: 0.9062\n"
          ]
        },
        {
          "output_type": "stream",
          "name": "stderr",
          "text": [
            " 72%|███████▏  | 1216/1688 [00:17<00:07, 64.93it/s]"
          ]
        },
        {
          "output_type": "stream",
          "name": "stdout",
          "text": [
            "Training acc over epoch: 0.9062\n",
            "Training acc over epoch: 0.9375\n",
            "Training acc over epoch: 0.9062\n",
            "Training acc over epoch: 0.9375\n",
            "Training acc over epoch: 0.9062\n",
            "Training acc over epoch: 0.8750\n",
            "Training acc over epoch: 0.9688\n",
            "Training acc over epoch: 0.7500\n",
            "Training acc over epoch: 0.8750\n",
            "Training acc over epoch: 0.8438\n",
            "Training acc over epoch: 0.8750\n",
            "Training acc over epoch: 0.8438\n",
            "Training acc over epoch: 0.9062\n",
            "Training acc over epoch: 0.9062"
          ]
        },
        {
          "output_type": "stream",
          "name": "stderr",
          "text": [
            " 73%|███████▎  | 1232/1688 [00:18<00:06, 70.03it/s]"
          ]
        },
        {
          "output_type": "stream",
          "name": "stdout",
          "text": [
            "\n",
            "Training acc over epoch: 0.9062\n",
            "Training acc over epoch: 0.8125\n",
            "Training acc over epoch: 0.9375\n",
            "Training acc over epoch: 0.9375\n",
            "Training acc over epoch: 0.7812\n",
            "Training acc over epoch: 0.8438\n",
            "Training acc over epoch: 0.8750\n",
            "Training acc over epoch: 0.8438\n",
            "Training acc over epoch: 0.8438\n",
            "Training acc over epoch: 0.7812\n",
            "Training acc over epoch: 0.8750\n",
            "Training acc over epoch: 0.8125\n",
            "Training acc over epoch: 0.8750\n",
            "Training acc over epoch: 0.9375\n",
            "Training acc over epoch: 0.7500\n"
          ]
        },
        {
          "output_type": "stream",
          "name": "stderr",
          "text": [
            " 74%|███████▍  | 1248/1688 [00:18<00:06, 72.53it/s]"
          ]
        },
        {
          "output_type": "stream",
          "name": "stdout",
          "text": [
            "Training acc over epoch: 0.8438\n",
            "Training acc over epoch: 0.9688\n",
            "Training acc over epoch: 0.8438\n",
            "Training acc over epoch: 0.9062\n",
            "Training acc over epoch: 0.8750\n",
            "Training acc over epoch: 0.7500\n",
            "Training acc over epoch: 0.8125\n",
            "Training acc over epoch: 0.9062\n",
            "Training acc over epoch: 0.7812\n",
            "Training acc over epoch: 0.8438\n",
            "Training acc over epoch: 0.8750\n",
            "Training acc over epoch: 0.9375\n",
            "Training acc over epoch: 0.9062\n",
            "Training acc over epoch: 0.9062\n",
            "Training acc over epoch: 0.8438\n",
            "Training acc over epoch: 0.9375\n"
          ]
        },
        {
          "output_type": "stream",
          "name": "stderr",
          "text": [
            " 75%|███████▍  | 1264/1688 [00:18<00:05, 74.33it/s]"
          ]
        },
        {
          "output_type": "stream",
          "name": "stdout",
          "text": [
            "Training acc over epoch: 0.9375\n",
            "Training acc over epoch: 0.8438\n",
            "Training acc over epoch: 0.7812\n",
            "Training acc over epoch: 0.9375\n",
            "Training acc over epoch: 0.8438\n",
            "Training acc over epoch: 0.8125\n",
            "Training acc over epoch: 0.9375\n",
            "Training acc over epoch: 0.8750\n",
            "Training acc over epoch: 0.8438\n",
            "Training acc over epoch: 0.7812\n",
            "Training acc over epoch: 0.9062\n",
            "Training acc over epoch: 0.9375\n",
            "Training acc over epoch: 0.9062\n",
            "Training acc over epoch: 0.7812\n",
            "Training acc over epoch: 0.8750\n",
            "Training acc over epoch: 0.7188\n"
          ]
        },
        {
          "output_type": "stream",
          "name": "stderr",
          "text": [
            " 76%|███████▌  | 1280/1688 [00:18<00:05, 72.47it/s]"
          ]
        },
        {
          "output_type": "stream",
          "name": "stdout",
          "text": [
            "Training acc over epoch: 0.9375\n",
            "Training acc over epoch: 0.8750\n",
            "Training acc over epoch: 0.9062\n",
            "Training acc over epoch: 0.8750\n",
            "Training acc over epoch: 0.8125\n",
            "Training acc over epoch: 0.8125\n",
            "Training acc over epoch: 0.8438\n",
            "Training acc over epoch: 0.9375\n",
            "Training acc over epoch: 0.7812\n",
            "Training acc over epoch: 0.9062\n",
            "Training acc over epoch: 0.8750\n",
            "Training acc over epoch: 0.9375\n",
            "Training acc over epoch: 0.8125\n",
            "Training acc over epoch: 0.9062\n",
            "Training acc over epoch: 0.9688\n"
          ]
        },
        {
          "output_type": "stream",
          "name": "stderr",
          "text": [
            " 77%|███████▋  | 1296/1688 [00:19<00:05, 69.00it/s]"
          ]
        },
        {
          "output_type": "stream",
          "name": "stdout",
          "text": [
            "Training acc over epoch: 0.9062\n",
            "Training acc over epoch: 0.8438\n",
            "Training acc over epoch: 0.8750\n",
            "Training acc over epoch: 0.6250\n",
            "Training acc over epoch: 0.7812\n",
            "Training acc over epoch: 0.7812\n",
            "Training acc over epoch: 0.7500\n",
            "Training acc over epoch: 0.8750\n",
            "Training acc over epoch: 0.8125\n",
            "Training acc over epoch: 0.8750\n",
            "Training acc over epoch: 0.8125\n",
            "Training acc over epoch: 0.8750\n",
            "Training acc over epoch: 0.6562\n",
            "Training acc over epoch: 0.8125\n"
          ]
        },
        {
          "output_type": "stream",
          "name": "stderr",
          "text": [
            " 78%|███████▊  | 1310/1688 [00:19<00:05, 65.51it/s]"
          ]
        },
        {
          "output_type": "stream",
          "name": "stdout",
          "text": [
            "Training acc over epoch: 0.8125\n",
            "Training acc over epoch: 0.8438\n",
            "Training acc over epoch: 0.9062\n",
            "Training acc over epoch: 0.8438\n",
            "Training acc over epoch: 0.9688\n",
            "Training acc over epoch: 0.8750\n",
            "Training acc over epoch: 0.8750\n",
            "Training acc over epoch: 0.8750\n",
            "Training acc over epoch: 0.9062\n",
            "Training acc over epoch: 0.8750\n",
            "Training acc over epoch: 0.8125\n",
            "Training acc over epoch: 0.7812\n",
            "Training acc over epoch: 0.9062\n",
            "Training acc over epoch: 0.9688\n"
          ]
        },
        {
          "output_type": "stream",
          "name": "stderr",
          "text": [
            " 78%|███████▊  | 1325/1688 [00:19<00:05, 68.42it/s]"
          ]
        },
        {
          "output_type": "stream",
          "name": "stdout",
          "text": [
            "Training acc over epoch: 0.9062\n",
            "Training acc over epoch: 0.8438\n",
            "Training acc over epoch: 0.8750\n",
            "Training acc over epoch: 0.9062\n",
            "Training acc over epoch: 0.9062\n",
            "Training acc over epoch: 0.8438\n",
            "Training acc over epoch: 0.8750\n",
            "Training acc over epoch: 0.8125\n",
            "Training acc over epoch: 0.9375\n",
            "Training acc over epoch: 0.7812\n",
            "Training acc over epoch: 0.8750\n",
            "Training acc over epoch: 0.8750\n",
            "Training acc over epoch: 0.8438\n",
            "Training acc over epoch: 0.9375\n",
            "Training acc over epoch: 0.8750\n"
          ]
        },
        {
          "output_type": "stream",
          "name": "stderr",
          "text": [
            "\r 79%|███████▉  | 1332/1688 [00:19<00:05, 65.39it/s]"
          ]
        },
        {
          "output_type": "stream",
          "name": "stdout",
          "text": [
            "Training acc over epoch: 0.8438\n",
            "Training acc over epoch: 0.8125\n",
            "Training acc over epoch: 0.7188\n",
            "Training acc over epoch: 0.9375\n",
            "Training acc over epoch: 0.9062\n",
            "Training acc over epoch: 0.8750\n",
            "Training acc over epoch: 0.9062\n",
            "Training acc over epoch: 0.8438\n",
            "Training acc over epoch: 0.8125\n",
            "Training acc over epoch: 0.8750\n",
            "Training acc over epoch: 0.9375\n",
            "Training acc over epoch: 0.9375\n"
          ]
        },
        {
          "output_type": "stream",
          "name": "stderr",
          "text": [
            " 80%|███████▉  | 1346/1688 [00:19<00:05, 60.97it/s]"
          ]
        },
        {
          "output_type": "stream",
          "name": "stdout",
          "text": [
            "Training acc over epoch: 0.8750\n",
            "Training acc over epoch: 0.8750\n",
            "Training acc over epoch: 0.9062\n",
            "Training acc over epoch: 0.8125\n",
            "Training acc over epoch: 0.8125\n",
            "Training acc over epoch: 0.9375\n",
            "Training acc over epoch: 0.8438\n",
            "Training acc over epoch: 0.8438\n",
            "Training acc over epoch: 0.9375\n",
            "Training acc over epoch: 0.9375\n",
            "Training acc over epoch: 0.8750\n",
            "Training acc over epoch: 0.9688\n",
            "Training acc over epoch: 0.8750\n"
          ]
        },
        {
          "output_type": "stream",
          "name": "stderr",
          "text": [
            " 81%|████████  | 1360/1688 [00:20<00:05, 62.22it/s]"
          ]
        },
        {
          "output_type": "stream",
          "name": "stdout",
          "text": [
            "Training acc over epoch: 0.8438\n",
            "Training acc over epoch: 0.8438\n",
            "Training acc over epoch: 0.8125\n",
            "Training acc over epoch: 0.8750\n",
            "Training acc over epoch: 0.8750\n",
            "Training acc over epoch: 0.9062\n",
            "Training acc over epoch: 0.9062\n",
            "Training acc over epoch: 0.8750\n",
            "Training acc over epoch: 0.8438\n",
            "Training acc over epoch: 0.8438\n",
            "Training acc over epoch: 0.8750\n",
            "Training acc over epoch: 0.7812\n",
            "Training acc over epoch: 0.9062\n",
            "Training acc over epoch: 0.9062\n"
          ]
        },
        {
          "output_type": "stream",
          "name": "stderr",
          "text": [
            " 81%|████████▏ | 1375/1688 [00:20<00:04, 67.46it/s]"
          ]
        },
        {
          "output_type": "stream",
          "name": "stdout",
          "text": [
            "Training acc over epoch: 0.9062\n",
            "Training acc over epoch: 0.9375\n",
            "Training acc over epoch: 0.9375\n",
            "Training acc over epoch: 0.8125\n",
            "Training acc over epoch: 0.8750\n",
            "Training acc over epoch: 0.9375\n",
            "Training acc over epoch: 0.8125\n",
            "Training acc over epoch: 0.8438\n",
            "Training acc over epoch: 0.9375\n",
            "Training acc over epoch: 0.9375\n",
            "Training acc over epoch: 0.9375\n",
            "Training acc over epoch: 0.8750\n",
            "Training acc over epoch: 0.9062\n",
            "Training acc over epoch: 0.9062\n",
            "Training acc over epoch: 0.9062\n"
          ]
        },
        {
          "output_type": "stream",
          "name": "stderr",
          "text": [
            " 82%|████████▏ | 1390/1688 [00:20<00:04, 69.27it/s]"
          ]
        },
        {
          "output_type": "stream",
          "name": "stdout",
          "text": [
            "Training acc over epoch: 0.9062\n",
            "Training acc over epoch: 0.8125\n",
            "Training acc over epoch: 0.9375\n",
            "Training acc over epoch: 0.8750\n",
            "Training acc over epoch: 0.8750\n",
            "Training acc over epoch: 0.7812\n",
            "Training acc over epoch: 0.8438\n",
            "Training acc over epoch: 0.8750\n",
            "Training acc over epoch: 0.9062\n",
            "Training acc over epoch: 0.8750\n",
            "Training acc over epoch: 0.9375\n",
            "Training acc over epoch: 0.8750\n",
            "Training acc over epoch: 0.8125\n",
            "Training acc over epoch: 0.8125\n",
            "Training acc over epoch: 0.8750\n",
            "Training acc over epoch: 0.7812\n"
          ]
        },
        {
          "output_type": "stream",
          "name": "stderr",
          "text": [
            " 83%|████████▎ | 1405/1688 [00:20<00:04, 69.97it/s]"
          ]
        },
        {
          "output_type": "stream",
          "name": "stdout",
          "text": [
            "Training acc over epoch: 0.8750\n",
            "Training acc over epoch: 0.9062\n",
            "Training acc over epoch: 0.8125\n",
            "Training acc over epoch: 0.8125\n",
            "Training acc over epoch: 0.9062\n",
            "Training acc over epoch: 0.8438\n",
            "Training acc over epoch: 0.8438\n",
            "Training acc over epoch: 0.9062\n",
            "Training acc over epoch: 0.9375\n",
            "Training acc over epoch: 0.7812\n",
            "Training acc over epoch: 0.7812\n",
            "Training acc over epoch: 0.8750\n",
            "Training acc over epoch: 0.8125\n",
            "Training acc over epoch: 0.9062\n",
            "Training acc over epoch: 0.9375\n",
            "Training acc over epoch: 0.9375"
          ]
        },
        {
          "output_type": "stream",
          "name": "stderr",
          "text": [
            " 84%|████████▍ | 1422/1688 [00:20<00:03, 76.37it/s]"
          ]
        },
        {
          "output_type": "stream",
          "name": "stdout",
          "text": [
            "\n",
            "Training acc over epoch: 0.8125\n",
            "Training acc over epoch: 0.8125\n",
            "Training acc over epoch: 0.8750\n",
            "Training acc over epoch: 0.7812\n",
            "Training acc over epoch: 0.8750\n",
            "Training acc over epoch: 0.9062\n",
            "Training acc over epoch: 0.8438\n",
            "Training acc over epoch: 1.0000\n",
            "Training acc over epoch: 0.9062\n",
            "Training acc over epoch: 0.8750\n",
            "Training acc over epoch: 0.8750\n",
            "Training acc over epoch: 0.9062\n",
            "Training acc over epoch: 0.8438\n",
            "Training acc over epoch: 0.7812\n",
            "Training acc over epoch: 0.9375\n",
            "Training acc over epoch: 0.8125"
          ]
        },
        {
          "output_type": "stream",
          "name": "stderr",
          "text": [
            " 85%|████████▌ | 1438/1688 [00:21<00:03, 75.78it/s]"
          ]
        },
        {
          "output_type": "stream",
          "name": "stdout",
          "text": [
            "\n",
            "Training acc over epoch: 0.8438\n",
            "Training acc over epoch: 0.8750\n",
            "Training acc over epoch: 0.8750\n",
            "Training acc over epoch: 0.8750\n",
            "Training acc over epoch: 0.9062\n",
            "Training acc over epoch: 0.9062\n",
            "Training acc over epoch: 0.9375\n",
            "Training acc over epoch: 0.9375\n",
            "Training acc over epoch: 0.9375\n",
            "Training acc over epoch: 0.8750\n",
            "Training acc over epoch: 0.8750\n",
            "Training acc over epoch: 0.7812\n",
            "Training acc over epoch: 0.7500\n",
            "Training acc over epoch: 0.9375\n",
            "Training acc over epoch: 0.9062\n"
          ]
        },
        {
          "output_type": "stream",
          "name": "stderr",
          "text": [
            " 86%|████████▌ | 1454/1688 [00:21<00:03, 73.53it/s]"
          ]
        },
        {
          "output_type": "stream",
          "name": "stdout",
          "text": [
            "Training acc over epoch: 0.7500\n",
            "Training acc over epoch: 0.9688\n",
            "Training acc over epoch: 0.8750\n",
            "Training acc over epoch: 0.9375\n",
            "Training acc over epoch: 0.9062\n",
            "Training acc over epoch: 0.8438\n",
            "Training acc over epoch: 0.8750\n",
            "Training acc over epoch: 0.7812\n",
            "Training acc over epoch: 0.8750\n",
            "Training acc over epoch: 0.9375\n",
            "Training acc over epoch: 0.9062\n",
            "Training acc over epoch: 0.8125\n",
            "Training acc over epoch: 0.8750\n",
            "Training acc over epoch: 0.8125\n",
            "Training acc over epoch: 0.9062\n"
          ]
        },
        {
          "output_type": "stream",
          "name": "stderr",
          "text": [
            " 87%|████████▋ | 1470/1688 [00:21<00:03, 72.63it/s]"
          ]
        },
        {
          "output_type": "stream",
          "name": "stdout",
          "text": [
            "Training acc over epoch: 0.8125\n",
            "Training acc over epoch: 0.9062\n",
            "Training acc over epoch: 0.8750\n",
            "Training acc over epoch: 0.9062\n",
            "Training acc over epoch: 0.8438\n",
            "Training acc over epoch: 0.8125\n",
            "Training acc over epoch: 0.8750\n",
            "Training acc over epoch: 0.8438\n",
            "Training acc over epoch: 0.9375\n",
            "Training acc over epoch: 0.9688\n",
            "Training acc over epoch: 0.9062\n",
            "Training acc over epoch: 0.9062\n",
            "Training acc over epoch: 0.9688\n",
            "Training acc over epoch: 0.7500\n",
            "Training acc over epoch: 0.8750\n"
          ]
        },
        {
          "output_type": "stream",
          "name": "stderr",
          "text": [
            " 88%|████████▊ | 1485/1688 [00:21<00:02, 69.35it/s]"
          ]
        },
        {
          "output_type": "stream",
          "name": "stdout",
          "text": [
            "Training acc over epoch: 0.9375\n",
            "Training acc over epoch: 1.0000\n",
            "Training acc over epoch: 0.9688\n",
            "Training acc over epoch: 0.7188\n",
            "Training acc over epoch: 0.9688\n",
            "Training acc over epoch: 0.7500\n",
            "Training acc over epoch: 0.7500\n",
            "Training acc over epoch: 0.9375\n",
            "Training acc over epoch: 0.8750\n",
            "Training acc over epoch: 0.8125\n",
            "Training acc over epoch: 0.8750\n",
            "Training acc over epoch: 0.8438\n",
            "Training acc over epoch: 0.8125\n",
            "Training acc over epoch: 0.8125\n"
          ]
        },
        {
          "output_type": "stream",
          "name": "stderr",
          "text": [
            " 89%|████████▉ | 1500/1688 [00:21<00:02, 70.45it/s]"
          ]
        },
        {
          "output_type": "stream",
          "name": "stdout",
          "text": [
            "Training acc over epoch: 0.8125\n",
            "Training acc over epoch: 0.9062\n",
            "Training acc over epoch: 0.9062\n",
            "Training acc over epoch: 0.8438\n",
            "Training acc over epoch: 0.9062\n",
            "Training acc over epoch: 0.8438\n",
            "Training acc over epoch: 0.8750\n",
            "Training acc over epoch: 0.8750\n",
            "Training acc over epoch: 0.8750\n",
            "Training acc over epoch: 0.9375\n",
            "Training acc over epoch: 0.9375\n",
            "Training acc over epoch: 0.8750\n",
            "Training acc over epoch: 0.9062\n",
            "Training acc over epoch: 0.9062\n",
            "Training acc over epoch: 0.8750\n"
          ]
        },
        {
          "output_type": "stream",
          "name": "stderr",
          "text": [
            " 90%|████████▉ | 1516/1688 [00:22<00:02, 72.20it/s]"
          ]
        },
        {
          "output_type": "stream",
          "name": "stdout",
          "text": [
            "Training acc over epoch: 0.8438\n",
            "Training acc over epoch: 0.8125\n",
            "Training acc over epoch: 0.9375\n",
            "Training acc over epoch: 0.8438\n",
            "Training acc over epoch: 0.9688\n",
            "Training acc over epoch: 0.7812\n",
            "Training acc over epoch: 0.8750\n",
            "Training acc over epoch: 0.9062\n",
            "Training acc over epoch: 0.9375\n",
            "Training acc over epoch: 1.0000\n",
            "Training acc over epoch: 0.7812\n",
            "Training acc over epoch: 0.9062\n",
            "Training acc over epoch: 0.8750\n",
            "Training acc over epoch: 0.8125\n",
            "Training acc over epoch: 0.8125\n"
          ]
        },
        {
          "output_type": "stream",
          "name": "stderr",
          "text": [
            "\r 90%|█████████ | 1524/1688 [00:22<00:02, 69.99it/s]"
          ]
        },
        {
          "output_type": "stream",
          "name": "stdout",
          "text": [
            "Training acc over epoch: 0.7812\n",
            "Training acc over epoch: 0.8750\n",
            "Training acc over epoch: 0.9375\n",
            "Training acc over epoch: 0.8125\n",
            "Training acc over epoch: 0.7812\n",
            "Training acc over epoch: 0.8438\n",
            "Training acc over epoch: 0.8438\n",
            "Training acc over epoch: 0.8125\n",
            "Training acc over epoch: 0.9062\n",
            "Training acc over epoch: 0.8125\n",
            "Training acc over epoch: 0.8750\n",
            "Training acc over epoch: 0.8750\n",
            "Training acc over epoch: 0.9062\n",
            "Training acc over epoch: 0.7500\n",
            "Training acc over epoch: 0.9688\n",
            "Training acc over epoch: 0.9375\n"
          ]
        },
        {
          "output_type": "stream",
          "name": "stderr",
          "text": [
            " 91%|█████████▏| 1542/1688 [00:22<00:01, 75.64it/s]"
          ]
        },
        {
          "output_type": "stream",
          "name": "stdout",
          "text": [
            "Training acc over epoch: 0.8125\n",
            "Training acc over epoch: 0.9062\n",
            "Training acc over epoch: 0.7500\n",
            "Training acc over epoch: 0.9062\n",
            "Training acc over epoch: 0.9062\n",
            "Training acc over epoch: 0.9062\n",
            "Training acc over epoch: 0.9062\n",
            "Training acc over epoch: 0.8750\n",
            "Training acc over epoch: 0.8750\n",
            "Training acc over epoch: 0.9688\n",
            "Training acc over epoch: 0.9375\n",
            "Training acc over epoch: 0.9375\n",
            "Training acc over epoch: 0.7500\n",
            "Training acc over epoch: 0.8750\n",
            "Training acc over epoch: 0.8750\n",
            "Training acc over epoch: 0.8438\n"
          ]
        },
        {
          "output_type": "stream",
          "name": "stderr",
          "text": [
            " 92%|█████████▏| 1558/1688 [00:22<00:01, 74.51it/s]"
          ]
        },
        {
          "output_type": "stream",
          "name": "stdout",
          "text": [
            "Training acc over epoch: 0.9062\n",
            "Training acc over epoch: 0.9375\n",
            "Training acc over epoch: 0.9375\n",
            "Training acc over epoch: 0.9688\n",
            "Training acc over epoch: 0.7500\n",
            "Training acc over epoch: 0.8750\n",
            "Training acc over epoch: 0.8750\n",
            "Training acc over epoch: 0.9062\n",
            "Training acc over epoch: 0.8125\n",
            "Training acc over epoch: 0.8438\n",
            "Training acc over epoch: 0.8438\n",
            "Training acc over epoch: 0.9062\n",
            "Training acc over epoch: 0.6875\n",
            "Training acc over epoch: 0.8750\n",
            "Training acc over epoch: 0.8750\n",
            "Training acc over epoch: 0.9062\n"
          ]
        },
        {
          "output_type": "stream",
          "name": "stderr",
          "text": [
            " 93%|█████████▎| 1575/1688 [00:22<00:01, 77.05it/s]"
          ]
        },
        {
          "output_type": "stream",
          "name": "stdout",
          "text": [
            "Training acc over epoch: 0.8750\n",
            "Training acc over epoch: 0.9688\n",
            "Training acc over epoch: 0.8750\n",
            "Training acc over epoch: 0.8438\n",
            "Training acc over epoch: 0.8438\n",
            "Training acc over epoch: 0.8125\n",
            "Training acc over epoch: 0.9688\n",
            "Training acc over epoch: 0.8438\n",
            "Training acc over epoch: 0.8125\n",
            "Training acc over epoch: 0.9062\n",
            "Training acc over epoch: 0.9375\n",
            "Training acc over epoch: 0.7812\n",
            "Training acc over epoch: 0.7812\n",
            "Training acc over epoch: 0.9688\n",
            "Training acc over epoch: 0.9375\n"
          ]
        },
        {
          "output_type": "stream",
          "name": "stderr",
          "text": [
            " 94%|█████████▍| 1591/1688 [00:23<00:01, 72.02it/s]"
          ]
        },
        {
          "output_type": "stream",
          "name": "stdout",
          "text": [
            "Training acc over epoch: 0.8438\n",
            "Training acc over epoch: 0.8438\n",
            "Training acc over epoch: 0.9062\n",
            "Training acc over epoch: 0.8438\n",
            "Training acc over epoch: 0.9062\n",
            "Training acc over epoch: 0.8438\n",
            "Training acc over epoch: 0.8750\n",
            "Training acc over epoch: 0.8125\n",
            "Training acc over epoch: 0.8125\n",
            "Training acc over epoch: 0.7812\n",
            "Training acc over epoch: 0.9688\n",
            "Training acc over epoch: 0.9062\n",
            "Training acc over epoch: 0.8750\n",
            "Training acc over epoch: 0.9375\n",
            "Training acc over epoch: 0.9375\n"
          ]
        },
        {
          "output_type": "stream",
          "name": "stderr",
          "text": [
            " 95%|█████████▌| 1607/1688 [00:23<00:01, 73.20it/s]"
          ]
        },
        {
          "output_type": "stream",
          "name": "stdout",
          "text": [
            "Training acc over epoch: 0.9375\n",
            "Training acc over epoch: 0.8438\n",
            "Training acc over epoch: 0.8438\n",
            "Training acc over epoch: 0.9062\n",
            "Training acc over epoch: 0.8438\n",
            "Training acc over epoch: 0.8438\n",
            "Training acc over epoch: 0.9062\n",
            "Training acc over epoch: 0.8750\n",
            "Training acc over epoch: 0.8438\n",
            "Training acc over epoch: 0.9375\n",
            "Training acc over epoch: 0.9062\n",
            "Training acc over epoch: 0.8125\n",
            "Training acc over epoch: 0.8125\n",
            "Training acc over epoch: 0.8125\n",
            "Training acc over epoch: 0.8438\n",
            "Training acc over epoch: 0.9062\n"
          ]
        },
        {
          "output_type": "stream",
          "name": "stderr",
          "text": [
            " 96%|█████████▌| 1623/1688 [00:23<00:00, 69.46it/s]"
          ]
        },
        {
          "output_type": "stream",
          "name": "stdout",
          "text": [
            "Training acc over epoch: 0.9062\n",
            "Training acc over epoch: 0.8438\n",
            "Training acc over epoch: 0.8438\n",
            "Training acc over epoch: 0.8750\n",
            "Training acc over epoch: 0.8750\n",
            "Training acc over epoch: 0.8438\n",
            "Training acc over epoch: 0.8438\n",
            "Training acc over epoch: 0.8750\n",
            "Training acc over epoch: 0.8438\n",
            "Training acc over epoch: 0.7812\n",
            "Training acc over epoch: 0.9688\n",
            "Training acc over epoch: 0.9688\n",
            "Training acc over epoch: 0.8750\n",
            "Training acc over epoch: 0.8438\n"
          ]
        },
        {
          "output_type": "stream",
          "name": "stderr",
          "text": [
            " 97%|█████████▋| 1638/1688 [00:23<00:00, 69.07it/s]"
          ]
        },
        {
          "output_type": "stream",
          "name": "stdout",
          "text": [
            "Training acc over epoch: 0.7500\n",
            "Training acc over epoch: 0.8125\n",
            "Training acc over epoch: 0.9062\n",
            "Training acc over epoch: 0.8438\n",
            "Training acc over epoch: 0.8438\n",
            "Training acc over epoch: 0.8438\n",
            "Training acc over epoch: 0.9062\n",
            "Training acc over epoch: 0.9062\n",
            "Training acc over epoch: 0.7812\n",
            "Training acc over epoch: 0.9062\n",
            "Training acc over epoch: 0.7812\n",
            "Training acc over epoch: 0.8438\n",
            "Training acc over epoch: 0.8750\n",
            "Training acc over epoch: 0.8750\n"
          ]
        },
        {
          "output_type": "stream",
          "name": "stderr",
          "text": [
            " 98%|█████████▊| 1654/1688 [00:24<00:00, 72.41it/s]"
          ]
        },
        {
          "output_type": "stream",
          "name": "stdout",
          "text": [
            "Training acc over epoch: 0.8438\n",
            "Training acc over epoch: 0.8438\n",
            "Training acc over epoch: 0.9062\n",
            "Training acc over epoch: 0.8438\n",
            "Training acc over epoch: 0.7500\n",
            "Training acc over epoch: 0.8750\n",
            "Training acc over epoch: 0.8125\n",
            "Training acc over epoch: 0.8438\n",
            "Training acc over epoch: 0.8125\n",
            "Training acc over epoch: 0.8438\n",
            "Training acc over epoch: 0.8438\n",
            "Training acc over epoch: 0.7812\n",
            "Training acc over epoch: 0.8750\n",
            "Training acc over epoch: 0.7500\n",
            "Training acc over epoch: 0.7812\n",
            "Training acc over epoch: 0.9375\n"
          ]
        },
        {
          "output_type": "stream",
          "name": "stderr",
          "text": [
            " 99%|█████████▉| 1672/1688 [00:24<00:00, 79.63it/s]"
          ]
        },
        {
          "output_type": "stream",
          "name": "stdout",
          "text": [
            "Training acc over epoch: 0.8125\n",
            "Training acc over epoch: 0.8438\n",
            "Training acc over epoch: 0.8438\n",
            "Training acc over epoch: 0.8438\n",
            "Training acc over epoch: 0.8125\n",
            "Training acc over epoch: 0.8125\n",
            "Training acc over epoch: 0.8750\n",
            "Training acc over epoch: 0.8750\n",
            "Training acc over epoch: 0.9688\n",
            "Training acc over epoch: 0.9062\n",
            "Training acc over epoch: 0.9062\n",
            "Training acc over epoch: 0.9688\n",
            "Training acc over epoch: 0.8125\n",
            "Training acc over epoch: 0.8438\n",
            "Training acc over epoch: 0.9375\n",
            "Training acc over epoch: 0.8438\n",
            "Training acc over epoch: 0.9375\n",
            "Training acc over epoch: 0.8125\n"
          ]
        },
        {
          "output_type": "stream",
          "name": "stderr",
          "text": [
            "\r100%|█████████▉| 1682/1688 [00:24<00:00, 84.72it/s]"
          ]
        },
        {
          "output_type": "stream",
          "name": "stdout",
          "text": [
            "Training acc over epoch: 0.9062\n",
            "Training acc over epoch: 0.9062\n",
            "Training acc over epoch: 0.8125\n",
            "Training acc over epoch: 0.9375\n",
            "Training acc over epoch: 0.9062\n",
            "Training acc over epoch: 0.9062\n",
            "Training acc over epoch: 0.8750\n",
            "Training acc over epoch: 0.8750\n",
            "Training acc over epoch: 0.8438\n",
            "Training acc over epoch: 0.8125\n",
            "Training acc over epoch: 0.8438\n",
            "Training acc over epoch: 0.9375\n",
            "Training acc over epoch: 0.8750\n",
            "Training acc over epoch: 0.8750\n",
            "Training acc over epoch: 0.8438\n",
            "Training acc over epoch: 0.8125\n"
          ]
        },
        {
          "output_type": "stream",
          "name": "stderr",
          "text": [
            "100%|██████████| 1688/1688 [00:40<00:00, 41.20it/s]\n",
            "100%|██████████| 6000/6000 [00:40<00:00, 146.42it/s]\n",
            "  1%|          | 15/1688 [00:00<00:23, 70.98it/s]"
          ]
        },
        {
          "output_type": "stream",
          "name": "stdout",
          "text": [
            "Training acc over epoch: 0.9375\n",
            "Training acc over epoch: 0.8125\n",
            "Training acc over epoch: 0.9688\n",
            "Training acc over epoch: 0.9062\n",
            "Training acc over epoch: 0.7812\n",
            "Training acc over epoch: 0.9062\n",
            "Training acc over epoch: 0.9062\n",
            "Training acc over epoch: 0.9062\n",
            "Training acc over epoch: 0.9375\n",
            "Training acc over epoch: 0.7812\n",
            "Training acc over epoch: 0.8750\n",
            "Training acc over epoch: 0.8125\n",
            "Training acc over epoch: 0.8438\n",
            "Training acc over epoch: 0.9062\n",
            "Training acc over epoch: 0.8750\n",
            "Training acc over epoch: 0.8438\n"
          ]
        },
        {
          "output_type": "stream",
          "name": "stderr",
          "text": [
            "  2%|▏         | 31/1688 [00:00<00:22, 73.07it/s]"
          ]
        },
        {
          "output_type": "stream",
          "name": "stdout",
          "text": [
            "Training acc over epoch: 0.9688\n",
            "Training acc over epoch: 0.9062\n",
            "Training acc over epoch: 0.9688\n",
            "Training acc over epoch: 0.8125\n",
            "Training acc over epoch: 0.9688\n",
            "Training acc over epoch: 0.9375\n",
            "Training acc over epoch: 0.8750\n",
            "Training acc over epoch: 0.9062\n",
            "Training acc over epoch: 0.9062\n",
            "Training acc over epoch: 0.8750\n",
            "Training acc over epoch: 0.8750\n",
            "Training acc over epoch: 0.8750\n",
            "Training acc over epoch: 0.8750\n",
            "Training acc over epoch: 0.9062\n",
            "Training acc over epoch: 0.8125\n",
            "Training acc over epoch: 0.9062\n"
          ]
        },
        {
          "output_type": "stream",
          "name": "stderr",
          "text": [
            "  3%|▎         | 48/1688 [00:00<00:21, 75.90it/s]"
          ]
        },
        {
          "output_type": "stream",
          "name": "stdout",
          "text": [
            "Training acc over epoch: 0.9062\n",
            "Training acc over epoch: 0.8750\n",
            "Training acc over epoch: 0.8750\n",
            "Training acc over epoch: 0.9375\n",
            "Training acc over epoch: 0.7812\n",
            "Training acc over epoch: 0.9688\n",
            "Training acc over epoch: 0.9062\n",
            "Training acc over epoch: 0.8125\n",
            "Training acc over epoch: 0.8750\n",
            "Training acc over epoch: 0.8125\n",
            "Training acc over epoch: 0.9062\n",
            "Training acc over epoch: 0.9688\n",
            "Training acc over epoch: 0.8438\n",
            "Training acc over epoch: 0.8125\n",
            "Training acc over epoch: 0.8750\n",
            "Training acc over epoch: 0.8438\n",
            "Training acc over epoch: 0.9375\n"
          ]
        },
        {
          "output_type": "stream",
          "name": "stderr",
          "text": [
            "  4%|▍         | 65/1688 [00:00<00:20, 78.83it/s]"
          ]
        },
        {
          "output_type": "stream",
          "name": "stdout",
          "text": [
            "Training acc over epoch: 0.9375\n",
            "Training acc over epoch: 0.8438\n",
            "Training acc over epoch: 0.8750\n",
            "Training acc over epoch: 0.8750\n",
            "Training acc over epoch: 0.8125\n",
            "Training acc over epoch: 0.7188\n",
            "Training acc over epoch: 0.9375\n",
            "Training acc over epoch: 0.9688\n",
            "Training acc over epoch: 0.8438\n",
            "Training acc over epoch: 0.8438\n",
            "Training acc over epoch: 0.9062\n",
            "Training acc over epoch: 0.9062\n",
            "Training acc over epoch: 0.9688\n",
            "Training acc over epoch: 0.8750\n",
            "Training acc over epoch: 0.9688\n",
            "Training acc over epoch: 0.9688\n",
            "Training acc over epoch: 0.8125\n",
            "Training acc over epoch: 0.9375\n"
          ]
        },
        {
          "output_type": "stream",
          "name": "stderr",
          "text": [
            "  5%|▍         | 81/1688 [00:01<00:20, 78.14it/s]"
          ]
        },
        {
          "output_type": "stream",
          "name": "stdout",
          "text": [
            "Training acc over epoch: 0.8750\n",
            "Training acc over epoch: 0.8750\n",
            "Training acc over epoch: 0.9062\n",
            "Training acc over epoch: 0.9062\n",
            "Training acc over epoch: 0.8438\n",
            "Training acc over epoch: 0.8438\n",
            "Training acc over epoch: 0.9375\n",
            "Training acc over epoch: 0.9062\n",
            "Training acc over epoch: 0.7812\n",
            "Training acc over epoch: 0.9688\n",
            "Training acc over epoch: 0.8750\n",
            "Training acc over epoch: 0.8750\n",
            "Training acc over epoch: 0.8750\n",
            "Training acc over epoch: 0.9375\n",
            "Training acc over epoch: 0.9062\n",
            "Training acc over epoch: 0.7188\n",
            "Training acc over epoch: 0.8438\n"
          ]
        },
        {
          "output_type": "stream",
          "name": "stderr",
          "text": [
            "  6%|▌         | 98/1688 [00:01<00:19, 80.55it/s]"
          ]
        },
        {
          "output_type": "stream",
          "name": "stdout",
          "text": [
            "Training acc over epoch: 0.9062\n",
            "Training acc over epoch: 0.9375\n",
            "Training acc over epoch: 0.8750\n",
            "Training acc over epoch: 0.7812\n",
            "Training acc over epoch: 0.8438\n",
            "Training acc over epoch: 0.8438\n",
            "Training acc over epoch: 0.7812\n",
            "Training acc over epoch: 0.8125\n",
            "Training acc over epoch: 0.9062\n",
            "Training acc over epoch: 0.7812\n",
            "Training acc over epoch: 0.8750\n",
            "Training acc over epoch: 0.8750\n",
            "Training acc over epoch: 0.8750\n",
            "Training acc over epoch: 0.9062\n",
            "Training acc over epoch: 0.7188\n",
            "Training acc over epoch: 0.8750\n",
            "Training acc over epoch: 0.8125\n",
            "Training acc over epoch: 0.7188\n",
            "Training acc over epoch: 0.7500\n"
          ]
        },
        {
          "output_type": "stream",
          "name": "stderr",
          "text": [
            "  7%|▋         | 117/1688 [00:01<00:18, 85.70it/s]"
          ]
        },
        {
          "output_type": "stream",
          "name": "stdout",
          "text": [
            "Training acc over epoch: 0.8750\n",
            "Training acc over epoch: 0.8750\n",
            "Training acc over epoch: 0.9375\n",
            "Training acc over epoch: 0.9375\n",
            "Training acc over epoch: 0.9062\n",
            "Training acc over epoch: 0.9062\n",
            "Training acc over epoch: 0.9062\n",
            "Training acc over epoch: 0.8125\n",
            "Training acc over epoch: 0.8125\n",
            "Training acc over epoch: 0.8750\n",
            "Training acc over epoch: 0.9062\n",
            "Training acc over epoch: 0.9062\n",
            "Training acc over epoch: 0.9688\n",
            "Training acc over epoch: 0.8750\n",
            "Training acc over epoch: 0.9062\n",
            "Training acc over epoch: 0.8750\n",
            "Training acc over epoch: 0.9375\n",
            "Training acc over epoch: 0.8438\n",
            "Training acc over epoch: 0.8125"
          ]
        },
        {
          "output_type": "stream",
          "name": "stderr",
          "text": [
            "  8%|▊         | 136/1688 [00:01<00:17, 87.60it/s]"
          ]
        },
        {
          "output_type": "stream",
          "name": "stdout",
          "text": [
            "\n",
            "Training acc over epoch: 0.9375\n",
            "Training acc over epoch: 0.8750\n",
            "Training acc over epoch: 0.8438\n",
            "Training acc over epoch: 0.8750\n",
            "Training acc over epoch: 0.9062\n",
            "Training acc over epoch: 0.8750\n",
            "Training acc over epoch: 0.8438\n",
            "Training acc over epoch: 0.7812\n",
            "Training acc over epoch: 0.7812\n",
            "Training acc over epoch: 0.7812\n",
            "Training acc over epoch: 0.8438\n",
            "Training acc over epoch: 0.8438\n",
            "Training acc over epoch: 0.9688\n",
            "Training acc over epoch: 0.8750\n",
            "Training acc over epoch: 0.9375\n",
            "Training acc over epoch: 0.7812\n",
            "Training acc over epoch: 0.9062\n",
            "Training acc over epoch: 0.9062\n"
          ]
        },
        {
          "output_type": "stream",
          "name": "stderr",
          "text": [
            "  9%|▉         | 155/1688 [00:01<00:17, 88.21it/s]"
          ]
        },
        {
          "output_type": "stream",
          "name": "stdout",
          "text": [
            "Training acc over epoch: 0.9062\n",
            "Training acc over epoch: 0.8750\n",
            "Training acc over epoch: 0.7500\n",
            "Training acc over epoch: 0.8438\n",
            "Training acc over epoch: 0.8750\n",
            "Training acc over epoch: 1.0000\n",
            "Training acc over epoch: 0.8750\n",
            "Training acc over epoch: 0.9688\n",
            "Training acc over epoch: 0.9375\n",
            "Training acc over epoch: 0.8125\n",
            "Training acc over epoch: 0.8750\n",
            "Training acc over epoch: 0.8750\n",
            "Training acc over epoch: 0.9062\n",
            "Training acc over epoch: 0.9062\n",
            "Training acc over epoch: 0.8750\n",
            "Training acc over epoch: 0.9688\n",
            "Training acc over epoch: 0.8438\n",
            "Training acc over epoch: 0.7188\n"
          ]
        },
        {
          "output_type": "stream",
          "name": "stderr",
          "text": [
            " 10%|█         | 173/1688 [00:02<00:17, 84.58it/s]"
          ]
        },
        {
          "output_type": "stream",
          "name": "stdout",
          "text": [
            "Training acc over epoch: 0.8750\n",
            "Training acc over epoch: 0.9062\n",
            "Training acc over epoch: 0.8750\n",
            "Training acc over epoch: 0.9062\n",
            "Training acc over epoch: 0.8750\n",
            "Training acc over epoch: 0.8438\n",
            "Training acc over epoch: 0.9062\n",
            "Training acc over epoch: 0.9062\n",
            "Training acc over epoch: 0.8438\n",
            "Training acc over epoch: 0.9062\n",
            "Training acc over epoch: 0.9062\n",
            "Training acc over epoch: 0.8125\n",
            "Training acc over epoch: 0.8750\n",
            "Training acc over epoch: 0.9062\n",
            "Training acc over epoch: 0.8750\n",
            "Training acc over epoch: 0.8750\n",
            "Training acc over epoch: 0.8750\n",
            "Training acc over epoch: 0.9375\n"
          ]
        },
        {
          "output_type": "stream",
          "name": "stderr",
          "text": [
            " 11%|█▏        | 191/1688 [00:02<00:18, 82.58it/s]"
          ]
        },
        {
          "output_type": "stream",
          "name": "stdout",
          "text": [
            "Training acc over epoch: 0.8750\n",
            "Training acc over epoch: 0.8750\n",
            "Training acc over epoch: 0.8438\n",
            "Training acc over epoch: 0.9062\n",
            "Training acc over epoch: 0.9375\n",
            "Training acc over epoch: 0.9375\n",
            "Training acc over epoch: 0.8438\n",
            "Training acc over epoch: 0.8750\n",
            "Training acc over epoch: 0.8750\n",
            "Training acc over epoch: 0.8125\n",
            "Training acc over epoch: 0.8750\n",
            "Training acc over epoch: 0.8750\n",
            "Training acc over epoch: 0.9375\n",
            "Training acc over epoch: 0.8125\n",
            "Training acc over epoch: 0.9375\n",
            "Training acc over epoch: 0.8438\n",
            "Training acc over epoch: 0.9062\n"
          ]
        },
        {
          "output_type": "stream",
          "name": "stderr",
          "text": [
            " 12%|█▏        | 209/1688 [00:02<00:18, 81.89it/s]"
          ]
        },
        {
          "output_type": "stream",
          "name": "stdout",
          "text": [
            "Training acc over epoch: 0.8438\n",
            "Training acc over epoch: 0.8750\n",
            "Training acc over epoch: 0.7812\n",
            "Training acc over epoch: 0.8750\n",
            "Training acc over epoch: 0.8438\n",
            "Training acc over epoch: 0.9062\n",
            "Training acc over epoch: 0.9688\n",
            "Training acc over epoch: 0.9375\n",
            "Training acc over epoch: 0.8750\n",
            "Training acc over epoch: 0.9375\n",
            "Training acc over epoch: 0.8750\n",
            "Training acc over epoch: 0.7812\n",
            "Training acc over epoch: 0.7500\n",
            "Training acc over epoch: 0.8750\n",
            "Training acc over epoch: 0.9688\n",
            "Training acc over epoch: 0.9375\n",
            "Training acc over epoch: 0.9375"
          ]
        },
        {
          "output_type": "stream",
          "name": "stderr",
          "text": [
            "\r 13%|█▎        | 218/1688 [00:02<00:18, 80.29it/s]"
          ]
        },
        {
          "output_type": "stream",
          "name": "stdout",
          "text": [
            "\n",
            "Training acc over epoch: 0.7500\n",
            "Training acc over epoch: 0.8125\n",
            "Training acc over epoch: 0.9688\n",
            "Training acc over epoch: 0.9375\n",
            "Training acc over epoch: 0.8438\n",
            "Training acc over epoch: 0.8438\n",
            "Training acc over epoch: 0.8125\n",
            "Training acc over epoch: 0.9375\n",
            "Training acc over epoch: 0.8125\n",
            "Training acc over epoch: 0.8438\n",
            "Training acc over epoch: 0.9062\n",
            "Training acc over epoch: 0.8750\n",
            "Training acc over epoch: 0.8750\n",
            "Training acc over epoch: 0.9062\n",
            "Training acc over epoch: 0.8438\n",
            "Training acc over epoch: 0.9375\n",
            "Training acc over epoch: 0.7812"
          ]
        },
        {
          "output_type": "stream",
          "name": "stderr",
          "text": [
            " 14%|█▍        | 236/1688 [00:02<00:18, 79.79it/s]"
          ]
        },
        {
          "output_type": "stream",
          "name": "stdout",
          "text": [
            "\n",
            "Training acc over epoch: 0.9688\n",
            "Training acc over epoch: 0.8438\n",
            "Training acc over epoch: 0.9375\n",
            "Training acc over epoch: 0.9688\n",
            "Training acc over epoch: 0.8750\n",
            "Training acc over epoch: 0.8125\n",
            "Training acc over epoch: 0.8125\n",
            "Training acc over epoch: 0.9688\n",
            "Training acc over epoch: 0.9062\n",
            "Training acc over epoch: 0.8438\n",
            "Training acc over epoch: 0.8438\n",
            "Training acc over epoch: 0.9375\n",
            "Training acc over epoch: 0.9062\n",
            "Training acc over epoch: 0.8438\n"
          ]
        },
        {
          "output_type": "stream",
          "name": "stderr",
          "text": [
            " 15%|█▍        | 252/1688 [00:03<00:19, 73.87it/s]"
          ]
        },
        {
          "output_type": "stream",
          "name": "stdout",
          "text": [
            "Training acc over epoch: 0.9062\n",
            "Training acc over epoch: 0.9062\n",
            "Training acc over epoch: 0.9062\n",
            "Training acc over epoch: 0.9375\n",
            "Training acc over epoch: 0.8750\n",
            "Training acc over epoch: 0.8125\n",
            "Training acc over epoch: 0.8438\n",
            "Training acc over epoch: 0.9062\n",
            "Training acc over epoch: 0.9062\n",
            "Training acc over epoch: 0.9062\n",
            "Training acc over epoch: 0.9688\n",
            "Training acc over epoch: 0.9062\n",
            "Training acc over epoch: 0.8438\n",
            "Training acc over epoch: 0.9688\n",
            "Training acc over epoch: 0.7812\n",
            "Training acc over epoch: 0.8750"
          ]
        },
        {
          "output_type": "stream",
          "name": "stderr",
          "text": [
            " 16%|█▌        | 268/1688 [00:03<00:19, 74.43it/s]"
          ]
        },
        {
          "output_type": "stream",
          "name": "stdout",
          "text": [
            "\n",
            "Training acc over epoch: 0.8750\n",
            "Training acc over epoch: 0.9062\n",
            "Training acc over epoch: 0.7500\n",
            "Training acc over epoch: 0.8750\n",
            "Training acc over epoch: 0.9062\n",
            "Training acc over epoch: 0.9375\n",
            "Training acc over epoch: 0.8438\n",
            "Training acc over epoch: 0.8750\n",
            "Training acc over epoch: 0.9375\n",
            "Training acc over epoch: 0.9062\n",
            "Training acc over epoch: 0.8125\n",
            "Training acc over epoch: 0.9062\n",
            "Training acc over epoch: 0.8438\n",
            "Training acc over epoch: 0.9375\n"
          ]
        },
        {
          "output_type": "stream",
          "name": "stderr",
          "text": [
            " 17%|█▋        | 285/1688 [00:03<00:18, 77.39it/s]"
          ]
        },
        {
          "output_type": "stream",
          "name": "stdout",
          "text": [
            "Training acc over epoch: 0.9062\n",
            "Training acc over epoch: 0.9375\n",
            "Training acc over epoch: 0.9375\n",
            "Training acc over epoch: 0.9062\n",
            "Training acc over epoch: 0.9688\n",
            "Training acc over epoch: 0.9062\n",
            "Training acc over epoch: 0.8750\n",
            "Training acc over epoch: 0.9062\n",
            "Training acc over epoch: 0.9062\n",
            "Training acc over epoch: 0.9062\n",
            "Training acc over epoch: 0.8750\n",
            "Training acc over epoch: 0.7812\n",
            "Training acc over epoch: 0.9062\n",
            "Training acc over epoch: 0.8438\n",
            "Training acc over epoch: 0.9375\n",
            "Training acc over epoch: 0.9062\n",
            "Training acc over epoch: 0.8750\n"
          ]
        },
        {
          "output_type": "stream",
          "name": "stderr",
          "text": [
            " 18%|█▊        | 303/1688 [00:03<00:16, 82.45it/s]"
          ]
        },
        {
          "output_type": "stream",
          "name": "stdout",
          "text": [
            "Training acc over epoch: 0.7188\n",
            "Training acc over epoch: 0.8750\n",
            "Training acc over epoch: 0.8438\n",
            "Training acc over epoch: 0.8125\n",
            "Training acc over epoch: 0.8438\n",
            "Training acc over epoch: 0.9688\n",
            "Training acc over epoch: 0.7812\n",
            "Training acc over epoch: 0.7812\n",
            "Training acc over epoch: 0.9375\n",
            "Training acc over epoch: 0.8438\n",
            "Training acc over epoch: 0.9062\n",
            "Training acc over epoch: 0.9688\n",
            "Training acc over epoch: 0.9062\n",
            "Training acc over epoch: 0.8125\n",
            "Training acc over epoch: 0.8750\n",
            "Training acc over epoch: 0.8750\n",
            "Training acc over epoch: 0.8125\n",
            "Training acc over epoch: 0.8438\n",
            "Training acc over epoch: 0.8750\n"
          ]
        },
        {
          "output_type": "stream",
          "name": "stderr",
          "text": [
            " 19%|█▉        | 321/1688 [00:04<00:16, 84.62it/s]"
          ]
        },
        {
          "output_type": "stream",
          "name": "stdout",
          "text": [
            "Training acc over epoch: 0.9062\n",
            "Training acc over epoch: 0.9062\n",
            "Training acc over epoch: 0.8750\n",
            "Training acc over epoch: 0.8438\n",
            "Training acc over epoch: 0.7812\n",
            "Training acc over epoch: 0.9688\n",
            "Training acc over epoch: 1.0000\n",
            "Training acc over epoch: 0.8750\n",
            "Training acc over epoch: 0.8750\n",
            "Training acc over epoch: 0.8438\n",
            "Training acc over epoch: 0.8750\n",
            "Training acc over epoch: 0.9062\n",
            "Training acc over epoch: 0.8438\n",
            "Training acc over epoch: 0.8438\n",
            "Training acc over epoch: 0.8750\n",
            "Training acc over epoch: 0.8438\n",
            "Training acc over epoch: 0.8750\n",
            "Training acc over epoch: 0.7812\n"
          ]
        },
        {
          "output_type": "stream",
          "name": "stderr",
          "text": [
            " 20%|██        | 339/1688 [00:04<00:16, 83.12it/s]"
          ]
        },
        {
          "output_type": "stream",
          "name": "stdout",
          "text": [
            "Training acc over epoch: 0.9062\n",
            "Training acc over epoch: 0.8438\n",
            "Training acc over epoch: 0.8750\n",
            "Training acc over epoch: 0.8750\n",
            "Training acc over epoch: 0.8750\n",
            "Training acc over epoch: 0.8438\n",
            "Training acc over epoch: 0.8438\n",
            "Training acc over epoch: 0.8750\n",
            "Training acc over epoch: 0.8125\n",
            "Training acc over epoch: 0.8438\n",
            "Training acc over epoch: 0.9688\n",
            "Training acc over epoch: 0.8438\n",
            "Training acc over epoch: 0.8750\n",
            "Training acc over epoch: 0.7500\n",
            "Training acc over epoch: 0.9062\n",
            "Training acc over epoch: 0.9375\n",
            "Training acc over epoch: 0.7812\n",
            "Training acc over epoch: 0.8750\n"
          ]
        },
        {
          "output_type": "stream",
          "name": "stderr",
          "text": [
            " 21%|██        | 358/1688 [00:04<00:15, 87.15it/s]"
          ]
        },
        {
          "output_type": "stream",
          "name": "stdout",
          "text": [
            "Training acc over epoch: 0.9375\n",
            "Training acc over epoch: 0.9062\n",
            "Training acc over epoch: 0.9688\n",
            "Training acc over epoch: 0.8125\n",
            "Training acc over epoch: 0.8438\n",
            "Training acc over epoch: 0.9062\n",
            "Training acc over epoch: 0.8438\n",
            "Training acc over epoch: 0.8438\n",
            "Training acc over epoch: 0.8750\n",
            "Training acc over epoch: 0.9375\n",
            "Training acc over epoch: 0.7812\n",
            "Training acc over epoch: 0.9062\n",
            "Training acc over epoch: 0.9375\n",
            "Training acc over epoch: 0.9375\n",
            "Training acc over epoch: 0.9062\n",
            "Training acc over epoch: 0.8750\n",
            "Training acc over epoch: 0.8438\n",
            "Training acc over epoch: 0.8750\n"
          ]
        },
        {
          "output_type": "stream",
          "name": "stderr",
          "text": [
            " 22%|██▏       | 376/1688 [00:04<00:15, 82.37it/s]"
          ]
        },
        {
          "output_type": "stream",
          "name": "stdout",
          "text": [
            "Training acc over epoch: 0.8750\n",
            "Training acc over epoch: 0.8438\n",
            "Training acc over epoch: 0.8750\n",
            "Training acc over epoch: 0.8125\n",
            "Training acc over epoch: 0.9688\n",
            "Training acc over epoch: 0.9062\n",
            "Training acc over epoch: 0.8750\n",
            "Training acc over epoch: 1.0000\n",
            "Training acc over epoch: 0.8438\n",
            "Training acc over epoch: 0.9375\n",
            "Training acc over epoch: 0.8750\n",
            "Training acc over epoch: 0.9062\n",
            "Training acc over epoch: 0.8750\n",
            "Training acc over epoch: 0.9375\n",
            "Training acc over epoch: 0.9375\n",
            "Training acc over epoch: 0.9688\n",
            "Training acc over epoch: 0.9688\n"
          ]
        },
        {
          "output_type": "stream",
          "name": "stderr",
          "text": [
            " 23%|██▎       | 394/1688 [00:04<00:16, 80.67it/s]"
          ]
        },
        {
          "output_type": "stream",
          "name": "stdout",
          "text": [
            "Training acc over epoch: 0.9375\n",
            "Training acc over epoch: 0.9375\n",
            "Training acc over epoch: 0.8750\n",
            "Training acc over epoch: 0.8438\n",
            "Training acc over epoch: 0.8750\n",
            "Training acc over epoch: 0.8438\n",
            "Training acc over epoch: 1.0000\n",
            "Training acc over epoch: 0.7812\n",
            "Training acc over epoch: 0.8125\n",
            "Training acc over epoch: 0.8750\n",
            "Training acc over epoch: 0.8750\n",
            "Training acc over epoch: 0.9688\n",
            "Training acc over epoch: 0.9062\n",
            "Training acc over epoch: 0.8438\n",
            "Training acc over epoch: 0.8438\n",
            "Training acc over epoch: 0.7500\n",
            "Training acc over epoch: 0.8125\n"
          ]
        },
        {
          "output_type": "stream",
          "name": "stderr",
          "text": [
            " 24%|██▍       | 412/1688 [00:05<00:15, 83.43it/s]"
          ]
        },
        {
          "output_type": "stream",
          "name": "stdout",
          "text": [
            "Training acc over epoch: 0.8438\n",
            "Training acc over epoch: 0.7812\n",
            "Training acc over epoch: 0.9062\n",
            "Training acc over epoch: 0.8750\n",
            "Training acc over epoch: 0.9062\n",
            "Training acc over epoch: 0.9375\n",
            "Training acc over epoch: 0.9375\n",
            "Training acc over epoch: 0.8750\n",
            "Training acc over epoch: 0.8438\n",
            "Training acc over epoch: 0.8750\n",
            "Training acc over epoch: 0.9062\n",
            "Training acc over epoch: 0.9375\n",
            "Training acc over epoch: 0.8750\n",
            "Training acc over epoch: 0.8438\n",
            "Training acc over epoch: 0.9375\n",
            "Training acc over epoch: 0.9375\n",
            "Training acc over epoch: 0.8438\n",
            "Training acc over epoch: 0.9062\n"
          ]
        },
        {
          "output_type": "stream",
          "name": "stderr",
          "text": [
            " 25%|██▌       | 430/1688 [00:05<00:15, 81.20it/s]"
          ]
        },
        {
          "output_type": "stream",
          "name": "stdout",
          "text": [
            "Training acc over epoch: 0.8125\n",
            "Training acc over epoch: 0.8750\n",
            "Training acc over epoch: 0.8438\n",
            "Training acc over epoch: 0.8438\n",
            "Training acc over epoch: 0.9062\n",
            "Training acc over epoch: 0.9375\n",
            "Training acc over epoch: 0.9375\n",
            "Training acc over epoch: 0.8750\n",
            "Training acc over epoch: 0.7812\n",
            "Training acc over epoch: 0.9688\n",
            "Training acc over epoch: 0.9375\n",
            "Training acc over epoch: 0.7812\n",
            "Training acc over epoch: 0.8438\n",
            "Training acc over epoch: 0.8438\n",
            "Training acc over epoch: 0.9375\n",
            "Training acc over epoch: 0.8125\n",
            "Training acc over epoch: 0.9375\n"
          ]
        },
        {
          "output_type": "stream",
          "name": "stderr",
          "text": [
            " 27%|██▋       | 448/1688 [00:05<00:14, 82.75it/s]"
          ]
        },
        {
          "output_type": "stream",
          "name": "stdout",
          "text": [
            "Training acc over epoch: 0.9062\n",
            "Training acc over epoch: 0.7500\n",
            "Training acc over epoch: 0.8750\n",
            "Training acc over epoch: 0.9062\n",
            "Training acc over epoch: 0.7812\n",
            "Training acc over epoch: 1.0000\n",
            "Training acc over epoch: 0.7812\n",
            "Training acc over epoch: 0.7188\n",
            "Training acc over epoch: 0.9062\n",
            "Training acc over epoch: 0.9688\n",
            "Training acc over epoch: 0.9062\n",
            "Training acc over epoch: 0.9062\n",
            "Training acc over epoch: 0.9375\n",
            "Training acc over epoch: 0.9062\n",
            "Training acc over epoch: 0.9062\n",
            "Training acc over epoch: 0.8438\n",
            "Training acc over epoch: 0.9688\n",
            "Training acc over epoch: 0.8438\n"
          ]
        },
        {
          "output_type": "stream",
          "name": "stderr",
          "text": [
            "\r 27%|██▋       | 457/1688 [00:05<00:15, 80.38it/s]"
          ]
        },
        {
          "output_type": "stream",
          "name": "stdout",
          "text": [
            "Training acc over epoch: 1.0000\n",
            "Training acc over epoch: 0.8750\n",
            "Training acc over epoch: 0.9688\n",
            "Training acc over epoch: 0.8125\n",
            "Training acc over epoch: 0.7500\n",
            "Training acc over epoch: 0.8438\n",
            "Training acc over epoch: 0.9062\n",
            "Training acc over epoch: 0.8750\n",
            "Training acc over epoch: 0.8750\n",
            "Training acc over epoch: 0.9062\n",
            "Training acc over epoch: 0.8750\n",
            "Training acc over epoch: 0.9375\n",
            "Training acc over epoch: 0.8438\n",
            "Training acc over epoch: 0.8750\n",
            "Training acc over epoch: 0.7812\n",
            "Training acc over epoch: 0.9062\n"
          ]
        },
        {
          "output_type": "stream",
          "name": "stderr",
          "text": [
            " 28%|██▊       | 475/1688 [00:05<00:14, 81.01it/s]"
          ]
        },
        {
          "output_type": "stream",
          "name": "stdout",
          "text": [
            "Training acc over epoch: 0.9375\n",
            "Training acc over epoch: 0.7812\n",
            "Training acc over epoch: 0.9375\n",
            "Training acc over epoch: 0.8438\n",
            "Training acc over epoch: 0.9375\n",
            "Training acc over epoch: 0.8125\n",
            "Training acc over epoch: 0.8750\n",
            "Training acc over epoch: 0.8125\n",
            "Training acc over epoch: 0.8125\n",
            "Training acc over epoch: 0.7812\n",
            "Training acc over epoch: 0.8750\n",
            "Training acc over epoch: 0.8750\n",
            "Training acc over epoch: 0.7812\n",
            "Training acc over epoch: 0.8438\n",
            "Training acc over epoch: 0.9062\n",
            "Training acc over epoch: 0.9062\n",
            "Training acc over epoch: 0.8750\n",
            "Training acc over epoch: 0.9062\n",
            "Training acc over epoch: 0.9062"
          ]
        },
        {
          "output_type": "stream",
          "name": "stderr",
          "text": [
            " 29%|██▉       | 493/1688 [00:06<00:14, 83.88it/s]"
          ]
        },
        {
          "output_type": "stream",
          "name": "stdout",
          "text": [
            "\n",
            "Training acc over epoch: 1.0000\n",
            "Training acc over epoch: 0.9688\n",
            "Training acc over epoch: 0.9062\n",
            "Training acc over epoch: 0.9062\n",
            "Training acc over epoch: 0.8750\n",
            "Training acc over epoch: 0.8125\n",
            "Training acc over epoch: 0.8750\n",
            "Training acc over epoch: 0.8125\n",
            "Training acc over epoch: 0.8750\n",
            "Training acc over epoch: 0.8438\n",
            "Training acc over epoch: 0.8750\n",
            "Training acc over epoch: 0.9375\n",
            "Training acc over epoch: 0.8750\n",
            "Training acc over epoch: 0.9375\n",
            "Training acc over epoch: 0.8750\n",
            "Training acc over epoch: 0.9375\n",
            "Training acc over epoch: 0.9688\n",
            "Training acc over epoch: 0.9062\n"
          ]
        },
        {
          "output_type": "stream",
          "name": "stderr",
          "text": [
            "\r 30%|██▉       | 502/1688 [00:06<00:24, 48.01it/s]"
          ]
        },
        {
          "output_type": "stream",
          "name": "stdout",
          "text": [
            "Training acc over epoch: 0.7812\n",
            "Training acc over epoch: 0.8438\n",
            "Training acc over epoch: 0.8750\n",
            "Training acc over epoch: 0.8438\n",
            "Training acc over epoch: 0.8750\n"
          ]
        },
        {
          "output_type": "stream",
          "name": "stderr",
          "text": [
            "\r 30%|███       | 509/1688 [00:06<00:33, 35.60it/s]"
          ]
        },
        {
          "output_type": "stream",
          "name": "stdout",
          "text": [
            "Training acc over epoch: 0.9375\n",
            "Training acc over epoch: 0.9375\n",
            "Training acc over epoch: 0.8750\n",
            "Training acc over epoch: 0.9062\n",
            "Training acc over epoch: 0.8750\n",
            "Training acc over epoch: 0.9375\n",
            "Training acc over epoch: 0.7812\n",
            "Training acc over epoch: 0.9062\n"
          ]
        },
        {
          "output_type": "stream",
          "name": "stderr",
          "text": [
            "\r 31%|███       | 515/1688 [00:07<00:41, 28.51it/s]"
          ]
        },
        {
          "output_type": "stream",
          "name": "stdout",
          "text": [
            "Training acc over epoch: 0.8125\n",
            "Training acc over epoch: 0.8125\n",
            "Training acc over epoch: 0.8750\n",
            "Training acc over epoch: 0.9062\n"
          ]
        },
        {
          "output_type": "stream",
          "name": "stderr",
          "text": [
            " 31%|███       | 526/1688 [00:07<00:39, 29.63it/s]"
          ]
        },
        {
          "output_type": "stream",
          "name": "stdout",
          "text": [
            "Training acc over epoch: 0.8438\n",
            "Training acc over epoch: 0.8750\n",
            "Training acc over epoch: 0.9062\n",
            "Training acc over epoch: 0.9375\n",
            "Training acc over epoch: 0.7812\n",
            "Training acc over epoch: 0.9375\n",
            "Training acc over epoch: 0.8750\n",
            "Training acc over epoch: 0.8125\n",
            "Training acc over epoch: 0.7812\n",
            "Training acc over epoch: 0.7188\n"
          ]
        },
        {
          "output_type": "stream",
          "name": "stderr",
          "text": [
            " 32%|███▏      | 543/1688 [00:07<00:24, 46.83it/s]"
          ]
        },
        {
          "output_type": "stream",
          "name": "stdout",
          "text": [
            "Training acc over epoch: 0.8750\n",
            "Training acc over epoch: 0.8438\n",
            "Training acc over epoch: 0.8125\n",
            "Training acc over epoch: 0.7812\n",
            "Training acc over epoch: 0.7812\n",
            "Training acc over epoch: 0.8438\n",
            "Training acc over epoch: 0.7812\n",
            "Training acc over epoch: 0.8438\n",
            "Training acc over epoch: 0.9062\n",
            "Training acc over epoch: 0.7812\n",
            "Training acc over epoch: 0.8438\n",
            "Training acc over epoch: 0.9062\n",
            "Training acc over epoch: 0.9688\n",
            "Training acc over epoch: 0.8750\n",
            "Training acc over epoch: 0.7812\n",
            "Training acc over epoch: 0.8125\n",
            "Training acc over epoch: 0.9375\n",
            "Training acc over epoch: 0.8125\n"
          ]
        },
        {
          "output_type": "stream",
          "name": "stderr",
          "text": [
            " 33%|███▎      | 560/1688 [00:07<00:18, 59.71it/s]"
          ]
        },
        {
          "output_type": "stream",
          "name": "stdout",
          "text": [
            "Training acc over epoch: 0.7812\n",
            "Training acc over epoch: 0.7812\n",
            "Training acc over epoch: 0.9062\n",
            "Training acc over epoch: 0.8750\n",
            "Training acc over epoch: 0.7812\n",
            "Training acc over epoch: 0.9062\n",
            "Training acc over epoch: 0.9375\n",
            "Training acc over epoch: 0.9375\n",
            "Training acc over epoch: 0.8438\n",
            "Training acc over epoch: 0.9375\n",
            "Training acc over epoch: 0.9062\n",
            "Training acc over epoch: 0.8750\n",
            "Training acc over epoch: 0.9062\n",
            "Training acc over epoch: 0.9375\n",
            "Training acc over epoch: 0.9062\n",
            "Training acc over epoch: 0.8750\n",
            "Training acc over epoch: 0.9375\n"
          ]
        },
        {
          "output_type": "stream",
          "name": "stderr",
          "text": [
            " 34%|███▍      | 576/1688 [00:08<00:16, 65.54it/s]"
          ]
        },
        {
          "output_type": "stream",
          "name": "stdout",
          "text": [
            "Training acc over epoch: 0.8125\n",
            "Training acc over epoch: 0.8750\n",
            "Training acc over epoch: 0.8438\n",
            "Training acc over epoch: 0.8750\n",
            "Training acc over epoch: 0.9375\n",
            "Training acc over epoch: 0.9688\n",
            "Training acc over epoch: 0.7812\n",
            "Training acc over epoch: 1.0000\n",
            "Training acc over epoch: 0.8750\n",
            "Training acc over epoch: 0.9375\n",
            "Training acc over epoch: 0.8438\n",
            "Training acc over epoch: 0.8125\n",
            "Training acc over epoch: 0.8750\n",
            "Training acc over epoch: 0.8750\n",
            "Training acc over epoch: 0.9062\n"
          ]
        },
        {
          "output_type": "stream",
          "name": "stderr",
          "text": [
            " 35%|███▌      | 592/1688 [00:08<00:16, 68.47it/s]"
          ]
        },
        {
          "output_type": "stream",
          "name": "stdout",
          "text": [
            "Training acc over epoch: 0.9375\n",
            "Training acc over epoch: 0.9062\n",
            "Training acc over epoch: 0.8438\n",
            "Training acc over epoch: 0.9375\n",
            "Training acc over epoch: 0.8125\n",
            "Training acc over epoch: 0.8125\n",
            "Training acc over epoch: 0.9062\n",
            "Training acc over epoch: 0.9062\n",
            "Training acc over epoch: 0.8125\n",
            "Training acc over epoch: 0.9062\n",
            "Training acc over epoch: 0.9375\n",
            "Training acc over epoch: 0.8438\n",
            "Training acc over epoch: 0.8750\n",
            "Training acc over epoch: 0.8125\n",
            "Training acc over epoch: 0.9375\n",
            "Training acc over epoch: 0.8438\n"
          ]
        },
        {
          "output_type": "stream",
          "name": "stderr",
          "text": [
            " 36%|███▌      | 610/1688 [00:08<00:13, 77.25it/s]"
          ]
        },
        {
          "output_type": "stream",
          "name": "stdout",
          "text": [
            "Training acc over epoch: 0.8750\n",
            "Training acc over epoch: 0.9375\n",
            "Training acc over epoch: 0.9375\n",
            "Training acc over epoch: 0.9375\n",
            "Training acc over epoch: 0.9062\n",
            "Training acc over epoch: 0.8438\n",
            "Training acc over epoch: 0.9062\n",
            "Training acc over epoch: 0.9375\n",
            "Training acc over epoch: 0.9062\n",
            "Training acc over epoch: 1.0000\n",
            "Training acc over epoch: 0.7812\n",
            "Training acc over epoch: 0.9062\n",
            "Training acc over epoch: 0.9062\n",
            "Training acc over epoch: 1.0000\n",
            "Training acc over epoch: 0.9062\n",
            "Training acc over epoch: 0.9688\n",
            "Training acc over epoch: 0.9375\n",
            "Training acc over epoch: 0.9375\n"
          ]
        },
        {
          "output_type": "stream",
          "name": "stderr",
          "text": [
            " 37%|███▋      | 628/1688 [00:08<00:12, 82.36it/s]"
          ]
        },
        {
          "output_type": "stream",
          "name": "stdout",
          "text": [
            "Training acc over epoch: 0.7812\n",
            "Training acc over epoch: 0.9062\n",
            "Training acc over epoch: 1.0000\n",
            "Training acc over epoch: 0.8125\n",
            "Training acc over epoch: 0.7500\n",
            "Training acc over epoch: 0.8438\n",
            "Training acc over epoch: 0.9375\n",
            "Training acc over epoch: 0.9062\n",
            "Training acc over epoch: 0.9062\n",
            "Training acc over epoch: 0.9062\n",
            "Training acc over epoch: 0.8750\n",
            "Training acc over epoch: 0.9062\n",
            "Training acc over epoch: 0.9688\n",
            "Training acc over epoch: 0.9062\n",
            "Training acc over epoch: 0.9062\n",
            "Training acc over epoch: 0.8125\n",
            "Training acc over epoch: 0.9062\n",
            "Training acc over epoch: 0.8438\n"
          ]
        },
        {
          "output_type": "stream",
          "name": "stderr",
          "text": [
            " 38%|███▊      | 646/1688 [00:09<00:12, 85.40it/s]"
          ]
        },
        {
          "output_type": "stream",
          "name": "stdout",
          "text": [
            "Training acc over epoch: 0.9062\n",
            "Training acc over epoch: 0.9062\n",
            "Training acc over epoch: 0.8438\n",
            "Training acc over epoch: 0.9375\n",
            "Training acc over epoch: 0.9375\n",
            "Training acc over epoch: 0.8750\n",
            "Training acc over epoch: 0.9062\n",
            "Training acc over epoch: 0.9062\n",
            "Training acc over epoch: 0.9062\n",
            "Training acc over epoch: 0.9062\n",
            "Training acc over epoch: 0.7812\n",
            "Training acc over epoch: 0.9688\n",
            "Training acc over epoch: 0.9062\n",
            "Training acc over epoch: 0.8750\n",
            "Training acc over epoch: 0.8750\n",
            "Training acc over epoch: 0.9375\n",
            "Training acc over epoch: 0.9062\n",
            "Training acc over epoch: 0.7812\n",
            "Training acc over epoch: 0.8750\n"
          ]
        },
        {
          "output_type": "stream",
          "name": "stderr",
          "text": [
            " 39%|███▉      | 665/1688 [00:09<00:11, 88.29it/s]"
          ]
        },
        {
          "output_type": "stream",
          "name": "stdout",
          "text": [
            "Training acc over epoch: 0.7188\n",
            "Training acc over epoch: 0.7812\n",
            "Training acc over epoch: 0.9688\n",
            "Training acc over epoch: 0.9062\n",
            "Training acc over epoch: 0.9688\n",
            "Training acc over epoch: 0.9375\n",
            "Training acc over epoch: 0.8438\n",
            "Training acc over epoch: 0.7812\n",
            "Training acc over epoch: 0.8438\n",
            "Training acc over epoch: 0.9375\n",
            "Training acc over epoch: 0.9375\n",
            "Training acc over epoch: 0.9375\n",
            "Training acc over epoch: 0.9688\n",
            "Training acc over epoch: 0.9375\n",
            "Training acc over epoch: 0.9375\n",
            "Training acc over epoch: 0.9062\n",
            "Training acc over epoch: 0.8750\n",
            "Training acc over epoch: 0.8750\n"
          ]
        },
        {
          "output_type": "stream",
          "name": "stderr",
          "text": [
            " 41%|████      | 684/1688 [00:09<00:11, 88.47it/s]"
          ]
        },
        {
          "output_type": "stream",
          "name": "stdout",
          "text": [
            "Training acc over epoch: 0.8125\n",
            "Training acc over epoch: 0.8125\n",
            "Training acc over epoch: 0.8438\n",
            "Training acc over epoch: 0.9375\n",
            "Training acc over epoch: 0.8438\n",
            "Training acc over epoch: 0.9062\n",
            "Training acc over epoch: 0.9375\n",
            "Training acc over epoch: 0.9375\n",
            "Training acc over epoch: 0.9688\n",
            "Training acc over epoch: 0.8125\n",
            "Training acc over epoch: 0.9062\n",
            "Training acc over epoch: 0.9375\n",
            "Training acc over epoch: 0.7500\n",
            "Training acc over epoch: 0.9062\n",
            "Training acc over epoch: 0.9688\n",
            "Training acc over epoch: 0.9062\n",
            "Training acc over epoch: 0.9062\n",
            "Training acc over epoch: 0.9062\n"
          ]
        },
        {
          "output_type": "stream",
          "name": "stderr",
          "text": [
            " 42%|████▏     | 703/1688 [00:09<00:11, 88.67it/s]"
          ]
        },
        {
          "output_type": "stream",
          "name": "stdout",
          "text": [
            "Training acc over epoch: 0.9375\n",
            "Training acc over epoch: 0.9375\n",
            "Training acc over epoch: 0.8750\n",
            "Training acc over epoch: 0.9062\n",
            "Training acc over epoch: 0.9375\n",
            "Training acc over epoch: 0.8125\n",
            "Training acc over epoch: 0.9375\n",
            "Training acc over epoch: 0.8438\n",
            "Training acc over epoch: 0.9375\n",
            "Training acc over epoch: 0.8438\n",
            "Training acc over epoch: 0.8438\n",
            "Training acc over epoch: 0.9375\n",
            "Training acc over epoch: 0.8438\n",
            "Training acc over epoch: 0.8750\n",
            "Training acc over epoch: 0.9375\n",
            "Training acc over epoch: 0.9062\n",
            "Training acc over epoch: 0.8750\n",
            "Training acc over epoch: 0.7812\n",
            "Training acc over epoch: 0.8125\n"
          ]
        },
        {
          "output_type": "stream",
          "name": "stderr",
          "text": [
            " 43%|████▎     | 721/1688 [00:09<00:11, 87.66it/s]"
          ]
        },
        {
          "output_type": "stream",
          "name": "stdout",
          "text": [
            "Training acc over epoch: 0.9062\n",
            "Training acc over epoch: 1.0000\n",
            "Training acc over epoch: 0.8438\n",
            "Training acc over epoch: 0.8750\n",
            "Training acc over epoch: 0.8125\n",
            "Training acc over epoch: 0.9375\n",
            "Training acc over epoch: 0.9375\n",
            "Training acc over epoch: 1.0000\n",
            "Training acc over epoch: 0.8125\n",
            "Training acc over epoch: 0.8438\n",
            "Training acc over epoch: 0.8438\n",
            "Training acc over epoch: 0.9375\n",
            "Training acc over epoch: 0.9062\n",
            "Training acc over epoch: 0.7812\n",
            "Training acc over epoch: 0.9062\n",
            "Training acc over epoch: 0.9375\n",
            "Training acc over epoch: 0.8750\n",
            "Training acc over epoch: 0.9688\n"
          ]
        },
        {
          "output_type": "stream",
          "name": "stderr",
          "text": [
            " 44%|████▍     | 739/1688 [00:10<00:11, 84.21it/s]"
          ]
        },
        {
          "output_type": "stream",
          "name": "stdout",
          "text": [
            "Training acc over epoch: 0.8750\n",
            "Training acc over epoch: 0.8750\n",
            "Training acc over epoch: 0.7188\n",
            "Training acc over epoch: 0.9375\n",
            "Training acc over epoch: 0.8750\n",
            "Training acc over epoch: 0.9062\n",
            "Training acc over epoch: 1.0000\n",
            "Training acc over epoch: 0.8125\n",
            "Training acc over epoch: 0.9062\n",
            "Training acc over epoch: 0.8750\n",
            "Training acc over epoch: 0.8750\n",
            "Training acc over epoch: 0.8750\n",
            "Training acc over epoch: 0.9062\n",
            "Training acc over epoch: 0.9375\n",
            "Training acc over epoch: 0.8750\n",
            "Training acc over epoch: 0.8438\n",
            "Training acc over epoch: 0.9375\n"
          ]
        },
        {
          "output_type": "stream",
          "name": "stderr",
          "text": [
            "\r 44%|████▍     | 748/1688 [00:10<00:11, 82.45it/s]"
          ]
        },
        {
          "output_type": "stream",
          "name": "stdout",
          "text": [
            "Training acc over epoch: 0.7812\n",
            "Training acc over epoch: 0.7812\n",
            "Training acc over epoch: 0.9688\n",
            "Training acc over epoch: 0.8438\n",
            "Training acc over epoch: 0.8750\n",
            "Training acc over epoch: 0.8750\n",
            "Training acc over epoch: 0.9375\n",
            "Training acc over epoch: 0.8125\n",
            "Training acc over epoch: 0.7812\n",
            "Training acc over epoch: 0.9688\n",
            "Training acc over epoch: 0.9062\n",
            "Training acc over epoch: 0.8750\n",
            "Training acc over epoch: 0.9688\n",
            "Training acc over epoch: 0.8438\n",
            "Training acc over epoch: 0.7812\n",
            "Training acc over epoch: 0.8750\n",
            "Training acc over epoch: 0.9375\n"
          ]
        },
        {
          "output_type": "stream",
          "name": "stderr",
          "text": [
            " 45%|████▌     | 766/1688 [00:10<00:11, 79.24it/s]"
          ]
        },
        {
          "output_type": "stream",
          "name": "stdout",
          "text": [
            "Training acc over epoch: 0.8125\n",
            "Training acc over epoch: 0.8750\n",
            "Training acc over epoch: 0.9375\n",
            "Training acc over epoch: 0.9375\n",
            "Training acc over epoch: 0.8750\n",
            "Training acc over epoch: 1.0000\n",
            "Training acc over epoch: 0.7812\n",
            "Training acc over epoch: 0.8438\n",
            "Training acc over epoch: 0.8438\n",
            "Training acc over epoch: 0.7812\n",
            "Training acc over epoch: 0.9375\n",
            "Training acc over epoch: 0.7500\n",
            "Training acc over epoch: 0.9375\n",
            "Training acc over epoch: 0.9062\n",
            "Training acc over epoch: 0.8750\n",
            "Training acc over epoch: 0.8438\n"
          ]
        },
        {
          "output_type": "stream",
          "name": "stderr",
          "text": [
            " 46%|████▋     | 783/1688 [00:10<00:11, 80.09it/s]"
          ]
        },
        {
          "output_type": "stream",
          "name": "stdout",
          "text": [
            "Training acc over epoch: 0.9375\n",
            "Training acc over epoch: 0.9062\n",
            "Training acc over epoch: 0.9062\n",
            "Training acc over epoch: 0.7812\n",
            "Training acc over epoch: 0.9062\n",
            "Training acc over epoch: 0.8438\n",
            "Training acc over epoch: 0.7812\n",
            "Training acc over epoch: 0.8750\n",
            "Training acc over epoch: 0.8750\n",
            "Training acc over epoch: 0.9062\n",
            "Training acc over epoch: 0.8125\n",
            "Training acc over epoch: 0.8750\n",
            "Training acc over epoch: 0.8750\n",
            "Training acc over epoch: 0.9062\n",
            "Training acc over epoch: 0.8438\n",
            "Training acc over epoch: 0.9062\n",
            "Training acc over epoch: 0.9375\n"
          ]
        },
        {
          "output_type": "stream",
          "name": "stderr",
          "text": [
            " 47%|████▋     | 800/1688 [00:10<00:11, 77.31it/s]"
          ]
        },
        {
          "output_type": "stream",
          "name": "stdout",
          "text": [
            "Training acc over epoch: 0.8750\n",
            "Training acc over epoch: 0.9062\n",
            "Training acc over epoch: 0.9062\n",
            "Training acc over epoch: 0.9062\n",
            "Training acc over epoch: 0.8438\n",
            "Training acc over epoch: 0.8438\n",
            "Training acc over epoch: 0.8125\n",
            "Training acc over epoch: 0.8750\n",
            "Training acc over epoch: 0.9062\n",
            "Training acc over epoch: 0.8438\n",
            "Training acc over epoch: 0.8750\n",
            "Training acc over epoch: 0.8438\n",
            "Training acc over epoch: 0.9062\n",
            "Training acc over epoch: 0.9062\n",
            "Training acc over epoch: 0.8750\n",
            "Training acc over epoch: 0.8438\n"
          ]
        },
        {
          "output_type": "stream",
          "name": "stderr",
          "text": [
            " 48%|████▊     | 816/1688 [00:11<00:11, 76.88it/s]"
          ]
        },
        {
          "output_type": "stream",
          "name": "stdout",
          "text": [
            "Training acc over epoch: 0.9062\n",
            "Training acc over epoch: 0.8125\n",
            "Training acc over epoch: 0.9062\n",
            "Training acc over epoch: 0.8438\n",
            "Training acc over epoch: 0.7812\n",
            "Training acc over epoch: 0.8750\n",
            "Training acc over epoch: 0.9688\n",
            "Training acc over epoch: 0.9688\n",
            "Training acc over epoch: 0.8125\n",
            "Training acc over epoch: 0.8125\n",
            "Training acc over epoch: 0.9688\n",
            "Training acc over epoch: 0.8438\n",
            "Training acc over epoch: 0.9375\n",
            "Training acc over epoch: 0.9375\n",
            "Training acc over epoch: 0.7812\n",
            "Training acc over epoch: 0.8750\n"
          ]
        },
        {
          "output_type": "stream",
          "name": "stderr",
          "text": [
            " 49%|████▉     | 833/1688 [00:11<00:11, 77.25it/s]"
          ]
        },
        {
          "output_type": "stream",
          "name": "stdout",
          "text": [
            "Training acc over epoch: 0.7188\n",
            "Training acc over epoch: 0.8750\n",
            "Training acc over epoch: 0.9062\n",
            "Training acc over epoch: 0.9375\n",
            "Training acc over epoch: 0.8438\n",
            "Training acc over epoch: 0.7812\n",
            "Training acc over epoch: 0.7812\n",
            "Training acc over epoch: 0.9062\n",
            "Training acc over epoch: 0.7500\n",
            "Training acc over epoch: 0.8125\n",
            "Training acc over epoch: 0.8125\n",
            "Training acc over epoch: 0.9375\n",
            "Training acc over epoch: 0.8750\n",
            "Training acc over epoch: 0.8750\n",
            "Training acc over epoch: 0.7812\n",
            "Training acc over epoch: 0.8125\n",
            "Training acc over epoch: 0.9688\n",
            "Training acc over epoch: 0.9062\n"
          ]
        },
        {
          "output_type": "stream",
          "name": "stderr",
          "text": [
            " 50%|█████     | 852/1688 [00:11<00:10, 82.74it/s]"
          ]
        },
        {
          "output_type": "stream",
          "name": "stdout",
          "text": [
            "Training acc over epoch: 0.8750\n",
            "Training acc over epoch: 0.8125\n",
            "Training acc over epoch: 0.8750\n",
            "Training acc over epoch: 0.9688\n",
            "Training acc over epoch: 0.9062\n",
            "Training acc over epoch: 0.7812\n",
            "Training acc over epoch: 0.9688\n",
            "Training acc over epoch: 0.9375\n",
            "Training acc over epoch: 0.9062\n",
            "Training acc over epoch: 0.7812\n",
            "Training acc over epoch: 0.8125\n",
            "Training acc over epoch: 0.7500\n",
            "Training acc over epoch: 0.8750\n",
            "Training acc over epoch: 0.9062\n",
            "Training acc over epoch: 0.8438\n",
            "Training acc over epoch: 0.9375\n",
            "Training acc over epoch: 0.8438\n",
            "Training acc over epoch: 0.9375\n",
            "Training acc over epoch: 0.8438\n"
          ]
        },
        {
          "output_type": "stream",
          "name": "stderr",
          "text": [
            " 52%|█████▏    | 870/1688 [00:11<00:09, 85.01it/s]"
          ]
        },
        {
          "output_type": "stream",
          "name": "stdout",
          "text": [
            "Training acc over epoch: 0.9375\n",
            "Training acc over epoch: 0.8750\n",
            "Training acc over epoch: 0.8438\n",
            "Training acc over epoch: 0.9688\n",
            "Training acc over epoch: 0.9375\n",
            "Training acc over epoch: 0.9062\n",
            "Training acc over epoch: 0.9062\n",
            "Training acc over epoch: 0.8125\n",
            "Training acc over epoch: 0.8125\n",
            "Training acc over epoch: 0.8125\n",
            "Training acc over epoch: 0.8750\n",
            "Training acc over epoch: 1.0000\n",
            "Training acc over epoch: 0.9375\n",
            "Training acc over epoch: 0.9062\n",
            "Training acc over epoch: 0.8438\n",
            "Training acc over epoch: 0.8438\n",
            "Training acc over epoch: 0.8438\n",
            "Training acc over epoch: 0.8750\n",
            "Training acc over epoch: 0.8438\n"
          ]
        },
        {
          "output_type": "stream",
          "name": "stderr",
          "text": [
            " 53%|█████▎    | 888/1688 [00:11<00:09, 86.46it/s]"
          ]
        },
        {
          "output_type": "stream",
          "name": "stdout",
          "text": [
            "Training acc over epoch: 0.8438\n",
            "Training acc over epoch: 0.8750\n",
            "Training acc over epoch: 0.8438\n",
            "Training acc over epoch: 0.8750\n",
            "Training acc over epoch: 0.8438\n",
            "Training acc over epoch: 0.9062\n",
            "Training acc over epoch: 0.8125\n",
            "Training acc over epoch: 0.9062\n",
            "Training acc over epoch: 1.0000\n",
            "Training acc over epoch: 0.8125\n",
            "Training acc over epoch: 0.8750\n",
            "Training acc over epoch: 0.8125\n",
            "Training acc over epoch: 0.8438\n",
            "Training acc over epoch: 0.8750\n",
            "Training acc over epoch: 0.8750\n",
            "Training acc over epoch: 0.8750\n",
            "Training acc over epoch: 0.9375\n",
            "Training acc over epoch: 0.9375\n"
          ]
        },
        {
          "output_type": "stream",
          "name": "stderr",
          "text": [
            " 54%|█████▎    | 906/1688 [00:12<00:09, 85.43it/s]"
          ]
        },
        {
          "output_type": "stream",
          "name": "stdout",
          "text": [
            "Training acc over epoch: 0.8125\n",
            "Training acc over epoch: 0.8438\n",
            "Training acc over epoch: 0.9062\n",
            "Training acc over epoch: 0.8750\n",
            "Training acc over epoch: 0.8125\n",
            "Training acc over epoch: 0.9688\n",
            "Training acc over epoch: 0.8750\n",
            "Training acc over epoch: 0.9688\n",
            "Training acc over epoch: 0.9375\n",
            "Training acc over epoch: 0.9062\n",
            "Training acc over epoch: 0.9375\n",
            "Training acc over epoch: 0.8438\n",
            "Training acc over epoch: 0.8750\n",
            "Training acc over epoch: 0.8438\n",
            "Training acc over epoch: 0.7812\n",
            "Training acc over epoch: 0.8750\n",
            "Training acc over epoch: 0.7812\n",
            "Training acc over epoch: 0.9375\n"
          ]
        },
        {
          "output_type": "stream",
          "name": "stderr",
          "text": [
            " 55%|█████▍    | 924/1688 [00:12<00:09, 81.37it/s]"
          ]
        },
        {
          "output_type": "stream",
          "name": "stdout",
          "text": [
            "Training acc over epoch: 0.8125\n",
            "Training acc over epoch: 0.9688\n",
            "Training acc over epoch: 0.8750\n",
            "Training acc over epoch: 0.8750\n",
            "Training acc over epoch: 0.9062\n",
            "Training acc over epoch: 0.7812\n",
            "Training acc over epoch: 0.8438\n",
            "Training acc over epoch: 0.9688\n",
            "Training acc over epoch: 0.9062\n",
            "Training acc over epoch: 0.7812\n",
            "Training acc over epoch: 1.0000\n",
            "Training acc over epoch: 0.9062\n",
            "Training acc over epoch: 0.8125\n",
            "Training acc over epoch: 0.8125\n",
            "Training acc over epoch: 0.8750\n",
            "Training acc over epoch: 0.9062\n"
          ]
        },
        {
          "output_type": "stream",
          "name": "stderr",
          "text": [
            " 56%|█████▌    | 942/1688 [00:12<00:09, 80.34it/s]"
          ]
        },
        {
          "output_type": "stream",
          "name": "stdout",
          "text": [
            "Training acc over epoch: 0.9062\n",
            "Training acc over epoch: 0.9062\n",
            "Training acc over epoch: 0.8438\n",
            "Training acc over epoch: 0.8438\n",
            "Training acc over epoch: 0.8438\n",
            "Training acc over epoch: 0.9062\n",
            "Training acc over epoch: 0.8750\n",
            "Training acc over epoch: 0.8750\n",
            "Training acc over epoch: 0.8438\n",
            "Training acc over epoch: 0.9062\n",
            "Training acc over epoch: 0.8438\n",
            "Training acc over epoch: 0.8750\n",
            "Training acc over epoch: 0.9375\n",
            "Training acc over epoch: 0.9062\n",
            "Training acc over epoch: 0.9062\n",
            "Training acc over epoch: 0.9375\n",
            "Training acc over epoch: 0.8750\n",
            "Training acc over epoch: 0.7188\n"
          ]
        },
        {
          "output_type": "stream",
          "name": "stderr",
          "text": [
            " 57%|█████▋    | 961/1688 [00:12<00:08, 83.92it/s]"
          ]
        },
        {
          "output_type": "stream",
          "name": "stdout",
          "text": [
            "Training acc over epoch: 0.9062\n",
            "Training acc over epoch: 0.8438\n",
            "Training acc over epoch: 0.9062\n",
            "Training acc over epoch: 0.8750\n",
            "Training acc over epoch: 0.8750\n",
            "Training acc over epoch: 0.8438\n",
            "Training acc over epoch: 0.8750\n",
            "Training acc over epoch: 0.9375\n",
            "Training acc over epoch: 0.9062\n",
            "Training acc over epoch: 0.8750\n",
            "Training acc over epoch: 0.8438\n",
            "Training acc over epoch: 0.8750\n",
            "Training acc over epoch: 0.9375\n",
            "Training acc over epoch: 0.8750\n",
            "Training acc over epoch: 0.8750\n",
            "Training acc over epoch: 0.9062\n",
            "Training acc over epoch: 0.7812\n",
            "Training acc over epoch: 0.8438\n",
            "Training acc over epoch: 0.7812\n"
          ]
        },
        {
          "output_type": "stream",
          "name": "stderr",
          "text": [
            " 58%|█████▊    | 979/1688 [00:13<00:08, 85.19it/s]"
          ]
        },
        {
          "output_type": "stream",
          "name": "stdout",
          "text": [
            "Training acc over epoch: 0.9375\n",
            "Training acc over epoch: 0.9062\n",
            "Training acc over epoch: 0.9062\n",
            "Training acc over epoch: 0.8438\n",
            "Training acc over epoch: 0.8750\n",
            "Training acc over epoch: 0.9688\n",
            "Training acc over epoch: 0.9062\n",
            "Training acc over epoch: 0.7500\n",
            "Training acc over epoch: 0.8438\n",
            "Training acc over epoch: 0.8438\n",
            "Training acc over epoch: 0.8750\n",
            "Training acc over epoch: 0.7812\n",
            "Training acc over epoch: 0.8438\n",
            "Training acc over epoch: 0.8750\n",
            "Training acc over epoch: 0.8750\n",
            "Training acc over epoch: 0.8125\n"
          ]
        },
        {
          "output_type": "stream",
          "name": "stderr",
          "text": [
            " 59%|█████▉    | 998/1688 [00:13<00:08, 85.60it/s]"
          ]
        },
        {
          "output_type": "stream",
          "name": "stdout",
          "text": [
            "Training acc over epoch: 0.9375\n",
            "Training acc over epoch: 0.9062\n",
            "Training acc over epoch: 0.9375\n",
            "Training acc over epoch: 0.7188\n",
            "Training acc over epoch: 0.9062\n",
            "Training acc over epoch: 0.8125\n",
            "Training acc over epoch: 0.8438\n",
            "Training acc over epoch: 0.8750\n",
            "Training acc over epoch: 0.8750\n",
            "Training acc over epoch: 0.8750\n",
            "Training acc over epoch: 0.8438\n",
            "Training acc over epoch: 0.8438\n",
            "Training acc over epoch: 0.9062\n",
            "Training acc over epoch: 0.9062\n",
            "Training acc over epoch: 0.8750\n",
            "Training acc over epoch: 0.7812\n",
            "Training acc over epoch: 0.7812\n",
            "Training acc over epoch: 0.8750\n"
          ]
        },
        {
          "output_type": "stream",
          "name": "stderr",
          "text": [
            " 60%|██████    | 1016/1688 [00:13<00:08, 82.35it/s]"
          ]
        },
        {
          "output_type": "stream",
          "name": "stdout",
          "text": [
            "Training acc over epoch: 0.8438\n",
            "Training acc over epoch: 0.8125\n",
            "Training acc over epoch: 0.8750\n",
            "Training acc over epoch: 0.8125\n",
            "Training acc over epoch: 0.8438\n",
            "Training acc over epoch: 0.8750\n",
            "Training acc over epoch: 0.8438\n",
            "Training acc over epoch: 0.8750\n",
            "Training acc over epoch: 0.8438\n",
            "Training acc over epoch: 0.9375\n",
            "Training acc over epoch: 0.8750\n",
            "Training acc over epoch: 0.9062\n",
            "Training acc over epoch: 0.9062\n",
            "Training acc over epoch: 0.8750\n",
            "Training acc over epoch: 0.8438\n",
            "Training acc over epoch: 0.8125\n",
            "Training acc over epoch: 0.8438"
          ]
        },
        {
          "output_type": "stream",
          "name": "stderr",
          "text": [
            " 61%|██████▏   | 1034/1688 [00:13<00:07, 83.11it/s]"
          ]
        },
        {
          "output_type": "stream",
          "name": "stdout",
          "text": [
            "\n",
            "Training acc over epoch: 0.9062\n",
            "Training acc over epoch: 0.9688\n",
            "Training acc over epoch: 0.9062\n",
            "Training acc over epoch: 0.9375\n",
            "Training acc over epoch: 0.9375\n",
            "Training acc over epoch: 0.8438\n",
            "Training acc over epoch: 0.8750\n",
            "Training acc over epoch: 0.9062\n",
            "Training acc over epoch: 0.9375\n",
            "Training acc over epoch: 0.9375\n",
            "Training acc over epoch: 0.8750\n",
            "Training acc over epoch: 0.9688\n",
            "Training acc over epoch: 0.8125\n",
            "Training acc over epoch: 0.8750\n",
            "Training acc over epoch: 0.9062\n",
            "Training acc over epoch: 0.8750\n",
            "Training acc over epoch: 0.8750\n"
          ]
        },
        {
          "output_type": "stream",
          "name": "stderr",
          "text": [
            " 62%|██████▏   | 1053/1688 [00:13<00:07, 87.48it/s]"
          ]
        },
        {
          "output_type": "stream",
          "name": "stdout",
          "text": [
            "Training acc over epoch: 0.9062\n",
            "Training acc over epoch: 0.8125\n",
            "Training acc over epoch: 0.8750\n",
            "Training acc over epoch: 0.8125\n",
            "Training acc over epoch: 0.7500\n",
            "Training acc over epoch: 0.9688\n",
            "Training acc over epoch: 0.9688\n",
            "Training acc over epoch: 0.9688\n",
            "Training acc over epoch: 0.9062\n",
            "Training acc over epoch: 0.8438\n",
            "Training acc over epoch: 0.9375\n",
            "Training acc over epoch: 0.8438\n",
            "Training acc over epoch: 0.8750\n",
            "Training acc over epoch: 0.8438\n",
            "Training acc over epoch: 0.9062\n",
            "Training acc over epoch: 0.9062\n",
            "Training acc over epoch: 1.0000\n",
            "Training acc over epoch: 0.9062\n",
            "Training acc over epoch: 0.9062\n"
          ]
        },
        {
          "output_type": "stream",
          "name": "stderr",
          "text": [
            " 63%|██████▎   | 1071/1688 [00:14<00:07, 87.35it/s]"
          ]
        },
        {
          "output_type": "stream",
          "name": "stdout",
          "text": [
            "Training acc over epoch: 0.8750\n",
            "Training acc over epoch: 0.8750\n",
            "Training acc over epoch: 0.9062\n",
            "Training acc over epoch: 0.8750\n",
            "Training acc over epoch: 0.9062\n",
            "Training acc over epoch: 0.8125\n",
            "Training acc over epoch: 0.8125\n",
            "Training acc over epoch: 0.9375\n",
            "Training acc over epoch: 0.8438\n",
            "Training acc over epoch: 0.9688\n",
            "Training acc over epoch: 0.8750\n",
            "Training acc over epoch: 0.9062\n",
            "Training acc over epoch: 0.9062\n",
            "Training acc over epoch: 0.9062\n",
            "Training acc over epoch: 0.8125\n",
            "Training acc over epoch: 0.8438\n",
            "Training acc over epoch: 0.9688\n",
            "Training acc over epoch: 0.9062\n"
          ]
        },
        {
          "output_type": "stream",
          "name": "stderr",
          "text": [
            " 65%|██████▍   | 1089/1688 [00:14<00:06, 86.69it/s]"
          ]
        },
        {
          "output_type": "stream",
          "name": "stdout",
          "text": [
            "Training acc over epoch: 0.9375\n",
            "Training acc over epoch: 0.8438\n",
            "Training acc over epoch: 0.9375\n",
            "Training acc over epoch: 1.0000\n",
            "Training acc over epoch: 0.8750\n",
            "Training acc over epoch: 0.8125\n",
            "Training acc over epoch: 0.8750\n",
            "Training acc over epoch: 0.7812\n",
            "Training acc over epoch: 0.8438\n",
            "Training acc over epoch: 0.7812\n",
            "Training acc over epoch: 0.9375\n",
            "Training acc over epoch: 0.8438\n",
            "Training acc over epoch: 0.8438\n",
            "Training acc over epoch: 0.9062\n",
            "Training acc over epoch: 0.8125\n",
            "Training acc over epoch: 0.8750\n",
            "Training acc over epoch: 0.9062\n",
            "Training acc over epoch: 1.0000\n"
          ]
        },
        {
          "output_type": "stream",
          "name": "stderr",
          "text": [
            "\r 65%|██████▌   | 1098/1688 [00:14<00:07, 78.47it/s]"
          ]
        },
        {
          "output_type": "stream",
          "name": "stdout",
          "text": [
            "Training acc over epoch: 0.8438\n",
            "Training acc over epoch: 0.9062\n",
            "Training acc over epoch: 0.7812\n",
            "Training acc over epoch: 0.8438\n",
            "Training acc over epoch: 0.9062\n",
            "Training acc over epoch: 1.0000\n",
            "Training acc over epoch: 0.7500\n",
            "Training acc over epoch: 0.7812\n",
            "Training acc over epoch: 0.8125\n",
            "Training acc over epoch: 0.8125\n",
            "Training acc over epoch: 0.8125\n",
            "Training acc over epoch: 0.8750\n",
            "Training acc over epoch: 0.8438\n",
            "Training acc over epoch: 0.8438\n",
            "Training acc over epoch: 0.9062\n",
            "Training acc over epoch: 0.8125\n"
          ]
        },
        {
          "output_type": "stream",
          "name": "stderr",
          "text": [
            " 66%|██████▌   | 1115/1688 [00:14<00:07, 80.50it/s]"
          ]
        },
        {
          "output_type": "stream",
          "name": "stdout",
          "text": [
            "Training acc over epoch: 0.8438\n",
            "Training acc over epoch: 0.9688\n",
            "Training acc over epoch: 0.8125\n",
            "Training acc over epoch: 0.8750\n",
            "Training acc over epoch: 0.8438\n",
            "Training acc over epoch: 0.8438\n",
            "Training acc over epoch: 0.9062\n",
            "Training acc over epoch: 0.9062\n",
            "Training acc over epoch: 0.8125\n",
            "Training acc over epoch: 0.9375\n",
            "Training acc over epoch: 0.9062\n",
            "Training acc over epoch: 0.9688\n",
            "Training acc over epoch: 0.7812\n",
            "Training acc over epoch: 0.9062\n",
            "Training acc over epoch: 0.9375\n",
            "Training acc over epoch: 0.8750\n",
            "Training acc over epoch: 0.8750\n"
          ]
        },
        {
          "output_type": "stream",
          "name": "stderr",
          "text": [
            " 67%|██████▋   | 1133/1688 [00:14<00:06, 81.01it/s]"
          ]
        },
        {
          "output_type": "stream",
          "name": "stdout",
          "text": [
            "Training acc over epoch: 0.8438\n",
            "Training acc over epoch: 0.8750\n",
            "Training acc over epoch: 0.9688\n",
            "Training acc over epoch: 0.9062\n",
            "Training acc over epoch: 0.7812\n",
            "Training acc over epoch: 0.8750\n",
            "Training acc over epoch: 0.8750\n",
            "Training acc over epoch: 0.9062\n",
            "Training acc over epoch: 0.9062\n",
            "Training acc over epoch: 0.8438\n",
            "Training acc over epoch: 0.9062\n",
            "Training acc over epoch: 0.9375\n",
            "Training acc over epoch: 0.8438\n",
            "Training acc over epoch: 0.8125\n",
            "Training acc over epoch: 0.9062\n",
            "Training acc over epoch: 0.9688\n",
            "Training acc over epoch: 0.7812\n",
            "Training acc over epoch: 0.9062\n"
          ]
        },
        {
          "output_type": "stream",
          "name": "stderr",
          "text": [
            " 68%|██████▊   | 1151/1688 [00:15<00:06, 82.76it/s]"
          ]
        },
        {
          "output_type": "stream",
          "name": "stdout",
          "text": [
            "Training acc over epoch: 0.9688\n",
            "Training acc over epoch: 0.7500\n",
            "Training acc over epoch: 0.7812\n",
            "Training acc over epoch: 0.9062\n",
            "Training acc over epoch: 0.7500\n",
            "Training acc over epoch: 0.8438\n",
            "Training acc over epoch: 0.9062\n",
            "Training acc over epoch: 0.8438\n",
            "Training acc over epoch: 0.7812\n",
            "Training acc over epoch: 0.7812\n",
            "Training acc over epoch: 0.8438\n",
            "Training acc over epoch: 0.8438\n",
            "Training acc over epoch: 0.9062\n",
            "Training acc over epoch: 0.7812\n",
            "Training acc over epoch: 0.7812\n",
            "Training acc over epoch: 0.8438\n",
            "Training acc over epoch: 0.9375\n"
          ]
        },
        {
          "output_type": "stream",
          "name": "stderr",
          "text": [
            " 69%|██████▉   | 1170/1688 [00:15<00:06, 86.09it/s]"
          ]
        },
        {
          "output_type": "stream",
          "name": "stdout",
          "text": [
            "Training acc over epoch: 0.9688\n",
            "Training acc over epoch: 0.9062\n",
            "Training acc over epoch: 0.6875\n",
            "Training acc over epoch: 0.7812\n",
            "Training acc over epoch: 0.7812\n",
            "Training acc over epoch: 0.8438\n",
            "Training acc over epoch: 0.8750\n",
            "Training acc over epoch: 0.8438\n",
            "Training acc over epoch: 0.9688\n",
            "Training acc over epoch: 0.8750\n",
            "Training acc over epoch: 0.9375\n",
            "Training acc over epoch: 0.8125\n",
            "Training acc over epoch: 0.8125\n",
            "Training acc over epoch: 0.8125\n",
            "Training acc over epoch: 0.8438\n",
            "Training acc over epoch: 0.8438\n",
            "Training acc over epoch: 0.8438\n",
            "Training acc over epoch: 0.8438\n",
            "Training acc over epoch: 0.8125\n"
          ]
        },
        {
          "output_type": "stream",
          "name": "stderr",
          "text": [
            " 70%|███████   | 1188/1688 [00:15<00:05, 84.12it/s]"
          ]
        },
        {
          "output_type": "stream",
          "name": "stdout",
          "text": [
            "Training acc over epoch: 0.8438\n",
            "Training acc over epoch: 0.8438\n",
            "Training acc over epoch: 0.9375\n",
            "Training acc over epoch: 1.0000\n",
            "Training acc over epoch: 0.8750\n",
            "Training acc over epoch: 0.9688\n",
            "Training acc over epoch: 0.8750\n",
            "Training acc over epoch: 0.9375\n",
            "Training acc over epoch: 0.8750\n",
            "Training acc over epoch: 0.9688\n",
            "Training acc over epoch: 0.9375\n",
            "Training acc over epoch: 0.9688\n",
            "Training acc over epoch: 0.9375\n",
            "Training acc over epoch: 0.8125\n",
            "Training acc over epoch: 0.8750\n",
            "Training acc over epoch: 0.9062\n",
            "Training acc over epoch: 0.8750\n"
          ]
        },
        {
          "output_type": "stream",
          "name": "stderr",
          "text": [
            " 71%|███████▏  | 1206/1688 [00:15<00:05, 83.94it/s]"
          ]
        },
        {
          "output_type": "stream",
          "name": "stdout",
          "text": [
            "Training acc over epoch: 0.7188\n",
            "Training acc over epoch: 0.9688\n",
            "Training acc over epoch: 0.8125\n",
            "Training acc over epoch: 0.9375\n",
            "Training acc over epoch: 0.8750\n",
            "Training acc over epoch: 0.8750\n",
            "Training acc over epoch: 0.8438\n",
            "Training acc over epoch: 0.9062\n",
            "Training acc over epoch: 0.9062\n",
            "Training acc over epoch: 0.8438\n",
            "Training acc over epoch: 0.9375\n",
            "Training acc over epoch: 0.9062\n",
            "Training acc over epoch: 0.9062\n",
            "Training acc over epoch: 0.8750\n",
            "Training acc over epoch: 0.8438\n",
            "Training acc over epoch: 0.8125\n",
            "Training acc over epoch: 0.7812\n",
            "Training acc over epoch: 0.9062\n",
            "Training acc over epoch: 0.9062"
          ]
        },
        {
          "output_type": "stream",
          "name": "stderr",
          "text": [
            " 73%|███████▎  | 1225/1688 [00:16<00:05, 89.10it/s]"
          ]
        },
        {
          "output_type": "stream",
          "name": "stdout",
          "text": [
            "\n",
            "Training acc over epoch: 0.9688\n",
            "Training acc over epoch: 0.8438\n",
            "Training acc over epoch: 0.9062\n",
            "Training acc over epoch: 0.9375\n",
            "Training acc over epoch: 0.9062\n",
            "Training acc over epoch: 0.8125\n",
            "Training acc over epoch: 0.8750\n",
            "Training acc over epoch: 0.8125\n",
            "Training acc over epoch: 0.9062\n",
            "Training acc over epoch: 0.8438\n",
            "Training acc over epoch: 0.9062\n",
            "Training acc over epoch: 0.8125\n",
            "Training acc over epoch: 0.8438\n",
            "Training acc over epoch: 0.9062\n",
            "Training acc over epoch: 0.9062\n",
            "Training acc over epoch: 0.8438\n",
            "Training acc over epoch: 0.9375\n",
            "Training acc over epoch: 0.8125\n",
            "Training acc over epoch: 0.9375\n"
          ]
        },
        {
          "output_type": "stream",
          "name": "stderr",
          "text": [
            " 74%|███████▍  | 1245/1688 [00:16<00:04, 91.45it/s]"
          ]
        },
        {
          "output_type": "stream",
          "name": "stdout",
          "text": [
            "Training acc over epoch: 0.8125\n",
            "Training acc over epoch: 0.9062\n",
            "Training acc over epoch: 1.0000\n",
            "Training acc over epoch: 0.8438\n",
            "Training acc over epoch: 0.9688\n",
            "Training acc over epoch: 0.8125\n",
            "Training acc over epoch: 0.9375\n",
            "Training acc over epoch: 0.9375\n",
            "Training acc over epoch: 0.8438\n",
            "Training acc over epoch: 0.9375\n",
            "Training acc over epoch: 0.8750\n",
            "Training acc over epoch: 1.0000\n",
            "Training acc over epoch: 0.9688\n",
            "Training acc over epoch: 0.8438\n",
            "Training acc over epoch: 0.8438\n",
            "Training acc over epoch: 0.9062\n",
            "Training acc over epoch: 0.7812\n",
            "Training acc over epoch: 0.9688\n",
            "Training acc over epoch: 0.8750\n",
            "Training acc over epoch: 0.8750"
          ]
        },
        {
          "output_type": "stream",
          "name": "stderr",
          "text": [
            " 75%|███████▍  | 1265/1688 [00:16<00:04, 93.59it/s]"
          ]
        },
        {
          "output_type": "stream",
          "name": "stdout",
          "text": [
            "\n",
            "Training acc over epoch: 0.9375\n",
            "Training acc over epoch: 0.8750\n",
            "Training acc over epoch: 0.9062\n",
            "Training acc over epoch: 0.9375\n",
            "Training acc over epoch: 0.8438\n",
            "Training acc over epoch: 0.8438\n",
            "Training acc over epoch: 0.9062\n",
            "Training acc over epoch: 0.9688\n",
            "Training acc over epoch: 0.8125\n",
            "Training acc over epoch: 0.8438\n",
            "Training acc over epoch: 0.8438\n",
            "Training acc over epoch: 0.9375\n",
            "Training acc over epoch: 0.9375\n",
            "Training acc over epoch: 0.8438\n",
            "Training acc over epoch: 0.8750\n",
            "Training acc over epoch: 0.8125\n",
            "Training acc over epoch: 0.9375\n",
            "Training acc over epoch: 0.8750\n",
            "Training acc over epoch: 0.8750\n"
          ]
        },
        {
          "output_type": "stream",
          "name": "stderr",
          "text": [
            " 76%|███████▌  | 1285/1688 [00:16<00:04, 91.03it/s]"
          ]
        },
        {
          "output_type": "stream",
          "name": "stdout",
          "text": [
            "Training acc over epoch: 1.0000\n",
            "Training acc over epoch: 0.9375\n",
            "Training acc over epoch: 0.9375\n",
            "Training acc over epoch: 0.8125\n",
            "Training acc over epoch: 0.8125\n",
            "Training acc over epoch: 0.7812\n",
            "Training acc over epoch: 0.8438\n",
            "Training acc over epoch: 0.8750\n",
            "Training acc over epoch: 0.9062\n",
            "Training acc over epoch: 0.7812\n",
            "Training acc over epoch: 0.8438\n",
            "Training acc over epoch: 0.8750\n",
            "Training acc over epoch: 0.7812\n",
            "Training acc over epoch: 0.9375\n",
            "Training acc over epoch: 0.9688\n",
            "Training acc over epoch: 0.9375\n",
            "Training acc over epoch: 0.8125\n",
            "Training acc over epoch: 0.8438\n",
            "Training acc over epoch: 0.8438\n"
          ]
        },
        {
          "output_type": "stream",
          "name": "stderr",
          "text": [
            " 77%|███████▋  | 1305/1688 [00:16<00:04, 86.36it/s]"
          ]
        },
        {
          "output_type": "stream",
          "name": "stdout",
          "text": [
            "Training acc over epoch: 0.8438\n",
            "Training acc over epoch: 0.8125\n",
            "Training acc over epoch: 0.7812\n",
            "Training acc over epoch: 0.9688\n",
            "Training acc over epoch: 0.8750\n",
            "Training acc over epoch: 0.9375\n",
            "Training acc over epoch: 0.9062\n",
            "Training acc over epoch: 0.7500\n",
            "Training acc over epoch: 0.8125\n",
            "Training acc over epoch: 0.8438\n",
            "Training acc over epoch: 0.8125\n",
            "Training acc over epoch: 0.8125\n",
            "Training acc over epoch: 0.9062\n",
            "Training acc over epoch: 0.8438\n",
            "Training acc over epoch: 0.7500\n",
            "Training acc over epoch: 0.9062\n",
            "Training acc over epoch: 0.8125\n"
          ]
        },
        {
          "output_type": "stream",
          "name": "stderr",
          "text": [
            " 78%|███████▊  | 1323/1688 [00:17<00:04, 85.52it/s]"
          ]
        },
        {
          "output_type": "stream",
          "name": "stdout",
          "text": [
            "Training acc over epoch: 0.9375\n",
            "Training acc over epoch: 0.9062\n",
            "Training acc over epoch: 0.8125\n",
            "Training acc over epoch: 0.8438\n",
            "Training acc over epoch: 0.8438\n",
            "Training acc over epoch: 0.8750\n",
            "Training acc over epoch: 0.8438\n",
            "Training acc over epoch: 0.8438\n",
            "Training acc over epoch: 0.8438\n",
            "Training acc over epoch: 0.8125\n",
            "Training acc over epoch: 0.9375\n",
            "Training acc over epoch: 0.9062\n",
            "Training acc over epoch: 0.9688\n",
            "Training acc over epoch: 0.8438\n",
            "Training acc over epoch: 0.9688\n",
            "Training acc over epoch: 0.8750\n",
            "Training acc over epoch: 0.8750\n"
          ]
        },
        {
          "output_type": "stream",
          "name": "stderr",
          "text": [
            "\r 79%|███████▉  | 1332/1688 [00:17<00:04, 81.79it/s]"
          ]
        },
        {
          "output_type": "stream",
          "name": "stdout",
          "text": [
            "Training acc over epoch: 0.6875\n",
            "Training acc over epoch: 1.0000\n",
            "Training acc over epoch: 0.7500\n",
            "Training acc over epoch: 0.8750\n",
            "Training acc over epoch: 0.9062\n",
            "Training acc over epoch: 0.9062\n",
            "Training acc over epoch: 0.8438\n",
            "Training acc over epoch: 0.9062\n",
            "Training acc over epoch: 0.9062\n",
            "Training acc over epoch: 0.8750\n",
            "Training acc over epoch: 0.8750\n",
            "Training acc over epoch: 0.9062\n",
            "Training acc over epoch: 0.9375\n",
            "Training acc over epoch: 0.9062\n",
            "Training acc over epoch: 0.9375\n",
            "Training acc over epoch: 0.9062\n",
            "Training acc over epoch: 0.8438\n"
          ]
        },
        {
          "output_type": "stream",
          "name": "stderr",
          "text": [
            " 80%|███████▉  | 1350/1688 [00:17<00:04, 81.56it/s]"
          ]
        },
        {
          "output_type": "stream",
          "name": "stdout",
          "text": [
            "Training acc over epoch: 0.8750\n",
            "Training acc over epoch: 0.9688\n",
            "Training acc over epoch: 0.9375\n",
            "Training acc over epoch: 0.8125\n",
            "Training acc over epoch: 0.9062\n",
            "Training acc over epoch: 0.8125\n",
            "Training acc over epoch: 0.9062\n",
            "Training acc over epoch: 0.9062\n",
            "Training acc over epoch: 1.0000\n",
            "Training acc over epoch: 0.9062\n",
            "Training acc over epoch: 0.8125\n",
            "Training acc over epoch: 0.8750\n",
            "Training acc over epoch: 0.9062\n",
            "Training acc over epoch: 0.8750\n",
            "Training acc over epoch: 0.9062\n",
            "Training acc over epoch: 0.9062\n"
          ]
        },
        {
          "output_type": "stream",
          "name": "stderr",
          "text": [
            " 81%|████████  | 1367/1688 [00:17<00:04, 76.14it/s]"
          ]
        },
        {
          "output_type": "stream",
          "name": "stdout",
          "text": [
            "Training acc over epoch: 0.7812\n",
            "Training acc over epoch: 0.8750\n",
            "Training acc over epoch: 0.8750\n",
            "Training acc over epoch: 0.9688\n",
            "Training acc over epoch: 0.8125\n",
            "Training acc over epoch: 0.8750\n",
            "Training acc over epoch: 0.8750\n",
            "Training acc over epoch: 1.0000\n",
            "Training acc over epoch: 0.9688\n",
            "Training acc over epoch: 0.8750\n",
            "Training acc over epoch: 0.8125\n",
            "Training acc over epoch: 0.8438\n",
            "Training acc over epoch: 0.9375\n",
            "Training acc over epoch: 0.9688\n",
            "Training acc over epoch: 0.8750\n"
          ]
        },
        {
          "output_type": "stream",
          "name": "stderr",
          "text": [
            " 82%|████████▏ | 1384/1688 [00:17<00:03, 78.55it/s]"
          ]
        },
        {
          "output_type": "stream",
          "name": "stdout",
          "text": [
            "Training acc over epoch: 0.8750\n",
            "Training acc over epoch: 0.9375\n",
            "Training acc over epoch: 0.9375\n",
            "Training acc over epoch: 0.8750\n",
            "Training acc over epoch: 0.8125\n",
            "Training acc over epoch: 0.9062\n",
            "Training acc over epoch: 0.8750\n",
            "Training acc over epoch: 0.9375\n",
            "Training acc over epoch: 0.7500\n",
            "Training acc over epoch: 0.9062\n",
            "Training acc over epoch: 0.8750\n",
            "Training acc over epoch: 0.8750\n",
            "Training acc over epoch: 0.9062\n",
            "Training acc over epoch: 0.8750\n",
            "Training acc over epoch: 0.9375\n",
            "Training acc over epoch: 0.8750\n",
            "Training acc over epoch: 0.8125\n",
            "Training acc over epoch: 0.8125\n"
          ]
        },
        {
          "output_type": "stream",
          "name": "stderr",
          "text": [
            " 83%|████████▎ | 1401/1688 [00:18<00:03, 81.10it/s]"
          ]
        },
        {
          "output_type": "stream",
          "name": "stdout",
          "text": [
            "Training acc over epoch: 0.9062\n",
            "Training acc over epoch: 0.9062\n",
            "Training acc over epoch: 0.8750\n",
            "Training acc over epoch: 0.9062\n",
            "Training acc over epoch: 0.9375\n",
            "Training acc over epoch: 0.8750\n",
            "Training acc over epoch: 0.9062\n",
            "Training acc over epoch: 0.8750\n",
            "Training acc over epoch: 0.9375\n",
            "Training acc over epoch: 0.8750\n",
            "Training acc over epoch: 1.0000\n",
            "Training acc over epoch: 0.8750\n",
            "Training acc over epoch: 0.8750\n",
            "Training acc over epoch: 0.9062\n",
            "Training acc over epoch: 0.8125\n",
            "Training acc over epoch: 0.9062\n",
            "Training acc over epoch: 0.9062\n"
          ]
        },
        {
          "output_type": "stream",
          "name": "stderr",
          "text": [
            " 84%|████████▍ | 1419/1688 [00:18<00:03, 79.93it/s]"
          ]
        },
        {
          "output_type": "stream",
          "name": "stdout",
          "text": [
            "Training acc over epoch: 0.8438\n",
            "Training acc over epoch: 0.8750\n",
            "Training acc over epoch: 0.8125\n",
            "Training acc over epoch: 0.9062\n",
            "Training acc over epoch: 0.9375\n",
            "Training acc over epoch: 0.8438\n",
            "Training acc over epoch: 0.8438\n",
            "Training acc over epoch: 0.9062\n",
            "Training acc over epoch: 0.9062\n",
            "Training acc over epoch: 0.9062\n",
            "Training acc over epoch: 0.8750\n",
            "Training acc over epoch: 0.9375\n",
            "Training acc over epoch: 0.8750\n",
            "Training acc over epoch: 0.7812\n",
            "Training acc over epoch: 0.9062\n",
            "Training acc over epoch: 0.9375\n",
            "Training acc over epoch: 0.7500\n",
            "Training acc over epoch: 0.8125\n"
          ]
        },
        {
          "output_type": "stream",
          "name": "stderr",
          "text": [
            " 85%|████████▌ | 1437/1688 [00:18<00:03, 80.35it/s]"
          ]
        },
        {
          "output_type": "stream",
          "name": "stdout",
          "text": [
            "Training acc over epoch: 0.7188\n",
            "Training acc over epoch: 0.8125\n",
            "Training acc over epoch: 0.8750\n",
            "Training acc over epoch: 0.9062\n",
            "Training acc over epoch: 0.8438\n",
            "Training acc over epoch: 0.8125\n",
            "Training acc over epoch: 0.9375\n",
            "Training acc over epoch: 0.8750\n",
            "Training acc over epoch: 0.9062\n",
            "Training acc over epoch: 0.9375\n",
            "Training acc over epoch: 0.9375\n",
            "Training acc over epoch: 0.8750\n",
            "Training acc over epoch: 0.8750\n",
            "Training acc over epoch: 0.8750\n",
            "Training acc over epoch: 0.9062\n",
            "Training acc over epoch: 0.8750\n",
            "Training acc over epoch: 0.9375\n"
          ]
        },
        {
          "output_type": "stream",
          "name": "stderr",
          "text": [
            " 86%|████████▋ | 1456/1688 [00:18<00:02, 83.97it/s]"
          ]
        },
        {
          "output_type": "stream",
          "name": "stdout",
          "text": [
            "Training acc over epoch: 0.8438\n",
            "Training acc over epoch: 0.8125\n",
            "Training acc over epoch: 0.9688\n",
            "Training acc over epoch: 0.9688\n",
            "Training acc over epoch: 0.8750\n",
            "Training acc over epoch: 0.9062\n",
            "Training acc over epoch: 0.9688\n",
            "Training acc over epoch: 0.9688\n",
            "Training acc over epoch: 0.8750\n",
            "Training acc over epoch: 0.9375\n",
            "Training acc over epoch: 1.0000\n",
            "Training acc over epoch: 0.9062\n",
            "Training acc over epoch: 0.9375\n",
            "Training acc over epoch: 0.9062\n",
            "Training acc over epoch: 0.8125\n",
            "Training acc over epoch: 0.8125\n",
            "Training acc over epoch: 0.8438\n",
            "Training acc over epoch: 0.8438\n",
            "Training acc over epoch: 0.9375\n"
          ]
        },
        {
          "output_type": "stream",
          "name": "stderr",
          "text": [
            " 87%|████████▋ | 1475/1688 [00:19<00:02, 86.57it/s]"
          ]
        },
        {
          "output_type": "stream",
          "name": "stdout",
          "text": [
            "Training acc over epoch: 0.8750\n",
            "Training acc over epoch: 0.8125\n",
            "Training acc over epoch: 0.8750\n",
            "Training acc over epoch: 0.9062\n",
            "Training acc over epoch: 0.7812\n",
            "Training acc over epoch: 0.8438\n",
            "Training acc over epoch: 0.9062\n",
            "Training acc over epoch: 0.9062\n",
            "Training acc over epoch: 0.8750\n",
            "Training acc over epoch: 0.7500\n",
            "Training acc over epoch: 0.8438\n",
            "Training acc over epoch: 0.8438\n",
            "Training acc over epoch: 0.7812\n",
            "Training acc over epoch: 0.8438\n",
            "Training acc over epoch: 0.8438\n",
            "Training acc over epoch: 0.8125\n",
            "Training acc over epoch: 0.9375\n",
            "Training acc over epoch: 0.9375\n",
            "Training acc over epoch: 0.8438\n"
          ]
        },
        {
          "output_type": "stream",
          "name": "stderr",
          "text": [
            " 88%|████████▊ | 1493/1688 [00:19<00:02, 84.32it/s]"
          ]
        },
        {
          "output_type": "stream",
          "name": "stdout",
          "text": [
            "Training acc over epoch: 0.8750\n",
            "Training acc over epoch: 0.7812\n",
            "Training acc over epoch: 0.7812\n",
            "Training acc over epoch: 0.9062\n",
            "Training acc over epoch: 0.9375\n",
            "Training acc over epoch: 0.9375\n",
            "Training acc over epoch: 0.8750\n",
            "Training acc over epoch: 0.8125\n",
            "Training acc over epoch: 0.8750\n",
            "Training acc over epoch: 0.8438\n",
            "Training acc over epoch: 0.8750\n",
            "Training acc over epoch: 0.8750\n",
            "Training acc over epoch: 0.8750\n",
            "Training acc over epoch: 0.8750\n",
            "Training acc over epoch: 0.9688\n",
            "Training acc over epoch: 0.9062\n",
            "Training acc over epoch: 0.9062\n"
          ]
        },
        {
          "output_type": "stream",
          "name": "stderr",
          "text": [
            " 90%|████████▉ | 1511/1688 [00:19<00:02, 85.02it/s]"
          ]
        },
        {
          "output_type": "stream",
          "name": "stdout",
          "text": [
            "Training acc over epoch: 0.8125\n",
            "Training acc over epoch: 0.8750\n",
            "Training acc over epoch: 0.9062\n",
            "Training acc over epoch: 0.8750\n",
            "Training acc over epoch: 1.0000\n",
            "Training acc over epoch: 0.8125\n",
            "Training acc over epoch: 0.9375\n",
            "Training acc over epoch: 0.9062\n",
            "Training acc over epoch: 0.8438\n",
            "Training acc over epoch: 0.9375\n",
            "Training acc over epoch: 0.8750\n",
            "Training acc over epoch: 0.8125\n",
            "Training acc over epoch: 0.8438\n",
            "Training acc over epoch: 0.8750\n",
            "Training acc over epoch: 0.9375\n",
            "Training acc over epoch: 0.8750\n",
            "Training acc over epoch: 0.9062\n"
          ]
        },
        {
          "output_type": "stream",
          "name": "stderr",
          "text": [
            " 91%|█████████ | 1529/1688 [00:19<00:02, 78.35it/s]"
          ]
        },
        {
          "output_type": "stream",
          "name": "stdout",
          "text": [
            "Training acc over epoch: 0.9688\n",
            "Training acc over epoch: 0.9062\n",
            "Training acc over epoch: 0.8125\n",
            "Training acc over epoch: 0.9062\n",
            "Training acc over epoch: 0.7812\n",
            "Training acc over epoch: 0.8438\n",
            "Training acc over epoch: 0.8125\n",
            "Training acc over epoch: 0.7812\n",
            "Training acc over epoch: 0.9375\n",
            "Training acc over epoch: 0.8750\n",
            "Training acc over epoch: 0.8750\n",
            "Training acc over epoch: 0.7500\n",
            "Training acc over epoch: 0.8125\n",
            "Training acc over epoch: 0.9062\n",
            "Training acc over epoch: 0.9375\n",
            "Training acc over epoch: 0.8125\n"
          ]
        },
        {
          "output_type": "stream",
          "name": "stderr",
          "text": [
            " 92%|█████████▏| 1546/1688 [00:19<00:01, 79.86it/s]"
          ]
        },
        {
          "output_type": "stream",
          "name": "stdout",
          "text": [
            "Training acc over epoch: 0.7812\n",
            "Training acc over epoch: 0.7500\n",
            "Training acc over epoch: 0.8438\n",
            "Training acc over epoch: 0.8125\n",
            "Training acc over epoch: 0.9375\n",
            "Training acc over epoch: 0.9062\n",
            "Training acc over epoch: 1.0000\n",
            "Training acc over epoch: 0.8438\n",
            "Training acc over epoch: 0.9062\n",
            "Training acc over epoch: 0.8750\n",
            "Training acc over epoch: 1.0000\n",
            "Training acc over epoch: 0.8750\n",
            "Training acc over epoch: 0.9062\n",
            "Training acc over epoch: 0.9375\n",
            "Training acc over epoch: 0.8438\n",
            "Training acc over epoch: 0.7812\n",
            "Training acc over epoch: 0.8750\n"
          ]
        },
        {
          "output_type": "stream",
          "name": "stderr",
          "text": [
            " 93%|█████████▎| 1564/1688 [00:20<00:01, 82.54it/s]"
          ]
        },
        {
          "output_type": "stream",
          "name": "stdout",
          "text": [
            "Training acc over epoch: 0.9062\n",
            "Training acc over epoch: 0.8125\n",
            "Training acc over epoch: 0.8125\n",
            "Training acc over epoch: 0.7500\n",
            "Training acc over epoch: 0.9062\n",
            "Training acc over epoch: 0.8438\n",
            "Training acc over epoch: 0.8750\n",
            "Training acc over epoch: 0.9062\n",
            "Training acc over epoch: 0.8750\n",
            "Training acc over epoch: 0.9062\n",
            "Training acc over epoch: 0.8750\n",
            "Training acc over epoch: 0.8750\n",
            "Training acc over epoch: 0.8750\n",
            "Training acc over epoch: 0.9375\n",
            "Training acc over epoch: 0.9062\n",
            "Training acc over epoch: 0.8438\n",
            "Training acc over epoch: 0.9375\n",
            "Training acc over epoch: 0.9062\n"
          ]
        },
        {
          "output_type": "stream",
          "name": "stderr",
          "text": [
            "\r 93%|█████████▎| 1573/1688 [00:20<00:01, 81.29it/s]"
          ]
        },
        {
          "output_type": "stream",
          "name": "stdout",
          "text": [
            "Training acc over epoch: 0.9062\n",
            "Training acc over epoch: 0.9062\n",
            "Training acc over epoch: 0.9375\n",
            "Training acc over epoch: 0.9062\n",
            "Training acc over epoch: 0.9062\n",
            "Training acc over epoch: 0.9375\n",
            "Training acc over epoch: 0.9688\n",
            "Training acc over epoch: 0.9375\n",
            "Training acc over epoch: 0.7812\n",
            "Training acc over epoch: 0.8750\n",
            "Training acc over epoch: 0.9062\n",
            "Training acc over epoch: 0.7812\n",
            "Training acc over epoch: 0.9062\n",
            "Training acc over epoch: 0.8750\n",
            "Training acc over epoch: 0.9062\n",
            "Training acc over epoch: 0.9375\n",
            "Training acc over epoch: 0.8750\n"
          ]
        },
        {
          "output_type": "stream",
          "name": "stderr",
          "text": [
            " 94%|█████████▍| 1591/1688 [00:20<00:01, 80.51it/s]"
          ]
        },
        {
          "output_type": "stream",
          "name": "stdout",
          "text": [
            "Training acc over epoch: 0.8125\n",
            "Training acc over epoch: 0.9062\n",
            "Training acc over epoch: 0.8125\n",
            "Training acc over epoch: 0.8125\n",
            "Training acc over epoch: 0.8438\n",
            "Training acc over epoch: 0.8750\n",
            "Training acc over epoch: 0.8750\n",
            "Training acc over epoch: 0.8750\n",
            "Training acc over epoch: 0.9062\n",
            "Training acc over epoch: 0.8125\n",
            "Training acc over epoch: 0.9062\n",
            "Training acc over epoch: 0.9062\n",
            "Training acc over epoch: 0.9062\n",
            "Training acc over epoch: 0.8750\n",
            "Training acc over epoch: 0.9375\n",
            "Training acc over epoch: 0.9062\n",
            "Training acc over epoch: 0.9375\n"
          ]
        },
        {
          "output_type": "stream",
          "name": "stderr",
          "text": [
            " 95%|█████████▌| 1608/1688 [00:20<00:01, 74.21it/s]"
          ]
        },
        {
          "output_type": "stream",
          "name": "stdout",
          "text": [
            "Training acc over epoch: 0.8750\n",
            "Training acc over epoch: 0.8750\n",
            "Training acc over epoch: 0.9062\n",
            "Training acc over epoch: 0.9375\n",
            "Training acc over epoch: 0.9062\n",
            "Training acc over epoch: 0.8125\n",
            "Training acc over epoch: 1.0000\n",
            "Training acc over epoch: 0.9375\n",
            "Training acc over epoch: 0.9062\n",
            "Training acc over epoch: 0.9062\n",
            "Training acc over epoch: 0.9375\n",
            "Training acc over epoch: 0.8438\n",
            "Training acc over epoch: 0.9062\n",
            "Training acc over epoch: 0.8750\n"
          ]
        },
        {
          "output_type": "stream",
          "name": "stderr",
          "text": [
            " 96%|█████████▋| 1625/1688 [00:20<00:00, 75.82it/s]"
          ]
        },
        {
          "output_type": "stream",
          "name": "stdout",
          "text": [
            "Training acc over epoch: 0.9375\n",
            "Training acc over epoch: 0.9375\n",
            "Training acc over epoch: 0.9062\n",
            "Training acc over epoch: 0.9688\n",
            "Training acc over epoch: 0.9062\n",
            "Training acc over epoch: 0.7500\n",
            "Training acc over epoch: 0.7812\n",
            "Training acc over epoch: 0.7500\n",
            "Training acc over epoch: 0.8750\n",
            "Training acc over epoch: 0.7812\n",
            "Training acc over epoch: 0.8750\n",
            "Training acc over epoch: 0.9062\n",
            "Training acc over epoch: 0.9375\n",
            "Training acc over epoch: 0.8750\n",
            "Training acc over epoch: 0.9375\n",
            "Training acc over epoch: 0.9062\n"
          ]
        },
        {
          "output_type": "stream",
          "name": "stderr",
          "text": [
            " 97%|█████████▋| 1642/1688 [00:21<00:00, 79.66it/s]"
          ]
        },
        {
          "output_type": "stream",
          "name": "stdout",
          "text": [
            "Training acc over epoch: 0.9688\n",
            "Training acc over epoch: 0.8125\n",
            "Training acc over epoch: 0.9062\n",
            "Training acc over epoch: 0.8750\n",
            "Training acc over epoch: 0.8125\n",
            "Training acc over epoch: 0.8750\n",
            "Training acc over epoch: 0.8750\n",
            "Training acc over epoch: 0.8125\n",
            "Training acc over epoch: 0.9062\n",
            "Training acc over epoch: 0.9062\n",
            "Training acc over epoch: 0.8125\n",
            "Training acc over epoch: 0.9062\n",
            "Training acc over epoch: 0.8750\n",
            "Training acc over epoch: 0.8125\n",
            "Training acc over epoch: 0.7812\n",
            "Training acc over epoch: 0.9062\n",
            "Training acc over epoch: 0.9688\n"
          ]
        },
        {
          "output_type": "stream",
          "name": "stderr",
          "text": [
            " 98%|█████████▊| 1660/1688 [00:21<00:00, 80.91it/s]"
          ]
        },
        {
          "output_type": "stream",
          "name": "stdout",
          "text": [
            "Training acc over epoch: 0.6250\n",
            "Training acc over epoch: 0.9062\n",
            "Training acc over epoch: 0.8750\n",
            "Training acc over epoch: 0.7500\n",
            "Training acc over epoch: 0.8125\n",
            "Training acc over epoch: 0.8750\n",
            "Training acc over epoch: 0.9062\n",
            "Training acc over epoch: 0.9062\n",
            "Training acc over epoch: 0.9062\n",
            "Training acc over epoch: 0.8438\n",
            "Training acc over epoch: 0.9375\n",
            "Training acc over epoch: 0.9688\n",
            "Training acc over epoch: 0.9062\n",
            "Training acc over epoch: 0.9375\n",
            "Training acc over epoch: 0.9375\n",
            "Training acc over epoch: 0.9375\n",
            "Training acc over epoch: 0.8438\n",
            "Training acc over epoch: 0.8750\n"
          ]
        },
        {
          "output_type": "stream",
          "name": "stderr",
          "text": [
            " 99%|█████████▉| 1678/1688 [00:21<00:00, 79.98it/s]"
          ]
        },
        {
          "output_type": "stream",
          "name": "stdout",
          "text": [
            "Training acc over epoch: 0.8750\n",
            "Training acc over epoch: 0.9375\n",
            "Training acc over epoch: 0.9688\n",
            "Training acc over epoch: 0.9375\n",
            "Training acc over epoch: 0.9062\n",
            "Training acc over epoch: 0.8750\n",
            "Training acc over epoch: 0.7812\n",
            "Training acc over epoch: 0.9062\n",
            "Training acc over epoch: 0.9375\n",
            "Training acc over epoch: 0.8125\n",
            "Training acc over epoch: 0.7500\n",
            "Training acc over epoch: 0.7812\n",
            "Training acc over epoch: 0.8438\n",
            "Training acc over epoch: 0.9375\n",
            "Training acc over epoch: 0.8750\n",
            "Training acc over epoch: 0.9375\n",
            "Training acc over epoch: 0.8750"
          ]
        },
        {
          "output_type": "stream",
          "name": "stderr",
          "text": [
            "100%|██████████| 1688/1688 [00:21<00:00, 77.64it/s]\n"
          ]
        },
        {
          "output_type": "stream",
          "name": "stdout",
          "text": [
            "\n",
            "Training acc over epoch: 0.9062\n",
            "Training acc over epoch: 0.8125\n",
            "Training acc over epoch: 0.9375\n",
            "Training acc over epoch: 0.8750\n",
            "Training acc over epoch: 0.8750\n",
            "Training acc over epoch: 0.8438\n",
            "Training acc over epoch: 0.8438\n",
            "Training acc over epoch: 0.8125\n"
          ]
        },
        {
          "output_type": "stream",
          "name": "stderr",
          "text": [
            "100%|██████████| 6000/6000 [00:40<00:00, 146.51it/s]\n",
            "  1%|          | 14/1688 [00:00<00:25, 65.49it/s]"
          ]
        },
        {
          "output_type": "stream",
          "name": "stdout",
          "text": [
            "Training acc over epoch: 0.8750\n",
            "Training acc over epoch: 0.8750\n",
            "Training acc over epoch: 0.9375\n",
            "Training acc over epoch: 0.9062\n",
            "Training acc over epoch: 0.8438\n",
            "Training acc over epoch: 0.8125\n",
            "Training acc over epoch: 0.7812\n",
            "Training acc over epoch: 0.8750\n",
            "Training acc over epoch: 0.8750\n",
            "Training acc over epoch: 0.8750\n",
            "Training acc over epoch: 0.9375\n",
            "Training acc over epoch: 0.9062\n",
            "Training acc over epoch: 0.9375\n",
            "Training acc over epoch: 0.8438\n",
            "Training acc over epoch: 0.9062\n"
          ]
        },
        {
          "output_type": "stream",
          "name": "stderr",
          "text": [
            "  2%|▏         | 29/1688 [00:00<00:24, 67.78it/s]"
          ]
        },
        {
          "output_type": "stream",
          "name": "stdout",
          "text": [
            "Training acc over epoch: 0.8750\n",
            "Training acc over epoch: 0.8750\n",
            "Training acc over epoch: 0.9688\n",
            "Training acc over epoch: 0.8438\n",
            "Training acc over epoch: 0.9688\n",
            "Training acc over epoch: 1.0000\n",
            "Training acc over epoch: 0.9062\n",
            "Training acc over epoch: 0.9062\n",
            "Training acc over epoch: 0.8750\n",
            "Training acc over epoch: 0.9062\n",
            "Training acc over epoch: 0.8750\n",
            "Training acc over epoch: 0.7500\n",
            "Training acc over epoch: 0.9688\n",
            "Training acc over epoch: 0.9688\n",
            "Training acc over epoch: 0.9375\n"
          ]
        },
        {
          "output_type": "stream",
          "name": "stderr",
          "text": [
            "  3%|▎         | 44/1688 [00:00<00:23, 70.34it/s]"
          ]
        },
        {
          "output_type": "stream",
          "name": "stdout",
          "text": [
            "Training acc over epoch: 0.9688\n",
            "Training acc over epoch: 0.8125\n",
            "Training acc over epoch: 0.8750\n",
            "Training acc over epoch: 0.8750\n",
            "Training acc over epoch: 1.0000\n",
            "Training acc over epoch: 0.9062\n",
            "Training acc over epoch: 0.9062\n",
            "Training acc over epoch: 0.9375\n",
            "Training acc over epoch: 0.9062\n",
            "Training acc over epoch: 0.9062\n",
            "Training acc over epoch: 0.9688\n",
            "Training acc over epoch: 0.8125\n",
            "Training acc over epoch: 0.9375\n",
            "Training acc over epoch: 0.8438\n",
            "Training acc over epoch: 0.8438\n"
          ]
        },
        {
          "output_type": "stream",
          "name": "stderr",
          "text": [
            "  4%|▎         | 60/1688 [00:00<00:23, 69.89it/s]"
          ]
        },
        {
          "output_type": "stream",
          "name": "stdout",
          "text": [
            "Training acc over epoch: 0.8438\n",
            "Training acc over epoch: 0.8750\n",
            "Training acc over epoch: 0.7812\n",
            "Training acc over epoch: 0.9688\n",
            "Training acc over epoch: 0.9688\n",
            "Training acc over epoch: 0.9375\n",
            "Training acc over epoch: 0.9375\n",
            "Training acc over epoch: 0.9688\n",
            "Training acc over epoch: 0.8750\n",
            "Training acc over epoch: 0.8750\n",
            "Training acc over epoch: 0.8438\n",
            "Training acc over epoch: 0.9062\n",
            "Training acc over epoch: 0.9688\n",
            "Training acc over epoch: 0.8125\n",
            "Training acc over epoch: 0.8750\n"
          ]
        },
        {
          "output_type": "stream",
          "name": "stderr",
          "text": [
            "  4%|▍         | 75/1688 [00:01<00:22, 71.81it/s]"
          ]
        },
        {
          "output_type": "stream",
          "name": "stdout",
          "text": [
            "Training acc over epoch: 0.8438\n",
            "Training acc over epoch: 0.9375\n",
            "Training acc over epoch: 0.8438\n",
            "Training acc over epoch: 0.9062\n",
            "Training acc over epoch: 1.0000\n",
            "Training acc over epoch: 0.7812\n",
            "Training acc over epoch: 0.8438\n",
            "Training acc over epoch: 0.9375\n",
            "Training acc over epoch: 0.8125\n",
            "Training acc over epoch: 0.9688\n",
            "Training acc over epoch: 0.8125\n",
            "Training acc over epoch: 0.9375\n",
            "Training acc over epoch: 0.9062\n",
            "Training acc over epoch: 0.9375\n",
            "Training acc over epoch: 0.9062\n"
          ]
        },
        {
          "output_type": "stream",
          "name": "stderr",
          "text": [
            "\r  5%|▍         | 83/1688 [00:01<00:22, 71.65it/s]"
          ]
        },
        {
          "output_type": "stream",
          "name": "stdout",
          "text": [
            "Training acc over epoch: 0.9062\n",
            "Training acc over epoch: 0.9688\n",
            "Training acc over epoch: 0.9375\n",
            "Training acc over epoch: 0.8750\n",
            "Training acc over epoch: 0.9062\n",
            "Training acc over epoch: 0.8750\n",
            "Training acc over epoch: 0.7500\n",
            "Training acc over epoch: 0.8125\n",
            "Training acc over epoch: 0.9062\n",
            "Training acc over epoch: 0.9062\n",
            "Training acc over epoch: 0.9375\n",
            "Training acc over epoch: 0.9062\n",
            "Training acc over epoch: 0.8750\n",
            "Training acc over epoch: 0.9688\n",
            "Training acc over epoch: 0.9062\n",
            "Training acc over epoch: 0.9688\n"
          ]
        },
        {
          "output_type": "stream",
          "name": "stderr",
          "text": [
            "  6%|▌         | 99/1688 [00:01<00:23, 69.01it/s]"
          ]
        },
        {
          "output_type": "stream",
          "name": "stdout",
          "text": [
            "Training acc over epoch: 0.9688\n",
            "Training acc over epoch: 0.8750\n",
            "Training acc over epoch: 0.8750\n",
            "Training acc over epoch: 0.7812\n",
            "Training acc over epoch: 0.8125\n",
            "Training acc over epoch: 0.9375\n",
            "Training acc over epoch: 0.8125\n",
            "Training acc over epoch: 0.8750\n",
            "Training acc over epoch: 0.9062\n",
            "Training acc over epoch: 0.7188\n",
            "Training acc over epoch: 0.8438\n",
            "Training acc over epoch: 0.7812\n",
            "Training acc over epoch: 0.9062\n",
            "Training acc over epoch: 0.7812\n"
          ]
        },
        {
          "output_type": "stream",
          "name": "stderr",
          "text": [
            "  7%|▋         | 113/1688 [00:01<00:22, 68.52it/s]"
          ]
        },
        {
          "output_type": "stream",
          "name": "stdout",
          "text": [
            "Training acc over epoch: 0.8438\n",
            "Training acc over epoch: 0.8438\n",
            "Training acc over epoch: 0.8125\n",
            "Training acc over epoch: 0.8438\n",
            "Training acc over epoch: 0.8750\n",
            "Training acc over epoch: 0.7812\n",
            "Training acc over epoch: 0.9062\n",
            "Training acc over epoch: 0.9375\n",
            "Training acc over epoch: 0.8750\n",
            "Training acc over epoch: 1.0000\n",
            "Training acc over epoch: 0.8750\n",
            "Training acc over epoch: 0.9062\n",
            "Training acc over epoch: 0.8750\n"
          ]
        },
        {
          "output_type": "stream",
          "name": "stderr",
          "text": [
            "  8%|▊         | 127/1688 [00:01<00:25, 61.79it/s]"
          ]
        },
        {
          "output_type": "stream",
          "name": "stdout",
          "text": [
            "Training acc over epoch: 0.9062\n",
            "Training acc over epoch: 0.8750\n",
            "Training acc over epoch: 0.9062\n",
            "Training acc over epoch: 0.9375\n",
            "Training acc over epoch: 0.9062\n",
            "Training acc over epoch: 0.8750\n",
            "Training acc over epoch: 0.8438\n",
            "Training acc over epoch: 0.8438\n",
            "Training acc over epoch: 0.7812\n",
            "Training acc over epoch: 0.8125\n",
            "Training acc over epoch: 0.8125\n",
            "Training acc over epoch: 0.8125\n"
          ]
        },
        {
          "output_type": "stream",
          "name": "stderr",
          "text": [
            "  8%|▊         | 141/1688 [00:02<00:25, 61.48it/s]"
          ]
        },
        {
          "output_type": "stream",
          "name": "stdout",
          "text": [
            "Training acc over epoch: 0.8750\n",
            "Training acc over epoch: 0.7500\n",
            "Training acc over epoch: 0.8750\n",
            "Training acc over epoch: 0.8750\n",
            "Training acc over epoch: 0.9688\n",
            "Training acc over epoch: 0.9062\n",
            "Training acc over epoch: 0.7812\n",
            "Training acc over epoch: 0.7812\n",
            "Training acc over epoch: 0.9062\n",
            "Training acc over epoch: 0.8438\n",
            "Training acc over epoch: 0.8438\n",
            "Training acc over epoch: 0.9688\n",
            "Training acc over epoch: 0.8750\n"
          ]
        },
        {
          "output_type": "stream",
          "name": "stderr",
          "text": [
            "  9%|▉         | 155/1688 [00:02<00:23, 64.51it/s]"
          ]
        },
        {
          "output_type": "stream",
          "name": "stdout",
          "text": [
            "Training acc over epoch: 0.9062\n",
            "Training acc over epoch: 0.9062\n",
            "Training acc over epoch: 0.9062\n",
            "Training acc over epoch: 0.7812\n",
            "Training acc over epoch: 0.7812\n",
            "Training acc over epoch: 0.9688\n",
            "Training acc over epoch: 0.8125\n",
            "Training acc over epoch: 0.8438\n",
            "Training acc over epoch: 0.8438\n",
            "Training acc over epoch: 0.7500\n",
            "Training acc over epoch: 0.7188\n",
            "Training acc over epoch: 0.8438\n",
            "Training acc over epoch: 0.7500\n",
            "Training acc over epoch: 0.9375\n"
          ]
        },
        {
          "output_type": "stream",
          "name": "stderr",
          "text": [
            " 10%|█         | 170/1688 [00:02<00:22, 67.81it/s]"
          ]
        },
        {
          "output_type": "stream",
          "name": "stdout",
          "text": [
            "Training acc over epoch: 0.8750\n",
            "Training acc over epoch: 0.9375\n",
            "Training acc over epoch: 0.9062\n",
            "Training acc over epoch: 0.8125\n",
            "Training acc over epoch: 0.7812\n",
            "Training acc over epoch: 0.9062\n",
            "Training acc over epoch: 0.8750\n",
            "Training acc over epoch: 0.8438\n",
            "Training acc over epoch: 0.9375\n",
            "Training acc over epoch: 0.9062\n",
            "Training acc over epoch: 0.9375\n",
            "Training acc over epoch: 0.9062\n",
            "Training acc over epoch: 0.9062\n",
            "Training acc over epoch: 0.9062\n",
            "Training acc over epoch: 0.8438\n"
          ]
        },
        {
          "output_type": "stream",
          "name": "stderr",
          "text": [
            " 11%|█         | 187/1688 [00:02<00:20, 73.89it/s]"
          ]
        },
        {
          "output_type": "stream",
          "name": "stdout",
          "text": [
            "Training acc over epoch: 0.9062\n",
            "Training acc over epoch: 0.9375\n",
            "Training acc over epoch: 0.8125\n",
            "Training acc over epoch: 0.8750\n",
            "Training acc over epoch: 0.8438\n",
            "Training acc over epoch: 0.9062\n",
            "Training acc over epoch: 0.9062\n",
            "Training acc over epoch: 0.9375\n",
            "Training acc over epoch: 0.9062\n",
            "Training acc over epoch: 0.8750\n",
            "Training acc over epoch: 0.7812\n",
            "Training acc over epoch: 0.8125\n",
            "Training acc over epoch: 0.9062\n",
            "Training acc over epoch: 0.8125\n",
            "Training acc over epoch: 0.9062\n",
            "Training acc over epoch: 0.8750\n"
          ]
        },
        {
          "output_type": "stream",
          "name": "stderr",
          "text": [
            " 12%|█▏        | 203/1688 [00:02<00:19, 74.34it/s]"
          ]
        },
        {
          "output_type": "stream",
          "name": "stdout",
          "text": [
            "Training acc over epoch: 0.9062\n",
            "Training acc over epoch: 0.9688\n",
            "Training acc over epoch: 0.8125\n",
            "Training acc over epoch: 0.9375\n",
            "Training acc over epoch: 0.9062\n",
            "Training acc over epoch: 0.9375\n",
            "Training acc over epoch: 0.8438\n",
            "Training acc over epoch: 0.9375\n",
            "Training acc over epoch: 0.7812\n",
            "Training acc over epoch: 0.9062\n",
            "Training acc over epoch: 0.8750\n",
            "Training acc over epoch: 0.9375\n",
            "Training acc over epoch: 0.8125\n",
            "Training acc over epoch: 0.8125\n",
            "Training acc over epoch: 0.8438\n",
            "Training acc over epoch: 0.9062\n"
          ]
        },
        {
          "output_type": "stream",
          "name": "stderr",
          "text": [
            " 13%|█▎        | 220/1688 [00:03<00:18, 78.05it/s]"
          ]
        },
        {
          "output_type": "stream",
          "name": "stdout",
          "text": [
            "Training acc over epoch: 0.8125\n",
            "Training acc over epoch: 0.9375\n",
            "Training acc over epoch: 0.9375\n",
            "Training acc over epoch: 0.9375\n",
            "Training acc over epoch: 0.8750\n",
            "Training acc over epoch: 0.9062\n",
            "Training acc over epoch: 0.7812\n",
            "Training acc over epoch: 0.8750\n",
            "Training acc over epoch: 0.8750\n",
            "Training acc over epoch: 0.8125\n",
            "Training acc over epoch: 0.8438\n",
            "Training acc over epoch: 1.0000\n",
            "Training acc over epoch: 0.8750\n",
            "Training acc over epoch: 0.9688\n",
            "Training acc over epoch: 0.8125\n",
            "Training acc over epoch: 0.9375\n",
            "Training acc over epoch: 0.9062\n"
          ]
        },
        {
          "output_type": "stream",
          "name": "stderr",
          "text": [
            " 14%|█▍        | 237/1688 [00:03<00:18, 78.11it/s]"
          ]
        },
        {
          "output_type": "stream",
          "name": "stdout",
          "text": [
            "Training acc over epoch: 0.8750\n",
            "Training acc over epoch: 0.9375\n",
            "Training acc over epoch: 0.9688\n",
            "Training acc over epoch: 0.9375\n",
            "Training acc over epoch: 0.8438\n",
            "Training acc over epoch: 0.8438\n",
            "Training acc over epoch: 0.9688\n",
            "Training acc over epoch: 0.9375\n",
            "Training acc over epoch: 0.8125\n",
            "Training acc over epoch: 0.9688\n",
            "Training acc over epoch: 0.8438\n",
            "Training acc over epoch: 0.8750\n",
            "Training acc over epoch: 0.9062\n",
            "Training acc over epoch: 0.9375\n",
            "Training acc over epoch: 0.8750\n",
            "Training acc over epoch: 0.8438\n"
          ]
        },
        {
          "output_type": "stream",
          "name": "stderr",
          "text": [
            "\r 15%|█▍        | 245/1688 [00:03<00:19, 72.42it/s]"
          ]
        },
        {
          "output_type": "stream",
          "name": "stdout",
          "text": [
            "Training acc over epoch: 0.9062\n",
            "Training acc over epoch: 0.9062\n",
            "Training acc over epoch: 0.8750\n",
            "Training acc over epoch: 0.8750\n",
            "Training acc over epoch: 0.8125\n",
            "Training acc over epoch: 0.8125\n",
            "Training acc over epoch: 0.8750\n",
            "Training acc over epoch: 0.8438\n",
            "Training acc over epoch: 0.9062\n",
            "Training acc over epoch: 0.9062\n",
            "Training acc over epoch: 0.9688\n",
            "Training acc over epoch: 0.8438\n",
            "Training acc over epoch: 0.7500\n",
            "Training acc over epoch: 0.8125\n",
            "Training acc over epoch: 0.9688\n",
            "Training acc over epoch: 0.8750\n"
          ]
        },
        {
          "output_type": "stream",
          "name": "stderr",
          "text": [
            " 16%|█▌        | 262/1688 [00:03<00:19, 74.44it/s]"
          ]
        },
        {
          "output_type": "stream",
          "name": "stdout",
          "text": [
            "Training acc over epoch: 0.9062\n",
            "Training acc over epoch: 0.9375\n",
            "Training acc over epoch: 0.8750\n",
            "Training acc over epoch: 0.8750\n",
            "Training acc over epoch: 0.9062\n",
            "Training acc over epoch: 0.8750\n",
            "Training acc over epoch: 0.8750\n",
            "Training acc over epoch: 0.9688\n",
            "Training acc over epoch: 0.9062\n",
            "Training acc over epoch: 0.8438\n",
            "Training acc over epoch: 0.8750\n",
            "Training acc over epoch: 0.9375\n",
            "Training acc over epoch: 0.9375\n",
            "Training acc over epoch: 0.8438\n",
            "Training acc over epoch: 0.7188\n"
          ]
        },
        {
          "output_type": "stream",
          "name": "stderr",
          "text": [
            " 16%|█▋        | 278/1688 [00:03<00:19, 71.71it/s]"
          ]
        },
        {
          "output_type": "stream",
          "name": "stdout",
          "text": [
            "Training acc over epoch: 0.9062\n",
            "Training acc over epoch: 0.7812\n",
            "Training acc over epoch: 0.7500\n",
            "Training acc over epoch: 0.9375\n",
            "Training acc over epoch: 0.9062\n",
            "Training acc over epoch: 0.8438\n",
            "Training acc over epoch: 0.8750\n",
            "Training acc over epoch: 0.6875\n",
            "Training acc over epoch: 0.7500\n",
            "Training acc over epoch: 0.8125\n",
            "Training acc over epoch: 0.9062\n",
            "Training acc over epoch: 0.9062\n",
            "Training acc over epoch: 0.9375\n",
            "Training acc over epoch: 0.9688\n",
            "Training acc over epoch: 0.9062\n",
            "Training acc over epoch: 0.8438\n"
          ]
        },
        {
          "output_type": "stream",
          "name": "stderr",
          "text": [
            " 17%|█▋        | 294/1688 [00:04<00:19, 71.75it/s]"
          ]
        },
        {
          "output_type": "stream",
          "name": "stdout",
          "text": [
            "Training acc over epoch: 0.8438\n",
            "Training acc over epoch: 0.9375\n",
            "Training acc over epoch: 0.7500\n",
            "Training acc over epoch: 0.9375\n",
            "Training acc over epoch: 0.8750\n",
            "Training acc over epoch: 0.8750\n",
            "Training acc over epoch: 0.9062\n",
            "Training acc over epoch: 0.9062\n",
            "Training acc over epoch: 0.7812\n",
            "Training acc over epoch: 0.8750\n",
            "Training acc over epoch: 0.9062\n",
            "Training acc over epoch: 0.8125\n",
            "Training acc over epoch: 0.8750\n",
            "Training acc over epoch: 0.8750\n",
            "Training acc over epoch: 0.8750\n"
          ]
        },
        {
          "output_type": "stream",
          "name": "stderr",
          "text": [
            " 18%|█▊        | 310/1688 [00:04<00:19, 71.76it/s]"
          ]
        },
        {
          "output_type": "stream",
          "name": "stdout",
          "text": [
            "Training acc over epoch: 1.0000\n",
            "Training acc over epoch: 0.8750\n",
            "Training acc over epoch: 0.8438\n",
            "Training acc over epoch: 0.8750\n",
            "Training acc over epoch: 0.8438\n",
            "Training acc over epoch: 0.9062\n",
            "Training acc over epoch: 0.9062\n",
            "Training acc over epoch: 0.8438\n",
            "Training acc over epoch: 0.8750\n",
            "Training acc over epoch: 0.7812\n",
            "Training acc over epoch: 0.9688\n",
            "Training acc over epoch: 0.9062\n",
            "Training acc over epoch: 0.9062\n",
            "Training acc over epoch: 0.8125\n",
            "Training acc over epoch: 0.8438\n"
          ]
        },
        {
          "output_type": "stream",
          "name": "stderr",
          "text": [
            " 19%|█▉        | 326/1688 [00:04<00:18, 72.33it/s]"
          ]
        },
        {
          "output_type": "stream",
          "name": "stdout",
          "text": [
            "Training acc over epoch: 0.8750\n",
            "Training acc over epoch: 0.8438\n",
            "Training acc over epoch: 0.9062\n",
            "Training acc over epoch: 0.8750\n",
            "Training acc over epoch: 0.9062\n",
            "Training acc over epoch: 0.8750\n",
            "Training acc over epoch: 0.8750\n",
            "Training acc over epoch: 1.0000\n",
            "Training acc over epoch: 0.9688\n",
            "Training acc over epoch: 1.0000\n",
            "Training acc over epoch: 0.8125\n",
            "Training acc over epoch: 0.9062\n",
            "Training acc over epoch: 0.7188\n",
            "Training acc over epoch: 0.8750\n",
            "Training acc over epoch: 0.7812\n",
            "Training acc over epoch: 0.8438\n"
          ]
        },
        {
          "output_type": "stream",
          "name": "stderr",
          "text": [
            " 20%|██        | 342/1688 [00:04<00:19, 70.82it/s]"
          ]
        },
        {
          "output_type": "stream",
          "name": "stdout",
          "text": [
            "Training acc over epoch: 0.9062\n",
            "Training acc over epoch: 0.8750\n",
            "Training acc over epoch: 0.9062\n",
            "Training acc over epoch: 0.8750\n",
            "Training acc over epoch: 0.8125\n",
            "Training acc over epoch: 0.9688\n",
            "Training acc over epoch: 0.8125\n",
            "Training acc over epoch: 0.9375\n",
            "Training acc over epoch: 0.8750\n",
            "Training acc over epoch: 0.9375\n",
            "Training acc over epoch: 0.8125\n",
            "Training acc over epoch: 0.7812\n",
            "Training acc over epoch: 0.8750\n",
            "Training acc over epoch: 0.9375\n"
          ]
        },
        {
          "output_type": "stream",
          "name": "stderr",
          "text": [
            " 21%|██        | 358/1688 [00:05<00:19, 69.70it/s]"
          ]
        },
        {
          "output_type": "stream",
          "name": "stdout",
          "text": [
            "Training acc over epoch: 0.8750\n",
            "Training acc over epoch: 0.8750\n",
            "Training acc over epoch: 0.9375\n",
            "Training acc over epoch: 0.9062\n",
            "Training acc over epoch: 1.0000\n",
            "Training acc over epoch: 0.9062\n",
            "Training acc over epoch: 0.8438\n",
            "Training acc over epoch: 0.8125\n",
            "Training acc over epoch: 0.8750\n",
            "Training acc over epoch: 0.8125\n",
            "Training acc over epoch: 0.9062\n",
            "Training acc over epoch: 0.8750\n",
            "Training acc over epoch: 0.8750\n",
            "Training acc over epoch: 0.9375\n"
          ]
        },
        {
          "output_type": "stream",
          "name": "stderr",
          "text": [
            " 22%|██▏       | 373/1688 [00:05<00:18, 69.25it/s]"
          ]
        },
        {
          "output_type": "stream",
          "name": "stdout",
          "text": [
            "Training acc over epoch: 0.7500\n",
            "Training acc over epoch: 0.8438\n",
            "Training acc over epoch: 0.9688\n",
            "Training acc over epoch: 0.8750\n",
            "Training acc over epoch: 0.9062\n",
            "Training acc over epoch: 0.8750\n",
            "Training acc over epoch: 0.9375\n",
            "Training acc over epoch: 1.0000\n",
            "Training acc over epoch: 0.9375\n",
            "Training acc over epoch: 0.7812\n",
            "Training acc over epoch: 0.8750\n",
            "Training acc over epoch: 0.9062\n",
            "Training acc over epoch: 0.8438\n",
            "Training acc over epoch: 0.8750\n",
            "Training acc over epoch: 0.8750\n"
          ]
        },
        {
          "output_type": "stream",
          "name": "stderr",
          "text": [
            " 23%|██▎       | 388/1688 [00:05<00:18, 70.67it/s]"
          ]
        },
        {
          "output_type": "stream",
          "name": "stdout",
          "text": [
            "Training acc over epoch: 0.9688\n",
            "Training acc over epoch: 0.9062\n",
            "Training acc over epoch: 0.9062\n",
            "Training acc over epoch: 0.9062\n",
            "Training acc over epoch: 0.9375\n",
            "Training acc over epoch: 0.9062\n",
            "Training acc over epoch: 0.7812\n",
            "Training acc over epoch: 0.9375\n",
            "Training acc over epoch: 0.8438\n",
            "Training acc over epoch: 0.9062\n",
            "Training acc over epoch: 0.8125\n",
            "Training acc over epoch: 0.7812\n",
            "Training acc over epoch: 0.8750\n",
            "Training acc over epoch: 0.8750\n",
            "Training acc over epoch: 0.8750\n"
          ]
        },
        {
          "output_type": "stream",
          "name": "stderr",
          "text": [
            " 24%|██▍       | 405/1688 [00:05<00:16, 76.48it/s]"
          ]
        },
        {
          "output_type": "stream",
          "name": "stdout",
          "text": [
            "Training acc over epoch: 0.9688\n",
            "Training acc over epoch: 0.8438\n",
            "Training acc over epoch: 0.9062\n",
            "Training acc over epoch: 0.9062\n",
            "Training acc over epoch: 0.8438\n",
            "Training acc over epoch: 0.8438\n",
            "Training acc over epoch: 0.9062\n",
            "Training acc over epoch: 0.9062\n",
            "Training acc over epoch: 0.9375\n",
            "Training acc over epoch: 0.8750\n",
            "Training acc over epoch: 0.8438\n",
            "Training acc over epoch: 0.8750\n",
            "Training acc over epoch: 0.7188\n",
            "Training acc over epoch: 0.7812\n",
            "Training acc over epoch: 0.8438\n",
            "Training acc over epoch: 0.8125\n",
            "Training acc over epoch: 0.8750\n"
          ]
        },
        {
          "output_type": "stream",
          "name": "stderr",
          "text": [
            "\r 24%|██▍       | 413/1688 [00:05<00:16, 75.41it/s]"
          ]
        },
        {
          "output_type": "stream",
          "name": "stdout",
          "text": [
            "Training acc over epoch: 0.7812\n",
            "Training acc over epoch: 0.8438\n",
            "Training acc over epoch: 0.9062\n",
            "Training acc over epoch: 0.9062\n",
            "Training acc over epoch: 0.9688\n",
            "Training acc over epoch: 0.7812\n",
            "Training acc over epoch: 0.9375\n",
            "Training acc over epoch: 0.9062\n",
            "Training acc over epoch: 0.8750\n",
            "Training acc over epoch: 0.7812\n",
            "Training acc over epoch: 0.9062\n",
            "Training acc over epoch: 0.9062\n",
            "Training acc over epoch: 0.9688\n",
            "Training acc over epoch: 0.9062\n",
            "Training acc over epoch: 0.9062\n"
          ]
        },
        {
          "output_type": "stream",
          "name": "stderr",
          "text": [
            " 25%|██▌       | 429/1688 [00:06<00:17, 73.13it/s]"
          ]
        },
        {
          "output_type": "stream",
          "name": "stdout",
          "text": [
            "Training acc over epoch: 0.9688\n",
            "Training acc over epoch: 0.9375\n",
            "Training acc over epoch: 0.8438\n",
            "Training acc over epoch: 0.9062\n",
            "Training acc over epoch: 0.8125\n",
            "Training acc over epoch: 0.8750\n",
            "Training acc over epoch: 0.9062\n",
            "Training acc over epoch: 0.9062\n",
            "Training acc over epoch: 0.8750\n",
            "Training acc over epoch: 0.9375\n",
            "Training acc over epoch: 0.8750\n",
            "Training acc over epoch: 0.8750\n",
            "Training acc over epoch: 0.8438\n",
            "Training acc over epoch: 0.9062\n",
            "Training acc over epoch: 0.9062\n",
            "Training acc over epoch: 0.8750\n"
          ]
        },
        {
          "output_type": "stream",
          "name": "stderr",
          "text": [
            " 26%|██▋       | 445/1688 [00:06<00:16, 74.82it/s]"
          ]
        },
        {
          "output_type": "stream",
          "name": "stdout",
          "text": [
            "Training acc over epoch: 0.8125\n",
            "Training acc over epoch: 0.7500\n",
            "Training acc over epoch: 0.9062\n",
            "Training acc over epoch: 0.9688\n",
            "Training acc over epoch: 0.8438\n",
            "Training acc over epoch: 0.9375\n",
            "Training acc over epoch: 0.9375\n",
            "Training acc over epoch: 0.9062\n",
            "Training acc over epoch: 0.8438\n",
            "Training acc over epoch: 0.9062\n",
            "Training acc over epoch: 0.8125\n",
            "Training acc over epoch: 0.8438\n",
            "Training acc over epoch: 0.8750\n",
            "Training acc over epoch: 0.9062\n",
            "Training acc over epoch: 0.8438\n",
            "Training acc over epoch: 0.9062\n"
          ]
        },
        {
          "output_type": "stream",
          "name": "stderr",
          "text": [
            " 27%|██▋       | 461/1688 [00:06<00:16, 72.19it/s]"
          ]
        },
        {
          "output_type": "stream",
          "name": "stdout",
          "text": [
            "Training acc over epoch: 0.9062\n",
            "Training acc over epoch: 0.8750\n",
            "Training acc over epoch: 0.8438\n",
            "Training acc over epoch: 0.9375\n",
            "Training acc over epoch: 0.9375\n",
            "Training acc over epoch: 0.7812\n",
            "Training acc over epoch: 0.8750\n",
            "Training acc over epoch: 0.8438\n",
            "Training acc over epoch: 0.8438\n",
            "Training acc over epoch: 0.9062\n",
            "Training acc over epoch: 0.8438\n",
            "Training acc over epoch: 0.8438\n",
            "Training acc over epoch: 0.9375\n",
            "Training acc over epoch: 0.8750\n",
            "Training acc over epoch: 0.9062\n"
          ]
        },
        {
          "output_type": "stream",
          "name": "stderr",
          "text": [
            " 28%|██▊       | 477/1688 [00:06<00:17, 71.18it/s]"
          ]
        },
        {
          "output_type": "stream",
          "name": "stdout",
          "text": [
            "Training acc over epoch: 0.9375\n",
            "Training acc over epoch: 0.9375\n",
            "Training acc over epoch: 0.9688\n",
            "Training acc over epoch: 0.9062\n",
            "Training acc over epoch: 0.9375\n",
            "Training acc over epoch: 0.9062\n",
            "Training acc over epoch: 0.9062\n",
            "Training acc over epoch: 0.9375\n",
            "Training acc over epoch: 0.9062\n",
            "Training acc over epoch: 0.9062\n",
            "Training acc over epoch: 0.8750\n",
            "Training acc over epoch: 0.9062\n",
            "Training acc over epoch: 0.8438\n",
            "Training acc over epoch: 0.9062\n"
          ]
        },
        {
          "output_type": "stream",
          "name": "stderr",
          "text": [
            " 29%|██▉       | 492/1688 [00:06<00:17, 69.18it/s]"
          ]
        },
        {
          "output_type": "stream",
          "name": "stdout",
          "text": [
            "Training acc over epoch: 0.8125\n",
            "Training acc over epoch: 0.8750\n",
            "Training acc over epoch: 0.8125\n",
            "Training acc over epoch: 0.9062\n",
            "Training acc over epoch: 0.9375\n",
            "Training acc over epoch: 0.8750\n",
            "Training acc over epoch: 0.8125\n",
            "Training acc over epoch: 0.8438\n",
            "Training acc over epoch: 0.8438\n",
            "Training acc over epoch: 0.8438\n",
            "Training acc over epoch: 0.9688\n",
            "Training acc over epoch: 0.9062\n",
            "Training acc over epoch: 0.8750\n",
            "Training acc over epoch: 0.8125\n",
            "Training acc over epoch: 0.9062\n"
          ]
        },
        {
          "output_type": "stream",
          "name": "stderr",
          "text": [
            " 30%|██▉       | 506/1688 [00:07<00:17, 68.45it/s]"
          ]
        },
        {
          "output_type": "stream",
          "name": "stdout",
          "text": [
            "Training acc over epoch: 0.9062\n",
            "Training acc over epoch: 0.7812\n",
            "Training acc over epoch: 0.9375\n",
            "Training acc over epoch: 0.9062\n",
            "Training acc over epoch: 0.8750\n",
            "Training acc over epoch: 0.9688\n",
            "Training acc over epoch: 0.9062\n",
            "Training acc over epoch: 0.8125\n",
            "Training acc over epoch: 1.0000\n",
            "Training acc over epoch: 0.8750\n",
            "Training acc over epoch: 0.9062\n",
            "Training acc over epoch: 0.8750\n",
            "Training acc over epoch: 0.9062\n",
            "Training acc over epoch: 0.9375\n",
            "Training acc over epoch: 0.8750\n"
          ]
        },
        {
          "output_type": "stream",
          "name": "stderr",
          "text": [
            " 31%|███       | 521/1688 [00:07<00:16, 70.27it/s]"
          ]
        },
        {
          "output_type": "stream",
          "name": "stdout",
          "text": [
            "Training acc over epoch: 0.8750\n",
            "Training acc over epoch: 0.8438\n",
            "Training acc over epoch: 0.8750\n",
            "Training acc over epoch: 0.8438\n",
            "Training acc over epoch: 0.8438\n",
            "Training acc over epoch: 0.9375\n",
            "Training acc over epoch: 0.8438\n",
            "Training acc over epoch: 0.8438\n",
            "Training acc over epoch: 0.8750\n",
            "Training acc over epoch: 0.9688\n",
            "Training acc over epoch: 0.8125\n",
            "Training acc over epoch: 0.8125\n",
            "Training acc over epoch: 0.8750\n",
            "Training acc over epoch: 0.9062\n",
            "Training acc over epoch: 0.9062\n"
          ]
        },
        {
          "output_type": "stream",
          "name": "stderr",
          "text": [
            " 32%|███▏      | 537/1688 [00:07<00:16, 71.66it/s]"
          ]
        },
        {
          "output_type": "stream",
          "name": "stdout",
          "text": [
            "Training acc over epoch: 0.9688\n",
            "Training acc over epoch: 0.8750\n",
            "Training acc over epoch: 0.9062\n",
            "Training acc over epoch: 0.7500\n",
            "Training acc over epoch: 0.8438\n",
            "Training acc over epoch: 0.9688\n",
            "Training acc over epoch: 0.8750\n",
            "Training acc over epoch: 0.9688\n",
            "Training acc over epoch: 0.8438\n",
            "Training acc over epoch: 0.8438\n",
            "Training acc over epoch: 0.9062\n",
            "Training acc over epoch: 0.9375\n",
            "Training acc over epoch: 0.9062\n",
            "Training acc over epoch: 0.9688\n",
            "Training acc over epoch: 0.9062\n",
            "Training acc over epoch: 0.9688\n"
          ]
        },
        {
          "output_type": "stream",
          "name": "stderr",
          "text": [
            " 33%|███▎      | 553/1688 [00:07<00:15, 73.54it/s]"
          ]
        },
        {
          "output_type": "stream",
          "name": "stdout",
          "text": [
            "Training acc over epoch: 0.8750\n",
            "Training acc over epoch: 0.8438\n",
            "Training acc over epoch: 0.9688\n",
            "Training acc over epoch: 0.9062\n",
            "Training acc over epoch: 0.9375\n",
            "Training acc over epoch: 0.8125\n",
            "Training acc over epoch: 0.8750\n",
            "Training acc over epoch: 0.8750\n",
            "Training acc over epoch: 0.8438\n",
            "Training acc over epoch: 0.9688\n",
            "Training acc over epoch: 0.8438\n",
            "Training acc over epoch: 0.9062\n",
            "Training acc over epoch: 0.8125\n",
            "Training acc over epoch: 0.8438\n",
            "Training acc over epoch: 0.9375\n",
            "Training acc over epoch: 0.7500\n",
            "Training acc over epoch: 0.9375\n"
          ]
        },
        {
          "output_type": "stream",
          "name": "stderr",
          "text": [
            " 34%|███▍      | 570/1688 [00:08<00:14, 77.32it/s]"
          ]
        },
        {
          "output_type": "stream",
          "name": "stdout",
          "text": [
            "Training acc over epoch: 0.9688\n",
            "Training acc over epoch: 0.8438\n",
            "Training acc over epoch: 0.9375\n",
            "Training acc over epoch: 0.8750\n",
            "Training acc over epoch: 0.7500\n",
            "Training acc over epoch: 0.9062\n",
            "Training acc over epoch: 0.9375\n",
            "Training acc over epoch: 0.9375\n",
            "Training acc over epoch: 0.9062\n",
            "Training acc over epoch: 0.8750\n",
            "Training acc over epoch: 0.9062\n",
            "Training acc over epoch: 0.8438\n",
            "Training acc over epoch: 0.8750\n",
            "Training acc over epoch: 0.9375\n",
            "Training acc over epoch: 0.9062\n",
            "Training acc over epoch: 0.9062\n",
            "Training acc over epoch: 0.9062\n"
          ]
        },
        {
          "output_type": "stream",
          "name": "stderr",
          "text": [
            " 35%|███▍      | 588/1688 [00:08<00:13, 81.52it/s]"
          ]
        },
        {
          "output_type": "stream",
          "name": "stdout",
          "text": [
            "Training acc over epoch: 0.9375\n",
            "Training acc over epoch: 0.8125\n",
            "Training acc over epoch: 0.8125\n",
            "Training acc over epoch: 0.8438\n",
            "Training acc over epoch: 0.8750\n",
            "Training acc over epoch: 0.9062\n",
            "Training acc over epoch: 0.8125\n",
            "Training acc over epoch: 1.0000\n",
            "Training acc over epoch: 0.8750\n",
            "Training acc over epoch: 0.9688\n",
            "Training acc over epoch: 0.7812\n",
            "Training acc over epoch: 0.9062\n",
            "Training acc over epoch: 0.8750\n",
            "Training acc over epoch: 0.9062\n",
            "Training acc over epoch: 1.0000\n",
            "Training acc over epoch: 0.8750\n",
            "Training acc over epoch: 0.8438\n",
            "Training acc over epoch: 0.8438\n"
          ]
        },
        {
          "output_type": "stream",
          "name": "stderr",
          "text": [
            " 36%|███▌      | 606/1688 [00:08<00:13, 80.44it/s]"
          ]
        },
        {
          "output_type": "stream",
          "name": "stdout",
          "text": [
            "Training acc over epoch: 0.9062\n",
            "Training acc over epoch: 0.9375\n",
            "Training acc over epoch: 0.9375\n",
            "Training acc over epoch: 0.8125\n",
            "Training acc over epoch: 0.9375\n",
            "Training acc over epoch: 0.9062\n",
            "Training acc over epoch: 0.9062\n",
            "Training acc over epoch: 1.0000\n",
            "Training acc over epoch: 0.8125\n",
            "Training acc over epoch: 0.9688\n",
            "Training acc over epoch: 0.8750\n",
            "Training acc over epoch: 0.9062\n",
            "Training acc over epoch: 0.9375\n",
            "Training acc over epoch: 0.9375\n",
            "Training acc over epoch: 0.8750\n",
            "Training acc over epoch: 0.9375\n",
            "Training acc over epoch: 0.9375\n"
          ]
        },
        {
          "output_type": "stream",
          "name": "stderr",
          "text": [
            " 37%|███▋      | 624/1688 [00:08<00:13, 81.19it/s]"
          ]
        },
        {
          "output_type": "stream",
          "name": "stdout",
          "text": [
            "Training acc over epoch: 0.9688\n",
            "Training acc over epoch: 0.9375\n",
            "Training acc over epoch: 0.9062\n",
            "Training acc over epoch: 0.9688\n",
            "Training acc over epoch: 0.9062\n",
            "Training acc over epoch: 0.9062\n",
            "Training acc over epoch: 0.9062\n",
            "Training acc over epoch: 0.8750\n",
            "Training acc over epoch: 0.9375\n",
            "Training acc over epoch: 0.8438\n",
            "Training acc over epoch: 0.8125\n",
            "Training acc over epoch: 0.8750\n",
            "Training acc over epoch: 0.8750\n",
            "Training acc over epoch: 0.8750\n",
            "Training acc over epoch: 0.9062\n",
            "Training acc over epoch: 0.8750\n",
            "Training acc over epoch: 0.9375\n"
          ]
        },
        {
          "output_type": "stream",
          "name": "stderr",
          "text": [
            " 38%|███▊      | 642/1688 [00:08<00:12, 80.98it/s]"
          ]
        },
        {
          "output_type": "stream",
          "name": "stdout",
          "text": [
            "Training acc over epoch: 0.9375\n",
            "Training acc over epoch: 0.9375\n",
            "Training acc over epoch: 0.9062\n",
            "Training acc over epoch: 0.9062\n",
            "Training acc over epoch: 0.7812\n",
            "Training acc over epoch: 0.8125\n",
            "Training acc over epoch: 0.9375\n",
            "Training acc over epoch: 0.9375\n",
            "Training acc over epoch: 0.9062\n",
            "Training acc over epoch: 0.9062\n",
            "Training acc over epoch: 0.8438\n",
            "Training acc over epoch: 0.9062\n",
            "Training acc over epoch: 0.9688\n",
            "Training acc over epoch: 0.8750\n",
            "Training acc over epoch: 0.9375\n",
            "Training acc over epoch: 1.0000\n"
          ]
        },
        {
          "output_type": "stream",
          "name": "stderr",
          "text": [
            " 39%|███▉      | 660/1688 [00:09<00:13, 78.32it/s]"
          ]
        },
        {
          "output_type": "stream",
          "name": "stdout",
          "text": [
            "Training acc over epoch: 0.8438\n",
            "Training acc over epoch: 0.7812\n",
            "Training acc over epoch: 0.7812\n",
            "Training acc over epoch: 0.8750\n",
            "Training acc over epoch: 0.9688\n",
            "Training acc over epoch: 0.9375\n",
            "Training acc over epoch: 0.9062\n",
            "Training acc over epoch: 1.0000\n",
            "Training acc over epoch: 0.8750\n",
            "Training acc over epoch: 0.8750\n",
            "Training acc over epoch: 0.8750\n",
            "Training acc over epoch: 0.8125\n",
            "Training acc over epoch: 0.8438\n",
            "Training acc over epoch: 0.7812\n",
            "Training acc over epoch: 0.9375\n",
            "Training acc over epoch: 0.9062\n",
            "Training acc over epoch: 0.9375\n"
          ]
        },
        {
          "output_type": "stream",
          "name": "stderr",
          "text": [
            " 40%|████      | 676/1688 [00:09<00:13, 75.69it/s]"
          ]
        },
        {
          "output_type": "stream",
          "name": "stdout",
          "text": [
            "Training acc over epoch: 0.9062\n",
            "Training acc over epoch: 0.9062\n",
            "Training acc over epoch: 0.8125\n",
            "Training acc over epoch: 0.9062\n",
            "Training acc over epoch: 0.9375\n",
            "Training acc over epoch: 0.7812\n",
            "Training acc over epoch: 0.9688\n",
            "Training acc over epoch: 0.9688\n",
            "Training acc over epoch: 0.9375\n",
            "Training acc over epoch: 0.8750\n",
            "Training acc over epoch: 0.8750\n",
            "Training acc over epoch: 0.8438\n",
            "Training acc over epoch: 0.9375\n",
            "Training acc over epoch: 0.8438\n",
            "Training acc over epoch: 0.8750\n"
          ]
        },
        {
          "output_type": "stream",
          "name": "stderr",
          "text": [
            " 41%|████      | 692/1688 [00:09<00:13, 74.29it/s]"
          ]
        },
        {
          "output_type": "stream",
          "name": "stdout",
          "text": [
            "Training acc over epoch: 0.9062\n",
            "Training acc over epoch: 0.8125\n",
            "Training acc over epoch: 0.8750\n",
            "Training acc over epoch: 0.9375\n",
            "Training acc over epoch: 0.8750\n",
            "Training acc over epoch: 0.8438\n",
            "Training acc over epoch: 0.9062\n",
            "Training acc over epoch: 0.8125\n",
            "Training acc over epoch: 0.8750\n",
            "Training acc over epoch: 0.9062\n",
            "Training acc over epoch: 0.9375\n",
            "Training acc over epoch: 0.9375\n",
            "Training acc over epoch: 0.8438\n",
            "Training acc over epoch: 0.9062\n",
            "Training acc over epoch: 0.9375\n",
            "Training acc over epoch: 0.9062\n"
          ]
        },
        {
          "output_type": "stream",
          "name": "stderr",
          "text": [
            "\r 41%|████▏     | 700/1688 [00:09<00:13, 70.83it/s]"
          ]
        },
        {
          "output_type": "stream",
          "name": "stdout",
          "text": [
            "Training acc over epoch: 1.0000\n",
            "Training acc over epoch: 0.9062\n",
            "Training acc over epoch: 0.8438\n",
            "Training acc over epoch: 0.8438\n",
            "Training acc over epoch: 0.9062\n",
            "Training acc over epoch: 0.9375\n",
            "Training acc over epoch: 0.8125\n",
            "Training acc over epoch: 0.8125\n",
            "Training acc over epoch: 0.9375\n",
            "Training acc over epoch: 0.9062\n",
            "Training acc over epoch: 0.9688\n",
            "Training acc over epoch: 0.8438\n",
            "Training acc over epoch: 0.9375\n",
            "Training acc over epoch: 0.9688\n",
            "Training acc over epoch: 0.9688\n",
            "Training acc over epoch: 0.9062\n"
          ]
        },
        {
          "output_type": "stream",
          "name": "stderr",
          "text": [
            " 42%|████▏     | 717/1688 [00:09<00:13, 74.67it/s]"
          ]
        },
        {
          "output_type": "stream",
          "name": "stdout",
          "text": [
            "Training acc over epoch: 0.9062\n",
            "Training acc over epoch: 1.0000\n",
            "Training acc over epoch: 0.9688\n",
            "Training acc over epoch: 0.7812\n",
            "Training acc over epoch: 0.8438\n",
            "Training acc over epoch: 0.8438\n",
            "Training acc over epoch: 0.8438\n",
            "Training acc over epoch: 0.8438\n",
            "Training acc over epoch: 0.9688\n",
            "Training acc over epoch: 0.9375\n",
            "Training acc over epoch: 0.9062\n",
            "Training acc over epoch: 0.9375\n",
            "Training acc over epoch: 0.8750\n",
            "Training acc over epoch: 0.9062\n",
            "Training acc over epoch: 0.9062\n",
            "Training acc over epoch: 0.8438\n",
            "Training acc over epoch: 0.8750\n"
          ]
        },
        {
          "output_type": "stream",
          "name": "stderr",
          "text": [
            " 44%|████▎     | 735/1688 [00:10<00:12, 77.85it/s]"
          ]
        },
        {
          "output_type": "stream",
          "name": "stdout",
          "text": [
            "Training acc over epoch: 0.8750\n",
            "Training acc over epoch: 0.9062\n",
            "Training acc over epoch: 0.9062\n",
            "Training acc over epoch: 0.8750\n",
            "Training acc over epoch: 0.9062\n",
            "Training acc over epoch: 0.8125\n",
            "Training acc over epoch: 0.8750\n",
            "Training acc over epoch: 0.8750\n",
            "Training acc over epoch: 0.9062\n",
            "Training acc over epoch: 0.8438\n",
            "Training acc over epoch: 0.9062\n",
            "Training acc over epoch: 0.9062\n",
            "Training acc over epoch: 0.8125\n",
            "Training acc over epoch: 0.9062\n",
            "Training acc over epoch: 0.7812\n",
            "Training acc over epoch: 0.9062\n",
            "Training acc over epoch: 1.0000\n"
          ]
        },
        {
          "output_type": "stream",
          "name": "stderr",
          "text": [
            " 45%|████▍     | 752/1688 [00:10<00:11, 79.29it/s]"
          ]
        },
        {
          "output_type": "stream",
          "name": "stdout",
          "text": [
            "Training acc over epoch: 0.8125\n",
            "Training acc over epoch: 0.9062\n",
            "Training acc over epoch: 0.9375\n",
            "Training acc over epoch: 0.9062\n",
            "Training acc over epoch: 0.8438\n",
            "Training acc over epoch: 0.7812\n",
            "Training acc over epoch: 0.8750\n",
            "Training acc over epoch: 0.8438\n",
            "Training acc over epoch: 0.9688\n",
            "Training acc over epoch: 0.9062\n",
            "Training acc over epoch: 0.8125\n",
            "Training acc over epoch: 0.7500\n",
            "Training acc over epoch: 0.9062\n",
            "Training acc over epoch: 0.9062\n",
            "Training acc over epoch: 0.7500\n",
            "Training acc over epoch: 0.8750\n",
            "Training acc over epoch: 0.8438\n"
          ]
        },
        {
          "output_type": "stream",
          "name": "stderr",
          "text": [
            " 46%|████▌     | 769/1688 [00:10<00:11, 78.94it/s]"
          ]
        },
        {
          "output_type": "stream",
          "name": "stdout",
          "text": [
            "Training acc over epoch: 0.9062\n",
            "Training acc over epoch: 0.8438\n",
            "Training acc over epoch: 0.8438\n",
            "Training acc over epoch: 0.8125\n",
            "Training acc over epoch: 0.7188\n",
            "Training acc over epoch: 0.8750\n",
            "Training acc over epoch: 0.8750\n",
            "Training acc over epoch: 0.8125\n",
            "Training acc over epoch: 0.8750\n",
            "Training acc over epoch: 0.9688\n",
            "Training acc over epoch: 0.8750\n",
            "Training acc over epoch: 0.8750\n",
            "Training acc over epoch: 0.8125\n",
            "Training acc over epoch: 1.0000\n",
            "Training acc over epoch: 0.9062\n",
            "Training acc over epoch: 0.9375\n"
          ]
        },
        {
          "output_type": "stream",
          "name": "stderr",
          "text": [
            " 47%|████▋     | 786/1688 [00:10<00:11, 75.78it/s]"
          ]
        },
        {
          "output_type": "stream",
          "name": "stdout",
          "text": [
            "Training acc over epoch: 0.9375\n",
            "Training acc over epoch: 0.8750\n",
            "Training acc over epoch: 0.8438\n",
            "Training acc over epoch: 0.8750\n",
            "Training acc over epoch: 0.8438\n",
            "Training acc over epoch: 0.9375\n",
            "Training acc over epoch: 0.8750\n",
            "Training acc over epoch: 0.9375\n",
            "Training acc over epoch: 0.9375\n",
            "Training acc over epoch: 0.9062\n",
            "Training acc over epoch: 0.9062\n",
            "Training acc over epoch: 0.7188\n",
            "Training acc over epoch: 0.9375\n",
            "Training acc over epoch: 0.9375\n",
            "Training acc over epoch: 0.8750\n",
            "Training acc over epoch: 0.7812\n"
          ]
        },
        {
          "output_type": "stream",
          "name": "stderr",
          "text": [
            " 48%|████▊     | 803/1688 [00:11<00:11, 78.04it/s]"
          ]
        },
        {
          "output_type": "stream",
          "name": "stdout",
          "text": [
            "Training acc over epoch: 0.9062\n",
            "Training acc over epoch: 0.8125\n",
            "Training acc over epoch: 0.8750\n",
            "Training acc over epoch: 0.7500\n",
            "Training acc over epoch: 0.7812\n",
            "Training acc over epoch: 0.8438\n",
            "Training acc over epoch: 0.8750\n",
            "Training acc over epoch: 0.9062\n",
            "Training acc over epoch: 0.8750\n",
            "Training acc over epoch: 0.8750\n",
            "Training acc over epoch: 0.9062\n",
            "Training acc over epoch: 0.8750\n",
            "Training acc over epoch: 0.9375\n",
            "Training acc over epoch: 0.8125\n",
            "Training acc over epoch: 0.9375\n",
            "Training acc over epoch: 0.8438\n",
            "Training acc over epoch: 0.7500\n"
          ]
        },
        {
          "output_type": "stream",
          "name": "stderr",
          "text": [
            " 49%|████▊     | 819/1688 [00:11<00:11, 76.00it/s]"
          ]
        },
        {
          "output_type": "stream",
          "name": "stdout",
          "text": [
            "Training acc over epoch: 0.7500\n",
            "Training acc over epoch: 0.9062\n",
            "Training acc over epoch: 0.8750\n",
            "Training acc over epoch: 0.8750\n",
            "Training acc over epoch: 0.8750\n",
            "Training acc over epoch: 0.8438\n",
            "Training acc over epoch: 0.9062\n",
            "Training acc over epoch: 0.8438\n",
            "Training acc over epoch: 0.9062\n",
            "Training acc over epoch: 0.8750\n",
            "Training acc over epoch: 0.9062\n",
            "Training acc over epoch: 0.8438\n",
            "Training acc over epoch: 0.8750\n",
            "Training acc over epoch: 0.7500\n",
            "Training acc over epoch: 0.9375\n",
            "Training acc over epoch: 0.8438\n"
          ]
        },
        {
          "output_type": "stream",
          "name": "stderr",
          "text": [
            " 49%|████▉     | 835/1688 [00:11<00:11, 72.88it/s]"
          ]
        },
        {
          "output_type": "stream",
          "name": "stdout",
          "text": [
            "Training acc over epoch: 0.8750\n",
            "Training acc over epoch: 0.9375\n",
            "Training acc over epoch: 0.8750\n",
            "Training acc over epoch: 0.9688\n",
            "Training acc over epoch: 0.8125\n",
            "Training acc over epoch: 0.8125\n",
            "Training acc over epoch: 0.8438\n",
            "Training acc over epoch: 0.8438\n",
            "Training acc over epoch: 0.8750\n",
            "Training acc over epoch: 0.8438\n",
            "Training acc over epoch: 0.9375\n",
            "Training acc over epoch: 0.9062\n",
            "Training acc over epoch: 0.8750\n",
            "Training acc over epoch: 0.7188\n"
          ]
        },
        {
          "output_type": "stream",
          "name": "stderr",
          "text": [
            " 50%|█████     | 851/1688 [00:11<00:11, 73.60it/s]"
          ]
        },
        {
          "output_type": "stream",
          "name": "stdout",
          "text": [
            "Training acc over epoch: 0.9375\n",
            "Training acc over epoch: 0.9375\n",
            "Training acc over epoch: 0.7500\n",
            "Training acc over epoch: 0.9062\n",
            "Training acc over epoch: 0.8438\n",
            "Training acc over epoch: 0.8125\n",
            "Training acc over epoch: 0.9375\n",
            "Training acc over epoch: 0.8750\n",
            "Training acc over epoch: 0.8750\n",
            "Training acc over epoch: 0.8125\n",
            "Training acc over epoch: 0.9375\n",
            "Training acc over epoch: 0.8750\n",
            "Training acc over epoch: 0.7500\n",
            "Training acc over epoch: 0.8125\n"
          ]
        },
        {
          "output_type": "stream",
          "name": "stderr",
          "text": [
            " 51%|█████▏    | 866/1688 [00:11<00:12, 65.85it/s]"
          ]
        },
        {
          "output_type": "stream",
          "name": "stdout",
          "text": [
            "Training acc over epoch: 0.8438\n",
            "Training acc over epoch: 0.9375\n",
            "Training acc over epoch: 0.9688\n",
            "Training acc over epoch: 0.8125\n",
            "Training acc over epoch: 0.8125\n",
            "Training acc over epoch: 0.9375\n",
            "Training acc over epoch: 0.8438\n",
            "Training acc over epoch: 0.7812\n",
            "Training acc over epoch: 0.9688\n",
            "Training acc over epoch: 0.8750\n",
            "Training acc over epoch: 0.9375\n",
            "Training acc over epoch: 0.8125\n",
            "Training acc over epoch: 0.8750\n",
            "Training acc over epoch: 0.9062\n"
          ]
        },
        {
          "output_type": "stream",
          "name": "stderr",
          "text": [
            " 52%|█████▏    | 880/1688 [00:12<00:12, 65.98it/s]"
          ]
        },
        {
          "output_type": "stream",
          "name": "stdout",
          "text": [
            "Training acc over epoch: 0.8438\n",
            "Training acc over epoch: 0.8750\n",
            "Training acc over epoch: 0.7500\n",
            "Training acc over epoch: 0.8438\n",
            "Training acc over epoch: 0.9375\n",
            "Training acc over epoch: 0.9062\n",
            "Training acc over epoch: 0.8438\n",
            "Training acc over epoch: 0.8750\n",
            "Training acc over epoch: 0.9062\n",
            "Training acc over epoch: 0.9375\n",
            "Training acc over epoch: 0.8438\n",
            "Training acc over epoch: 0.9062\n",
            "Training acc over epoch: 0.9375\n",
            "Training acc over epoch: 0.9688\n"
          ]
        },
        {
          "output_type": "stream",
          "name": "stderr",
          "text": [
            " 53%|█████▎    | 896/1688 [00:12<00:11, 70.39it/s]"
          ]
        },
        {
          "output_type": "stream",
          "name": "stdout",
          "text": [
            "Training acc over epoch: 0.8125\n",
            "Training acc over epoch: 0.9688\n",
            "Training acc over epoch: 0.9062\n",
            "Training acc over epoch: 0.9062\n",
            "Training acc over epoch: 0.8438\n",
            "Training acc over epoch: 0.9375\n",
            "Training acc over epoch: 0.8438\n",
            "Training acc over epoch: 0.7812\n",
            "Training acc over epoch: 0.9688\n",
            "Training acc over epoch: 0.8750\n",
            "Training acc over epoch: 0.7500\n",
            "Training acc over epoch: 0.8438\n",
            "Training acc over epoch: 0.8438\n",
            "Training acc over epoch: 0.8125\n",
            "Training acc over epoch: 0.9062\n",
            "Training acc over epoch: 1.0000\n"
          ]
        },
        {
          "output_type": "stream",
          "name": "stderr",
          "text": [
            " 54%|█████▍    | 913/1688 [00:12<00:10, 74.80it/s]"
          ]
        },
        {
          "output_type": "stream",
          "name": "stdout",
          "text": [
            "Training acc over epoch: 1.0000\n",
            "Training acc over epoch: 0.9062\n",
            "Training acc over epoch: 0.9375\n",
            "Training acc over epoch: 0.8750\n",
            "Training acc over epoch: 0.8438\n",
            "Training acc over epoch: 0.9062\n",
            "Training acc over epoch: 0.8750\n",
            "Training acc over epoch: 0.8750\n",
            "Training acc over epoch: 0.9375\n",
            "Training acc over epoch: 0.8750\n",
            "Training acc over epoch: 0.8438\n",
            "Training acc over epoch: 0.9375\n",
            "Training acc over epoch: 0.9062\n",
            "Training acc over epoch: 0.9688\n",
            "Training acc over epoch: 0.8750\n",
            "Training acc over epoch: 0.8438\n",
            "Training acc over epoch: 0.9375\n"
          ]
        },
        {
          "output_type": "stream",
          "name": "stderr",
          "text": [
            " 55%|█████▌    | 930/1688 [00:12<00:09, 79.11it/s]"
          ]
        },
        {
          "output_type": "stream",
          "name": "stdout",
          "text": [
            "Training acc over epoch: 0.8750\n",
            "Training acc over epoch: 0.8125\n",
            "Training acc over epoch: 0.8750\n",
            "Training acc over epoch: 0.8438\n",
            "Training acc over epoch: 0.8125\n",
            "Training acc over epoch: 0.9375\n",
            "Training acc over epoch: 0.9688\n",
            "Training acc over epoch: 0.8438\n",
            "Training acc over epoch: 0.9062\n",
            "Training acc over epoch: 0.8750\n",
            "Training acc over epoch: 0.8438\n",
            "Training acc over epoch: 0.9062\n",
            "Training acc over epoch: 0.7500\n",
            "Training acc over epoch: 0.7812\n",
            "Training acc over epoch: 0.8438\n",
            "Training acc over epoch: 0.8438\n",
            "Training acc over epoch: 0.9062\n"
          ]
        },
        {
          "output_type": "stream",
          "name": "stderr",
          "text": [
            "\r 56%|█████▌    | 939/1688 [00:12<00:09, 80.22it/s]"
          ]
        },
        {
          "output_type": "stream",
          "name": "stdout",
          "text": [
            "Training acc over epoch: 0.9062\n",
            "Training acc over epoch: 0.9062\n",
            "Training acc over epoch: 0.8438\n",
            "Training acc over epoch: 0.8750\n",
            "Training acc over epoch: 0.9062\n",
            "Training acc over epoch: 0.8438\n",
            "Training acc over epoch: 0.9375\n",
            "Training acc over epoch: 0.9062\n",
            "Training acc over epoch: 0.8438\n",
            "Training acc over epoch: 0.9062\n",
            "Training acc over epoch: 0.9062\n",
            "Training acc over epoch: 0.8750\n",
            "Training acc over epoch: 0.8750\n",
            "Training acc over epoch: 0.8438\n",
            "Training acc over epoch: 0.8750\n",
            "Training acc over epoch: 0.8438\n",
            "Training acc over epoch: 0.9375\n",
            "Training acc over epoch: 0.7500\n",
            "Training acc over epoch: 0.9688"
          ]
        },
        {
          "output_type": "stream",
          "name": "stderr",
          "text": [
            " 57%|█████▋    | 958/1688 [00:13<00:09, 80.58it/s]"
          ]
        },
        {
          "output_type": "stream",
          "name": "stdout",
          "text": [
            "\n",
            "Training acc over epoch: 0.8438\n",
            "Training acc over epoch: 0.8438\n",
            "Training acc over epoch: 0.9375\n",
            "Training acc over epoch: 0.8438\n",
            "Training acc over epoch: 0.8750\n",
            "Training acc over epoch: 0.8750\n",
            "Training acc over epoch: 0.8750\n",
            "Training acc over epoch: 0.8125\n",
            "Training acc over epoch: 0.8438\n",
            "Training acc over epoch: 0.8438\n",
            "Training acc over epoch: 0.9062\n",
            "Training acc over epoch: 0.9375\n",
            "Training acc over epoch: 0.8750\n",
            "Training acc over epoch: 0.8125"
          ]
        },
        {
          "output_type": "stream",
          "name": "stderr",
          "text": [
            " 58%|█████▊    | 976/1688 [00:13<00:09, 76.60it/s]"
          ]
        },
        {
          "output_type": "stream",
          "name": "stdout",
          "text": [
            "\n",
            "Training acc over epoch: 0.8750\n",
            "Training acc over epoch: 0.8438\n",
            "Training acc over epoch: 0.7500\n",
            "Training acc over epoch: 0.8750\n",
            "Training acc over epoch: 0.9688\n",
            "Training acc over epoch: 0.7188\n",
            "Training acc over epoch: 0.8750\n",
            "Training acc over epoch: 0.8125\n",
            "Training acc over epoch: 0.9688\n",
            "Training acc over epoch: 0.8125\n",
            "Training acc over epoch: 0.9375\n",
            "Training acc over epoch: 0.8438\n",
            "Training acc over epoch: 0.9062\n",
            "Training acc over epoch: 0.9062\n",
            "Training acc over epoch: 0.8750\n"
          ]
        },
        {
          "output_type": "stream",
          "name": "stderr",
          "text": [
            " 59%|█████▉    | 994/1688 [00:13<00:08, 80.72it/s]"
          ]
        },
        {
          "output_type": "stream",
          "name": "stdout",
          "text": [
            "Training acc over epoch: 0.8750\n",
            "Training acc over epoch: 0.8125\n",
            "Training acc over epoch: 0.9688\n",
            "Training acc over epoch: 0.9375\n",
            "Training acc over epoch: 0.7812\n",
            "Training acc over epoch: 0.9688\n",
            "Training acc over epoch: 0.9062\n",
            "Training acc over epoch: 0.7500\n",
            "Training acc over epoch: 0.9062\n",
            "Training acc over epoch: 0.7500\n",
            "Training acc over epoch: 0.7812\n",
            "Training acc over epoch: 0.7500\n",
            "Training acc over epoch: 0.8750\n",
            "Training acc over epoch: 0.8750\n",
            "Training acc over epoch: 0.8750\n",
            "Training acc over epoch: 0.7812\n",
            "Training acc over epoch: 0.9688\n",
            "Training acc over epoch: 0.8125"
          ]
        },
        {
          "output_type": "stream",
          "name": "stderr",
          "text": [
            " 60%|█████▉    | 1012/1688 [00:13<00:08, 81.89it/s]"
          ]
        },
        {
          "output_type": "stream",
          "name": "stdout",
          "text": [
            "\n",
            "Training acc over epoch: 0.8125\n",
            "Training acc over epoch: 0.8750\n",
            "Training acc over epoch: 0.8750\n",
            "Training acc over epoch: 0.8125\n",
            "Training acc over epoch: 0.9375\n",
            "Training acc over epoch: 0.9062\n",
            "Training acc over epoch: 0.8438\n",
            "Training acc over epoch: 0.8750\n",
            "Training acc over epoch: 0.9375\n",
            "Training acc over epoch: 0.9062\n",
            "Training acc over epoch: 0.9688\n",
            "Training acc over epoch: 0.9688\n",
            "Training acc over epoch: 0.9062\n",
            "Training acc over epoch: 0.8438\n",
            "Training acc over epoch: 0.8438\n",
            "Training acc over epoch: 0.9375\n",
            "Training acc over epoch: 0.9062\n"
          ]
        },
        {
          "output_type": "stream",
          "name": "stderr",
          "text": [
            " 61%|██████    | 1030/1688 [00:14<00:07, 83.27it/s]"
          ]
        },
        {
          "output_type": "stream",
          "name": "stdout",
          "text": [
            "Training acc over epoch: 0.8750\n",
            "Training acc over epoch: 0.8750\n",
            "Training acc over epoch: 0.9062\n",
            "Training acc over epoch: 0.9375\n",
            "Training acc over epoch: 0.9375\n",
            "Training acc over epoch: 0.8750\n",
            "Training acc over epoch: 0.9062\n",
            "Training acc over epoch: 0.8125\n",
            "Training acc over epoch: 0.9375\n",
            "Training acc over epoch: 0.9062\n",
            "Training acc over epoch: 0.9375\n",
            "Training acc over epoch: 0.8750\n",
            "Training acc over epoch: 0.8125\n",
            "Training acc over epoch: 0.9375\n",
            "Training acc over epoch: 0.8125\n",
            "Training acc over epoch: 0.9375\n",
            "Training acc over epoch: 0.9375\n",
            "Training acc over epoch: 0.8438\n"
          ]
        },
        {
          "output_type": "stream",
          "name": "stderr",
          "text": [
            " 62%|██████▏   | 1048/1688 [00:14<00:07, 83.72it/s]"
          ]
        },
        {
          "output_type": "stream",
          "name": "stdout",
          "text": [
            "Training acc over epoch: 0.9062\n",
            "Training acc over epoch: 0.8438\n",
            "Training acc over epoch: 0.7188\n",
            "Training acc over epoch: 0.9062\n",
            "Training acc over epoch: 0.9062\n",
            "Training acc over epoch: 0.9375\n",
            "Training acc over epoch: 0.8438\n",
            "Training acc over epoch: 0.9688\n",
            "Training acc over epoch: 0.9375\n",
            "Training acc over epoch: 0.8750\n",
            "Training acc over epoch: 0.8750\n",
            "Training acc over epoch: 0.7812\n",
            "Training acc over epoch: 0.8438\n",
            "Training acc over epoch: 0.9688\n",
            "Training acc over epoch: 0.8438\n",
            "Training acc over epoch: 0.9062\n",
            "Training acc over epoch: 0.8125\n"
          ]
        },
        {
          "output_type": "stream",
          "name": "stderr",
          "text": [
            "\r 63%|██████▎   | 1057/1688 [00:14<00:07, 83.23it/s]"
          ]
        },
        {
          "output_type": "stream",
          "name": "stdout",
          "text": [
            "Training acc over epoch: 0.8438\n",
            "Training acc over epoch: 0.8750\n",
            "Training acc over epoch: 0.8750\n",
            "Training acc over epoch: 0.8438\n",
            "Training acc over epoch: 0.9688\n",
            "Training acc over epoch: 0.8438\n",
            "Training acc over epoch: 0.9375\n",
            "Training acc over epoch: 0.9375\n",
            "Training acc over epoch: 0.9062\n",
            "Training acc over epoch: 0.8750\n",
            "Training acc over epoch: 0.7188\n",
            "Training acc over epoch: 0.9062\n",
            "Training acc over epoch: 0.8125\n",
            "Training acc over epoch: 0.9688\n",
            "Training acc over epoch: 0.8125\n",
            "Training acc over epoch: 0.9375\n",
            "Training acc over epoch: 0.8438\n",
            "Training acc over epoch: 0.8750\n"
          ]
        },
        {
          "output_type": "stream",
          "name": "stderr",
          "text": [
            " 64%|██████▍   | 1084/1688 [00:14<00:07, 83.61it/s]"
          ]
        },
        {
          "output_type": "stream",
          "name": "stdout",
          "text": [
            "Training acc over epoch: 0.9375\n",
            "Training acc over epoch: 0.9062\n",
            "Training acc over epoch: 0.8125\n",
            "Training acc over epoch: 0.9688\n",
            "Training acc over epoch: 0.8125\n",
            "Training acc over epoch: 0.9688\n",
            "Training acc over epoch: 0.9062\n",
            "Training acc over epoch: 0.9062\n",
            "Training acc over epoch: 0.8750\n",
            "Training acc over epoch: 0.7500\n",
            "Training acc over epoch: 0.9688\n",
            "Training acc over epoch: 0.8438\n",
            "Training acc over epoch: 0.9062\n",
            "Training acc over epoch: 0.8438\n",
            "Training acc over epoch: 0.9688\n",
            "Training acc over epoch: 0.8750\n",
            "Training acc over epoch: 0.7812\n",
            "Training acc over epoch: 0.9062\n"
          ]
        },
        {
          "output_type": "stream",
          "name": "stderr",
          "text": [
            "\r 65%|██████▍   | 1094/1688 [00:14<00:06, 86.33it/s]"
          ]
        },
        {
          "output_type": "stream",
          "name": "stdout",
          "text": [
            "Training acc over epoch: 0.8750\n",
            "Training acc over epoch: 0.8750\n",
            "Training acc over epoch: 0.8750\n",
            "Training acc over epoch: 0.8125\n",
            "Training acc over epoch: 0.9688\n",
            "Training acc over epoch: 0.8750\n",
            "Training acc over epoch: 0.8438\n",
            "Training acc over epoch: 0.8750\n",
            "Training acc over epoch: 0.9062\n",
            "Training acc over epoch: 0.9062\n",
            "Training acc over epoch: 0.9062\n",
            "Training acc over epoch: 0.8438\n",
            "Training acc over epoch: 0.8438\n",
            "Training acc over epoch: 0.8750\n",
            "Training acc over epoch: 0.8438\n",
            "Training acc over epoch: 0.9375\n",
            "Training acc over epoch: 0.9375\n",
            "Training acc over epoch: 0.8438\n"
          ]
        },
        {
          "output_type": "stream",
          "name": "stderr",
          "text": [
            " 66%|██████▌   | 1112/1688 [00:15<00:06, 84.22it/s]"
          ]
        },
        {
          "output_type": "stream",
          "name": "stdout",
          "text": [
            "Training acc over epoch: 0.9688\n",
            "Training acc over epoch: 0.9062\n",
            "Training acc over epoch: 0.8438\n",
            "Training acc over epoch: 0.9062\n",
            "Training acc over epoch: 0.9688\n",
            "Training acc over epoch: 0.7188\n",
            "Training acc over epoch: 0.9062\n",
            "Training acc over epoch: 0.8438\n",
            "Training acc over epoch: 0.8750\n",
            "Training acc over epoch: 0.9375\n",
            "Training acc over epoch: 0.8750\n",
            "Training acc over epoch: 0.8438\n",
            "Training acc over epoch: 0.8438\n",
            "Training acc over epoch: 0.8438\n",
            "Training acc over epoch: 0.8750\n",
            "Training acc over epoch: 0.9062\n",
            "Training acc over epoch: 0.8750\n",
            "Training acc over epoch: 0.8750\n"
          ]
        },
        {
          "output_type": "stream",
          "name": "stderr",
          "text": [
            " 67%|██████▋   | 1130/1688 [00:15<00:06, 84.16it/s]"
          ]
        },
        {
          "output_type": "stream",
          "name": "stdout",
          "text": [
            "Training acc over epoch: 0.8438\n",
            "Training acc over epoch: 0.9688\n",
            "Training acc over epoch: 0.9062\n",
            "Training acc over epoch: 0.9062\n",
            "Training acc over epoch: 0.8750\n",
            "Training acc over epoch: 0.9062\n",
            "Training acc over epoch: 0.8438\n",
            "Training acc over epoch: 0.9375\n",
            "Training acc over epoch: 0.9375\n",
            "Training acc over epoch: 0.9375\n",
            "Training acc over epoch: 0.8438\n",
            "Training acc over epoch: 0.8438\n",
            "Training acc over epoch: 0.8750\n",
            "Training acc over epoch: 0.9688\n",
            "Training acc over epoch: 0.9062\n",
            "Training acc over epoch: 0.9688\n",
            "Training acc over epoch: 0.9062\n",
            "Training acc over epoch: 0.9062\n",
            "Training acc over epoch: 0.7812\n"
          ]
        },
        {
          "output_type": "stream",
          "name": "stderr",
          "text": [
            " 68%|██████▊   | 1149/1688 [00:15<00:06, 85.68it/s]"
          ]
        },
        {
          "output_type": "stream",
          "name": "stdout",
          "text": [
            "Training acc over epoch: 0.8438\n",
            "Training acc over epoch: 0.9688\n",
            "Training acc over epoch: 0.9062\n",
            "Training acc over epoch: 0.8750\n",
            "Training acc over epoch: 0.9688\n",
            "Training acc over epoch: 0.9062\n",
            "Training acc over epoch: 0.8125\n",
            "Training acc over epoch: 0.9062\n",
            "Training acc over epoch: 0.9062\n",
            "Training acc over epoch: 0.8750\n",
            "Training acc over epoch: 0.9062\n",
            "Training acc over epoch: 0.8750\n",
            "Training acc over epoch: 0.7500\n",
            "Training acc over epoch: 0.9375\n",
            "Training acc over epoch: 0.7188\n",
            "Training acc over epoch: 0.8750\n",
            "Training acc over epoch: 0.9375\n",
            "Training acc over epoch: 0.8438\n"
          ]
        },
        {
          "output_type": "stream",
          "name": "stderr",
          "text": [
            " 69%|██████▉   | 1167/1688 [00:15<00:06, 86.12it/s]"
          ]
        },
        {
          "output_type": "stream",
          "name": "stdout",
          "text": [
            "Training acc over epoch: 0.9688\n",
            "Training acc over epoch: 0.8125\n",
            "Training acc over epoch: 0.9062\n",
            "Training acc over epoch: 0.7500\n",
            "Training acc over epoch: 0.9062\n",
            "Training acc over epoch: 0.9688\n",
            "Training acc over epoch: 0.8438\n",
            "Training acc over epoch: 0.8750\n",
            "Training acc over epoch: 0.9062\n",
            "Training acc over epoch: 0.8125\n",
            "Training acc over epoch: 0.8750\n",
            "Training acc over epoch: 0.9375\n",
            "Training acc over epoch: 0.8438\n",
            "Training acc over epoch: 0.9375\n",
            "Training acc over epoch: 0.8750\n",
            "Training acc over epoch: 0.8750\n"
          ]
        },
        {
          "output_type": "stream",
          "name": "stderr",
          "text": [
            " 70%|███████   | 1185/1688 [00:15<00:06, 80.06it/s]"
          ]
        },
        {
          "output_type": "stream",
          "name": "stdout",
          "text": [
            "Training acc over epoch: 0.9062\n",
            "Training acc over epoch: 0.8438\n",
            "Training acc over epoch: 0.9375\n",
            "Training acc over epoch: 0.9375\n",
            "Training acc over epoch: 0.8438\n",
            "Training acc over epoch: 0.9062\n",
            "Training acc over epoch: 0.9375\n",
            "Training acc over epoch: 0.9688\n",
            "Training acc over epoch: 0.9688\n",
            "Training acc over epoch: 0.9062\n",
            "Training acc over epoch: 0.8750\n",
            "Training acc over epoch: 0.8750\n",
            "Training acc over epoch: 0.9375\n",
            "Training acc over epoch: 0.8750\n",
            "Training acc over epoch: 0.9688\n",
            "Training acc over epoch: 0.9062\n"
          ]
        },
        {
          "output_type": "stream",
          "name": "stderr",
          "text": [
            " 71%|███████▏  | 1203/1688 [00:16<00:06, 80.13it/s]"
          ]
        },
        {
          "output_type": "stream",
          "name": "stdout",
          "text": [
            "Training acc over epoch: 0.7812\n",
            "Training acc over epoch: 0.8438\n",
            "Training acc over epoch: 0.8438\n",
            "Training acc over epoch: 0.7500\n",
            "Training acc over epoch: 0.8750\n",
            "Training acc over epoch: 0.9375\n",
            "Training acc over epoch: 0.9375\n",
            "Training acc over epoch: 0.9375\n",
            "Training acc over epoch: 0.9688\n",
            "Training acc over epoch: 0.8750\n",
            "Training acc over epoch: 0.9062\n",
            "Training acc over epoch: 0.9375\n",
            "Training acc over epoch: 0.9375\n",
            "Training acc over epoch: 0.8438\n",
            "Training acc over epoch: 0.9062\n",
            "Training acc over epoch: 0.8438\n",
            "Training acc over epoch: 0.8750\n"
          ]
        },
        {
          "output_type": "stream",
          "name": "stderr",
          "text": [
            " 72%|███████▏  | 1221/1688 [00:16<00:05, 82.86it/s]"
          ]
        },
        {
          "output_type": "stream",
          "name": "stdout",
          "text": [
            "Training acc over epoch: 0.8750\n",
            "Training acc over epoch: 0.9375\n",
            "Training acc over epoch: 0.9062\n",
            "Training acc over epoch: 0.9375\n",
            "Training acc over epoch: 0.8750\n",
            "Training acc over epoch: 0.8750\n",
            "Training acc over epoch: 0.7812\n",
            "Training acc over epoch: 0.8438\n",
            "Training acc over epoch: 0.9375\n",
            "Training acc over epoch: 0.8438\n",
            "Training acc over epoch: 0.9688\n",
            "Training acc over epoch: 0.9062\n",
            "Training acc over epoch: 0.8438\n",
            "Training acc over epoch: 0.8125\n",
            "Training acc over epoch: 0.8125\n",
            "Training acc over epoch: 0.9062\n",
            "Training acc over epoch: 0.8750\n",
            "Training acc over epoch: 0.8750\n"
          ]
        },
        {
          "output_type": "stream",
          "name": "stderr",
          "text": [
            " 73%|███████▎  | 1239/1688 [00:16<00:05, 79.33it/s]"
          ]
        },
        {
          "output_type": "stream",
          "name": "stdout",
          "text": [
            "Training acc over epoch: 0.9688\n",
            "Training acc over epoch: 0.9375\n",
            "Training acc over epoch: 0.9375\n",
            "Training acc over epoch: 0.9375\n",
            "Training acc over epoch: 0.7812\n",
            "Training acc over epoch: 0.8750\n",
            "Training acc over epoch: 0.8750\n",
            "Training acc over epoch: 0.9062\n",
            "Training acc over epoch: 0.8438\n",
            "Training acc over epoch: 0.8750\n",
            "Training acc over epoch: 0.8750\n",
            "Training acc over epoch: 0.9688\n",
            "Training acc over epoch: 0.9375\n",
            "Training acc over epoch: 0.8750\n",
            "Training acc over epoch: 0.8750\n",
            "Training acc over epoch: 0.8750\n",
            "Training acc over epoch: 0.9062\n"
          ]
        },
        {
          "output_type": "stream",
          "name": "stderr",
          "text": [
            " 74%|███████▍  | 1257/1688 [00:16<00:05, 82.13it/s]"
          ]
        },
        {
          "output_type": "stream",
          "name": "stdout",
          "text": [
            "Training acc over epoch: 0.8750\n",
            "Training acc over epoch: 0.8750\n",
            "Training acc over epoch: 0.8125\n",
            "Training acc over epoch: 0.8750\n",
            "Training acc over epoch: 0.9062\n",
            "Training acc over epoch: 0.8750\n",
            "Training acc over epoch: 0.7812\n",
            "Training acc over epoch: 0.8750\n",
            "Training acc over epoch: 0.9062\n",
            "Training acc over epoch: 1.0000\n",
            "Training acc over epoch: 0.9375\n",
            "Training acc over epoch: 0.8125\n",
            "Training acc over epoch: 0.9375\n",
            "Training acc over epoch: 0.8125\n",
            "Training acc over epoch: 0.8438\n",
            "Training acc over epoch: 0.9062\n",
            "Training acc over epoch: 0.8750\n"
          ]
        },
        {
          "output_type": "stream",
          "name": "stderr",
          "text": [
            "\r 75%|███████▌  | 1266/1688 [00:16<00:05, 71.69it/s]"
          ]
        },
        {
          "output_type": "stream",
          "name": "stdout",
          "text": [
            "Training acc over epoch: 0.8438\n",
            "Training acc over epoch: 0.8750\n",
            "Training acc over epoch: 0.8438\n",
            "Training acc over epoch: 0.8438\n",
            "Training acc over epoch: 0.8125\n",
            "Training acc over epoch: 0.9375\n",
            "Training acc over epoch: 0.8438\n",
            "Training acc over epoch: 0.9062\n",
            "Training acc over epoch: 0.8438\n",
            "Training acc over epoch: 0.9375\n",
            "Training acc over epoch: 0.9375\n",
            "Training acc over epoch: 0.9688\n",
            "Training acc over epoch: 0.7188\n",
            "Training acc over epoch: 0.8438\n"
          ]
        },
        {
          "output_type": "stream",
          "name": "stderr",
          "text": [
            " 76%|███████▌  | 1283/1688 [00:17<00:05, 76.57it/s]"
          ]
        },
        {
          "output_type": "stream",
          "name": "stdout",
          "text": [
            "Training acc over epoch: 0.8750\n",
            "Training acc over epoch: 1.0000\n",
            "Training acc over epoch: 0.8750\n",
            "Training acc over epoch: 0.9375\n",
            "Training acc over epoch: 0.8438\n",
            "Training acc over epoch: 0.8438\n",
            "Training acc over epoch: 0.9062\n",
            "Training acc over epoch: 0.7500\n",
            "Training acc over epoch: 0.9062\n",
            "Training acc over epoch: 0.8438\n",
            "Training acc over epoch: 0.8125\n",
            "Training acc over epoch: 0.8125\n",
            "Training acc over epoch: 0.8438\n",
            "Training acc over epoch: 0.9688\n",
            "Training acc over epoch: 0.9688\n",
            "Training acc over epoch: 0.9062\n",
            "Training acc over epoch: 0.8438\n"
          ]
        },
        {
          "output_type": "stream",
          "name": "stderr",
          "text": [
            " 77%|███████▋  | 1301/1688 [00:17<00:04, 79.30it/s]"
          ]
        },
        {
          "output_type": "stream",
          "name": "stdout",
          "text": [
            "Training acc over epoch: 0.9375\n",
            "Training acc over epoch: 0.9375\n",
            "Training acc over epoch: 0.8125\n",
            "Training acc over epoch: 0.8750\n",
            "Training acc over epoch: 0.9062\n",
            "Training acc over epoch: 0.8438\n",
            "Training acc over epoch: 0.9062\n",
            "Training acc over epoch: 0.9375\n",
            "Training acc over epoch: 0.9062\n",
            "Training acc over epoch: 0.9375\n",
            "Training acc over epoch: 0.8438\n",
            "Training acc over epoch: 0.8438\n",
            "Training acc over epoch: 0.8750\n",
            "Training acc over epoch: 0.9375\n",
            "Training acc over epoch: 0.9062\n",
            "Training acc over epoch: 0.8750\n",
            "Training acc over epoch: 0.8438\n"
          ]
        },
        {
          "output_type": "stream",
          "name": "stderr",
          "text": [
            " 78%|███████▊  | 1320/1688 [00:17<00:04, 84.44it/s]"
          ]
        },
        {
          "output_type": "stream",
          "name": "stdout",
          "text": [
            "Training acc over epoch: 0.9062\n",
            "Training acc over epoch: 0.8750\n",
            "Training acc over epoch: 0.8125\n",
            "Training acc over epoch: 0.9062\n",
            "Training acc over epoch: 0.9375\n",
            "Training acc over epoch: 0.9375\n",
            "Training acc over epoch: 0.9062\n",
            "Training acc over epoch: 0.8438\n",
            "Training acc over epoch: 0.8438\n",
            "Training acc over epoch: 0.8438\n",
            "Training acc over epoch: 0.9688\n",
            "Training acc over epoch: 0.7188\n",
            "Training acc over epoch: 0.8438\n",
            "Training acc over epoch: 0.8750\n",
            "Training acc over epoch: 0.8750\n",
            "Training acc over epoch: 0.8438\n",
            "Training acc over epoch: 0.9062\n",
            "Training acc over epoch: 0.8438\n",
            "Training acc over epoch: 0.9062\n"
          ]
        },
        {
          "output_type": "stream",
          "name": "stderr",
          "text": [
            " 79%|███████▉  | 1340/1688 [00:17<00:03, 90.09it/s]"
          ]
        },
        {
          "output_type": "stream",
          "name": "stdout",
          "text": [
            "Training acc over epoch: 0.8750\n",
            "Training acc over epoch: 0.9062\n",
            "Training acc over epoch: 0.8750\n",
            "Training acc over epoch: 0.8438\n",
            "Training acc over epoch: 0.8125\n",
            "Training acc over epoch: 0.9688\n",
            "Training acc over epoch: 0.9375\n",
            "Training acc over epoch: 0.8750\n",
            "Training acc over epoch: 0.8438\n",
            "Training acc over epoch: 0.9688\n",
            "Training acc over epoch: 0.9688\n",
            "Training acc over epoch: 0.9062\n",
            "Training acc over epoch: 0.9062\n",
            "Training acc over epoch: 0.8750\n",
            "Training acc over epoch: 0.9375\n",
            "Training acc over epoch: 0.8750\n",
            "Training acc over epoch: 0.9375\n",
            "Training acc over epoch: 0.9375\n",
            "Training acc over epoch: 0.9375\n",
            "Training acc over epoch: 0.9062\n"
          ]
        },
        {
          "output_type": "stream",
          "name": "stderr",
          "text": [
            " 81%|████████  | 1359/1688 [00:18<00:03, 82.92it/s]"
          ]
        },
        {
          "output_type": "stream",
          "name": "stdout",
          "text": [
            "Training acc over epoch: 0.8750\n",
            "Training acc over epoch: 0.8750\n",
            "Training acc over epoch: 0.8438\n",
            "Training acc over epoch: 0.9062\n",
            "Training acc over epoch: 0.8750\n",
            "Training acc over epoch: 0.8438\n",
            "Training acc over epoch: 0.9688\n",
            "Training acc over epoch: 0.8750\n",
            "Training acc over epoch: 0.9375\n",
            "Training acc over epoch: 0.7812\n",
            "Training acc over epoch: 0.9062\n",
            "Training acc over epoch: 0.8438\n",
            "Training acc over epoch: 0.9688\n",
            "Training acc over epoch: 0.8750\n",
            "Training acc over epoch: 0.9375\n",
            "Training acc over epoch: 0.8750\n"
          ]
        },
        {
          "output_type": "stream",
          "name": "stderr",
          "text": [
            " 82%|████████▏ | 1377/1688 [00:18<00:03, 79.96it/s]"
          ]
        },
        {
          "output_type": "stream",
          "name": "stdout",
          "text": [
            "Training acc over epoch: 0.9375\n",
            "Training acc over epoch: 0.9375\n",
            "Training acc over epoch: 0.7812\n",
            "Training acc over epoch: 0.9688\n",
            "Training acc over epoch: 0.9375\n",
            "Training acc over epoch: 0.8750\n",
            "Training acc over epoch: 0.9062\n",
            "Training acc over epoch: 0.8750\n",
            "Training acc over epoch: 0.9062\n",
            "Training acc over epoch: 0.8438\n",
            "Training acc over epoch: 0.7812\n",
            "Training acc over epoch: 0.9062\n",
            "Training acc over epoch: 0.8750\n",
            "Training acc over epoch: 0.8125\n",
            "Training acc over epoch: 0.9062\n",
            "Training acc over epoch: 0.9688\n"
          ]
        },
        {
          "output_type": "stream",
          "name": "stderr",
          "text": [
            "\r 82%|████████▏ | 1386/1688 [00:18<00:03, 79.88it/s]"
          ]
        },
        {
          "output_type": "stream",
          "name": "stdout",
          "text": [
            "Training acc over epoch: 0.9375\n",
            "Training acc over epoch: 0.9375\n",
            "Training acc over epoch: 0.9062\n",
            "Training acc over epoch: 0.9062\n",
            "Training acc over epoch: 0.8125\n",
            "Training acc over epoch: 0.8750\n",
            "Training acc over epoch: 0.9062\n",
            "Training acc over epoch: 0.9375\n",
            "Training acc over epoch: 0.9688\n",
            "Training acc over epoch: 0.9062\n",
            "Training acc over epoch: 0.9062\n",
            "Training acc over epoch: 0.7812\n",
            "Training acc over epoch: 0.9375\n",
            "Training acc over epoch: 0.8438\n",
            "Training acc over epoch: 0.9062\n",
            "Training acc over epoch: 0.8438\n",
            "Training acc over epoch: 0.8750\n"
          ]
        },
        {
          "output_type": "stream",
          "name": "stderr",
          "text": [
            " 83%|████████▎ | 1403/1688 [00:18<00:03, 78.26it/s]"
          ]
        },
        {
          "output_type": "stream",
          "name": "stdout",
          "text": [
            "Training acc over epoch: 0.8438\n",
            "Training acc over epoch: 0.8750\n",
            "Training acc over epoch: 0.8438\n",
            "Training acc over epoch: 0.9375\n",
            "Training acc over epoch: 1.0000\n",
            "Training acc over epoch: 0.8438\n",
            "Training acc over epoch: 0.9375\n",
            "Training acc over epoch: 0.8438\n",
            "Training acc over epoch: 0.8438\n",
            "Training acc over epoch: 0.8125\n",
            "Training acc over epoch: 0.8438\n",
            "Training acc over epoch: 0.9062\n",
            "Training acc over epoch: 0.7812\n",
            "Training acc over epoch: 0.9062\n",
            "Training acc over epoch: 0.8750\n",
            "Training acc over epoch: 0.9375\n",
            "Training acc over epoch: 0.8438\n"
          ]
        },
        {
          "output_type": "stream",
          "name": "stderr",
          "text": [
            " 84%|████████▍ | 1421/1688 [00:18<00:03, 79.55it/s]"
          ]
        },
        {
          "output_type": "stream",
          "name": "stdout",
          "text": [
            "Training acc over epoch: 0.9062\n",
            "Training acc over epoch: 0.8438\n",
            "Training acc over epoch: 0.9375\n",
            "Training acc over epoch: 0.9062\n",
            "Training acc over epoch: 0.8438\n",
            "Training acc over epoch: 0.8750\n",
            "Training acc over epoch: 0.8125\n",
            "Training acc over epoch: 0.9375\n",
            "Training acc over epoch: 0.8438\n",
            "Training acc over epoch: 0.9062\n",
            "Training acc over epoch: 0.8438\n",
            "Training acc over epoch: 0.8438\n",
            "Training acc over epoch: 0.8438\n",
            "Training acc over epoch: 0.7500\n",
            "Training acc over epoch: 0.8438\n",
            "Training acc over epoch: 0.9375\n",
            "Training acc over epoch: 1.0000\n",
            "Training acc over epoch: 0.8750\n"
          ]
        },
        {
          "output_type": "stream",
          "name": "stderr",
          "text": [
            " 85%|████████▌ | 1438/1688 [00:19<00:03, 78.45it/s]"
          ]
        },
        {
          "output_type": "stream",
          "name": "stdout",
          "text": [
            "Training acc over epoch: 0.7812\n",
            "Training acc over epoch: 0.9375\n",
            "Training acc over epoch: 0.9375\n",
            "Training acc over epoch: 0.8750\n",
            "Training acc over epoch: 0.9688\n",
            "Training acc over epoch: 0.9062\n",
            "Training acc over epoch: 0.7500\n",
            "Training acc over epoch: 0.7812\n",
            "Training acc over epoch: 0.9375\n",
            "Training acc over epoch: 0.8750\n",
            "Training acc over epoch: 1.0000\n",
            "Training acc over epoch: 0.8750\n",
            "Training acc over epoch: 0.8750\n",
            "Training acc over epoch: 0.9375\n",
            "Training acc over epoch: 0.9375\n"
          ]
        },
        {
          "output_type": "stream",
          "name": "stderr",
          "text": [
            " 86%|████████▌ | 1455/1688 [00:19<00:02, 81.08it/s]"
          ]
        },
        {
          "output_type": "stream",
          "name": "stdout",
          "text": [
            "Training acc over epoch: 0.8750\n",
            "Training acc over epoch: 0.8438\n",
            "Training acc over epoch: 0.9062\n",
            "Training acc over epoch: 0.9375\n",
            "Training acc over epoch: 0.9375\n",
            "Training acc over epoch: 0.8750\n",
            "Training acc over epoch: 0.8750\n",
            "Training acc over epoch: 0.9375\n",
            "Training acc over epoch: 0.9688\n",
            "Training acc over epoch: 0.9062\n",
            "Training acc over epoch: 0.8750\n",
            "Training acc over epoch: 0.8438\n",
            "Training acc over epoch: 0.9375\n",
            "Training acc over epoch: 0.9062\n",
            "Training acc over epoch: 0.8438\n",
            "Training acc over epoch: 0.8750\n",
            "Training acc over epoch: 0.8438\n",
            "Training acc over epoch: 0.9375\n"
          ]
        },
        {
          "output_type": "stream",
          "name": "stderr",
          "text": [
            " 87%|████████▋ | 1473/1688 [00:19<00:02, 82.63it/s]"
          ]
        },
        {
          "output_type": "stream",
          "name": "stdout",
          "text": [
            "Training acc over epoch: 0.8438\n",
            "Training acc over epoch: 0.8750\n",
            "Training acc over epoch: 0.8750\n",
            "Training acc over epoch: 0.9062\n",
            "Training acc over epoch: 0.8125\n",
            "Training acc over epoch: 0.8125\n",
            "Training acc over epoch: 0.8125\n",
            "Training acc over epoch: 0.8438\n",
            "Training acc over epoch: 0.8125\n",
            "Training acc over epoch: 0.8750\n",
            "Training acc over epoch: 0.9062\n",
            "Training acc over epoch: 0.8750\n",
            "Training acc over epoch: 0.9375\n",
            "Training acc over epoch: 0.8125\n",
            "Training acc over epoch: 0.9375\n",
            "Training acc over epoch: 0.8438\n",
            "Training acc over epoch: 0.9062\n",
            "Training acc over epoch: 0.8750\n"
          ]
        },
        {
          "output_type": "stream",
          "name": "stderr",
          "text": [
            " 88%|████████▊ | 1492/1688 [00:19<00:02, 86.60it/s]"
          ]
        },
        {
          "output_type": "stream",
          "name": "stdout",
          "text": [
            "Training acc over epoch: 0.8750\n",
            "Training acc over epoch: 0.9375\n",
            "Training acc over epoch: 0.9062\n",
            "Training acc over epoch: 0.9062\n",
            "Training acc over epoch: 0.9062\n",
            "Training acc over epoch: 0.8750\n",
            "Training acc over epoch: 0.8750\n",
            "Training acc over epoch: 0.8750\n",
            "Training acc over epoch: 0.9375\n",
            "Training acc over epoch: 0.8125\n",
            "Training acc over epoch: 0.8750\n",
            "Training acc over epoch: 0.9062\n",
            "Training acc over epoch: 0.8750\n",
            "Training acc over epoch: 0.8750\n",
            "Training acc over epoch: 0.8750\n",
            "Training acc over epoch: 0.9688\n",
            "Training acc over epoch: 0.9375\n",
            "Training acc over epoch: 0.9062\n"
          ]
        },
        {
          "output_type": "stream",
          "name": "stderr",
          "text": [
            " 89%|████████▉ | 1510/1688 [00:19<00:02, 84.52it/s]"
          ]
        },
        {
          "output_type": "stream",
          "name": "stdout",
          "text": [
            "Training acc over epoch: 0.8438\n",
            "Training acc over epoch: 0.9062\n",
            "Training acc over epoch: 0.9062\n",
            "Training acc over epoch: 0.9375\n",
            "Training acc over epoch: 0.9062\n",
            "Training acc over epoch: 0.8750\n",
            "Training acc over epoch: 0.9688\n",
            "Training acc over epoch: 0.8438\n",
            "Training acc over epoch: 0.8438\n",
            "Training acc over epoch: 0.8750\n",
            "Training acc over epoch: 0.8438\n",
            "Training acc over epoch: 0.8438\n",
            "Training acc over epoch: 0.9062\n",
            "Training acc over epoch: 0.8438\n",
            "Training acc over epoch: 0.9688\n",
            "Training acc over epoch: 0.9062\n",
            "Training acc over epoch: 0.9062\n",
            "Training acc over epoch: 0.7812\n",
            "Training acc over epoch: 0.7500\n"
          ]
        },
        {
          "output_type": "stream",
          "name": "stderr",
          "text": [
            " 91%|█████████ | 1528/1688 [00:20<00:01, 83.13it/s]"
          ]
        },
        {
          "output_type": "stream",
          "name": "stdout",
          "text": [
            "Training acc over epoch: 0.9062\n",
            "Training acc over epoch: 0.9375\n",
            "Training acc over epoch: 0.8750\n",
            "Training acc over epoch: 0.9688\n",
            "Training acc over epoch: 0.9375\n",
            "Training acc over epoch: 0.8125\n",
            "Training acc over epoch: 0.8750\n",
            "Training acc over epoch: 0.8750\n",
            "Training acc over epoch: 0.9375\n",
            "Training acc over epoch: 0.8125\n",
            "Training acc over epoch: 0.8750\n",
            "Training acc over epoch: 0.9062\n",
            "Training acc over epoch: 0.8438\n",
            "Training acc over epoch: 0.8750\n",
            "Training acc over epoch: 0.9062\n",
            "Training acc over epoch: 0.8750\n"
          ]
        },
        {
          "output_type": "stream",
          "name": "stderr",
          "text": [
            " 92%|█████████▏| 1546/1688 [00:20<00:01, 80.97it/s]"
          ]
        },
        {
          "output_type": "stream",
          "name": "stdout",
          "text": [
            "Training acc over epoch: 0.9062\n",
            "Training acc over epoch: 0.8125\n",
            "Training acc over epoch: 0.8438\n",
            "Training acc over epoch: 0.8750\n",
            "Training acc over epoch: 0.8750\n",
            "Training acc over epoch: 0.8438\n",
            "Training acc over epoch: 0.9375\n",
            "Training acc over epoch: 0.8750\n",
            "Training acc over epoch: 0.8750\n",
            "Training acc over epoch: 0.8125\n",
            "Training acc over epoch: 0.9062\n",
            "Training acc over epoch: 0.8438\n",
            "Training acc over epoch: 0.9062\n",
            "Training acc over epoch: 0.8438\n",
            "Training acc over epoch: 0.9062\n",
            "Training acc over epoch: 0.8750\n"
          ]
        },
        {
          "output_type": "stream",
          "name": "stderr",
          "text": [
            " 93%|█████████▎| 1564/1688 [00:20<00:01, 80.86it/s]"
          ]
        },
        {
          "output_type": "stream",
          "name": "stdout",
          "text": [
            "Training acc over epoch: 0.8438\n",
            "Training acc over epoch: 0.8438\n",
            "Training acc over epoch: 0.9375\n",
            "Training acc over epoch: 0.8438\n",
            "Training acc over epoch: 0.8438\n",
            "Training acc over epoch: 0.8750\n",
            "Training acc over epoch: 0.9688\n",
            "Training acc over epoch: 0.8125\n",
            "Training acc over epoch: 0.9688\n",
            "Training acc over epoch: 0.8750\n",
            "Training acc over epoch: 0.8750\n",
            "Training acc over epoch: 0.8438\n",
            "Training acc over epoch: 0.8438\n",
            "Training acc over epoch: 0.9688\n",
            "Training acc over epoch: 0.8750\n",
            "Training acc over epoch: 0.9375\n",
            "Training acc over epoch: 0.9062\n"
          ]
        },
        {
          "output_type": "stream",
          "name": "stderr",
          "text": [
            " 94%|█████████▎| 1581/1688 [00:20<00:01, 78.86it/s]"
          ]
        },
        {
          "output_type": "stream",
          "name": "stdout",
          "text": [
            "Training acc over epoch: 0.8438\n",
            "Training acc over epoch: 0.9062\n",
            "Training acc over epoch: 0.8438\n",
            "Training acc over epoch: 0.8125\n",
            "Training acc over epoch: 0.7500\n",
            "Training acc over epoch: 0.9062\n",
            "Training acc over epoch: 0.8750\n",
            "Training acc over epoch: 0.7500\n",
            "Training acc over epoch: 0.8125\n",
            "Training acc over epoch: 0.9375\n",
            "Training acc over epoch: 0.8750\n",
            "Training acc over epoch: 0.7812\n",
            "Training acc over epoch: 0.8438\n",
            "Training acc over epoch: 0.8438\n",
            "Training acc over epoch: 0.8125\n",
            "Training acc over epoch: 0.9375\n"
          ]
        },
        {
          "output_type": "stream",
          "name": "stderr",
          "text": [
            " 95%|█████████▍| 1598/1688 [00:21<00:01, 80.13it/s]"
          ]
        },
        {
          "output_type": "stream",
          "name": "stdout",
          "text": [
            "Training acc over epoch: 0.9062\n",
            "Training acc over epoch: 0.8750\n",
            "Training acc over epoch: 0.8750\n",
            "Training acc over epoch: 0.9375\n",
            "Training acc over epoch: 0.8438\n",
            "Training acc over epoch: 0.8125\n",
            "Training acc over epoch: 0.9375\n",
            "Training acc over epoch: 0.8125\n",
            "Training acc over epoch: 0.9375\n",
            "Training acc over epoch: 0.9688\n",
            "Training acc over epoch: 0.8750\n",
            "Training acc over epoch: 0.8438\n",
            "Training acc over epoch: 0.9375\n",
            "Training acc over epoch: 0.9375\n",
            "Training acc over epoch: 0.8750\n",
            "Training acc over epoch: 0.9375\n",
            "Training acc over epoch: 0.9375\n"
          ]
        },
        {
          "output_type": "stream",
          "name": "stderr",
          "text": [
            "\r 95%|█████████▌| 1607/1688 [00:21<00:01, 74.45it/s]"
          ]
        },
        {
          "output_type": "stream",
          "name": "stdout",
          "text": [
            "Training acc over epoch: 0.8750\n",
            "Training acc over epoch: 0.9688\n",
            "Training acc over epoch: 0.8125\n",
            "Training acc over epoch: 0.8750\n",
            "Training acc over epoch: 0.9375\n",
            "Training acc over epoch: 0.9062\n",
            "Training acc over epoch: 0.8125\n",
            "Training acc over epoch: 0.9062\n",
            "Training acc over epoch: 0.7500\n",
            "Training acc over epoch: 0.9375\n",
            "Training acc over epoch: 0.8438\n",
            "Training acc over epoch: 0.9375\n",
            "Training acc over epoch: 0.8438\n",
            "Training acc over epoch: 0.8750\n",
            "Training acc over epoch: 0.8438\n"
          ]
        },
        {
          "output_type": "stream",
          "name": "stderr",
          "text": [
            " 96%|█████████▌| 1623/1688 [00:21<00:00, 74.17it/s]"
          ]
        },
        {
          "output_type": "stream",
          "name": "stdout",
          "text": [
            "Training acc over epoch: 0.8438\n",
            "Training acc over epoch: 0.8750\n",
            "Training acc over epoch: 0.8750\n",
            "Training acc over epoch: 0.9062\n",
            "Training acc over epoch: 0.9688\n",
            "Training acc over epoch: 0.8750\n",
            "Training acc over epoch: 0.8750\n",
            "Training acc over epoch: 0.9062\n",
            "Training acc over epoch: 0.8750\n",
            "Training acc over epoch: 0.8125\n",
            "Training acc over epoch: 0.8438\n",
            "Training acc over epoch: 0.8125\n",
            "Training acc over epoch: 0.8438\n",
            "Training acc over epoch: 0.9375\n",
            "Training acc over epoch: 0.9062\n",
            "Training acc over epoch: 0.7500\n"
          ]
        },
        {
          "output_type": "stream",
          "name": "stderr",
          "text": [
            " 97%|█████████▋| 1639/1688 [00:21<00:00, 71.33it/s]"
          ]
        },
        {
          "output_type": "stream",
          "name": "stdout",
          "text": [
            "Training acc over epoch: 0.8750\n",
            "Training acc over epoch: 0.9062\n",
            "Training acc over epoch: 0.9375\n",
            "Training acc over epoch: 0.9062\n",
            "Training acc over epoch: 0.8438\n",
            "Training acc over epoch: 0.8750\n",
            "Training acc over epoch: 0.8750\n",
            "Training acc over epoch: 0.8438\n",
            "Training acc over epoch: 0.7500\n",
            "Training acc over epoch: 0.8438\n",
            "Training acc over epoch: 0.8750\n",
            "Training acc over epoch: 0.8750\n",
            "Training acc over epoch: 0.8750\n",
            "Training acc over epoch: 0.8750\n",
            "Training acc over epoch: 0.8125\n"
          ]
        },
        {
          "output_type": "stream",
          "name": "stderr",
          "text": [
            " 98%|█████████▊| 1656/1688 [00:21<00:00, 74.47it/s]"
          ]
        },
        {
          "output_type": "stream",
          "name": "stdout",
          "text": [
            "Training acc over epoch: 0.9062\n",
            "Training acc over epoch: 0.9062\n",
            "Training acc over epoch: 0.7812\n",
            "Training acc over epoch: 0.8438\n",
            "Training acc over epoch: 0.8438\n",
            "Training acc over epoch: 0.8750\n",
            "Training acc over epoch: 0.9062\n",
            "Training acc over epoch: 0.9375\n",
            "Training acc over epoch: 0.8750\n",
            "Training acc over epoch: 0.8125\n",
            "Training acc over epoch: 0.9688\n",
            "Training acc over epoch: 0.7812\n",
            "Training acc over epoch: 0.9062\n",
            "Training acc over epoch: 0.8438\n",
            "Training acc over epoch: 0.9375\n",
            "Training acc over epoch: 0.7500\n"
          ]
        },
        {
          "output_type": "stream",
          "name": "stderr",
          "text": [
            " 99%|█████████▉| 1672/1688 [00:22<00:00, 73.14it/s]"
          ]
        },
        {
          "output_type": "stream",
          "name": "stdout",
          "text": [
            "Training acc over epoch: 0.8750\n",
            "Training acc over epoch: 0.7500\n",
            "Training acc over epoch: 0.8750\n",
            "Training acc over epoch: 0.8438\n",
            "Training acc over epoch: 0.9688\n",
            "Training acc over epoch: 0.9062\n",
            "Training acc over epoch: 0.8750\n",
            "Training acc over epoch: 0.8438\n",
            "Training acc over epoch: 0.8125\n",
            "Training acc over epoch: 0.8438\n",
            "Training acc over epoch: 0.8750\n",
            "Training acc over epoch: 0.9062\n",
            "Training acc over epoch: 0.9375\n",
            "Training acc over epoch: 0.9375\n",
            "Training acc over epoch: 0.8125\n"
          ]
        },
        {
          "output_type": "stream",
          "name": "stderr",
          "text": [
            "100%|██████████| 1688/1688 [00:22<00:00, 75.67it/s]\n"
          ]
        },
        {
          "output_type": "stream",
          "name": "stdout",
          "text": [
            "Training acc over epoch: 0.8750\n",
            "Training acc over epoch: 0.9062\n",
            "Training acc over epoch: 0.9062\n",
            "Training acc over epoch: 0.9375\n",
            "Training acc over epoch: 0.9062\n",
            "Training acc over epoch: 0.9062\n",
            "Training acc over epoch: 0.8125\n",
            "Training acc over epoch: 0.7188\n",
            "Training acc over epoch: 0.9375\n",
            "Training acc over epoch: 0.9688\n",
            "Training acc over epoch: 0.8438\n",
            "Training acc over epoch: 0.9375\n"
          ]
        },
        {
          "output_type": "stream",
          "name": "stderr",
          "text": [
            " 28%|██▊       | 1704/6000 [00:10<00:25, 166.60it/s]\n"
          ]
        },
        {
          "output_type": "error",
          "ename": "KeyboardInterrupt",
          "evalue": "ignored",
          "traceback": [
            "\u001b[0;31m---------------------------------------------------------------------------\u001b[0m",
            "\u001b[0;31mKeyboardInterrupt\u001b[0m                         Traceback (most recent call last)",
            "\u001b[0;32m<ipython-input-14-65da6612ace0>\u001b[0m in \u001b[0;36m<module>\u001b[0;34m\u001b[0m\n\u001b[1;32m    111\u001b[0m \u001b[0mmodel\u001b[0m\u001b[0;34m.\u001b[0m\u001b[0madd\u001b[0m\u001b[0;34m(\u001b[0m\u001b[0mtf\u001b[0m\u001b[0;34m.\u001b[0m\u001b[0mkeras\u001b[0m\u001b[0;34m.\u001b[0m\u001b[0mlayers\u001b[0m\u001b[0;34m.\u001b[0m\u001b[0mDense\u001b[0m\u001b[0;34m(\u001b[0m\u001b[0;36m10\u001b[0m\u001b[0;34m)\u001b[0m\u001b[0;34m)\u001b[0m\u001b[0;34m\u001b[0m\u001b[0;34m\u001b[0m\u001b[0m\n\u001b[1;32m    112\u001b[0m \u001b[0moptimizer\u001b[0m \u001b[0;34m=\u001b[0m \u001b[0mtf\u001b[0m\u001b[0;34m.\u001b[0m\u001b[0mkeras\u001b[0m\u001b[0;34m.\u001b[0m\u001b[0moptimizers\u001b[0m\u001b[0;34m.\u001b[0m\u001b[0mAdam\u001b[0m\u001b[0;34m(\u001b[0m\u001b[0;34m)\u001b[0m\u001b[0;34m\u001b[0m\u001b[0;34m\u001b[0m\u001b[0m\n\u001b[0;32m--> 113\u001b[0;31m \u001b[0mtrainModel\u001b[0m\u001b[0;34m(\u001b[0m\u001b[0mmodel\u001b[0m\u001b[0;34m,\u001b[0m \u001b[0mtrain\u001b[0m\u001b[0;34m,\u001b[0m\u001b[0;36m10\u001b[0m\u001b[0;34m)\u001b[0m\u001b[0;34m\u001b[0m\u001b[0;34m\u001b[0m\u001b[0m\n\u001b[0m",
            "\u001b[0;32m<ipython-input-14-65da6612ace0>\u001b[0m in \u001b[0;36mtrainModel\u001b[0;34m(model, train_ds, epochs)\u001b[0m\n\u001b[1;32m     84\u001b[0m           \u001b[0;31m# accuracy_values.append(accuracy)\u001b[0m\u001b[0;34m\u001b[0m\u001b[0;34m\u001b[0m\u001b[0;34m\u001b[0m\u001b[0m\n\u001b[1;32m     85\u001b[0m       \u001b[0;32mfor\u001b[0m \u001b[0mbatch\u001b[0m \u001b[0;32min\u001b[0m \u001b[0mtqdm\u001b[0m\u001b[0;34m(\u001b[0m\u001b[0mvalidation\u001b[0m\u001b[0;34m)\u001b[0m\u001b[0;34m:\u001b[0m\u001b[0;34m\u001b[0m\u001b[0;34m\u001b[0m\u001b[0m\n\u001b[0;32m---> 86\u001b[0;31m         \u001b[0mtest_step\u001b[0m\u001b[0;34m(\u001b[0m\u001b[0mbatch\u001b[0m\u001b[0;34m)\u001b[0m\u001b[0;34m\u001b[0m\u001b[0;34m\u001b[0m\u001b[0m\n\u001b[0m\u001b[1;32m     87\u001b[0m       \u001b[0mval_acc\u001b[0m \u001b[0;34m=\u001b[0m \u001b[0mval_acc_metric\u001b[0m\u001b[0;34m.\u001b[0m\u001b[0mresult\u001b[0m\u001b[0;34m(\u001b[0m\u001b[0;34m)\u001b[0m\u001b[0;34m\u001b[0m\u001b[0;34m\u001b[0m\u001b[0m\n\u001b[1;32m     88\u001b[0m       \u001b[0mval_loss\u001b[0m \u001b[0;34m=\u001b[0m \u001b[0mval_loss_metric\u001b[0m\u001b[0;34m.\u001b[0m\u001b[0mresult\u001b[0m\u001b[0;34m(\u001b[0m\u001b[0;34m)\u001b[0m\u001b[0;34m\u001b[0m\u001b[0;34m\u001b[0m\u001b[0m\n",
            "\u001b[0;32m<ipython-input-14-65da6612ace0>\u001b[0m in \u001b[0;36mtest_step\u001b[0;34m(batch)\u001b[0m\n\u001b[1;32m     43\u001b[0m     \u001b[0mlabels\u001b[0m \u001b[0;34m=\u001b[0m \u001b[0mbatch\u001b[0m\u001b[0;34m[\u001b[0m\u001b[0;34m'label'\u001b[0m\u001b[0;34m]\u001b[0m\u001b[0;34m\u001b[0m\u001b[0;34m\u001b[0m\u001b[0m\n\u001b[1;32m     44\u001b[0m     \u001b[0mlogits\u001b[0m \u001b[0;34m=\u001b[0m \u001b[0mmodel\u001b[0m\u001b[0;34m(\u001b[0m\u001b[0mx\u001b[0m\u001b[0;34m,\u001b[0m \u001b[0mtraining\u001b[0m\u001b[0;34m=\u001b[0m\u001b[0;32mFalse\u001b[0m\u001b[0;34m)\u001b[0m\u001b[0;34m\u001b[0m\u001b[0;34m\u001b[0m\u001b[0m\n\u001b[0;32m---> 45\u001b[0;31m     \u001b[0mval_acc_metric\u001b[0m\u001b[0;34m.\u001b[0m\u001b[0mupdate_state\u001b[0m\u001b[0;34m(\u001b[0m\u001b[0mlabels\u001b[0m\u001b[0;34m,\u001b[0m \u001b[0mlogits\u001b[0m\u001b[0;34m)\u001b[0m\u001b[0;34m\u001b[0m\u001b[0;34m\u001b[0m\u001b[0m\n\u001b[0m\u001b[1;32m     46\u001b[0m     \u001b[0mval_loss_metric\u001b[0m\u001b[0;34m.\u001b[0m\u001b[0mupdate_state\u001b[0m\u001b[0;34m(\u001b[0m\u001b[0mlabels\u001b[0m\u001b[0;34m,\u001b[0m \u001b[0mlogits\u001b[0m\u001b[0;34m)\u001b[0m\u001b[0;34m\u001b[0m\u001b[0;34m\u001b[0m\u001b[0m\n\u001b[1;32m     47\u001b[0m   \u001b[0mpatience\u001b[0m \u001b[0;34m=\u001b[0m \u001b[0;36m5\u001b[0m\u001b[0;34m\u001b[0m\u001b[0;34m\u001b[0m\u001b[0m\n",
            "\u001b[0;32m/usr/local/lib/python3.8/dist-packages/keras/utils/metrics_utils.py\u001b[0m in \u001b[0;36mdecorated\u001b[0;34m(metric_obj, *args, **kwargs)\u001b[0m\n\u001b[1;32m     68\u001b[0m \u001b[0;34m\u001b[0m\u001b[0m\n\u001b[1;32m     69\u001b[0m     \u001b[0;32mwith\u001b[0m \u001b[0mtf_utils\u001b[0m\u001b[0;34m.\u001b[0m\u001b[0mgraph_context_for_symbolic_tensors\u001b[0m\u001b[0;34m(\u001b[0m\u001b[0;34m*\u001b[0m\u001b[0margs\u001b[0m\u001b[0;34m,\u001b[0m \u001b[0;34m**\u001b[0m\u001b[0mkwargs\u001b[0m\u001b[0;34m)\u001b[0m\u001b[0;34m:\u001b[0m\u001b[0;34m\u001b[0m\u001b[0;34m\u001b[0m\u001b[0m\n\u001b[0;32m---> 70\u001b[0;31m       \u001b[0mupdate_op\u001b[0m \u001b[0;34m=\u001b[0m \u001b[0mupdate_state_fn\u001b[0m\u001b[0;34m(\u001b[0m\u001b[0;34m*\u001b[0m\u001b[0margs\u001b[0m\u001b[0;34m,\u001b[0m \u001b[0;34m**\u001b[0m\u001b[0mkwargs\u001b[0m\u001b[0;34m)\u001b[0m\u001b[0;34m\u001b[0m\u001b[0;34m\u001b[0m\u001b[0m\n\u001b[0m\u001b[1;32m     71\u001b[0m     \u001b[0;32mif\u001b[0m \u001b[0mupdate_op\u001b[0m \u001b[0;32mis\u001b[0m \u001b[0;32mnot\u001b[0m \u001b[0;32mNone\u001b[0m\u001b[0;34m:\u001b[0m  \u001b[0;31m# update_op will be None in eager execution.\u001b[0m\u001b[0;34m\u001b[0m\u001b[0;34m\u001b[0m\u001b[0m\n\u001b[1;32m     72\u001b[0m       \u001b[0mmetric_obj\u001b[0m\u001b[0;34m.\u001b[0m\u001b[0madd_update\u001b[0m\u001b[0;34m(\u001b[0m\u001b[0mupdate_op\u001b[0m\u001b[0;34m)\u001b[0m\u001b[0;34m\u001b[0m\u001b[0;34m\u001b[0m\u001b[0m\n",
            "\u001b[0;32m/usr/local/lib/python3.8/dist-packages/keras/metrics/base_metric.py\u001b[0m in \u001b[0;36mupdate_state_fn\u001b[0;34m(*args, **kwargs)\u001b[0m\n\u001b[1;32m    138\u001b[0m         ag_update_state = tf.__internal__.autograph.tf_convert(\n\u001b[1;32m    139\u001b[0m             obj_update_state, control_status)\n\u001b[0;32m--> 140\u001b[0;31m         \u001b[0;32mreturn\u001b[0m \u001b[0mag_update_state\u001b[0m\u001b[0;34m(\u001b[0m\u001b[0;34m*\u001b[0m\u001b[0margs\u001b[0m\u001b[0;34m,\u001b[0m \u001b[0;34m**\u001b[0m\u001b[0mkwargs\u001b[0m\u001b[0;34m)\u001b[0m\u001b[0;34m\u001b[0m\u001b[0;34m\u001b[0m\u001b[0m\n\u001b[0m\u001b[1;32m    141\u001b[0m     \u001b[0;32melse\u001b[0m\u001b[0;34m:\u001b[0m\u001b[0;34m\u001b[0m\u001b[0;34m\u001b[0m\u001b[0m\n\u001b[1;32m    142\u001b[0m       \u001b[0;32mif\u001b[0m \u001b[0misinstance\u001b[0m\u001b[0;34m(\u001b[0m\u001b[0mobj\u001b[0m\u001b[0;34m.\u001b[0m\u001b[0mupdate_state\u001b[0m\u001b[0;34m,\u001b[0m \u001b[0mtf\u001b[0m\u001b[0;34m.\u001b[0m\u001b[0m__internal__\u001b[0m\u001b[0;34m.\u001b[0m\u001b[0mfunction\u001b[0m\u001b[0;34m.\u001b[0m\u001b[0mFunction\u001b[0m\u001b[0;34m)\u001b[0m\u001b[0;34m:\u001b[0m\u001b[0;34m\u001b[0m\u001b[0;34m\u001b[0m\u001b[0m\n",
            "\u001b[0;32m/usr/local/lib/python3.8/dist-packages/tensorflow/python/autograph/impl/api.py\u001b[0m in \u001b[0;36mwrapper\u001b[0;34m(*args, **kwargs)\u001b[0m\n\u001b[1;32m    687\u001b[0m       \u001b[0;32mtry\u001b[0m\u001b[0;34m:\u001b[0m\u001b[0;34m\u001b[0m\u001b[0;34m\u001b[0m\u001b[0m\n\u001b[1;32m    688\u001b[0m         \u001b[0;32mwith\u001b[0m \u001b[0mconversion_ctx\u001b[0m\u001b[0;34m:\u001b[0m\u001b[0;34m\u001b[0m\u001b[0;34m\u001b[0m\u001b[0m\n\u001b[0;32m--> 689\u001b[0;31m           \u001b[0;32mreturn\u001b[0m \u001b[0mconverted_call\u001b[0m\u001b[0;34m(\u001b[0m\u001b[0mf\u001b[0m\u001b[0;34m,\u001b[0m \u001b[0margs\u001b[0m\u001b[0;34m,\u001b[0m \u001b[0mkwargs\u001b[0m\u001b[0;34m,\u001b[0m \u001b[0moptions\u001b[0m\u001b[0;34m=\u001b[0m\u001b[0moptions\u001b[0m\u001b[0;34m)\u001b[0m\u001b[0;34m\u001b[0m\u001b[0;34m\u001b[0m\u001b[0m\n\u001b[0m\u001b[1;32m    690\u001b[0m       \u001b[0;32mexcept\u001b[0m \u001b[0mException\u001b[0m \u001b[0;32mas\u001b[0m \u001b[0me\u001b[0m\u001b[0;34m:\u001b[0m  \u001b[0;31m# pylint:disable=broad-except\u001b[0m\u001b[0;34m\u001b[0m\u001b[0;34m\u001b[0m\u001b[0m\n\u001b[1;32m    691\u001b[0m         \u001b[0;32mif\u001b[0m \u001b[0mhasattr\u001b[0m\u001b[0;34m(\u001b[0m\u001b[0me\u001b[0m\u001b[0;34m,\u001b[0m \u001b[0;34m'ag_error_metadata'\u001b[0m\u001b[0;34m)\u001b[0m\u001b[0;34m:\u001b[0m\u001b[0;34m\u001b[0m\u001b[0;34m\u001b[0m\u001b[0m\n",
            "\u001b[0;32m/usr/local/lib/python3.8/dist-packages/tensorflow/python/autograph/impl/api.py\u001b[0m in \u001b[0;36mconverted_call\u001b[0;34m(f, args, kwargs, caller_fn_scope, options)\u001b[0m\n\u001b[1;32m    329\u001b[0m   \u001b[0;32mif\u001b[0m \u001b[0mconversion\u001b[0m\u001b[0;34m.\u001b[0m\u001b[0mis_in_allowlist_cache\u001b[0m\u001b[0;34m(\u001b[0m\u001b[0mf\u001b[0m\u001b[0;34m,\u001b[0m \u001b[0moptions\u001b[0m\u001b[0;34m)\u001b[0m\u001b[0;34m:\u001b[0m\u001b[0;34m\u001b[0m\u001b[0;34m\u001b[0m\u001b[0m\n\u001b[1;32m    330\u001b[0m     \u001b[0mlogging\u001b[0m\u001b[0;34m.\u001b[0m\u001b[0mlog\u001b[0m\u001b[0;34m(\u001b[0m\u001b[0;36m2\u001b[0m\u001b[0;34m,\u001b[0m \u001b[0;34m'Allowlisted %s: from cache'\u001b[0m\u001b[0;34m,\u001b[0m \u001b[0mf\u001b[0m\u001b[0;34m)\u001b[0m\u001b[0;34m\u001b[0m\u001b[0;34m\u001b[0m\u001b[0m\n\u001b[0;32m--> 331\u001b[0;31m     \u001b[0;32mreturn\u001b[0m \u001b[0m_call_unconverted\u001b[0m\u001b[0;34m(\u001b[0m\u001b[0mf\u001b[0m\u001b[0;34m,\u001b[0m \u001b[0margs\u001b[0m\u001b[0;34m,\u001b[0m \u001b[0mkwargs\u001b[0m\u001b[0;34m,\u001b[0m \u001b[0moptions\u001b[0m\u001b[0;34m,\u001b[0m \u001b[0;32mFalse\u001b[0m\u001b[0;34m)\u001b[0m\u001b[0;34m\u001b[0m\u001b[0;34m\u001b[0m\u001b[0m\n\u001b[0m\u001b[1;32m    332\u001b[0m \u001b[0;34m\u001b[0m\u001b[0m\n\u001b[1;32m    333\u001b[0m   \u001b[0;32mif\u001b[0m \u001b[0mag_ctx\u001b[0m\u001b[0;34m.\u001b[0m\u001b[0mcontrol_status_ctx\u001b[0m\u001b[0;34m(\u001b[0m\u001b[0;34m)\u001b[0m\u001b[0;34m.\u001b[0m\u001b[0mstatus\u001b[0m \u001b[0;34m==\u001b[0m \u001b[0mag_ctx\u001b[0m\u001b[0;34m.\u001b[0m\u001b[0mStatus\u001b[0m\u001b[0;34m.\u001b[0m\u001b[0mDISABLED\u001b[0m\u001b[0;34m:\u001b[0m\u001b[0;34m\u001b[0m\u001b[0;34m\u001b[0m\u001b[0m\n",
            "\u001b[0;32m/usr/local/lib/python3.8/dist-packages/tensorflow/python/autograph/impl/api.py\u001b[0m in \u001b[0;36m_call_unconverted\u001b[0;34m(f, args, kwargs, options, update_cache)\u001b[0m\n\u001b[1;32m    456\u001b[0m \u001b[0;34m\u001b[0m\u001b[0m\n\u001b[1;32m    457\u001b[0m   \u001b[0;32mif\u001b[0m \u001b[0mkwargs\u001b[0m \u001b[0;32mis\u001b[0m \u001b[0;32mnot\u001b[0m \u001b[0;32mNone\u001b[0m\u001b[0;34m:\u001b[0m\u001b[0;34m\u001b[0m\u001b[0;34m\u001b[0m\u001b[0m\n\u001b[0;32m--> 458\u001b[0;31m     \u001b[0;32mreturn\u001b[0m \u001b[0mf\u001b[0m\u001b[0;34m(\u001b[0m\u001b[0;34m*\u001b[0m\u001b[0margs\u001b[0m\u001b[0;34m,\u001b[0m \u001b[0;34m**\u001b[0m\u001b[0mkwargs\u001b[0m\u001b[0;34m)\u001b[0m\u001b[0;34m\u001b[0m\u001b[0;34m\u001b[0m\u001b[0m\n\u001b[0m\u001b[1;32m    459\u001b[0m   \u001b[0;32mreturn\u001b[0m \u001b[0mf\u001b[0m\u001b[0;34m(\u001b[0m\u001b[0;34m*\u001b[0m\u001b[0margs\u001b[0m\u001b[0;34m)\u001b[0m\u001b[0;34m\u001b[0m\u001b[0;34m\u001b[0m\u001b[0m\n\u001b[1;32m    460\u001b[0m \u001b[0;34m\u001b[0m\u001b[0m\n",
            "\u001b[0;32m/usr/local/lib/python3.8/dist-packages/keras/metrics/base_metric.py\u001b[0m in \u001b[0;36mupdate_state\u001b[0;34m(self, y_true, y_pred, sample_weight)\u001b[0m\n\u001b[1;32m    645\u001b[0m     \u001b[0mag_fn\u001b[0m \u001b[0;34m=\u001b[0m \u001b[0mtf\u001b[0m\u001b[0;34m.\u001b[0m\u001b[0m__internal__\u001b[0m\u001b[0;34m.\u001b[0m\u001b[0mautograph\u001b[0m\u001b[0;34m.\u001b[0m\u001b[0mtf_convert\u001b[0m\u001b[0;34m(\u001b[0m\u001b[0mself\u001b[0m\u001b[0;34m.\u001b[0m\u001b[0m_fn\u001b[0m\u001b[0;34m,\u001b[0m \u001b[0mtf\u001b[0m\u001b[0;34m.\u001b[0m\u001b[0m__internal__\u001b[0m\u001b[0;34m.\u001b[0m\u001b[0mautograph\u001b[0m\u001b[0;34m.\u001b[0m\u001b[0mcontrol_status_ctx\u001b[0m\u001b[0;34m(\u001b[0m\u001b[0;34m)\u001b[0m\u001b[0;34m)\u001b[0m\u001b[0;34m\u001b[0m\u001b[0;34m\u001b[0m\u001b[0m\n\u001b[1;32m    646\u001b[0m     \u001b[0mmatches\u001b[0m \u001b[0;34m=\u001b[0m \u001b[0mag_fn\u001b[0m\u001b[0;34m(\u001b[0m\u001b[0my_true\u001b[0m\u001b[0;34m,\u001b[0m \u001b[0my_pred\u001b[0m\u001b[0;34m,\u001b[0m \u001b[0;34m**\u001b[0m\u001b[0mself\u001b[0m\u001b[0;34m.\u001b[0m\u001b[0m_fn_kwargs\u001b[0m\u001b[0;34m)\u001b[0m\u001b[0;34m\u001b[0m\u001b[0;34m\u001b[0m\u001b[0m\n\u001b[0;32m--> 647\u001b[0;31m     return super(MeanMetricWrapper, self).update_state(\n\u001b[0m\u001b[1;32m    648\u001b[0m         matches, sample_weight=sample_weight)\n\u001b[1;32m    649\u001b[0m \u001b[0;34m\u001b[0m\u001b[0m\n",
            "\u001b[0;32m/usr/local/lib/python3.8/dist-packages/keras/metrics/base_metric.py\u001b[0m in \u001b[0;36mupdate_state\u001b[0;34m(self, values, sample_weight)\u001b[0m\n\u001b[1;32m    463\u001b[0m     \u001b[0mvalue_sum\u001b[0m \u001b[0;34m=\u001b[0m \u001b[0mtf\u001b[0m\u001b[0;34m.\u001b[0m\u001b[0mreduce_sum\u001b[0m\u001b[0;34m(\u001b[0m\u001b[0mvalues\u001b[0m\u001b[0;34m)\u001b[0m\u001b[0;34m\u001b[0m\u001b[0;34m\u001b[0m\u001b[0m\n\u001b[1;32m    464\u001b[0m     \u001b[0;32mwith\u001b[0m \u001b[0mtf\u001b[0m\u001b[0;34m.\u001b[0m\u001b[0mcontrol_dependencies\u001b[0m\u001b[0;34m(\u001b[0m\u001b[0;34m[\u001b[0m\u001b[0mvalue_sum\u001b[0m\u001b[0;34m]\u001b[0m\u001b[0;34m)\u001b[0m\u001b[0;34m:\u001b[0m\u001b[0;34m\u001b[0m\u001b[0;34m\u001b[0m\u001b[0m\n\u001b[0;32m--> 465\u001b[0;31m       \u001b[0mupdate_total_op\u001b[0m \u001b[0;34m=\u001b[0m \u001b[0mself\u001b[0m\u001b[0;34m.\u001b[0m\u001b[0mtotal\u001b[0m\u001b[0;34m.\u001b[0m\u001b[0massign_add\u001b[0m\u001b[0;34m(\u001b[0m\u001b[0mvalue_sum\u001b[0m\u001b[0;34m)\u001b[0m\u001b[0;34m\u001b[0m\u001b[0;34m\u001b[0m\u001b[0m\n\u001b[0m\u001b[1;32m    466\u001b[0m \u001b[0;34m\u001b[0m\u001b[0m\n\u001b[1;32m    467\u001b[0m     \u001b[0;31m# Exit early if the reduction doesn't have a denominator.\u001b[0m\u001b[0;34m\u001b[0m\u001b[0;34m\u001b[0m\u001b[0;34m\u001b[0m\u001b[0m\n",
            "\u001b[0;32m/usr/local/lib/python3.8/dist-packages/tensorflow/python/ops/resource_variable_ops.py\u001b[0m in \u001b[0;36massign_add\u001b[0;34m(self, delta, use_locking, name, read_value)\u001b[0m\n\u001b[1;32m    862\u001b[0m           name=name)\n\u001b[1;32m    863\u001b[0m     \u001b[0;32mif\u001b[0m \u001b[0mread_value\u001b[0m\u001b[0;34m:\u001b[0m\u001b[0;34m\u001b[0m\u001b[0;34m\u001b[0m\u001b[0m\n\u001b[0;32m--> 864\u001b[0;31m       \u001b[0;32mreturn\u001b[0m \u001b[0mself\u001b[0m\u001b[0;34m.\u001b[0m\u001b[0m_lazy_read\u001b[0m\u001b[0;34m(\u001b[0m\u001b[0massign_add_op\u001b[0m\u001b[0;34m)\u001b[0m\u001b[0;34m\u001b[0m\u001b[0;34m\u001b[0m\u001b[0m\n\u001b[0m\u001b[1;32m    865\u001b[0m     \u001b[0;32mreturn\u001b[0m \u001b[0massign_add_op\u001b[0m\u001b[0;34m\u001b[0m\u001b[0;34m\u001b[0m\u001b[0m\n\u001b[1;32m    866\u001b[0m \u001b[0;34m\u001b[0m\u001b[0m\n",
            "\u001b[0;32m/usr/local/lib/python3.8/dist-packages/tensorflow/python/ops/resource_variable_ops.py\u001b[0m in \u001b[0;36m_lazy_read\u001b[0;34m(self, op)\u001b[0m\n\u001b[1;32m    867\u001b[0m   \u001b[0;32mdef\u001b[0m \u001b[0m_lazy_read\u001b[0m\u001b[0;34m(\u001b[0m\u001b[0mself\u001b[0m\u001b[0;34m,\u001b[0m \u001b[0mop\u001b[0m\u001b[0;34m)\u001b[0m\u001b[0;34m:\u001b[0m\u001b[0;34m\u001b[0m\u001b[0;34m\u001b[0m\u001b[0m\n\u001b[1;32m    868\u001b[0m     \u001b[0mvariable_accessed\u001b[0m\u001b[0;34m(\u001b[0m\u001b[0mself\u001b[0m\u001b[0;34m)\u001b[0m\u001b[0;34m\u001b[0m\u001b[0;34m\u001b[0m\u001b[0m\n\u001b[0;32m--> 869\u001b[0;31m     return _UnreadVariable(\n\u001b[0m\u001b[1;32m    870\u001b[0m         \u001b[0mhandle\u001b[0m\u001b[0;34m=\u001b[0m\u001b[0mself\u001b[0m\u001b[0;34m.\u001b[0m\u001b[0mhandle\u001b[0m\u001b[0;34m,\u001b[0m\u001b[0;34m\u001b[0m\u001b[0;34m\u001b[0m\u001b[0m\n\u001b[1;32m    871\u001b[0m         \u001b[0mdtype\u001b[0m\u001b[0;34m=\u001b[0m\u001b[0mself\u001b[0m\u001b[0;34m.\u001b[0m\u001b[0mdtype\u001b[0m\u001b[0;34m,\u001b[0m\u001b[0;34m\u001b[0m\u001b[0;34m\u001b[0m\u001b[0m\n",
            "\u001b[0;32m/usr/local/lib/python3.8/dist-packages/tensorflow/python/util/traceback_utils.py\u001b[0m in \u001b[0;36merror_handler\u001b[0;34m(*args, **kwargs)\u001b[0m\n\u001b[1;32m    148\u001b[0m     \u001b[0mfiltered_tb\u001b[0m \u001b[0;34m=\u001b[0m \u001b[0;32mNone\u001b[0m\u001b[0;34m\u001b[0m\u001b[0;34m\u001b[0m\u001b[0m\n\u001b[1;32m    149\u001b[0m     \u001b[0;32mtry\u001b[0m\u001b[0;34m:\u001b[0m\u001b[0;34m\u001b[0m\u001b[0;34m\u001b[0m\u001b[0m\n\u001b[0;32m--> 150\u001b[0;31m       \u001b[0;32mreturn\u001b[0m \u001b[0mfn\u001b[0m\u001b[0;34m(\u001b[0m\u001b[0;34m*\u001b[0m\u001b[0margs\u001b[0m\u001b[0;34m,\u001b[0m \u001b[0;34m**\u001b[0m\u001b[0mkwargs\u001b[0m\u001b[0;34m)\u001b[0m\u001b[0;34m\u001b[0m\u001b[0;34m\u001b[0m\u001b[0m\n\u001b[0m\u001b[1;32m    151\u001b[0m     \u001b[0;32mexcept\u001b[0m \u001b[0mException\u001b[0m \u001b[0;32mas\u001b[0m \u001b[0me\u001b[0m\u001b[0;34m:\u001b[0m\u001b[0;34m\u001b[0m\u001b[0;34m\u001b[0m\u001b[0m\n\u001b[1;32m    152\u001b[0m       \u001b[0mfiltered_tb\u001b[0m \u001b[0;34m=\u001b[0m \u001b[0m_process_traceback_frames\u001b[0m\u001b[0;34m(\u001b[0m\u001b[0me\u001b[0m\u001b[0;34m.\u001b[0m\u001b[0m__traceback__\u001b[0m\u001b[0;34m)\u001b[0m\u001b[0;34m\u001b[0m\u001b[0;34m\u001b[0m\u001b[0m\n",
            "\u001b[0;32m/usr/local/lib/python3.8/dist-packages/tensorflow/python/ops/variables.py\u001b[0m in \u001b[0;36m__call__\u001b[0;34m(cls, *args, **kwargs)\u001b[0m\n\u001b[1;32m    266\u001b[0m       \u001b[0;32mreturn\u001b[0m \u001b[0mcls\u001b[0m\u001b[0;34m.\u001b[0m\u001b[0m_variable_v2_call\u001b[0m\u001b[0;34m(\u001b[0m\u001b[0;34m*\u001b[0m\u001b[0margs\u001b[0m\u001b[0;34m,\u001b[0m \u001b[0;34m**\u001b[0m\u001b[0mkwargs\u001b[0m\u001b[0;34m)\u001b[0m\u001b[0;34m\u001b[0m\u001b[0;34m\u001b[0m\u001b[0m\n\u001b[1;32m    267\u001b[0m     \u001b[0;32melse\u001b[0m\u001b[0;34m:\u001b[0m\u001b[0;34m\u001b[0m\u001b[0;34m\u001b[0m\u001b[0m\n\u001b[0;32m--> 268\u001b[0;31m       \u001b[0;32mreturn\u001b[0m \u001b[0msuper\u001b[0m\u001b[0;34m(\u001b[0m\u001b[0mVariableMetaclass\u001b[0m\u001b[0;34m,\u001b[0m \u001b[0mcls\u001b[0m\u001b[0;34m)\u001b[0m\u001b[0;34m.\u001b[0m\u001b[0m__call__\u001b[0m\u001b[0;34m(\u001b[0m\u001b[0;34m*\u001b[0m\u001b[0margs\u001b[0m\u001b[0;34m,\u001b[0m \u001b[0;34m**\u001b[0m\u001b[0mkwargs\u001b[0m\u001b[0;34m)\u001b[0m\u001b[0;34m\u001b[0m\u001b[0;34m\u001b[0m\u001b[0m\n\u001b[0m\u001b[1;32m    269\u001b[0m \u001b[0;34m\u001b[0m\u001b[0m\n\u001b[1;32m    270\u001b[0m \u001b[0;34m\u001b[0m\u001b[0m\n",
            "\u001b[0;32m/usr/local/lib/python3.8/dist-packages/tensorflow/python/ops/resource_variable_ops.py\u001b[0m in \u001b[0;36m__init__\u001b[0;34m(self, handle, dtype, shape, in_graph_mode, parent_op, unique_id)\u001b[0m\n\u001b[1;32m   2106\u001b[0m             handle, dtype)\n\u001b[1;32m   2107\u001b[0m         \u001b[0m_maybe_set_handle_data\u001b[0m\u001b[0;34m(\u001b[0m\u001b[0mdtype\u001b[0m\u001b[0;34m,\u001b[0m \u001b[0mhandle\u001b[0m\u001b[0;34m,\u001b[0m \u001b[0mgraph_element\u001b[0m\u001b[0;34m)\u001b[0m\u001b[0;34m\u001b[0m\u001b[0;34m\u001b[0m\u001b[0m\n\u001b[0;32m-> 2108\u001b[0;31m     super(_UnreadVariable, self).__init__(\n\u001b[0m\u001b[1;32m   2109\u001b[0m         \u001b[0mhandle\u001b[0m\u001b[0;34m=\u001b[0m\u001b[0mhandle\u001b[0m\u001b[0;34m,\u001b[0m\u001b[0;34m\u001b[0m\u001b[0;34m\u001b[0m\u001b[0m\n\u001b[1;32m   2110\u001b[0m         \u001b[0mshape\u001b[0m\u001b[0;34m=\u001b[0m\u001b[0mshape\u001b[0m\u001b[0;34m,\u001b[0m\u001b[0;34m\u001b[0m\u001b[0;34m\u001b[0m\u001b[0m\n",
            "\u001b[0;32m/usr/local/lib/python3.8/dist-packages/tensorflow/python/ops/resource_variable_ops.py\u001b[0m in \u001b[0;36m__init__\u001b[0;34m(self, trainable, shape, dtype, handle, constraint, synchronization, aggregation, distribute_strategy, name, unique_id, handle_name, graph_element, initial_value, initializer_op, is_initialized_op, cached_value, save_slice_info, caching_device, in_graph_mode, validate_shape, **unused_kwargs)\u001b[0m\n\u001b[1;32m    415\u001b[0m       \u001b[0mself\u001b[0m\u001b[0;34m.\u001b[0m\u001b[0m_in_graph_mode\u001b[0m \u001b[0;34m=\u001b[0m \u001b[0min_graph_mode\u001b[0m\u001b[0;34m\u001b[0m\u001b[0;34m\u001b[0m\u001b[0m\n\u001b[1;32m    416\u001b[0m     synchronization, aggregation, trainable = (\n\u001b[0;32m--> 417\u001b[0;31m         variables.validate_synchronization_aggregation_trainable(\n\u001b[0m\u001b[1;32m    418\u001b[0m             synchronization, aggregation, trainable, name))\n\u001b[1;32m    419\u001b[0m     \u001b[0mself\u001b[0m\u001b[0;34m.\u001b[0m\u001b[0m_trainable\u001b[0m \u001b[0;34m=\u001b[0m \u001b[0mtrainable\u001b[0m\u001b[0;34m\u001b[0m\u001b[0;34m\u001b[0m\u001b[0m\n",
            "\u001b[0;32m/usr/local/lib/python3.8/dist-packages/tensorflow/python/ops/variables.py\u001b[0m in \u001b[0;36mvalidate_synchronization_aggregation_trainable\u001b[0;34m(synchronization, aggregation, trainable, name)\u001b[0m\n\u001b[1;32m    176\u001b[0m               synchronization, name))\n\u001b[1;32m    177\u001b[0m   \u001b[0;32mif\u001b[0m \u001b[0mtrainable\u001b[0m \u001b[0;32mis\u001b[0m \u001b[0;32mNone\u001b[0m\u001b[0;34m:\u001b[0m\u001b[0;34m\u001b[0m\u001b[0;34m\u001b[0m\u001b[0m\n\u001b[0;32m--> 178\u001b[0;31m     \u001b[0mtrainable\u001b[0m \u001b[0;34m=\u001b[0m \u001b[0msynchronization\u001b[0m \u001b[0;34m!=\u001b[0m \u001b[0mVariableSynchronization\u001b[0m\u001b[0;34m.\u001b[0m\u001b[0mON_READ\u001b[0m\u001b[0;34m\u001b[0m\u001b[0;34m\u001b[0m\u001b[0m\n\u001b[0m\u001b[1;32m    179\u001b[0m   \u001b[0;32mreturn\u001b[0m \u001b[0msynchronization\u001b[0m\u001b[0;34m,\u001b[0m \u001b[0maggregation\u001b[0m\u001b[0;34m,\u001b[0m \u001b[0mtrainable\u001b[0m\u001b[0;34m\u001b[0m\u001b[0;34m\u001b[0m\u001b[0m\n\u001b[1;32m    180\u001b[0m \u001b[0;34m\u001b[0m\u001b[0m\n",
            "\u001b[0;31mKeyboardInterrupt\u001b[0m: "
          ]
        }
      ]
    }
  ],
  "metadata": {
    "kernelspec": {
      "display_name": "Python 3",
      "name": "python3"
    },
    "language_info": {
      "name": "python"
    },
    "colab": {
      "provenance": [],
      "include_colab_link": true
    },
    "accelerator": "GPU",
    "gpuClass": "standard",
    "widgets": {
      "application/vnd.jupyter.widget-state+json": {
        "d654b32ce76a4c4eb62e0a7349cd0787": {
          "model_module": "@jupyter-widgets/controls",
          "model_name": "HBoxModel",
          "model_module_version": "1.5.0",
          "state": {
            "_dom_classes": [],
            "_model_module": "@jupyter-widgets/controls",
            "_model_module_version": "1.5.0",
            "_model_name": "HBoxModel",
            "_view_count": null,
            "_view_module": "@jupyter-widgets/controls",
            "_view_module_version": "1.5.0",
            "_view_name": "HBoxView",
            "box_style": "",
            "children": [
              "IPY_MODEL_67d71b1906104a79acbcd290c1d935da",
              "IPY_MODEL_446261e4fc8c413ab7cc25e8e3af2020",
              "IPY_MODEL_1f41f3f8ae4b4b70b14c22a54c9e53df"
            ],
            "layout": "IPY_MODEL_ec04cb279dd24d11856684c1eb36e56b"
          }
        },
        "67d71b1906104a79acbcd290c1d935da": {
          "model_module": "@jupyter-widgets/controls",
          "model_name": "HTMLModel",
          "model_module_version": "1.5.0",
          "state": {
            "_dom_classes": [],
            "_model_module": "@jupyter-widgets/controls",
            "_model_module_version": "1.5.0",
            "_model_name": "HTMLModel",
            "_view_count": null,
            "_view_module": "@jupyter-widgets/controls",
            "_view_module_version": "1.5.0",
            "_view_name": "HTMLView",
            "description": "",
            "description_tooltip": null,
            "layout": "IPY_MODEL_3d89aef806314b03a7c7768135395912",
            "placeholder": "​",
            "style": "IPY_MODEL_c4f85ae1a352430e993082e3d29660d1",
            "value": "Dl Completed...: 100%"
          }
        },
        "446261e4fc8c413ab7cc25e8e3af2020": {
          "model_module": "@jupyter-widgets/controls",
          "model_name": "FloatProgressModel",
          "model_module_version": "1.5.0",
          "state": {
            "_dom_classes": [],
            "_model_module": "@jupyter-widgets/controls",
            "_model_module_version": "1.5.0",
            "_model_name": "FloatProgressModel",
            "_view_count": null,
            "_view_module": "@jupyter-widgets/controls",
            "_view_module_version": "1.5.0",
            "_view_name": "ProgressView",
            "bar_style": "success",
            "description": "",
            "description_tooltip": null,
            "layout": "IPY_MODEL_1e28460280124b5facbc540825b7a440",
            "max": 5,
            "min": 0,
            "orientation": "horizontal",
            "style": "IPY_MODEL_87f5a5422c114307ba72646243e70884",
            "value": 5
          }
        },
        "1f41f3f8ae4b4b70b14c22a54c9e53df": {
          "model_module": "@jupyter-widgets/controls",
          "model_name": "HTMLModel",
          "model_module_version": "1.5.0",
          "state": {
            "_dom_classes": [],
            "_model_module": "@jupyter-widgets/controls",
            "_model_module_version": "1.5.0",
            "_model_name": "HTMLModel",
            "_view_count": null,
            "_view_module": "@jupyter-widgets/controls",
            "_view_module_version": "1.5.0",
            "_view_name": "HTMLView",
            "description": "",
            "description_tooltip": null,
            "layout": "IPY_MODEL_b0e5f6508aea4eb586431280c7c7c348",
            "placeholder": "​",
            "style": "IPY_MODEL_7d9eb695958940a18a5a8ff59c113b92",
            "value": " 5/5 [00:00&lt;00:00,  4.75 file/s]"
          }
        },
        "ec04cb279dd24d11856684c1eb36e56b": {
          "model_module": "@jupyter-widgets/base",
          "model_name": "LayoutModel",
          "model_module_version": "1.2.0",
          "state": {
            "_model_module": "@jupyter-widgets/base",
            "_model_module_version": "1.2.0",
            "_model_name": "LayoutModel",
            "_view_count": null,
            "_view_module": "@jupyter-widgets/base",
            "_view_module_version": "1.2.0",
            "_view_name": "LayoutView",
            "align_content": null,
            "align_items": null,
            "align_self": null,
            "border": null,
            "bottom": null,
            "display": null,
            "flex": null,
            "flex_flow": null,
            "grid_area": null,
            "grid_auto_columns": null,
            "grid_auto_flow": null,
            "grid_auto_rows": null,
            "grid_column": null,
            "grid_gap": null,
            "grid_row": null,
            "grid_template_areas": null,
            "grid_template_columns": null,
            "grid_template_rows": null,
            "height": null,
            "justify_content": null,
            "justify_items": null,
            "left": null,
            "margin": null,
            "max_height": null,
            "max_width": null,
            "min_height": null,
            "min_width": null,
            "object_fit": null,
            "object_position": null,
            "order": null,
            "overflow": null,
            "overflow_x": null,
            "overflow_y": null,
            "padding": null,
            "right": null,
            "top": null,
            "visibility": null,
            "width": null
          }
        },
        "3d89aef806314b03a7c7768135395912": {
          "model_module": "@jupyter-widgets/base",
          "model_name": "LayoutModel",
          "model_module_version": "1.2.0",
          "state": {
            "_model_module": "@jupyter-widgets/base",
            "_model_module_version": "1.2.0",
            "_model_name": "LayoutModel",
            "_view_count": null,
            "_view_module": "@jupyter-widgets/base",
            "_view_module_version": "1.2.0",
            "_view_name": "LayoutView",
            "align_content": null,
            "align_items": null,
            "align_self": null,
            "border": null,
            "bottom": null,
            "display": null,
            "flex": null,
            "flex_flow": null,
            "grid_area": null,
            "grid_auto_columns": null,
            "grid_auto_flow": null,
            "grid_auto_rows": null,
            "grid_column": null,
            "grid_gap": null,
            "grid_row": null,
            "grid_template_areas": null,
            "grid_template_columns": null,
            "grid_template_rows": null,
            "height": null,
            "justify_content": null,
            "justify_items": null,
            "left": null,
            "margin": null,
            "max_height": null,
            "max_width": null,
            "min_height": null,
            "min_width": null,
            "object_fit": null,
            "object_position": null,
            "order": null,
            "overflow": null,
            "overflow_x": null,
            "overflow_y": null,
            "padding": null,
            "right": null,
            "top": null,
            "visibility": null,
            "width": null
          }
        },
        "c4f85ae1a352430e993082e3d29660d1": {
          "model_module": "@jupyter-widgets/controls",
          "model_name": "DescriptionStyleModel",
          "model_module_version": "1.5.0",
          "state": {
            "_model_module": "@jupyter-widgets/controls",
            "_model_module_version": "1.5.0",
            "_model_name": "DescriptionStyleModel",
            "_view_count": null,
            "_view_module": "@jupyter-widgets/base",
            "_view_module_version": "1.2.0",
            "_view_name": "StyleView",
            "description_width": ""
          }
        },
        "1e28460280124b5facbc540825b7a440": {
          "model_module": "@jupyter-widgets/base",
          "model_name": "LayoutModel",
          "model_module_version": "1.2.0",
          "state": {
            "_model_module": "@jupyter-widgets/base",
            "_model_module_version": "1.2.0",
            "_model_name": "LayoutModel",
            "_view_count": null,
            "_view_module": "@jupyter-widgets/base",
            "_view_module_version": "1.2.0",
            "_view_name": "LayoutView",
            "align_content": null,
            "align_items": null,
            "align_self": null,
            "border": null,
            "bottom": null,
            "display": null,
            "flex": null,
            "flex_flow": null,
            "grid_area": null,
            "grid_auto_columns": null,
            "grid_auto_flow": null,
            "grid_auto_rows": null,
            "grid_column": null,
            "grid_gap": null,
            "grid_row": null,
            "grid_template_areas": null,
            "grid_template_columns": null,
            "grid_template_rows": null,
            "height": null,
            "justify_content": null,
            "justify_items": null,
            "left": null,
            "margin": null,
            "max_height": null,
            "max_width": null,
            "min_height": null,
            "min_width": null,
            "object_fit": null,
            "object_position": null,
            "order": null,
            "overflow": null,
            "overflow_x": null,
            "overflow_y": null,
            "padding": null,
            "right": null,
            "top": null,
            "visibility": null,
            "width": null
          }
        },
        "87f5a5422c114307ba72646243e70884": {
          "model_module": "@jupyter-widgets/controls",
          "model_name": "ProgressStyleModel",
          "model_module_version": "1.5.0",
          "state": {
            "_model_module": "@jupyter-widgets/controls",
            "_model_module_version": "1.5.0",
            "_model_name": "ProgressStyleModel",
            "_view_count": null,
            "_view_module": "@jupyter-widgets/base",
            "_view_module_version": "1.2.0",
            "_view_name": "StyleView",
            "bar_color": null,
            "description_width": ""
          }
        },
        "b0e5f6508aea4eb586431280c7c7c348": {
          "model_module": "@jupyter-widgets/base",
          "model_name": "LayoutModel",
          "model_module_version": "1.2.0",
          "state": {
            "_model_module": "@jupyter-widgets/base",
            "_model_module_version": "1.2.0",
            "_model_name": "LayoutModel",
            "_view_count": null,
            "_view_module": "@jupyter-widgets/base",
            "_view_module_version": "1.2.0",
            "_view_name": "LayoutView",
            "align_content": null,
            "align_items": null,
            "align_self": null,
            "border": null,
            "bottom": null,
            "display": null,
            "flex": null,
            "flex_flow": null,
            "grid_area": null,
            "grid_auto_columns": null,
            "grid_auto_flow": null,
            "grid_auto_rows": null,
            "grid_column": null,
            "grid_gap": null,
            "grid_row": null,
            "grid_template_areas": null,
            "grid_template_columns": null,
            "grid_template_rows": null,
            "height": null,
            "justify_content": null,
            "justify_items": null,
            "left": null,
            "margin": null,
            "max_height": null,
            "max_width": null,
            "min_height": null,
            "min_width": null,
            "object_fit": null,
            "object_position": null,
            "order": null,
            "overflow": null,
            "overflow_x": null,
            "overflow_y": null,
            "padding": null,
            "right": null,
            "top": null,
            "visibility": null,
            "width": null
          }
        },
        "7d9eb695958940a18a5a8ff59c113b92": {
          "model_module": "@jupyter-widgets/controls",
          "model_name": "DescriptionStyleModel",
          "model_module_version": "1.5.0",
          "state": {
            "_model_module": "@jupyter-widgets/controls",
            "_model_module_version": "1.5.0",
            "_model_name": "DescriptionStyleModel",
            "_view_count": null,
            "_view_module": "@jupyter-widgets/base",
            "_view_module_version": "1.2.0",
            "_view_name": "StyleView",
            "description_width": ""
          }
        },
        "3c7e98ca801a423f8519097c616a53b3": {
          "model_module": "@jupyter-widgets/controls",
          "model_name": "HBoxModel",
          "model_module_version": "1.5.0",
          "state": {
            "_dom_classes": [],
            "_model_module": "@jupyter-widgets/controls",
            "_model_module_version": "1.5.0",
            "_model_name": "HBoxModel",
            "_view_count": null,
            "_view_module": "@jupyter-widgets/controls",
            "_view_module_version": "1.5.0",
            "_view_name": "HBoxView",
            "box_style": "",
            "children": [
              "IPY_MODEL_2c6c7913e49d4ab4ab2793c5872faf81",
              "IPY_MODEL_ca609a69fca14d7e8dda0d25f3d8824f",
              "IPY_MODEL_8222621ed7b6499f917e694d5e37d8a6"
            ],
            "layout": "IPY_MODEL_69be51af9eb74856bcd51268f5763cde"
          }
        },
        "2c6c7913e49d4ab4ab2793c5872faf81": {
          "model_module": "@jupyter-widgets/controls",
          "model_name": "HTMLModel",
          "model_module_version": "1.5.0",
          "state": {
            "_dom_classes": [],
            "_model_module": "@jupyter-widgets/controls",
            "_model_module_version": "1.5.0",
            "_model_name": "HTMLModel",
            "_view_count": null,
            "_view_module": "@jupyter-widgets/controls",
            "_view_module_version": "1.5.0",
            "_view_name": "HTMLView",
            "description": "",
            "description_tooltip": null,
            "layout": "IPY_MODEL_1f2ec3d1453244ef9e5ff1e2f30ba637",
            "placeholder": "​",
            "style": "IPY_MODEL_3dc8ea5e312f41f5bb3f205e3fca845a",
            "value": "Dl Completed...: 100%"
          }
        },
        "ca609a69fca14d7e8dda0d25f3d8824f": {
          "model_module": "@jupyter-widgets/controls",
          "model_name": "FloatProgressModel",
          "model_module_version": "1.5.0",
          "state": {
            "_dom_classes": [],
            "_model_module": "@jupyter-widgets/controls",
            "_model_module_version": "1.5.0",
            "_model_name": "FloatProgressModel",
            "_view_count": null,
            "_view_module": "@jupyter-widgets/controls",
            "_view_module_version": "1.5.0",
            "_view_name": "ProgressView",
            "bar_style": "success",
            "description": "",
            "description_tooltip": null,
            "layout": "IPY_MODEL_2da93e8d40db47c9b0439606cf259778",
            "max": 5,
            "min": 0,
            "orientation": "horizontal",
            "style": "IPY_MODEL_a0dfbf3157fe4713b87e620ec28da7ef",
            "value": 5
          }
        },
        "8222621ed7b6499f917e694d5e37d8a6": {
          "model_module": "@jupyter-widgets/controls",
          "model_name": "HTMLModel",
          "model_module_version": "1.5.0",
          "state": {
            "_dom_classes": [],
            "_model_module": "@jupyter-widgets/controls",
            "_model_module_version": "1.5.0",
            "_model_name": "HTMLModel",
            "_view_count": null,
            "_view_module": "@jupyter-widgets/controls",
            "_view_module_version": "1.5.0",
            "_view_name": "HTMLView",
            "description": "",
            "description_tooltip": null,
            "layout": "IPY_MODEL_107e0e84b28a4126afb8a1a40d138a58",
            "placeholder": "​",
            "style": "IPY_MODEL_64adb58bd28e41d1a78ad8e2980c573c",
            "value": " 5/5 [00:00&lt;00:00, 10.54 file/s]"
          }
        },
        "69be51af9eb74856bcd51268f5763cde": {
          "model_module": "@jupyter-widgets/base",
          "model_name": "LayoutModel",
          "model_module_version": "1.2.0",
          "state": {
            "_model_module": "@jupyter-widgets/base",
            "_model_module_version": "1.2.0",
            "_model_name": "LayoutModel",
            "_view_count": null,
            "_view_module": "@jupyter-widgets/base",
            "_view_module_version": "1.2.0",
            "_view_name": "LayoutView",
            "align_content": null,
            "align_items": null,
            "align_self": null,
            "border": null,
            "bottom": null,
            "display": null,
            "flex": null,
            "flex_flow": null,
            "grid_area": null,
            "grid_auto_columns": null,
            "grid_auto_flow": null,
            "grid_auto_rows": null,
            "grid_column": null,
            "grid_gap": null,
            "grid_row": null,
            "grid_template_areas": null,
            "grid_template_columns": null,
            "grid_template_rows": null,
            "height": null,
            "justify_content": null,
            "justify_items": null,
            "left": null,
            "margin": null,
            "max_height": null,
            "max_width": null,
            "min_height": null,
            "min_width": null,
            "object_fit": null,
            "object_position": null,
            "order": null,
            "overflow": null,
            "overflow_x": null,
            "overflow_y": null,
            "padding": null,
            "right": null,
            "top": null,
            "visibility": null,
            "width": null
          }
        },
        "1f2ec3d1453244ef9e5ff1e2f30ba637": {
          "model_module": "@jupyter-widgets/base",
          "model_name": "LayoutModel",
          "model_module_version": "1.2.0",
          "state": {
            "_model_module": "@jupyter-widgets/base",
            "_model_module_version": "1.2.0",
            "_model_name": "LayoutModel",
            "_view_count": null,
            "_view_module": "@jupyter-widgets/base",
            "_view_module_version": "1.2.0",
            "_view_name": "LayoutView",
            "align_content": null,
            "align_items": null,
            "align_self": null,
            "border": null,
            "bottom": null,
            "display": null,
            "flex": null,
            "flex_flow": null,
            "grid_area": null,
            "grid_auto_columns": null,
            "grid_auto_flow": null,
            "grid_auto_rows": null,
            "grid_column": null,
            "grid_gap": null,
            "grid_row": null,
            "grid_template_areas": null,
            "grid_template_columns": null,
            "grid_template_rows": null,
            "height": null,
            "justify_content": null,
            "justify_items": null,
            "left": null,
            "margin": null,
            "max_height": null,
            "max_width": null,
            "min_height": null,
            "min_width": null,
            "object_fit": null,
            "object_position": null,
            "order": null,
            "overflow": null,
            "overflow_x": null,
            "overflow_y": null,
            "padding": null,
            "right": null,
            "top": null,
            "visibility": null,
            "width": null
          }
        },
        "3dc8ea5e312f41f5bb3f205e3fca845a": {
          "model_module": "@jupyter-widgets/controls",
          "model_name": "DescriptionStyleModel",
          "model_module_version": "1.5.0",
          "state": {
            "_model_module": "@jupyter-widgets/controls",
            "_model_module_version": "1.5.0",
            "_model_name": "DescriptionStyleModel",
            "_view_count": null,
            "_view_module": "@jupyter-widgets/base",
            "_view_module_version": "1.2.0",
            "_view_name": "StyleView",
            "description_width": ""
          }
        },
        "2da93e8d40db47c9b0439606cf259778": {
          "model_module": "@jupyter-widgets/base",
          "model_name": "LayoutModel",
          "model_module_version": "1.2.0",
          "state": {
            "_model_module": "@jupyter-widgets/base",
            "_model_module_version": "1.2.0",
            "_model_name": "LayoutModel",
            "_view_count": null,
            "_view_module": "@jupyter-widgets/base",
            "_view_module_version": "1.2.0",
            "_view_name": "LayoutView",
            "align_content": null,
            "align_items": null,
            "align_self": null,
            "border": null,
            "bottom": null,
            "display": null,
            "flex": null,
            "flex_flow": null,
            "grid_area": null,
            "grid_auto_columns": null,
            "grid_auto_flow": null,
            "grid_auto_rows": null,
            "grid_column": null,
            "grid_gap": null,
            "grid_row": null,
            "grid_template_areas": null,
            "grid_template_columns": null,
            "grid_template_rows": null,
            "height": null,
            "justify_content": null,
            "justify_items": null,
            "left": null,
            "margin": null,
            "max_height": null,
            "max_width": null,
            "min_height": null,
            "min_width": null,
            "object_fit": null,
            "object_position": null,
            "order": null,
            "overflow": null,
            "overflow_x": null,
            "overflow_y": null,
            "padding": null,
            "right": null,
            "top": null,
            "visibility": null,
            "width": null
          }
        },
        "a0dfbf3157fe4713b87e620ec28da7ef": {
          "model_module": "@jupyter-widgets/controls",
          "model_name": "ProgressStyleModel",
          "model_module_version": "1.5.0",
          "state": {
            "_model_module": "@jupyter-widgets/controls",
            "_model_module_version": "1.5.0",
            "_model_name": "ProgressStyleModel",
            "_view_count": null,
            "_view_module": "@jupyter-widgets/base",
            "_view_module_version": "1.2.0",
            "_view_name": "StyleView",
            "bar_color": null,
            "description_width": ""
          }
        },
        "107e0e84b28a4126afb8a1a40d138a58": {
          "model_module": "@jupyter-widgets/base",
          "model_name": "LayoutModel",
          "model_module_version": "1.2.0",
          "state": {
            "_model_module": "@jupyter-widgets/base",
            "_model_module_version": "1.2.0",
            "_model_name": "LayoutModel",
            "_view_count": null,
            "_view_module": "@jupyter-widgets/base",
            "_view_module_version": "1.2.0",
            "_view_name": "LayoutView",
            "align_content": null,
            "align_items": null,
            "align_self": null,
            "border": null,
            "bottom": null,
            "display": null,
            "flex": null,
            "flex_flow": null,
            "grid_area": null,
            "grid_auto_columns": null,
            "grid_auto_flow": null,
            "grid_auto_rows": null,
            "grid_column": null,
            "grid_gap": null,
            "grid_row": null,
            "grid_template_areas": null,
            "grid_template_columns": null,
            "grid_template_rows": null,
            "height": null,
            "justify_content": null,
            "justify_items": null,
            "left": null,
            "margin": null,
            "max_height": null,
            "max_width": null,
            "min_height": null,
            "min_width": null,
            "object_fit": null,
            "object_position": null,
            "order": null,
            "overflow": null,
            "overflow_x": null,
            "overflow_y": null,
            "padding": null,
            "right": null,
            "top": null,
            "visibility": null,
            "width": null
          }
        },
        "64adb58bd28e41d1a78ad8e2980c573c": {
          "model_module": "@jupyter-widgets/controls",
          "model_name": "DescriptionStyleModel",
          "model_module_version": "1.5.0",
          "state": {
            "_model_module": "@jupyter-widgets/controls",
            "_model_module_version": "1.5.0",
            "_model_name": "DescriptionStyleModel",
            "_view_count": null,
            "_view_module": "@jupyter-widgets/base",
            "_view_module_version": "1.2.0",
            "_view_name": "StyleView",
            "description_width": ""
          }
        }
      }
    }
  },
  "nbformat": 4,
  "nbformat_minor": 0
}